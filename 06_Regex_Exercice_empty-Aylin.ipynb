{
 "cells": [
  {
   "cell_type": "markdown",
   "metadata": {},
   "source": [
    "Nous allons faire ici quelques exercices simples de Regex, et voir si vous arrivez à obtenir les bons résultats. Nous allons cherchez à travers deux textes, le premier est une liste de sénateurs américains, le second \"Demain c'est loin\" d'Iam. Tout ce que vous avez à faire est de modifier la \"regular expression\" définie dans la variable my_regex.\n"
   ]
  },
  {
   "cell_type": "markdown",
   "metadata": {},
   "source": [
    "#Les sénateurs"
   ]
  },
  {
   "cell_type": "markdown",
   "metadata": {},
   "source": [
    "###Objectif: comprendre l'intérêt du regex dans l'analyse de données trop conséquentes pour être analysées manuellement"
   ]
  },
  {
   "cell_type": "code",
   "execution_count": 48,
   "metadata": {
    "collapsed": true
   },
   "outputs": [],
   "source": [
    "senators = '''Alexander, Lamar - (R - TN) Class II 455 Dirksen Senate Office Building Washington DC 20510 (202) 224-4944  Contact: www.alexander.senate.gov/public/index.cfm?p=Email\n",
    "Baldwin, Tammy - (D - WI) Class I 709 Hart Senate Office Building Washington DC 20510 (202) 224-5653  Contact: www.baldwin.senate.gov/feedback\n",
    "Barrasso, John - (R - WY) Class I 307 Dirksen Senate Office Building Washington DC 20510 (202) 224-6441  Contact: www.barrasso.senate.gov/public/index.cfm/contact-form\n",
    "Bennet, Michael F. - (D - CO) Class III 261 Russell Senate Office Building Washington DC 20510 (202) 224-5852  Contact: www.bennet.senate.gov/public/index.cfm/write-to-michael\n",
    "Blumenthal, Richard - (D - CT) Class III 706 Hart Senate Office Building Washington DC 20510 (202) 224-2823  Contact: www.blumenthal.senate.gov/contact/\n",
    "Blunt, Roy - (R - MO) Class III 260 Russell Senate Office Building Washington DC 20510 (202) 224-5721  Contact: www.blunt.senate.gov/public/index.cfm/contact-roy\n",
    "Booker, Cory A. - (D - NJ) Class II 359 Dirksen Senate Office Building Washington DC 20510 (202) 224-3224  Contact: www.booker.senate.gov/?p=contact\n",
    "Boozman, John - (R - AR) Class III 141 Hart Senate Office Building Washington DC 20510 (202) 224-4843  Contact: www.boozman.senate.gov/public/index.cfm/contact\n",
    "Brown, Sherrod - (D - OH) Class I 713 Hart Senate Office Building Washington DC 20510 (202) 224-2315  Contact: www.brown.senate.gov/contact/\n",
    "Burr, Richard - (R - NC) Class III 217 Russell Senate Office Building Washington DC 20510 (202) 224-3154  Contact: www.burr.senate.gov/contact/email\n",
    "Cantwell, Maria - (D - WA) Class I 511 Hart Senate Office Building Washington DC 20510 (202) 224-3441  Contact: www.cantwell.senate.gov/public/index.cfm/email-maria\n",
    "Capito, Shelley Moore - (R - WV) Class II 172 Russell Senate Office Building Washington DC 20510 (202) 224-6472  Contact: www.capito.senate.gov/contact/contact-shelley\n",
    "Cardin, Benjamin L. - (D - MD) Class I 509 Hart Senate Office Building Washington DC 20510 (202) 224-4524  Contact: www.cardin.senate.gov/contact/\n",
    "Carper, Thomas R. - (D - DE) Class I 513 Hart Senate Office Building Washington DC 20510 (202) 224-2441  Contact: www.carper.senate.gov/public/index.cfm/email-senator-carper\n",
    "Casey, Robert P., Jr. - (D - PA) Class I 393 Russell Senate Office Building Washington DC 20510 (202) 224-6324  Contact: www.casey.senate.gov/contact/\n",
    "Cassidy, Bill - (R - LA) Class II 520 Hart Senate Office Building Washington DC 20510 (202) 224-5824  Contact: www.cassidy.senate.gov/contact\n",
    "Collins, Susan M. - (R - ME) Class II 413 Dirksen Senate Office Building Washington DC 20510 (202) 224-2523  Contact: www.collins.senate.gov/contact\n",
    "Coons, Christopher A. - (D - DE) Class II 127A Russell Senate Office Building Washington DC 20510 (202) 224-5042  Contact: www.coons.senate.gov/contact\n",
    "Corker, Bob - (R - TN) Class I 425 Dirksen Senate Office Building Washington DC 20510 (202) 224-3344  Contact: www.corker.senate.gov/public/index.cfm/emailme\n",
    "Cornyn, John - (R - TX) Class II 517 Hart Senate Office Building Washington DC 20510 (202) 224-2934  Contact: www.cornyn.senate.gov/contact\n",
    "Cortez Masto, Catherine - (D - NV) Class III 204 Russell Senate Office Building Washington DC 20510 (202) 224-3542  Contact: www.cortezmasto.senate.gov/contact\n",
    "Cotton, Tom - (R - AR) Class II 124 Russell Senate Office Building Washington DC 20510 (202) 224-2353  Contact: www.cotton.senate.gov/?p=contact\n",
    "Crapo, Mike - (R - ID) Class III 239 Dirksen Senate Office Building Washington DC 20510 (202) 224-6142  Contact: www.crapo.senate.gov/contact\n",
    "Cruz, Ted - (R - TX) Class I 404 Russell Senate Office Building Washington DC 20510 (202) 224-5922  Contact: www.cruz.senate.gov/?p=form&id=16\n",
    "Daines, Steve - (R - MT) Class II 320 Hart Senate Office Building Washington DC 20510 (202) 224-2651  Contact: www.daines.senate.gov/connect/email-steve\n",
    "Donnelly, Joe - (D - IN) Class I 720 Hart Senate Office Building Washington DC 20510 (202) 224-4814  Contact: www.donnelly.senate.gov/contact/email-joe\n",
    "Duckworth, Tammy - (D - IL) Class III 524 Hart Senate Office Building Washington DC 20510 (202) 224-2854  Contact: www.duckworth.senate.gov/content/contact-senator\n",
    "Durbin, Richard J. - (D - IL) Class II 711 Hart Senate Office Building Washington DC 20510 (202) 224-2152  Contact: www.durbin.senate.gov/contact/\n",
    "Enzi, Michael B. - (R - WY) Class II 379A Russell Senate Office Building Washington DC 20510 (202) 224-3424  Contact: www.enzi.senate.gov/public/index.cfm/contact?p=e-mail-sen...\n",
    "Ernst, Joni - (R - IA) Class II 111 Russell Senate Office Building Washington DC 20510 (202) 224-3254  Contact: www.ernst.senate.gov/public/index.cfm/contact\n",
    "Feinstein, Dianne - (D - CA) Class I 331 Hart Senate Office Building Washington DC 20510 (202) 224-3841  Contact: www.feinstein.senate.gov/public/index.cfm/e-mail-me\n",
    "Fischer, Deb - (R - NE) Class I 454 Russell Senate Office Building Washington DC 20510 (202) 224-6551  Contact: www.fischer.senate.gov/public/index.cfm/contact\n",
    "Flake, Jeff - (R - AZ) Class I 413 Russell Senate Office Building Washington DC 20510 (202) 224-4521  Contact: www.flake.senate.gov/public/index.cfm/contact-jeff\n",
    "Gardner, Cory - (R - CO) Class II 354 Russell Senate Office Building Washington DC 20510 (202) 224-5941  Contact: www.gardner.senate.gov/contact-cory/email-cory\n",
    "Gillibrand, Kirsten E. - (D - NY) Class I 478 Russell Senate Office Building Washington DC 20510 (202) 224-4451  Contact: www.gillibrand.senate.gov/contact/email-me\n",
    "Graham, Lindsey - (R - SC) Class II 290 Russell Senate Office Building Washington DC 20510 (202) 224-5972  Contact: www.lgraham.senate.gov/public/index.cfm/e-mail-senator-gr... \n",
    "Grassley, Chuck - (R - IA) Class III 135 Hart Senate Office Building Washington DC 20510 (202) 224-3744  Contact: www.grassley.senate.gov/contact\n",
    "Harris, Kamala D. - (D - CA) Class III 112 Hart Senate Office Building Washington DC 20510 (202) 224-3553  Contact: www.harris.senate.gov/contact\n",
    "Hassan, Margaret Wood - (D - NH) Class III 330 Hart Senate Office Building Washington DC 20510 (202) 224-3324  Contact: www.hassan.senate.gov/content/contact-senator\n",
    "Hatch, Orrin G. - (R - UT) Class I 104 Hart Senate Office Building Washington DC 20510 (202) 224-5251  Contact: www.hatch.senate.gov/public/index.cfm/contact?p=Email-Orrin\n",
    "Heinrich, Martin - (D - NM) Class I 303 Hart Senate Office Building Washington DC 20510 (202) 224-5521  Contact: www.heinrich.senate.gov/contact\n",
    "Heitkamp, Heidi - (D - ND) Class I 516 Hart Senate Office Building Washington DC 20510 (202) 224-2043  Contact: www.heitkamp.senate.gov/public/index.cfm/contact\n",
    "Heller, Dean - (R - NV) Class I 324 Hart Senate Office Building Washington DC 20510 (202) 224-6244  Contact: www.heller.senate.gov/public/index.cfm/contact-form\n",
    "Hirono, Mazie K. - (D - HI) Class I 730 Hart Senate Office Building Washington DC 20510 (202) 224-6361  Contact: www.hirono.senate.gov/contact\n",
    "Hoeven, John - (R - ND) Class III 338 Russell Senate Office Building Washington DC 20510 (202) 224-2551  Contact: www.hoeven.senate.gov/public/index.cfm/email-the-senator\n",
    "Hyde-Smith, Cindy - (R - MS) Class II G12 Dirksen Senate Office Building Washington DC 20510 (202) 224-5054  Contact: www.hydesmith.senate.gov/content/contact-senator\n",
    "Inhofe, James M. - (R - OK) Class II 205 Russell Senate Office Building Washington DC 20510 (202) 224-4721  Contact: www.inhofe.senate.gov/contact\n",
    "Isakson, Johnny - (R - GA) Class III 131 Russell Senate Office Building Washington DC 20510 (202) 224-3643  Contact: www.isakson.senate.gov/public/index.cfm/email-me\n",
    "Johnson, Ron - (R - WI) Class III 328 Hart Senate Office Building Washington DC 20510 (202) 224-5323  Contact: www.ronjohnson.senate.gov/public/index.cfm/email-the-sena...\n",
    "Jones, Doug - (D - AL) Class II 326 Russell Senate Office Building Washington DC 20510 (202) 224-4124  Contact: www.jones.senate.gov/content/contact-senator\n",
    "Kaine, Tim - (D - VA) Class I 231 Russell Senate Office Building Washington DC 20510 (202) 224-4024  Contact: www.kaine.senate.gov/contact\n",
    "Kennedy, John - (R - LA) Class III 383 Russell Senate Office Building Washington DC 20510 (202) 224-4623  Contact: www.kennedy.senate.gov/public/email-me\n",
    "King, Angus S., Jr. - (I - ME) Class I 133 Hart Senate Office Building Washington DC 20510 (202) 224-5344  Contact: www.king.senate.gov/contact\n",
    "Klobuchar, Amy - (D - MN) Class I 302 Hart Senate Office Building Washington DC 20510 (202) 224-3244  Contact: www.klobuchar.senate.gov/public/index.cfm/contact\n",
    "Lankford, James - (R - OK) Class III 316 Hart Senate Office Building Washington DC 20510 (202) 224-5754  Contact: www.lankford.senate.gov/contact/email\n",
    "Leahy, Patrick J. - (D - VT) Class III 437 Russell Senate Office Building Washington DC 20510 (202) 224-4242  Contact: www.leahy.senate.gov/contact/\n",
    "Lee, Mike - (R - UT) Class III 361A Russell Senate Office Building Washington DC 20510 (202) 224-5444  Contact: www.lee.senate.gov/public/index.cfm/contact\n",
    "Manchin, Joe, III - (D - WV) Class I 306 Hart Senate Office Building Washington DC 20510 (202) 224-3954  Contact: www.manchin.senate.gov/public/index.cfm/contact-form\n",
    "Markey, Edward J. - (D - MA) Class II 255 Dirksen Senate Office Building Washington DC 20510 (202) 224-2742  Contact: www.markey.senate.gov/contact\n",
    "McCain, John - (R - AZ) Class III 218 Russell Senate Office Building Washington DC 20510 (202) 224-2235  Contact: www.mccain.senate.gov/public/index.cfm/contact-form\n",
    "McCaskill, Claire - (D - MO) Class I 503 Hart Senate Office Building Washington DC 20510 (202) 224-6154  Contact: www.mccaskill.senate.gov/contact\n",
    "McConnell, Mitch - (R - KY) Class II 317 Russell Senate Office Building Washington DC 20510 (202) 224-2541  Contact: www.mcconnell.senate.gov/public/index.cfm?p=contact\n",
    "Menendez, Robert - (D - NJ) Class I 528 Hart Senate Office Building Washington DC 20510 (202) 224-4744  Contact: www.menendez.senate.gov/contact\n",
    "Merkley, Jeff - (D - OR) Class II 313 Hart Senate Office Building Washington DC 20510 (202) 224-3753  Contact: www.merkley.senate.gov/contact/\n",
    "Moran, Jerry - (R - KS) Class III 521 Dirksen Senate Office Building Washington DC 20510 (202) 224-6521  Contact: www.moran.senate.gov/public/index.cfm/e-mail-jerry\n",
    "Murkowski, Lisa - (R - AK) Class III 522 Hart Senate Office Building Washington DC 20510 (202) 224-6665  Contact: www.murkowski.senate.gov/public/index.cfm/contact\n",
    "Murphy, Christopher - (D - CT) Class I 136 Hart Senate Office Building Washington DC 20510 (202) 224-4041  Contact: www.murphy.senate.gov/contact\n",
    "Murray, Patty - (D - WA) Class III 154 Russell Senate Office Building Washington DC 20510 (202) 224-2621  Contact: www.murray.senate.gov/public/index.cfm/contactme\n",
    "Nelson, Bill - (D - FL) Class I 716 Hart Senate Office Building Washington DC 20510 (202) 224-5274  Contact: www.billnelson.senate.gov/contact-bill\n",
    "Paul, Rand - (R - KY) Class III 167 Russell Senate Office Building Washington DC 20510 (202) 224-4343  Contact: www.paul.senate.gov/connect/email-rand \n",
    "Perdue, David - (R - GA) Class II 455 Russell Senate Office Building Washington DC 20510 (202) 224-3521  Contact: www.perdue.senate.gov/connect/email\n",
    "Peters, Gary C. - (D - MI) Class II 724 Hart Senate Office Building Washington DC 20510 (202) 224-6221  Contact: www.peters.senate.gov/contact/email-gary\n",
    "Portman, Rob - (R - OH) Class III 448 Russell Senate Office Building Washington DC 20510 (202) 224-3353  Contact: www.portman.senate.gov/public/index.cfm/contact?p=contact...\n",
    "Reed, Jack - (D - RI) Class II 728 Hart Senate Office Building Washington DC 20510 (202) 224-4642  Contact: www.reed.senate.gov/contact/\n",
    "Risch, James E. - (R - ID) Class II 483 Russell Senate Office Building Washington DC 20510 (202) 224-2752  Contact: www.risch.senate.gov/public/index.cfm?p=Email\n",
    "Roberts, Pat - (R - KS) Class II 109 Hart Senate Office Building Washington DC 20510 (202) 224-4774  Contact: www.roberts.senate.gov/public/?p=EmailPat\n",
    "Rounds, Mike - (R - SD) Class II 502 Hart Senate Office Building Washington DC 20510 (202) 224-5842  Contact: www.rounds.senate.gov/contact/email-mike\n",
    "Rubio, Marco - (R - FL) Class III 284 Russell Senate Office Building Washington DC 20510 (202) 224-3041  Contact: www.rubio.senate.gov/public/index.cfm/contact\n",
    "Sanders, Bernard - (I - VT) Class I 332 Dirksen Senate Office Building Washington DC 20510 (202) 224-5141  Contact: www.sanders.senate.gov/contact/\n",
    "Sasse, Ben - (R - NE) Class II 136 Russell Senate Office Building Washington DC 20510 (202) 224-4224  Contact: www.sasse.senate.gov/public/index.cfm/email-ben\n",
    "Schatz, Brian - (D - HI) Class III 722 Hart Senate Office Building Washington DC 20510 (202) 224-3934  Contact: www.schatz.senate.gov/contact\n",
    "Schumer, Charles E. - (D - NY) Class III 322 Hart Senate Office Building Washington DC 20510 (202) 224-6542  Contact: www.schumer.senate.gov/contact/email-chuck\n",
    "Scott, Tim - (R - SC) Class III 717 Hart Senate Office Building Washington DC 20510 (202) 224-6121  Contact: www.scott.senate.gov/contact/email-me\n",
    "Shaheen, Jeanne - (D - NH) Class II 506 Hart Senate Office Building Washington DC 20510 (202) 224-2841  Contact: www.shaheen.senate.gov/contact/contact-jeanne\n",
    "Shelby, Richard C. - (R - AL) Class III 304 Russell Senate Office Building Washington DC 20510 (202) 224-5744  Contact: www.shelby.senate.gov/public/index.cfm/emailsenatorshelby\n",
    "Smith, Tina - (D - MN) Class II 309 Hart Senate Office Building Washington DC 20510 (202) 224-5641  Contact: www.smith.senate.gov/content/contact-senator\n",
    "Stabenow, Debbie - (D - MI) Class I 731 Hart Senate Office Building Washington DC 20510 (202) 224-4822  Contact: www.stabenow.senate.gov/contact\n",
    "Sullivan, Dan - (R - AK) Class II 702 Hart Senate Office Building Washington DC 20510 (202) 224-3004  Contact: www.sullivan.senate.gov/contact/email\n",
    "Tester, Jon - (D - MT) Class I 311 Hart Senate Office Building Washington DC 20510 (202) 224-2644  Contact: www.tester.senate.gov/?p=email_senator\n",
    "Thune, John - (R - SD) Class III 511 Dirksen Senate Office Building Washington DC 20510 (202) 224-2321  Contact: www.thune.senate.gov/public/index.cfm/contact\n",
    "Tillis, Thom - (R - NC) Class II 185 Dirksen Senate Office Building Washington DC 20510 (202) 224-6342  Contact: www.tillis.senate.gov/public/index.cfm/email-me\n",
    "Toomey, Patrick J. - (R - PA) Class III 248 Russell Senate Office Building Washington DC 20510 (202) 224-4254  Contact: www.toomey.senate.gov/?p=contact\n",
    "Udall, Tom - (D - NM) Class II 531 Hart Senate Office Building Washington DC 20510 (202) 224-6621  Contact: www.tomudall.senate.gov/?p=contact\n",
    "Van Hollen, Chris - (D - MD) Class III 110 Hart Senate Office Building Washington DC 20510 (202) 224-4654  Contact: www.vanhollen.senate.gov/content/contact-senator\n",
    "Warner, Mark R. - (D - VA) Class II 703 Hart Senate Office Building Washington DC 20510 (202) 224-2023  Contact: www.warner.senate.gov/public/index.cfm?p=Contact\n",
    "Warren, Elizabeth - (D - MA) Class I 317 Hart Senate Office Building Washington DC 20510 (202) 224-4543  Contact: www.warren.senate.gov/?p=email_senator\n",
    "Whitehouse, Sheldon - (D - RI) Class I 530 Hart Senate Office Building Washington DC 20510 (202) 224-2921  Contact: www.whitehouse.senate.gov/contact/email-sheldon\n",
    "Wicker, Roger F. - (R - MS) Class I 555 Dirksen Senate Office Building Washington DC 20510 (202) 224-6253  Contact: www.wicker.senate.gov/public/index.cfm/contact\n",
    "Wyden, Ron - (D - OR) Class III 221 Dirksen Senate Office Building Washington DC 20510 (202) 224-5244  Contact: www.wyden.senate.gov/contact/\n",
    "Young, Todd - (R - IN) Class III 400 Russell Senate Office Building Washington DC 20510 (202) 224-5623  Contact: www.young.senate.gov/contact'''"
   ]
  },
  {
   "cell_type": "code",
   "execution_count": 49,
   "metadata": {
    "collapsed": true
   },
   "outputs": [],
   "source": [
    "#run this cell\n",
    "import re"
   ]
  },
  {
   "cell_type": "code",
   "execution_count": 50,
   "metadata": {},
   "outputs": [
    {
     "data": {
      "text/plain": [
       "['Alexander, Lamar - (R - TN) Class II 455 Dirksen Senate Office Building Washington DC 20510 (202) 224-4944  Contact: www.alexander.senate.gov/public/index.cfm?p=Email',\n",
       " 'Baldwin, Tammy - (D - WI) Class I 709 Hart Senate Office Building Washington DC 20510 (202) 224-5653  Contact: www.baldwin.senate.gov/feedback',\n",
       " 'Barrasso, John - (R - WY) Class I 307 Dirksen Senate Office Building Washington DC 20510 (202) 224-6441  Contact: www.barrasso.senate.gov/public/index.cfm/contact-form',\n",
       " 'Bennet, Michael F. - (D - CO) Class III 261 Russell Senate Office Building Washington DC 20510 (202) 224-5852  Contact: www.bennet.senate.gov/public/index.cfm/write-to-michael',\n",
       " 'Blumenthal, Richard - (D - CT) Class III 706 Hart Senate Office Building Washington DC 20510 (202) 224-2823  Contact: www.blumenthal.senate.gov/contact/',\n",
       " 'Blunt, Roy - (R - MO) Class III 260 Russell Senate Office Building Washington DC 20510 (202) 224-5721  Contact: www.blunt.senate.gov/public/index.cfm/contact-roy',\n",
       " 'Booker, Cory A. - (D - NJ) Class II 359 Dirksen Senate Office Building Washington DC 20510 (202) 224-3224  Contact: www.booker.senate.gov/?p=contact',\n",
       " 'Boozman, John - (R - AR) Class III 141 Hart Senate Office Building Washington DC 20510 (202) 224-4843  Contact: www.boozman.senate.gov/public/index.cfm/contact',\n",
       " 'Brown, Sherrod - (D - OH) Class I 713 Hart Senate Office Building Washington DC 20510 (202) 224-2315  Contact: www.brown.senate.gov/contact/',\n",
       " 'Burr, Richard - (R - NC) Class III 217 Russell Senate Office Building Washington DC 20510 (202) 224-3154  Contact: www.burr.senate.gov/contact/email',\n",
       " 'Cantwell, Maria - (D - WA) Class I 511 Hart Senate Office Building Washington DC 20510 (202) 224-3441  Contact: www.cantwell.senate.gov/public/index.cfm/email-maria',\n",
       " 'Capito, Shelley Moore - (R - WV) Class II 172 Russell Senate Office Building Washington DC 20510 (202) 224-6472  Contact: www.capito.senate.gov/contact/contact-shelley',\n",
       " 'Cardin, Benjamin L. - (D - MD) Class I 509 Hart Senate Office Building Washington DC 20510 (202) 224-4524  Contact: www.cardin.senate.gov/contact/',\n",
       " 'Carper, Thomas R. - (D - DE) Class I 513 Hart Senate Office Building Washington DC 20510 (202) 224-2441  Contact: www.carper.senate.gov/public/index.cfm/email-senator-carper',\n",
       " 'Casey, Robert P., Jr. - (D - PA) Class I 393 Russell Senate Office Building Washington DC 20510 (202) 224-6324  Contact: www.casey.senate.gov/contact/',\n",
       " 'Cassidy, Bill - (R - LA) Class II 520 Hart Senate Office Building Washington DC 20510 (202) 224-5824  Contact: www.cassidy.senate.gov/contact',\n",
       " 'Collins, Susan M. - (R - ME) Class II 413 Dirksen Senate Office Building Washington DC 20510 (202) 224-2523  Contact: www.collins.senate.gov/contact',\n",
       " 'Coons, Christopher A. - (D - DE) Class II 127A Russell Senate Office Building Washington DC 20510 (202) 224-5042  Contact: www.coons.senate.gov/contact',\n",
       " 'Corker, Bob - (R - TN) Class I 425 Dirksen Senate Office Building Washington DC 20510 (202) 224-3344  Contact: www.corker.senate.gov/public/index.cfm/emailme',\n",
       " 'Cornyn, John - (R - TX) Class II 517 Hart Senate Office Building Washington DC 20510 (202) 224-2934  Contact: www.cornyn.senate.gov/contact',\n",
       " 'Cortez Masto, Catherine - (D - NV) Class III 204 Russell Senate Office Building Washington DC 20510 (202) 224-3542  Contact: www.cortezmasto.senate.gov/contact',\n",
       " 'Cotton, Tom - (R - AR) Class II 124 Russell Senate Office Building Washington DC 20510 (202) 224-2353  Contact: www.cotton.senate.gov/?p=contact',\n",
       " 'Crapo, Mike - (R - ID) Class III 239 Dirksen Senate Office Building Washington DC 20510 (202) 224-6142  Contact: www.crapo.senate.gov/contact',\n",
       " 'Cruz, Ted - (R - TX) Class I 404 Russell Senate Office Building Washington DC 20510 (202) 224-5922  Contact: www.cruz.senate.gov/?p=form&id=16',\n",
       " 'Daines, Steve - (R - MT) Class II 320 Hart Senate Office Building Washington DC 20510 (202) 224-2651  Contact: www.daines.senate.gov/connect/email-steve',\n",
       " 'Donnelly, Joe - (D - IN) Class I 720 Hart Senate Office Building Washington DC 20510 (202) 224-4814  Contact: www.donnelly.senate.gov/contact/email-joe',\n",
       " 'Duckworth, Tammy - (D - IL) Class III 524 Hart Senate Office Building Washington DC 20510 (202) 224-2854  Contact: www.duckworth.senate.gov/content/contact-senator',\n",
       " 'Durbin, Richard J. - (D - IL) Class II 711 Hart Senate Office Building Washington DC 20510 (202) 224-2152  Contact: www.durbin.senate.gov/contact/',\n",
       " 'Enzi, Michael B. - (R - WY) Class II 379A Russell Senate Office Building Washington DC 20510 (202) 224-3424  Contact: www.enzi.senate.gov/public/index.cfm/contact?p=e-mail-sen...',\n",
       " 'Ernst, Joni - (R - IA) Class II 111 Russell Senate Office Building Washington DC 20510 (202) 224-3254  Contact: www.ernst.senate.gov/public/index.cfm/contact',\n",
       " 'Feinstein, Dianne - (D - CA) Class I 331 Hart Senate Office Building Washington DC 20510 (202) 224-3841  Contact: www.feinstein.senate.gov/public/index.cfm/e-mail-me',\n",
       " 'Fischer, Deb - (R - NE) Class I 454 Russell Senate Office Building Washington DC 20510 (202) 224-6551  Contact: www.fischer.senate.gov/public/index.cfm/contact',\n",
       " 'Flake, Jeff - (R - AZ) Class I 413 Russell Senate Office Building Washington DC 20510 (202) 224-4521  Contact: www.flake.senate.gov/public/index.cfm/contact-jeff',\n",
       " 'Gardner, Cory - (R - CO) Class II 354 Russell Senate Office Building Washington DC 20510 (202) 224-5941  Contact: www.gardner.senate.gov/contact-cory/email-cory',\n",
       " 'Gillibrand, Kirsten E. - (D - NY) Class I 478 Russell Senate Office Building Washington DC 20510 (202) 224-4451  Contact: www.gillibrand.senate.gov/contact/email-me',\n",
       " 'Graham, Lindsey - (R - SC) Class II 290 Russell Senate Office Building Washington DC 20510 (202) 224-5972  Contact: www.lgraham.senate.gov/public/index.cfm/e-mail-senator-gr... ',\n",
       " 'Grassley, Chuck - (R - IA) Class III 135 Hart Senate Office Building Washington DC 20510 (202) 224-3744  Contact: www.grassley.senate.gov/contact',\n",
       " 'Harris, Kamala D. - (D - CA) Class III 112 Hart Senate Office Building Washington DC 20510 (202) 224-3553  Contact: www.harris.senate.gov/contact',\n",
       " 'Hassan, Margaret Wood - (D - NH) Class III 330 Hart Senate Office Building Washington DC 20510 (202) 224-3324  Contact: www.hassan.senate.gov/content/contact-senator',\n",
       " 'Hatch, Orrin G. - (R - UT) Class I 104 Hart Senate Office Building Washington DC 20510 (202) 224-5251  Contact: www.hatch.senate.gov/public/index.cfm/contact?p=Email-Orrin',\n",
       " 'Heinrich, Martin - (D - NM) Class I 303 Hart Senate Office Building Washington DC 20510 (202) 224-5521  Contact: www.heinrich.senate.gov/contact',\n",
       " 'Heitkamp, Heidi - (D - ND) Class I 516 Hart Senate Office Building Washington DC 20510 (202) 224-2043  Contact: www.heitkamp.senate.gov/public/index.cfm/contact',\n",
       " 'Heller, Dean - (R - NV) Class I 324 Hart Senate Office Building Washington DC 20510 (202) 224-6244  Contact: www.heller.senate.gov/public/index.cfm/contact-form',\n",
       " 'Hirono, Mazie K. - (D - HI) Class I 730 Hart Senate Office Building Washington DC 20510 (202) 224-6361  Contact: www.hirono.senate.gov/contact',\n",
       " 'Hoeven, John - (R - ND) Class III 338 Russell Senate Office Building Washington DC 20510 (202) 224-2551  Contact: www.hoeven.senate.gov/public/index.cfm/email-the-senator',\n",
       " 'Hyde-Smith, Cindy - (R - MS) Class II G12 Dirksen Senate Office Building Washington DC 20510 (202) 224-5054  Contact: www.hydesmith.senate.gov/content/contact-senator',\n",
       " 'Inhofe, James M. - (R - OK) Class II 205 Russell Senate Office Building Washington DC 20510 (202) 224-4721  Contact: www.inhofe.senate.gov/contact',\n",
       " 'Isakson, Johnny - (R - GA) Class III 131 Russell Senate Office Building Washington DC 20510 (202) 224-3643  Contact: www.isakson.senate.gov/public/index.cfm/email-me',\n",
       " 'Johnson, Ron - (R - WI) Class III 328 Hart Senate Office Building Washington DC 20510 (202) 224-5323  Contact: www.ronjohnson.senate.gov/public/index.cfm/email-the-sena...',\n",
       " 'Jones, Doug - (D - AL) Class II 326 Russell Senate Office Building Washington DC 20510 (202) 224-4124  Contact: www.jones.senate.gov/content/contact-senator',\n",
       " 'Kaine, Tim - (D - VA) Class I 231 Russell Senate Office Building Washington DC 20510 (202) 224-4024  Contact: www.kaine.senate.gov/contact',\n",
       " 'Kennedy, John - (R - LA) Class III 383 Russell Senate Office Building Washington DC 20510 (202) 224-4623  Contact: www.kennedy.senate.gov/public/email-me',\n",
       " 'King, Angus S., Jr. - (I - ME) Class I 133 Hart Senate Office Building Washington DC 20510 (202) 224-5344  Contact: www.king.senate.gov/contact',\n",
       " 'Klobuchar, Amy - (D - MN) Class I 302 Hart Senate Office Building Washington DC 20510 (202) 224-3244  Contact: www.klobuchar.senate.gov/public/index.cfm/contact',\n",
       " 'Lankford, James - (R - OK) Class III 316 Hart Senate Office Building Washington DC 20510 (202) 224-5754  Contact: www.lankford.senate.gov/contact/email',\n",
       " 'Leahy, Patrick J. - (D - VT) Class III 437 Russell Senate Office Building Washington DC 20510 (202) 224-4242  Contact: www.leahy.senate.gov/contact/',\n",
       " 'Lee, Mike - (R - UT) Class III 361A Russell Senate Office Building Washington DC 20510 (202) 224-5444  Contact: www.lee.senate.gov/public/index.cfm/contact',\n",
       " 'Manchin, Joe, III - (D - WV) Class I 306 Hart Senate Office Building Washington DC 20510 (202) 224-3954  Contact: www.manchin.senate.gov/public/index.cfm/contact-form',\n",
       " 'Markey, Edward J. - (D - MA) Class II 255 Dirksen Senate Office Building Washington DC 20510 (202) 224-2742  Contact: www.markey.senate.gov/contact',\n",
       " 'McCain, John - (R - AZ) Class III 218 Russell Senate Office Building Washington DC 20510 (202) 224-2235  Contact: www.mccain.senate.gov/public/index.cfm/contact-form',\n",
       " 'McCaskill, Claire - (D - MO) Class I 503 Hart Senate Office Building Washington DC 20510 (202) 224-6154  Contact: www.mccaskill.senate.gov/contact',\n",
       " 'McConnell, Mitch - (R - KY) Class II 317 Russell Senate Office Building Washington DC 20510 (202) 224-2541  Contact: www.mcconnell.senate.gov/public/index.cfm?p=contact',\n",
       " 'Menendez, Robert - (D - NJ) Class I 528 Hart Senate Office Building Washington DC 20510 (202) 224-4744  Contact: www.menendez.senate.gov/contact',\n",
       " 'Merkley, Jeff - (D - OR) Class II 313 Hart Senate Office Building Washington DC 20510 (202) 224-3753  Contact: www.merkley.senate.gov/contact/',\n",
       " 'Moran, Jerry - (R - KS) Class III 521 Dirksen Senate Office Building Washington DC 20510 (202) 224-6521  Contact: www.moran.senate.gov/public/index.cfm/e-mail-jerry',\n",
       " 'Murkowski, Lisa - (R - AK) Class III 522 Hart Senate Office Building Washington DC 20510 (202) 224-6665  Contact: www.murkowski.senate.gov/public/index.cfm/contact',\n",
       " 'Murphy, Christopher - (D - CT) Class I 136 Hart Senate Office Building Washington DC 20510 (202) 224-4041  Contact: www.murphy.senate.gov/contact',\n",
       " 'Murray, Patty - (D - WA) Class III 154 Russell Senate Office Building Washington DC 20510 (202) 224-2621  Contact: www.murray.senate.gov/public/index.cfm/contactme',\n",
       " 'Nelson, Bill - (D - FL) Class I 716 Hart Senate Office Building Washington DC 20510 (202) 224-5274  Contact: www.billnelson.senate.gov/contact-bill',\n",
       " 'Paul, Rand - (R - KY) Class III 167 Russell Senate Office Building Washington DC 20510 (202) 224-4343  Contact: www.paul.senate.gov/connect/email-rand ',\n",
       " 'Perdue, David - (R - GA) Class II 455 Russell Senate Office Building Washington DC 20510 (202) 224-3521  Contact: www.perdue.senate.gov/connect/email',\n",
       " 'Peters, Gary C. - (D - MI) Class II 724 Hart Senate Office Building Washington DC 20510 (202) 224-6221  Contact: www.peters.senate.gov/contact/email-gary',\n",
       " 'Portman, Rob - (R - OH) Class III 448 Russell Senate Office Building Washington DC 20510 (202) 224-3353  Contact: www.portman.senate.gov/public/index.cfm/contact?p=contact...',\n",
       " 'Reed, Jack - (D - RI) Class II 728 Hart Senate Office Building Washington DC 20510 (202) 224-4642  Contact: www.reed.senate.gov/contact/',\n",
       " 'Risch, James E. - (R - ID) Class II 483 Russell Senate Office Building Washington DC 20510 (202) 224-2752  Contact: www.risch.senate.gov/public/index.cfm?p=Email',\n",
       " 'Roberts, Pat - (R - KS) Class II 109 Hart Senate Office Building Washington DC 20510 (202) 224-4774  Contact: www.roberts.senate.gov/public/?p=EmailPat',\n",
       " 'Rounds, Mike - (R - SD) Class II 502 Hart Senate Office Building Washington DC 20510 (202) 224-5842  Contact: www.rounds.senate.gov/contact/email-mike',\n",
       " 'Rubio, Marco - (R - FL) Class III 284 Russell Senate Office Building Washington DC 20510 (202) 224-3041  Contact: www.rubio.senate.gov/public/index.cfm/contact',\n",
       " 'Sanders, Bernard - (I - VT) Class I 332 Dirksen Senate Office Building Washington DC 20510 (202) 224-5141  Contact: www.sanders.senate.gov/contact/',\n",
       " 'Sasse, Ben - (R - NE) Class II 136 Russell Senate Office Building Washington DC 20510 (202) 224-4224  Contact: www.sasse.senate.gov/public/index.cfm/email-ben',\n",
       " 'Schatz, Brian - (D - HI) Class III 722 Hart Senate Office Building Washington DC 20510 (202) 224-3934  Contact: www.schatz.senate.gov/contact',\n",
       " 'Schumer, Charles E. - (D - NY) Class III 322 Hart Senate Office Building Washington DC 20510 (202) 224-6542  Contact: www.schumer.senate.gov/contact/email-chuck',\n",
       " 'Scott, Tim - (R - SC) Class III 717 Hart Senate Office Building Washington DC 20510 (202) 224-6121  Contact: www.scott.senate.gov/contact/email-me',\n",
       " 'Shaheen, Jeanne - (D - NH) Class II 506 Hart Senate Office Building Washington DC 20510 (202) 224-2841  Contact: www.shaheen.senate.gov/contact/contact-jeanne',\n",
       " 'Shelby, Richard C. - (R - AL) Class III 304 Russell Senate Office Building Washington DC 20510 (202) 224-5744  Contact: www.shelby.senate.gov/public/index.cfm/emailsenatorshelby',\n",
       " 'Smith, Tina - (D - MN) Class II 309 Hart Senate Office Building Washington DC 20510 (202) 224-5641  Contact: www.smith.senate.gov/content/contact-senator',\n",
       " 'Stabenow, Debbie - (D - MI) Class I 731 Hart Senate Office Building Washington DC 20510 (202) 224-4822  Contact: www.stabenow.senate.gov/contact',\n",
       " 'Sullivan, Dan - (R - AK) Class II 702 Hart Senate Office Building Washington DC 20510 (202) 224-3004  Contact: www.sullivan.senate.gov/contact/email',\n",
       " 'Tester, Jon - (D - MT) Class I 311 Hart Senate Office Building Washington DC 20510 (202) 224-2644  Contact: www.tester.senate.gov/?p=email_senator',\n",
       " 'Thune, John - (R - SD) Class III 511 Dirksen Senate Office Building Washington DC 20510 (202) 224-2321  Contact: www.thune.senate.gov/public/index.cfm/contact',\n",
       " 'Tillis, Thom - (R - NC) Class II 185 Dirksen Senate Office Building Washington DC 20510 (202) 224-6342  Contact: www.tillis.senate.gov/public/index.cfm/email-me',\n",
       " 'Toomey, Patrick J. - (R - PA) Class III 248 Russell Senate Office Building Washington DC 20510 (202) 224-4254  Contact: www.toomey.senate.gov/?p=contact',\n",
       " 'Udall, Tom - (D - NM) Class II 531 Hart Senate Office Building Washington DC 20510 (202) 224-6621  Contact: www.tomudall.senate.gov/?p=contact',\n",
       " 'Van Hollen, Chris - (D - MD) Class III 110 Hart Senate Office Building Washington DC 20510 (202) 224-4654  Contact: www.vanhollen.senate.gov/content/contact-senator',\n",
       " 'Warner, Mark R. - (D - VA) Class II 703 Hart Senate Office Building Washington DC 20510 (202) 224-2023  Contact: www.warner.senate.gov/public/index.cfm?p=Contact',\n",
       " 'Warren, Elizabeth - (D - MA) Class I 317 Hart Senate Office Building Washington DC 20510 (202) 224-4543  Contact: www.warren.senate.gov/?p=email_senator',\n",
       " 'Whitehouse, Sheldon - (D - RI) Class I 530 Hart Senate Office Building Washington DC 20510 (202) 224-2921  Contact: www.whitehouse.senate.gov/contact/email-sheldon',\n",
       " 'Wicker, Roger F. - (R - MS) Class I 555 Dirksen Senate Office Building Washington DC 20510 (202) 224-6253  Contact: www.wicker.senate.gov/public/index.cfm/contact',\n",
       " 'Wyden, Ron - (D - OR) Class III 221 Dirksen Senate Office Building Washington DC 20510 (202) 224-5244  Contact: www.wyden.senate.gov/contact/',\n",
       " 'Young, Todd - (R - IN) Class III 400 Russell Senate Office Building Washington DC 20510 (202) 224-5623  Contact: www.young.senate.gov/contact']"
      ]
     },
     "execution_count": 50,
     "metadata": {},
     "output_type": "execute_result"
    }
   ],
   "source": [
    "#run this cell (split all the lines)\n",
    "senator_list = senators.splitlines()\n",
    "senator_list"
   ]
  },
  {
   "cell_type": "code",
   "execution_count": 51,
   "metadata": {},
   "outputs": [
    {
     "data": {
      "text/plain": [
       "['Cotton, Tom - (R - AR) Class II 124 Russell Senate Office Building Washington DC 20510 (202) 224-2353  Contact: www.cotton.senate.gov/?p=contact',\n",
       " 'Isakson, Johnny - (R - GA) Class III 131 Russell Senate Office Building Washington DC 20510 (202) 224-3643  Contact: www.isakson.senate.gov/public/index.cfm/email-me',\n",
       " 'Johnson, Ron - (R - WI) Class III 328 Hart Senate Office Building Washington DC 20510 (202) 224-5323  Contact: www.ronjohnson.senate.gov/public/index.cfm/email-the-sena...',\n",
       " 'Nelson, Bill - (D - FL) Class I 716 Hart Senate Office Building Washington DC 20510 (202) 224-5274  Contact: www.billnelson.senate.gov/contact-bill']"
      ]
     },
     "execution_count": 51,
     "metadata": {},
     "output_type": "execute_result"
    }
   ],
   "source": [
    "#Un exemple: trouver tous les sénateurs dont le nom se termine par \"on\"\n",
    "my_regex = r\"^\\w+on\\b\"\n",
    "[line for line in senator_list if re.search(my_regex, line, re.IGNORECASE)]"
   ]
  },
  {
   "cell_type": "code",
   "execution_count": 52,
   "metadata": {
    "collapsed": true
   },
   "outputs": [],
   "source": [
    "#1. Obtenir une liste des sénateurs dont le prénom est Thom, Tom, or Thomas"
   ]
  },
  {
   "cell_type": "code",
   "execution_count": 55,
   "metadata": {},
   "outputs": [
    {
     "data": {
      "text/plain": [
       "['Carper, Thomas R. - (D - DE) Class I 513 Hart Senate Office Building Washington DC 20510 (202) 224-2441  Contact: www.carper.senate.gov/public/index.cfm/email-senator-carper',\n",
       " 'Cotton, Tom - (R - AR) Class II 124 Russell Senate Office Building Washington DC 20510 (202) 224-2353  Contact: www.cotton.senate.gov/?p=contact',\n",
       " 'Tillis, Thom - (R - NC) Class II 185 Dirksen Senate Office Building Washington DC 20510 (202) 224-6342  Contact: www.tillis.senate.gov/public/index.cfm/email-me',\n",
       " 'Udall, Tom - (D - NM) Class II 531 Hart Senate Office Building Washington DC 20510 (202) 224-6621  Contact: www.tomudall.senate.gov/?p=contact']"
      ]
     },
     "execution_count": 55,
     "metadata": {},
     "output_type": "execute_result"
    }
   ],
   "source": [
    "my_regex = r\"Th?om\\w*\"\n",
    "[line for line in senator_list if re.search(my_regex, line, re.IGNORECASE)]"
   ]
  },
  {
   "cell_type": "code",
   "execution_count": 12,
   "metadata": {
    "collapsed": true
   },
   "outputs": [],
   "source": [
    "#2. Obtenir une liste de tous les sénateurs de classe 1 (\"Class I\")"
   ]
  },
  {
   "cell_type": "code",
   "execution_count": 59,
   "metadata": {},
   "outputs": [
    {
     "data": {
      "text/plain": [
       "['Baldwin, Tammy - (D - WI) Class I 709 Hart Senate Office Building Washington DC 20510 (202) 224-5653  Contact: www.baldwin.senate.gov/feedback',\n",
       " 'Barrasso, John - (R - WY) Class I 307 Dirksen Senate Office Building Washington DC 20510 (202) 224-6441  Contact: www.barrasso.senate.gov/public/index.cfm/contact-form',\n",
       " 'Brown, Sherrod - (D - OH) Class I 713 Hart Senate Office Building Washington DC 20510 (202) 224-2315  Contact: www.brown.senate.gov/contact/',\n",
       " 'Cantwell, Maria - (D - WA) Class I 511 Hart Senate Office Building Washington DC 20510 (202) 224-3441  Contact: www.cantwell.senate.gov/public/index.cfm/email-maria',\n",
       " 'Cardin, Benjamin L. - (D - MD) Class I 509 Hart Senate Office Building Washington DC 20510 (202) 224-4524  Contact: www.cardin.senate.gov/contact/',\n",
       " 'Carper, Thomas R. - (D - DE) Class I 513 Hart Senate Office Building Washington DC 20510 (202) 224-2441  Contact: www.carper.senate.gov/public/index.cfm/email-senator-carper',\n",
       " 'Casey, Robert P., Jr. - (D - PA) Class I 393 Russell Senate Office Building Washington DC 20510 (202) 224-6324  Contact: www.casey.senate.gov/contact/',\n",
       " 'Corker, Bob - (R - TN) Class I 425 Dirksen Senate Office Building Washington DC 20510 (202) 224-3344  Contact: www.corker.senate.gov/public/index.cfm/emailme',\n",
       " 'Cruz, Ted - (R - TX) Class I 404 Russell Senate Office Building Washington DC 20510 (202) 224-5922  Contact: www.cruz.senate.gov/?p=form&id=16',\n",
       " 'Donnelly, Joe - (D - IN) Class I 720 Hart Senate Office Building Washington DC 20510 (202) 224-4814  Contact: www.donnelly.senate.gov/contact/email-joe',\n",
       " 'Feinstein, Dianne - (D - CA) Class I 331 Hart Senate Office Building Washington DC 20510 (202) 224-3841  Contact: www.feinstein.senate.gov/public/index.cfm/e-mail-me',\n",
       " 'Fischer, Deb - (R - NE) Class I 454 Russell Senate Office Building Washington DC 20510 (202) 224-6551  Contact: www.fischer.senate.gov/public/index.cfm/contact',\n",
       " 'Flake, Jeff - (R - AZ) Class I 413 Russell Senate Office Building Washington DC 20510 (202) 224-4521  Contact: www.flake.senate.gov/public/index.cfm/contact-jeff',\n",
       " 'Gillibrand, Kirsten E. - (D - NY) Class I 478 Russell Senate Office Building Washington DC 20510 (202) 224-4451  Contact: www.gillibrand.senate.gov/contact/email-me',\n",
       " 'Hatch, Orrin G. - (R - UT) Class I 104 Hart Senate Office Building Washington DC 20510 (202) 224-5251  Contact: www.hatch.senate.gov/public/index.cfm/contact?p=Email-Orrin',\n",
       " 'Heinrich, Martin - (D - NM) Class I 303 Hart Senate Office Building Washington DC 20510 (202) 224-5521  Contact: www.heinrich.senate.gov/contact',\n",
       " 'Heitkamp, Heidi - (D - ND) Class I 516 Hart Senate Office Building Washington DC 20510 (202) 224-2043  Contact: www.heitkamp.senate.gov/public/index.cfm/contact',\n",
       " 'Heller, Dean - (R - NV) Class I 324 Hart Senate Office Building Washington DC 20510 (202) 224-6244  Contact: www.heller.senate.gov/public/index.cfm/contact-form',\n",
       " 'Hirono, Mazie K. - (D - HI) Class I 730 Hart Senate Office Building Washington DC 20510 (202) 224-6361  Contact: www.hirono.senate.gov/contact',\n",
       " 'Kaine, Tim - (D - VA) Class I 231 Russell Senate Office Building Washington DC 20510 (202) 224-4024  Contact: www.kaine.senate.gov/contact',\n",
       " 'King, Angus S., Jr. - (I - ME) Class I 133 Hart Senate Office Building Washington DC 20510 (202) 224-5344  Contact: www.king.senate.gov/contact',\n",
       " 'Klobuchar, Amy - (D - MN) Class I 302 Hart Senate Office Building Washington DC 20510 (202) 224-3244  Contact: www.klobuchar.senate.gov/public/index.cfm/contact',\n",
       " 'Manchin, Joe, III - (D - WV) Class I 306 Hart Senate Office Building Washington DC 20510 (202) 224-3954  Contact: www.manchin.senate.gov/public/index.cfm/contact-form',\n",
       " 'McCaskill, Claire - (D - MO) Class I 503 Hart Senate Office Building Washington DC 20510 (202) 224-6154  Contact: www.mccaskill.senate.gov/contact',\n",
       " 'Menendez, Robert - (D - NJ) Class I 528 Hart Senate Office Building Washington DC 20510 (202) 224-4744  Contact: www.menendez.senate.gov/contact',\n",
       " 'Murphy, Christopher - (D - CT) Class I 136 Hart Senate Office Building Washington DC 20510 (202) 224-4041  Contact: www.murphy.senate.gov/contact',\n",
       " 'Nelson, Bill - (D - FL) Class I 716 Hart Senate Office Building Washington DC 20510 (202) 224-5274  Contact: www.billnelson.senate.gov/contact-bill',\n",
       " 'Sanders, Bernard - (I - VT) Class I 332 Dirksen Senate Office Building Washington DC 20510 (202) 224-5141  Contact: www.sanders.senate.gov/contact/',\n",
       " 'Stabenow, Debbie - (D - MI) Class I 731 Hart Senate Office Building Washington DC 20510 (202) 224-4822  Contact: www.stabenow.senate.gov/contact',\n",
       " 'Tester, Jon - (D - MT) Class I 311 Hart Senate Office Building Washington DC 20510 (202) 224-2644  Contact: www.tester.senate.gov/?p=email_senator',\n",
       " 'Warren, Elizabeth - (D - MA) Class I 317 Hart Senate Office Building Washington DC 20510 (202) 224-4543  Contact: www.warren.senate.gov/?p=email_senator',\n",
       " 'Whitehouse, Sheldon - (D - RI) Class I 530 Hart Senate Office Building Washington DC 20510 (202) 224-2921  Contact: www.whitehouse.senate.gov/contact/email-sheldon',\n",
       " 'Wicker, Roger F. - (R - MS) Class I 555 Dirksen Senate Office Building Washington DC 20510 (202) 224-6253  Contact: www.wicker.senate.gov/public/index.cfm/contact']"
      ]
     },
     "execution_count": 59,
     "metadata": {},
     "output_type": "execute_result"
    }
   ],
   "source": [
    "my_regex = r\"Class I\\b\"\n",
    "[line for line in senator_list if re.search(my_regex, line, re.IGNORECASE)]"
   ]
  },
  {
   "cell_type": "code",
   "execution_count": 13,
   "metadata": {
    "collapsed": true
   },
   "outputs": [],
   "source": [
    "#3. Même chose avec les sénateurs de classe 2 et 3. "
   ]
  },
  {
   "cell_type": "code",
   "execution_count": 64,
   "metadata": {},
   "outputs": [
    {
     "data": {
      "text/plain": [
       "['Alexander, Lamar - (R - TN) Class II 455 Dirksen Senate Office Building Washington DC 20510 (202) 224-4944  Contact: www.alexander.senate.gov/public/index.cfm?p=Email',\n",
       " 'Bennet, Michael F. - (D - CO) Class III 261 Russell Senate Office Building Washington DC 20510 (202) 224-5852  Contact: www.bennet.senate.gov/public/index.cfm/write-to-michael',\n",
       " 'Blumenthal, Richard - (D - CT) Class III 706 Hart Senate Office Building Washington DC 20510 (202) 224-2823  Contact: www.blumenthal.senate.gov/contact/',\n",
       " 'Blunt, Roy - (R - MO) Class III 260 Russell Senate Office Building Washington DC 20510 (202) 224-5721  Contact: www.blunt.senate.gov/public/index.cfm/contact-roy',\n",
       " 'Booker, Cory A. - (D - NJ) Class II 359 Dirksen Senate Office Building Washington DC 20510 (202) 224-3224  Contact: www.booker.senate.gov/?p=contact',\n",
       " 'Boozman, John - (R - AR) Class III 141 Hart Senate Office Building Washington DC 20510 (202) 224-4843  Contact: www.boozman.senate.gov/public/index.cfm/contact',\n",
       " 'Burr, Richard - (R - NC) Class III 217 Russell Senate Office Building Washington DC 20510 (202) 224-3154  Contact: www.burr.senate.gov/contact/email',\n",
       " 'Capito, Shelley Moore - (R - WV) Class II 172 Russell Senate Office Building Washington DC 20510 (202) 224-6472  Contact: www.capito.senate.gov/contact/contact-shelley',\n",
       " 'Cassidy, Bill - (R - LA) Class II 520 Hart Senate Office Building Washington DC 20510 (202) 224-5824  Contact: www.cassidy.senate.gov/contact',\n",
       " 'Collins, Susan M. - (R - ME) Class II 413 Dirksen Senate Office Building Washington DC 20510 (202) 224-2523  Contact: www.collins.senate.gov/contact',\n",
       " 'Coons, Christopher A. - (D - DE) Class II 127A Russell Senate Office Building Washington DC 20510 (202) 224-5042  Contact: www.coons.senate.gov/contact',\n",
       " 'Cornyn, John - (R - TX) Class II 517 Hart Senate Office Building Washington DC 20510 (202) 224-2934  Contact: www.cornyn.senate.gov/contact',\n",
       " 'Cortez Masto, Catherine - (D - NV) Class III 204 Russell Senate Office Building Washington DC 20510 (202) 224-3542  Contact: www.cortezmasto.senate.gov/contact',\n",
       " 'Cotton, Tom - (R - AR) Class II 124 Russell Senate Office Building Washington DC 20510 (202) 224-2353  Contact: www.cotton.senate.gov/?p=contact',\n",
       " 'Crapo, Mike - (R - ID) Class III 239 Dirksen Senate Office Building Washington DC 20510 (202) 224-6142  Contact: www.crapo.senate.gov/contact',\n",
       " 'Daines, Steve - (R - MT) Class II 320 Hart Senate Office Building Washington DC 20510 (202) 224-2651  Contact: www.daines.senate.gov/connect/email-steve',\n",
       " 'Duckworth, Tammy - (D - IL) Class III 524 Hart Senate Office Building Washington DC 20510 (202) 224-2854  Contact: www.duckworth.senate.gov/content/contact-senator',\n",
       " 'Durbin, Richard J. - (D - IL) Class II 711 Hart Senate Office Building Washington DC 20510 (202) 224-2152  Contact: www.durbin.senate.gov/contact/',\n",
       " 'Enzi, Michael B. - (R - WY) Class II 379A Russell Senate Office Building Washington DC 20510 (202) 224-3424  Contact: www.enzi.senate.gov/public/index.cfm/contact?p=e-mail-sen...',\n",
       " 'Ernst, Joni - (R - IA) Class II 111 Russell Senate Office Building Washington DC 20510 (202) 224-3254  Contact: www.ernst.senate.gov/public/index.cfm/contact',\n",
       " 'Gardner, Cory - (R - CO) Class II 354 Russell Senate Office Building Washington DC 20510 (202) 224-5941  Contact: www.gardner.senate.gov/contact-cory/email-cory',\n",
       " 'Graham, Lindsey - (R - SC) Class II 290 Russell Senate Office Building Washington DC 20510 (202) 224-5972  Contact: www.lgraham.senate.gov/public/index.cfm/e-mail-senator-gr... ',\n",
       " 'Grassley, Chuck - (R - IA) Class III 135 Hart Senate Office Building Washington DC 20510 (202) 224-3744  Contact: www.grassley.senate.gov/contact',\n",
       " 'Harris, Kamala D. - (D - CA) Class III 112 Hart Senate Office Building Washington DC 20510 (202) 224-3553  Contact: www.harris.senate.gov/contact',\n",
       " 'Hassan, Margaret Wood - (D - NH) Class III 330 Hart Senate Office Building Washington DC 20510 (202) 224-3324  Contact: www.hassan.senate.gov/content/contact-senator',\n",
       " 'Hoeven, John - (R - ND) Class III 338 Russell Senate Office Building Washington DC 20510 (202) 224-2551  Contact: www.hoeven.senate.gov/public/index.cfm/email-the-senator',\n",
       " 'Hyde-Smith, Cindy - (R - MS) Class II G12 Dirksen Senate Office Building Washington DC 20510 (202) 224-5054  Contact: www.hydesmith.senate.gov/content/contact-senator',\n",
       " 'Inhofe, James M. - (R - OK) Class II 205 Russell Senate Office Building Washington DC 20510 (202) 224-4721  Contact: www.inhofe.senate.gov/contact',\n",
       " 'Isakson, Johnny - (R - GA) Class III 131 Russell Senate Office Building Washington DC 20510 (202) 224-3643  Contact: www.isakson.senate.gov/public/index.cfm/email-me',\n",
       " 'Johnson, Ron - (R - WI) Class III 328 Hart Senate Office Building Washington DC 20510 (202) 224-5323  Contact: www.ronjohnson.senate.gov/public/index.cfm/email-the-sena...',\n",
       " 'Jones, Doug - (D - AL) Class II 326 Russell Senate Office Building Washington DC 20510 (202) 224-4124  Contact: www.jones.senate.gov/content/contact-senator',\n",
       " 'Kennedy, John - (R - LA) Class III 383 Russell Senate Office Building Washington DC 20510 (202) 224-4623  Contact: www.kennedy.senate.gov/public/email-me',\n",
       " 'Lankford, James - (R - OK) Class III 316 Hart Senate Office Building Washington DC 20510 (202) 224-5754  Contact: www.lankford.senate.gov/contact/email',\n",
       " 'Leahy, Patrick J. - (D - VT) Class III 437 Russell Senate Office Building Washington DC 20510 (202) 224-4242  Contact: www.leahy.senate.gov/contact/',\n",
       " 'Lee, Mike - (R - UT) Class III 361A Russell Senate Office Building Washington DC 20510 (202) 224-5444  Contact: www.lee.senate.gov/public/index.cfm/contact',\n",
       " 'Markey, Edward J. - (D - MA) Class II 255 Dirksen Senate Office Building Washington DC 20510 (202) 224-2742  Contact: www.markey.senate.gov/contact',\n",
       " 'McCain, John - (R - AZ) Class III 218 Russell Senate Office Building Washington DC 20510 (202) 224-2235  Contact: www.mccain.senate.gov/public/index.cfm/contact-form',\n",
       " 'McConnell, Mitch - (R - KY) Class II 317 Russell Senate Office Building Washington DC 20510 (202) 224-2541  Contact: www.mcconnell.senate.gov/public/index.cfm?p=contact',\n",
       " 'Merkley, Jeff - (D - OR) Class II 313 Hart Senate Office Building Washington DC 20510 (202) 224-3753  Contact: www.merkley.senate.gov/contact/',\n",
       " 'Moran, Jerry - (R - KS) Class III 521 Dirksen Senate Office Building Washington DC 20510 (202) 224-6521  Contact: www.moran.senate.gov/public/index.cfm/e-mail-jerry',\n",
       " 'Murkowski, Lisa - (R - AK) Class III 522 Hart Senate Office Building Washington DC 20510 (202) 224-6665  Contact: www.murkowski.senate.gov/public/index.cfm/contact',\n",
       " 'Murray, Patty - (D - WA) Class III 154 Russell Senate Office Building Washington DC 20510 (202) 224-2621  Contact: www.murray.senate.gov/public/index.cfm/contactme',\n",
       " 'Paul, Rand - (R - KY) Class III 167 Russell Senate Office Building Washington DC 20510 (202) 224-4343  Contact: www.paul.senate.gov/connect/email-rand ',\n",
       " 'Perdue, David - (R - GA) Class II 455 Russell Senate Office Building Washington DC 20510 (202) 224-3521  Contact: www.perdue.senate.gov/connect/email',\n",
       " 'Peters, Gary C. - (D - MI) Class II 724 Hart Senate Office Building Washington DC 20510 (202) 224-6221  Contact: www.peters.senate.gov/contact/email-gary',\n",
       " 'Portman, Rob - (R - OH) Class III 448 Russell Senate Office Building Washington DC 20510 (202) 224-3353  Contact: www.portman.senate.gov/public/index.cfm/contact?p=contact...',\n",
       " 'Reed, Jack - (D - RI) Class II 728 Hart Senate Office Building Washington DC 20510 (202) 224-4642  Contact: www.reed.senate.gov/contact/',\n",
       " 'Risch, James E. - (R - ID) Class II 483 Russell Senate Office Building Washington DC 20510 (202) 224-2752  Contact: www.risch.senate.gov/public/index.cfm?p=Email',\n",
       " 'Roberts, Pat - (R - KS) Class II 109 Hart Senate Office Building Washington DC 20510 (202) 224-4774  Contact: www.roberts.senate.gov/public/?p=EmailPat',\n",
       " 'Rounds, Mike - (R - SD) Class II 502 Hart Senate Office Building Washington DC 20510 (202) 224-5842  Contact: www.rounds.senate.gov/contact/email-mike',\n",
       " 'Rubio, Marco - (R - FL) Class III 284 Russell Senate Office Building Washington DC 20510 (202) 224-3041  Contact: www.rubio.senate.gov/public/index.cfm/contact',\n",
       " 'Sasse, Ben - (R - NE) Class II 136 Russell Senate Office Building Washington DC 20510 (202) 224-4224  Contact: www.sasse.senate.gov/public/index.cfm/email-ben',\n",
       " 'Schatz, Brian - (D - HI) Class III 722 Hart Senate Office Building Washington DC 20510 (202) 224-3934  Contact: www.schatz.senate.gov/contact',\n",
       " 'Schumer, Charles E. - (D - NY) Class III 322 Hart Senate Office Building Washington DC 20510 (202) 224-6542  Contact: www.schumer.senate.gov/contact/email-chuck',\n",
       " 'Scott, Tim - (R - SC) Class III 717 Hart Senate Office Building Washington DC 20510 (202) 224-6121  Contact: www.scott.senate.gov/contact/email-me',\n",
       " 'Shaheen, Jeanne - (D - NH) Class II 506 Hart Senate Office Building Washington DC 20510 (202) 224-2841  Contact: www.shaheen.senate.gov/contact/contact-jeanne',\n",
       " 'Shelby, Richard C. - (R - AL) Class III 304 Russell Senate Office Building Washington DC 20510 (202) 224-5744  Contact: www.shelby.senate.gov/public/index.cfm/emailsenatorshelby',\n",
       " 'Smith, Tina - (D - MN) Class II 309 Hart Senate Office Building Washington DC 20510 (202) 224-5641  Contact: www.smith.senate.gov/content/contact-senator',\n",
       " 'Sullivan, Dan - (R - AK) Class II 702 Hart Senate Office Building Washington DC 20510 (202) 224-3004  Contact: www.sullivan.senate.gov/contact/email',\n",
       " 'Thune, John - (R - SD) Class III 511 Dirksen Senate Office Building Washington DC 20510 (202) 224-2321  Contact: www.thune.senate.gov/public/index.cfm/contact',\n",
       " 'Tillis, Thom - (R - NC) Class II 185 Dirksen Senate Office Building Washington DC 20510 (202) 224-6342  Contact: www.tillis.senate.gov/public/index.cfm/email-me',\n",
       " 'Toomey, Patrick J. - (R - PA) Class III 248 Russell Senate Office Building Washington DC 20510 (202) 224-4254  Contact: www.toomey.senate.gov/?p=contact',\n",
       " 'Udall, Tom - (D - NM) Class II 531 Hart Senate Office Building Washington DC 20510 (202) 224-6621  Contact: www.tomudall.senate.gov/?p=contact',\n",
       " 'Van Hollen, Chris - (D - MD) Class III 110 Hart Senate Office Building Washington DC 20510 (202) 224-4654  Contact: www.vanhollen.senate.gov/content/contact-senator',\n",
       " 'Warner, Mark R. - (D - VA) Class II 703 Hart Senate Office Building Washington DC 20510 (202) 224-2023  Contact: www.warner.senate.gov/public/index.cfm?p=Contact',\n",
       " 'Wyden, Ron - (D - OR) Class III 221 Dirksen Senate Office Building Washington DC 20510 (202) 224-5244  Contact: www.wyden.senate.gov/contact/',\n",
       " 'Young, Todd - (R - IN) Class III 400 Russell Senate Office Building Washington DC 20510 (202) 224-5623  Contact: www.young.senate.gov/contact']"
      ]
     },
     "execution_count": 64,
     "metadata": {},
     "output_type": "execute_result"
    }
   ],
   "source": [
    "my_regex = r\"Class II|Class III\"\n",
    "[line for line in senator_list if re.search(my_regex, line, re.IGNORECASE)]"
   ]
  },
  {
   "cell_type": "code",
   "execution_count": 14,
   "metadata": {
    "collapsed": true
   },
   "outputs": [],
   "source": [
    "#4. Trouver les sénateurs indépendants"
   ]
  },
  {
   "cell_type": "code",
   "execution_count": 75,
   "metadata": {},
   "outputs": [
    {
     "data": {
      "text/plain": [
       "['King, Angus S., Jr. - (I - ME) Class I 133 Hart Senate Office Building Washington DC 20510 (202) 224-5344  Contact: www.king.senate.gov/contact',\n",
       " 'Sanders, Bernard - (I - VT) Class I 332 Dirksen Senate Office Building Washington DC 20510 (202) 224-5141  Contact: www.sanders.senate.gov/contact/']"
      ]
     },
     "execution_count": 75,
     "metadata": {},
     "output_type": "execute_result"
    }
   ],
   "source": [
    "my_regex = r\"\\(I -\"\n",
    "[line for line in senator_list if re.search(my_regex, line, re.IGNORECASE)]"
   ]
  },
  {
   "cell_type": "code",
   "execution_count": 15,
   "metadata": {
    "collapsed": true
   },
   "outputs": [],
   "source": [
    "#5. Trouvez tous les sénateurs dont le numéro de téléphone se termine par 41"
   ]
  },
  {
   "cell_type": "code",
   "execution_count": 76,
   "metadata": {},
   "outputs": [
    {
     "data": {
      "text/plain": [
       "['Barrasso, John - (R - WY) Class I 307 Dirksen Senate Office Building Washington DC 20510 (202) 224-6441  Contact: www.barrasso.senate.gov/public/index.cfm/contact-form',\n",
       " 'Cantwell, Maria - (D - WA) Class I 511 Hart Senate Office Building Washington DC 20510 (202) 224-3441  Contact: www.cantwell.senate.gov/public/index.cfm/email-maria',\n",
       " 'Carper, Thomas R. - (D - DE) Class I 513 Hart Senate Office Building Washington DC 20510 (202) 224-2441  Contact: www.carper.senate.gov/public/index.cfm/email-senator-carper',\n",
       " 'Feinstein, Dianne - (D - CA) Class I 331 Hart Senate Office Building Washington DC 20510 (202) 224-3841  Contact: www.feinstein.senate.gov/public/index.cfm/e-mail-me',\n",
       " 'Gardner, Cory - (R - CO) Class II 354 Russell Senate Office Building Washington DC 20510 (202) 224-5941  Contact: www.gardner.senate.gov/contact-cory/email-cory',\n",
       " 'McConnell, Mitch - (R - KY) Class II 317 Russell Senate Office Building Washington DC 20510 (202) 224-2541  Contact: www.mcconnell.senate.gov/public/index.cfm?p=contact',\n",
       " 'Murphy, Christopher - (D - CT) Class I 136 Hart Senate Office Building Washington DC 20510 (202) 224-4041  Contact: www.murphy.senate.gov/contact',\n",
       " 'Rubio, Marco - (R - FL) Class III 284 Russell Senate Office Building Washington DC 20510 (202) 224-3041  Contact: www.rubio.senate.gov/public/index.cfm/contact',\n",
       " 'Sanders, Bernard - (I - VT) Class I 332 Dirksen Senate Office Building Washington DC 20510 (202) 224-5141  Contact: www.sanders.senate.gov/contact/',\n",
       " 'Shaheen, Jeanne - (D - NH) Class II 506 Hart Senate Office Building Washington DC 20510 (202) 224-2841  Contact: www.shaheen.senate.gov/contact/contact-jeanne',\n",
       " 'Smith, Tina - (D - MN) Class II 309 Hart Senate Office Building Washington DC 20510 (202) 224-5641  Contact: www.smith.senate.gov/content/contact-senator']"
      ]
     },
     "execution_count": 76,
     "metadata": {},
     "output_type": "execute_result"
    }
   ],
   "source": [
    "my_regex = r\"\\(202\\) 224-[0-9]{2}41\"\n",
    "[line for line in senator_list if re.search(my_regex, line, re.IGNORECASE)]"
   ]
  },
  {
   "cell_type": "code",
   "execution_count": 16,
   "metadata": {
    "collapsed": true
   },
   "outputs": [],
   "source": [
    "#6. Listez tous les sénateurs d'un état commençant par A, B or C"
   ]
  },
  {
   "cell_type": "code",
   "execution_count": 80,
   "metadata": {},
   "outputs": [
    {
     "data": {
      "text/plain": [
       "['Bennet, Michael F. - (D - CO) Class III 261 Russell Senate Office Building Washington DC 20510 (202) 224-5852  Contact: www.bennet.senate.gov/public/index.cfm/write-to-michael',\n",
       " 'Blumenthal, Richard - (D - CT) Class III 706 Hart Senate Office Building Washington DC 20510 (202) 224-2823  Contact: www.blumenthal.senate.gov/contact/',\n",
       " 'Boozman, John - (R - AR) Class III 141 Hart Senate Office Building Washington DC 20510 (202) 224-4843  Contact: www.boozman.senate.gov/public/index.cfm/contact',\n",
       " 'Cotton, Tom - (R - AR) Class II 124 Russell Senate Office Building Washington DC 20510 (202) 224-2353  Contact: www.cotton.senate.gov/?p=contact',\n",
       " 'Feinstein, Dianne - (D - CA) Class I 331 Hart Senate Office Building Washington DC 20510 (202) 224-3841  Contact: www.feinstein.senate.gov/public/index.cfm/e-mail-me',\n",
       " 'Flake, Jeff - (R - AZ) Class I 413 Russell Senate Office Building Washington DC 20510 (202) 224-4521  Contact: www.flake.senate.gov/public/index.cfm/contact-jeff',\n",
       " 'Gardner, Cory - (R - CO) Class II 354 Russell Senate Office Building Washington DC 20510 (202) 224-5941  Contact: www.gardner.senate.gov/contact-cory/email-cory',\n",
       " 'Harris, Kamala D. - (D - CA) Class III 112 Hart Senate Office Building Washington DC 20510 (202) 224-3553  Contact: www.harris.senate.gov/contact',\n",
       " 'Jones, Doug - (D - AL) Class II 326 Russell Senate Office Building Washington DC 20510 (202) 224-4124  Contact: www.jones.senate.gov/content/contact-senator',\n",
       " 'McCain, John - (R - AZ) Class III 218 Russell Senate Office Building Washington DC 20510 (202) 224-2235  Contact: www.mccain.senate.gov/public/index.cfm/contact-form',\n",
       " 'Murkowski, Lisa - (R - AK) Class III 522 Hart Senate Office Building Washington DC 20510 (202) 224-6665  Contact: www.murkowski.senate.gov/public/index.cfm/contact',\n",
       " 'Murphy, Christopher - (D - CT) Class I 136 Hart Senate Office Building Washington DC 20510 (202) 224-4041  Contact: www.murphy.senate.gov/contact',\n",
       " 'Shelby, Richard C. - (R - AL) Class III 304 Russell Senate Office Building Washington DC 20510 (202) 224-5744  Contact: www.shelby.senate.gov/public/index.cfm/emailsenatorshelby',\n",
       " 'Sullivan, Dan - (R - AK) Class II 702 Hart Senate Office Building Washington DC 20510 (202) 224-3004  Contact: www.sullivan.senate.gov/contact/email']"
      ]
     },
     "execution_count": 80,
     "metadata": {},
     "output_type": "execute_result"
    }
   ],
   "source": [
    "my_regex = r\"\\(\\w{1} - (A|B|C)[A-Z]{1}\"\n",
    "[line for line in senator_list if re.search(my_regex, line, re.IGNORECASE)]"
   ]
  },
  {
   "cell_type": "markdown",
   "metadata": {},
   "source": [
    "#Iam"
   ]
  },
  {
   "cell_type": "code",
   "execution_count": 82,
   "metadata": {
    "collapsed": true
   },
   "outputs": [],
   "source": [
    "demain = '''L'encre coule, le sang se répand; la feuille buvard\n",
    "Absorbe l'émotion, sac d'images dans ma mémoire\n",
    "Je parle de ce que mes proches vivent et de ce que je vois:\n",
    "Des mecs coulés par le désespoir qui partent à la dérive\n",
    "Des mecs qui pour 20000 de shit se déchirent\n",
    "Je parle du quotidien, écoute bien, mes phrases font pas rire\n",
    "Rire, sourire, certains l'ont perdu\n",
    "Je pense à Momo qui m'a dit 'à plus'; jamais je ne l'ai revu\n",
    "Tenter le diable pour sortir de la galère, t'as gagné frère\n",
    "Mais c'est toujours la misère pour ceux qui poussent derrière\n",
    "Pousse, pousser au milieu d'un champ de béton\n",
    "Grandir dans un parking et voir les grands faire rentrer les ronds\n",
    "La pauvreté, ça fait gamberger, en deux temps, trois mouvements\n",
    "On coupe, on compresse, on découpe, on emballe, on vend\n",
    "A tour de bras, on fait rentrer l'argent, on craque\n",
    "Ouais, c'est ça la vie, et parle pas de RMI ici ici\n",
    "Ici, le rêve des jeunes c'est la Golf GTI, survet' Tacchini\n",
    "Tomber les femmes à l'aise comme Manny\n",
    "Sur Scarface, je suis comme tout le monde: je délire bien\n",
    "Dieu merci, j'ai grandi, je suis plus malin, lui il crève à la fin\n",
    "La fin, la faim, la faim justifie les moyens, quatre, cinq coups malsains\n",
    "Et on tient jusqu'à demain, après on verra bien\n",
    "On marche dans l'ombre du Malin du soir au matin\n",
    "Tapis dans un coin, couteau à la main, bandit de grand chemin\n",
    "Chemin, chemin, y en a pas deux pour être un dieu\n",
    "Frapper comme une enclume, pas tomber les yeux, l'envieux toujours en veut\n",
    "Une route pour y entrer, deux pour s'en sortir, 3/4 cuir\n",
    "Réussir, s'évanouir, devenir un souvenir\n",
    "Souvenir, être si jeune, en avoir plein le répertoire\n",
    "Des gars rayés de la carte qu'on efface comme un tableau, tchpaou! C'est le noir\n",
    "Croire en qui, en quoi? Les mecs sont tous des miroirs\n",
    "Vont dans le même sens, veulent s'en mettre plein les tiroirs\n",
    "Tiroir, on y passe notre vie, on y finit\n",
    "Avant de connaître l'enfer sur terre, on construit son paradis\n",
    "Fiction, désillusion trop forte, sors le chichon\n",
    "La réalité tape trop dur, besoin d'évasion\n",
    "Evasion, évasion, effort d'imagination, ici tout est gris:\n",
    "Les murs, les esprits, les rats la nuit\n",
    "On veut s'échapper de la prison, une aiguille passe, on passe à l'action\n",
    "Fausse diversion, un jour tu pètes les plombs\n",
    "Les plombs, certains chanceux en ont dans la cervelle\n",
    "D'autres se les envoient pour une poignée de biftons guerre fraternelle\n",
    "Les armes poussent comme la mauvaise herbe\n",
    "L'image du gangster se propage comme la gangrène sème ses graines\n",
    "Graines, graines, graine de délinquant qu'espériez-vous? Tout jeunes\n",
    "On leur apprend que rien ne fait un homme à part les francs\n",
    "Du franc-tireur discret au groupe organisé, la racine devient champ\n",
    "Trop grand, impossible a arrêter\n",
    "Arrêté, poisseux au départ, chanceux à la sortie\n",
    "On prend trois mois, le bruit court, la réputation grandit\n",
    "Les barreaux font plus peur, c'est la routine, vulgaire épine\n",
    "Fine esquisse à l'encre de Chine, figurine qui parfois s'anime\n",
    "S'anime, animé d'une furieuse envie de monnaie\n",
    "Le noir tombé, qu'importe le temps qu'il fait, on jette les dés, faut flamber\n",
    "Perdre et gagner, rentrer avec quelques papiers en plus\n",
    "Ça aidera, personne demandera d'où ils sont tombés\n",
    "Tomber ou pas, pour tout, pour rien, on prend le risque, pas grave cousin\n",
    "De toute façon dans les deux cas, on s'en sort bien\n",
    "Vivre comme un chien ou un prince, y'a pas photo\n",
    "On fait un choix, fait griller le gigot, briller les joyaux\n",
    "Joyaux, un rêve, plein les poches mais la cible est trop loin, la flèche\n",
    "Ricoche, le diable rajoute une encoche, trop moche, les mecs cochent\n",
    "Leur propre case, décoche pour du cash, j'entends les cloches, à coups de pioche\n",
    "Creuser un trou, c'est trop fastoche\n",
    "Fastoche, facile le blouson du bourgeois docile\n",
    "Des mémés la hantise et porcelaine dans le pare-brise\n",
    "Tchac! Le rasoir sur le sac à main, par ici les talbins\n",
    "Ça c'est toute la journée, lendemain après lendemain\n",
    "Lendemain? C'est pas le problème, on vit au jour le jour\n",
    "On n'a pas le temps ou on perd de l'argent, les autres le prennent\n",
    "Demain, c'est loin, on n'est pas pressé, au fur et à mesure\n",
    "On avance en surveillant nos fesses pour parler au futur\n",
    "Futur, le futur ne changera pas grand-chose, les générations prochaines\n",
    "Seront pires que nous, leur vie sera plus morose\n",
    "Notre avenir, c'est la minute d'après, le but, anticiper\n",
    "Prévenir avant de se faire clouer\n",
    "Clouer, cloués sur un banc, rien d'autre à faire, on boit de la bière\n",
    "On siffle les gazières qui n'ont pas de frère\n",
    "Les murs nous tiennent comme du papier tue-mouches\n",
    "On est là, jamais on s'en sortira, Satan nous tient avec sa fourche\n",
    "Fourche, enfourcher les risques, seconde après seconde\n",
    "Chaque occasion est une pierre de plus ajoutée à nos frondes\n",
    "Contre leurs lasers, certains désespèrent, beaucoup touchent terre\n",
    "Les obstinés refusent le combat suicidaire\n",
    "Sidère, sidérés, les dieux regardent l'humain se diriger\n",
    "Vers le mauvais côté de l'éternité d'un pas ferme et décidé\n",
    "Préférant rôder en bas en haut, on va s'emmerder\n",
    "Y a qu'ici que les anges vendent à fumer\n",
    "Fumée, encore une bouffée, le voile est tombé\n",
    "La tête sur l'oreiller, la merde un instant estompée\n",
    "Par la fenêtre, un cri fait son entrée, un homme se fait braquer\n",
    "Un enfant se fait serrer, pour une Cartier, menotté\n",
    "Menotté, pieds et poings liés par la fatalité\n",
    "Prisonnier du donjon, le destin est le geôlier\n",
    "Le turf, l'arène, on a grandi avec les jeux\n",
    "Gladiateur courageux, mais la vie est coriace, on lutte comme on peut\n",
    "\n",
    "Dans les constructions élevées\n",
    "Incompréhension, bandes de gosses soi-disant mal élevés\n",
    "Frictions, excitation, patrouilles de civils\n",
    "Trouille inutile, légendes et mythes débiles\n",
    "Haschich au kilo, poètes armés de stylos\n",
    "Réserves de créativité, hangars, silos\n",
    "Ça file au bloc 20, pack de Heineken dans les mains\n",
    "Oublier en tirant sur un gros joint\n",
    "Princesses d'Afrique, fille mère, plastique\n",
    "Plein de colle, raclo à la masse lunatique\n",
    "Economie parallèle, équipe dure comme un roc\n",
    "Petits Don qui contrôlent grave leurs spots\n",
    "On pète la Veuve Cliquot, parqués comme à Mexico\n",
    "Horizons cimentés, pickpockets, toxicos\n",
    "Personnes honnêtes ignorées, superflics, Zorros\n",
    "Politiciens et journalistes en visite au zoo\n",
    "Musulmans respectueux, pères de famille humbles\n",
    "Baffles qui blastent ma musique de la jungle\n",
    "Entrées dévastées, carcasses de tires éclatées\n",
    "Nuée de gosses qui viennent gratter\n",
    "Lumières oranges qui s'allument, cheminées qui fument\n",
    "Parties de foot improvisées sur le bitume\n",
    "Golf VR6, pneus qui crissent\n",
    "Silence brisé par les sirènes de la police\n",
    "Polos Façonnable, survêtements minables\n",
    "Mères aux traits de caractère admirables\n",
    "Chichon bidon, histoires de prison\n",
    "Stupides divisions, amas de tisons\n",
    "Ou clichés d'Orient, cuisine au piment\n",
    "Jolis noms d'arbres pour des bâtiments dans la forêt de ciment\n",
    "Désert du midi, soleil écrasant\n",
    "Vie la nuit, pendant le mois de Ramadan\n",
    "Pas de distractions, se créer un peu d'action\n",
    "Jeu de dés, de contrée, paris d'argent, méchante attraction\n",
    "Rires ininterrompus, arrestations impromptues\n",
    "Maires d'arrondissement corrompus\n",
    "Marcher sur les seringues usagées, rêver de voyager\n",
    "Autoradios en affaire, lot de chaînes arrachées\n",
    "Bougre sans retour, psychopathe sans pitié\n",
    "Meilleurs liens d'amitié qu'un type puisse trouver\n",
    "Génies du sport faisant leurs classes sur les terrains vagues\n",
    "Nouvelles blagues, terribles techniques de drague\n",
    "Individualités qui craquent parce que stressées\n",
    "Personne ne bouge, personne ne sera blessé\n",
    "Vapeur d'éther, d'eau écarlate, d'alcool\n",
    "Fourgon de la Brink's maté comme le pactole\n",
    "C'est pas drôle, le chien mord enfermé dans la cage\n",
    "Bave de rage, les barreaux grimpent au deuxième étage\n",
    "Dealer du hashich, c'est sage si tu veux sortir la femme\n",
    "Si tu plonges, la ferme, y'a pas de drame\n",
    "Mais l'école est pas loin, les ennuis non plus\n",
    "Ça commence par des tapes au cul, ça finit par des gardes à vue\n",
    "Regarde la rue, ce qui change? Y a que les saisons\n",
    "Tu baves du béton, craches du béton, chies du béton\n",
    "Te bats pour du laiton, mais est-ce que ça rapporte?\n",
    "Regrette pas les biftons quand la BAC frappe à la porte\n",
    "Trois couleurs sur les affiches nous traitent comme des bordilles\n",
    "C'est pas Manille, ok, mais les cigarettes se torpillent\n",
    "Coupable innocent, ça parle cash, de pour cent\n",
    "Oeil pour oeil, bouche pour dent, c'est stressant\n",
    "Très tôt, c'est déjà la famille dehors, la bande à Kader\n",
    "\"Va niquer ta mère!\": la merde au cul, ils parlent déjà de travers\n",
    "Pas facile de parler d'amour, travail à l'usine\n",
    "Les belles gazelles se brisent l'échine dans les cuisines\n",
    "Les élus ressassent rénovation, ça rassure\n",
    "Mais c'est toujours la même merde derrière la dernière couche de peinture\n",
    "Feu les rêves gisent enterrés dans la cour\n",
    "A douze ans, conduire, mourir, finir comme 2Pac Shakur\n",
    "Mater les photos, majeur aujourd'hui, poto\n",
    "Pas mal d'amis se sont déjà tués en moto\n",
    "Une fois tu gagnes, mille fois tu perds : le futur c'est un loto\n",
    "Pour ce, je dédie mes textes en qualité d'ex-voto, mec\n",
    "Ici t'es jugé à la réputation forte\n",
    "Manque-toi et tous les jours les bougres pissent sur ta porte\n",
    "C'est le tarif minimum et gaffe\n",
    "Ceux qui pèsent transforment le secteur en oppidum\n",
    "Gelé, l'ambiance s'électrise, y a plein de places assises\n",
    "Béton figé fait office de froide banquise\n",
    "Les gosses veulent sortir, les 'non' tombent comme des massues\n",
    "Les artistes de mon cul pompent les subventions DSU\n",
    "Tant d'énergie perdue pour des préjugés indus\n",
    "Les décideurs financiers, pleins de merde dans la vue\n",
    "En attendant, les espoirs foirent, capotent, certains rappent\n",
    "Les pierres partent, les caisses volées dérapent\n",
    "C'est le bordel au lycée, dans les couloirs on ouvre les extincteurs\n",
    "Le quartier devient le terrain de chasse des inspecteurs\n",
    "Le dos a un œil car les eaux sont truffées d'éceuils\n",
    "Recueille le blé, on joue aux dés dans un sombre cercueil\n",
    "C'est trop, les potos chient sur le profil Roméo\n",
    "Un tchoc de popo, faire les fils et un bon rodéo\n",
    "La vie est dure, si on veut du rêve\n",
    "Ils mettent du pneu dans le shit et te vendent ça Khams Alaf\n",
    "Tu me diras \"ça va, c'est pas trop\"\n",
    "Mais pour du tcherno, un Hamidou quand on a rien, c'est chaud\n",
    "Je sais de quoi je parle, moi, le bâtard\n",
    "J'ai dû fêter mes vingt ans avec trois bouteilles de Valstar\n",
    "Le spot bout ce soir, qui est le King?\n",
    "D'entrée, les murs sont réservés comme des places de parking\n",
    "Mais qui peut comprendre la mène pleine\n",
    "Qu'un type à bout frappe sec, poussé par la haine\n",
    "Et qu'on ne naît pas programmé pour faire un foin?\n",
    "Je pense pas à demain, parce que demain c'est loin.'''"
   ]
  },
  {
   "cell_type": "code",
   "execution_count": 83,
   "metadata": {},
   "outputs": [
    {
     "data": {
      "text/plain": [
       "[\"L'encre coule, le sang se répand; la feuille buvard\",\n",
       " \"Absorbe l'émotion, sac d'images dans ma mémoire\",\n",
       " 'Je parle de ce que mes proches vivent et de ce que je vois:',\n",
       " 'Des mecs coulés par le désespoir qui partent à la dérive',\n",
       " 'Des mecs qui pour 20000 de shit se déchirent',\n",
       " 'Je parle du quotidien, écoute bien, mes phrases font pas rire',\n",
       " \"Rire, sourire, certains l'ont perdu\",\n",
       " \"Je pense à Momo qui m'a dit 'à plus'; jamais je ne l'ai revu\",\n",
       " \"Tenter le diable pour sortir de la galère, t'as gagné frère\",\n",
       " \"Mais c'est toujours la misère pour ceux qui poussent derrière\",\n",
       " \"Pousse, pousser au milieu d'un champ de béton\",\n",
       " 'Grandir dans un parking et voir les grands faire rentrer les ronds',\n",
       " 'La pauvreté, ça fait gamberger, en deux temps, trois mouvements',\n",
       " 'On coupe, on compresse, on découpe, on emballe, on vend',\n",
       " \"A tour de bras, on fait rentrer l'argent, on craque\",\n",
       " \"Ouais, c'est ça la vie, et parle pas de RMI ici ici\",\n",
       " \"Ici, le rêve des jeunes c'est la Golf GTI, survet' Tacchini\",\n",
       " \"Tomber les femmes à l'aise comme Manny\",\n",
       " 'Sur Scarface, je suis comme tout le monde: je délire bien',\n",
       " \"Dieu merci, j'ai grandi, je suis plus malin, lui il crève à la fin\",\n",
       " 'La fin, la faim, la faim justifie les moyens, quatre, cinq coups malsains',\n",
       " \"Et on tient jusqu'à demain, après on verra bien\",\n",
       " \"On marche dans l'ombre du Malin du soir au matin\",\n",
       " 'Tapis dans un coin, couteau à la main, bandit de grand chemin',\n",
       " 'Chemin, chemin, y en a pas deux pour être un dieu',\n",
       " \"Frapper comme une enclume, pas tomber les yeux, l'envieux toujours en veut\",\n",
       " \"Une route pour y entrer, deux pour s'en sortir, 3/4 cuir\",\n",
       " \"Réussir, s'évanouir, devenir un souvenir\",\n",
       " 'Souvenir, être si jeune, en avoir plein le répertoire',\n",
       " \"Des gars rayés de la carte qu'on efface comme un tableau, tchpaou! C'est le noir\",\n",
       " 'Croire en qui, en quoi? Les mecs sont tous des miroirs',\n",
       " \"Vont dans le même sens, veulent s'en mettre plein les tiroirs\",\n",
       " 'Tiroir, on y passe notre vie, on y finit',\n",
       " \"Avant de connaître l'enfer sur terre, on construit son paradis\",\n",
       " 'Fiction, désillusion trop forte, sors le chichon',\n",
       " \"La réalité tape trop dur, besoin d'évasion\",\n",
       " \"Evasion, évasion, effort d'imagination, ici tout est gris:\",\n",
       " 'Les murs, les esprits, les rats la nuit',\n",
       " \"On veut s'échapper de la prison, une aiguille passe, on passe à l'action\",\n",
       " 'Fausse diversion, un jour tu pètes les plombs',\n",
       " 'Les plombs, certains chanceux en ont dans la cervelle',\n",
       " \"D'autres se les envoient pour une poignée de biftons guerre fraternelle\",\n",
       " 'Les armes poussent comme la mauvaise herbe',\n",
       " \"L'image du gangster se propage comme la gangrène sème ses graines\",\n",
       " \"Graines, graines, graine de délinquant qu'espériez-vous? Tout jeunes\",\n",
       " 'On leur apprend que rien ne fait un homme à part les francs',\n",
       " 'Du franc-tireur discret au groupe organisé, la racine devient champ',\n",
       " 'Trop grand, impossible a arrêter',\n",
       " 'Arrêté, poisseux au départ, chanceux à la sortie',\n",
       " 'On prend trois mois, le bruit court, la réputation grandit',\n",
       " \"Les barreaux font plus peur, c'est la routine, vulgaire épine\",\n",
       " \"Fine esquisse à l'encre de Chine, figurine qui parfois s'anime\",\n",
       " \"S'anime, animé d'une furieuse envie de monnaie\",\n",
       " \"Le noir tombé, qu'importe le temps qu'il fait, on jette les dés, faut flamber\",\n",
       " 'Perdre et gagner, rentrer avec quelques papiers en plus',\n",
       " \"Ça aidera, personne demandera d'où ils sont tombés\",\n",
       " 'Tomber ou pas, pour tout, pour rien, on prend le risque, pas grave cousin',\n",
       " \"De toute façon dans les deux cas, on s'en sort bien\",\n",
       " \"Vivre comme un chien ou un prince, y'a pas photo\",\n",
       " 'On fait un choix, fait griller le gigot, briller les joyaux',\n",
       " 'Joyaux, un rêve, plein les poches mais la cible est trop loin, la flèche',\n",
       " 'Ricoche, le diable rajoute une encoche, trop moche, les mecs cochent',\n",
       " \"Leur propre case, décoche pour du cash, j'entends les cloches, à coups de pioche\",\n",
       " \"Creuser un trou, c'est trop fastoche\",\n",
       " 'Fastoche, facile le blouson du bourgeois docile',\n",
       " 'Des mémés la hantise et porcelaine dans le pare-brise',\n",
       " 'Tchac! Le rasoir sur le sac à main, par ici les talbins',\n",
       " \"Ça c'est toute la journée, lendemain après lendemain\",\n",
       " \"Lendemain? C'est pas le problème, on vit au jour le jour\",\n",
       " \"On n'a pas le temps ou on perd de l'argent, les autres le prennent\",\n",
       " \"Demain, c'est loin, on n'est pas pressé, au fur et à mesure\",\n",
       " 'On avance en surveillant nos fesses pour parler au futur',\n",
       " 'Futur, le futur ne changera pas grand-chose, les générations prochaines',\n",
       " 'Seront pires que nous, leur vie sera plus morose',\n",
       " \"Notre avenir, c'est la minute d'après, le but, anticiper\",\n",
       " 'Prévenir avant de se faire clouer',\n",
       " \"Clouer, cloués sur un banc, rien d'autre à faire, on boit de la bière\",\n",
       " \"On siffle les gazières qui n'ont pas de frère\",\n",
       " 'Les murs nous tiennent comme du papier tue-mouches',\n",
       " \"On est là, jamais on s'en sortira, Satan nous tient avec sa fourche\",\n",
       " 'Fourche, enfourcher les risques, seconde après seconde',\n",
       " 'Chaque occasion est une pierre de plus ajoutée à nos frondes',\n",
       " 'Contre leurs lasers, certains désespèrent, beaucoup touchent terre',\n",
       " 'Les obstinés refusent le combat suicidaire',\n",
       " \"Sidère, sidérés, les dieux regardent l'humain se diriger\",\n",
       " \"Vers le mauvais côté de l'éternité d'un pas ferme et décidé\",\n",
       " \"Préférant rôder en bas en haut, on va s'emmerder\",\n",
       " \"Y a qu'ici que les anges vendent à fumer\",\n",
       " 'Fumée, encore une bouffée, le voile est tombé',\n",
       " \"La tête sur l'oreiller, la merde un instant estompée\",\n",
       " 'Par la fenêtre, un cri fait son entrée, un homme se fait braquer',\n",
       " 'Un enfant se fait serrer, pour une Cartier, menotté',\n",
       " 'Menotté, pieds et poings liés par la fatalité',\n",
       " 'Prisonnier du donjon, le destin est le geôlier',\n",
       " \"Le turf, l'arène, on a grandi avec les jeux\",\n",
       " 'Gladiateur courageux, mais la vie est coriace, on lutte comme on peut',\n",
       " '',\n",
       " 'Dans les constructions élevées',\n",
       " 'Incompréhension, bandes de gosses soi-disant mal élevés',\n",
       " 'Frictions, excitation, patrouilles de civils',\n",
       " 'Trouille inutile, légendes et mythes débiles',\n",
       " 'Haschich au kilo, poètes armés de stylos',\n",
       " 'Réserves de créativité, hangars, silos',\n",
       " 'Ça file au bloc 20, pack de Heineken dans les mains',\n",
       " 'Oublier en tirant sur un gros joint',\n",
       " \"Princesses d'Afrique, fille mère, plastique\",\n",
       " 'Plein de colle, raclo à la masse lunatique',\n",
       " 'Economie parallèle, équipe dure comme un roc',\n",
       " 'Petits Don qui contrôlent grave leurs spots',\n",
       " 'On pète la Veuve Cliquot, parqués comme à Mexico',\n",
       " 'Horizons cimentés, pickpockets, toxicos',\n",
       " 'Personnes honnêtes ignorées, superflics, Zorros',\n",
       " 'Politiciens et journalistes en visite au zoo',\n",
       " 'Musulmans respectueux, pères de famille humbles',\n",
       " 'Baffles qui blastent ma musique de la jungle',\n",
       " 'Entrées dévastées, carcasses de tires éclatées',\n",
       " 'Nuée de gosses qui viennent gratter',\n",
       " \"Lumières oranges qui s'allument, cheminées qui fument\",\n",
       " 'Parties de foot improvisées sur le bitume',\n",
       " 'Golf VR6, pneus qui crissent',\n",
       " 'Silence brisé par les sirènes de la police',\n",
       " 'Polos Façonnable, survêtements minables',\n",
       " 'Mères aux traits de caractère admirables',\n",
       " 'Chichon bidon, histoires de prison',\n",
       " 'Stupides divisions, amas de tisons',\n",
       " \"Ou clichés d'Orient, cuisine au piment\",\n",
       " \"Jolis noms d'arbres pour des bâtiments dans la forêt de ciment\",\n",
       " 'Désert du midi, soleil écrasant',\n",
       " 'Vie la nuit, pendant le mois de Ramadan',\n",
       " \"Pas de distractions, se créer un peu d'action\",\n",
       " \"Jeu de dés, de contrée, paris d'argent, méchante attraction\",\n",
       " 'Rires ininterrompus, arrestations impromptues',\n",
       " \"Maires d'arrondissement corrompus\",\n",
       " 'Marcher sur les seringues usagées, rêver de voyager',\n",
       " 'Autoradios en affaire, lot de chaînes arrachées',\n",
       " 'Bougre sans retour, psychopathe sans pitié',\n",
       " \"Meilleurs liens d'amitié qu'un type puisse trouver\",\n",
       " 'Génies du sport faisant leurs classes sur les terrains vagues',\n",
       " 'Nouvelles blagues, terribles techniques de drague',\n",
       " 'Individualités qui craquent parce que stressées',\n",
       " 'Personne ne bouge, personne ne sera blessé',\n",
       " \"Vapeur d'éther, d'eau écarlate, d'alcool\",\n",
       " \"Fourgon de la Brink's maté comme le pactole\",\n",
       " \"C'est pas drôle, le chien mord enfermé dans la cage\",\n",
       " 'Bave de rage, les barreaux grimpent au deuxième étage',\n",
       " \"Dealer du hashich, c'est sage si tu veux sortir la femme\",\n",
       " \"Si tu plonges, la ferme, y'a pas de drame\",\n",
       " \"Mais l'école est pas loin, les ennuis non plus\",\n",
       " 'Ça commence par des tapes au cul, ça finit par des gardes à vue',\n",
       " 'Regarde la rue, ce qui change? Y a que les saisons',\n",
       " 'Tu baves du béton, craches du béton, chies du béton',\n",
       " 'Te bats pour du laiton, mais est-ce que ça rapporte?',\n",
       " 'Regrette pas les biftons quand la BAC frappe à la porte',\n",
       " 'Trois couleurs sur les affiches nous traitent comme des bordilles',\n",
       " \"C'est pas Manille, ok, mais les cigarettes se torpillent\",\n",
       " 'Coupable innocent, ça parle cash, de pour cent',\n",
       " \"Oeil pour oeil, bouche pour dent, c'est stressant\",\n",
       " \"Très tôt, c'est déjà la famille dehors, la bande à Kader\",\n",
       " '\"Va niquer ta mère!\": la merde au cul, ils parlent déjà de travers',\n",
       " \"Pas facile de parler d'amour, travail à l'usine\",\n",
       " \"Les belles gazelles se brisent l'échine dans les cuisines\",\n",
       " 'Les élus ressassent rénovation, ça rassure',\n",
       " \"Mais c'est toujours la même merde derrière la dernière couche de peinture\",\n",
       " 'Feu les rêves gisent enterrés dans la cour',\n",
       " 'A douze ans, conduire, mourir, finir comme 2Pac Shakur',\n",
       " \"Mater les photos, majeur aujourd'hui, poto\",\n",
       " \"Pas mal d'amis se sont déjà tués en moto\",\n",
       " \"Une fois tu gagnes, mille fois tu perds : le futur c'est un loto\",\n",
       " \"Pour ce, je dédie mes textes en qualité d'ex-voto, mec\",\n",
       " \"Ici t'es jugé à la réputation forte\",\n",
       " 'Manque-toi et tous les jours les bougres pissent sur ta porte',\n",
       " \"C'est le tarif minimum et gaffe\",\n",
       " 'Ceux qui pèsent transforment le secteur en oppidum',\n",
       " \"Gelé, l'ambiance s'électrise, y a plein de places assises\",\n",
       " 'Béton figé fait office de froide banquise',\n",
       " \"Les gosses veulent sortir, les 'non' tombent comme des massues\",\n",
       " 'Les artistes de mon cul pompent les subventions DSU',\n",
       " \"Tant d'énergie perdue pour des préjugés indus\",\n",
       " 'Les décideurs financiers, pleins de merde dans la vue',\n",
       " 'En attendant, les espoirs foirent, capotent, certains rappent',\n",
       " 'Les pierres partent, les caisses volées dérapent',\n",
       " \"C'est le bordel au lycée, dans les couloirs on ouvre les extincteurs\",\n",
       " 'Le quartier devient le terrain de chasse des inspecteurs',\n",
       " \"Le dos a un œil car les eaux sont truffées d'éceuils\",\n",
       " 'Recueille le blé, on joue aux dés dans un sombre cercueil',\n",
       " \"C'est trop, les potos chient sur le profil Roméo\",\n",
       " 'Un tchoc de popo, faire les fils et un bon rodéo',\n",
       " 'La vie est dure, si on veut du rêve',\n",
       " 'Ils mettent du pneu dans le shit et te vendent ça Khams Alaf',\n",
       " 'Tu me diras \"ça va, c\\'est pas trop\"',\n",
       " \"Mais pour du tcherno, un Hamidou quand on a rien, c'est chaud\",\n",
       " 'Je sais de quoi je parle, moi, le bâtard',\n",
       " \"J'ai dû fêter mes vingt ans avec trois bouteilles de Valstar\",\n",
       " 'Le spot bout ce soir, qui est le King?',\n",
       " \"D'entrée, les murs sont réservés comme des places de parking\",\n",
       " 'Mais qui peut comprendre la mène pleine',\n",
       " \"Qu'un type à bout frappe sec, poussé par la haine\",\n",
       " \"Et qu'on ne naît pas programmé pour faire un foin?\",\n",
       " \"Je pense pas à demain, parce que demain c'est loin.\"]"
      ]
     },
     "execution_count": 83,
     "metadata": {},
     "output_type": "execute_result"
    }
   ],
   "source": [
    "#run this cell (split all the lines)\n",
    "demain_list = demain.splitlines()\n",
    "demain_list"
   ]
  },
  {
   "cell_type": "code",
   "execution_count": 84,
   "metadata": {
    "collapsed": true
   },
   "outputs": [],
   "source": [
    "chanson = demain.split('\\n')\n",
    "chanson = [line.strip() for line in chanson]"
   ]
  },
  {
   "cell_type": "code",
   "execution_count": 85,
   "metadata": {},
   "outputs": [
    {
     "data": {
      "text/plain": [
       "[\"Qu'un type à bout frappe sec, poussé par la haine\"]"
      ]
     },
     "execution_count": 85,
     "metadata": {},
     "output_type": "execute_result"
    }
   ],
   "source": [
    "#. Exemple: Trouver les lignes qui comportent le mot \"haine\"\n",
    "my_regex = r\"\\bhaine\\b\"\n",
    "[line for line in chanson if re.search(my_regex, line,re.IGNORECASE)]"
   ]
  },
  {
   "cell_type": "code",
   "execution_count": 86,
   "metadata": {},
   "outputs": [
    {
     "data": {
      "text/plain": [
       "['Tapis dans un coin, couteau à la main, bandit de grand chemin',\n",
       " 'Tchac! Le rasoir sur le sac à main, par ici les talbins']"
      ]
     },
     "execution_count": 86,
     "metadata": {},
     "output_type": "execute_result"
    }
   ],
   "source": [
    "#7. Trouver les lignes qui comportent le mot \"main\"\n",
    "my_regex = r\"\\bmain\\b\"\n",
    "[line for line in chanson if re.search(my_regex, line,re.IGNORECASE)]"
   ]
  },
  {
   "cell_type": "code",
   "execution_count": 22,
   "metadata": {
    "collapsed": true
   },
   "outputs": [],
   "source": [
    "#8. Trouver les lignes qui comportent un mot qui se termine par \"main\", mais qui n'est pas le mot \"main\""
   ]
  },
  {
   "cell_type": "code",
   "execution_count": 87,
   "metadata": {},
   "outputs": [
    {
     "data": {
      "text/plain": [
       "[\"Et on tient jusqu'à demain, après on verra bien\",\n",
       " \"Ça c'est toute la journée, lendemain après lendemain\",\n",
       " \"Lendemain? C'est pas le problème, on vit au jour le jour\",\n",
       " \"Demain, c'est loin, on n'est pas pressé, au fur et à mesure\",\n",
       " \"Sidère, sidérés, les dieux regardent l'humain se diriger\",\n",
       " \"Je pense pas à demain, parce que demain c'est loin.\"]"
      ]
     },
     "execution_count": 87,
     "metadata": {},
     "output_type": "execute_result"
    }
   ],
   "source": [
    "my_regex = r\"\\w+main\\b\"\n",
    "[line for line in chanson if re.search(my_regex, line,re.IGNORECASE)]"
   ]
  },
  {
   "cell_type": "code",
   "execution_count": 23,
   "metadata": {
    "collapsed": true
   },
   "outputs": [],
   "source": [
    "#9. Trouver les lignes qui contiennent 3 voyelles à la suite"
   ]
  },
  {
   "cell_type": "code",
   "execution_count": 89,
   "metadata": {},
   "outputs": [
    {
     "data": {
      "text/plain": [
       "[\"L'encre coule, le sang se répand; la feuille buvard\",\n",
       " \"Pousse, pousser au milieu d'un champ de béton\",\n",
       " \"Ouais, c'est ça la vie, et parle pas de RMI ici ici\",\n",
       " \"Dieu merci, j'ai grandi, je suis plus malin, lui il crève à la fin\",\n",
       " 'La fin, la faim, la faim justifie les moyens, quatre, cinq coups malsains',\n",
       " 'Tapis dans un coin, couteau à la main, bandit de grand chemin',\n",
       " 'Chemin, chemin, y en a pas deux pour être un dieu',\n",
       " \"Frapper comme une enclume, pas tomber les yeux, l'envieux toujours en veut\",\n",
       " \"Réussir, s'évanouir, devenir un souvenir\",\n",
       " \"Des gars rayés de la carte qu'on efface comme un tableau, tchpaou! C'est le noir\",\n",
       " 'Croire en qui, en quoi? Les mecs sont tous des miroirs',\n",
       " \"D'autres se les envoient pour une poignée de biftons guerre fraternelle\",\n",
       " \"Les barreaux font plus peur, c'est la routine, vulgaire épine\",\n",
       " \"S'anime, animé d'une furieuse envie de monnaie\",\n",
       " 'On fait un choix, fait griller le gigot, briller les joyaux',\n",
       " 'Joyaux, un rêve, plein les poches mais la cible est trop loin, la flèche',\n",
       " 'Fastoche, facile le blouson du bourgeois docile',\n",
       " 'Prévenir avant de se faire clouer',\n",
       " \"Clouer, cloués sur un banc, rien d'autre à faire, on boit de la bière\",\n",
       " 'Contre leurs lasers, certains désespèrent, beaucoup touchent terre',\n",
       " \"Sidère, sidérés, les dieux regardent l'humain se diriger\",\n",
       " 'Frictions, excitation, patrouilles de civils',\n",
       " 'Trouille inutile, légendes et mythes débiles',\n",
       " 'Musulmans respectueux, pères de famille humbles',\n",
       " 'Marcher sur les seringues usagées, rêver de voyager',\n",
       " \"Vapeur d'éther, d'eau écarlate, d'alcool\",\n",
       " 'Bave de rage, les barreaux grimpent au deuxième étage',\n",
       " \"Oeil pour oeil, bouche pour dent, c'est stressant\",\n",
       " \"Le dos a un œil car les eaux sont truffées d'éceuils\",\n",
       " 'Recueille le blé, on joue aux dés dans un sombre cercueil',\n",
       " 'Je sais de quoi je parle, moi, le bâtard']"
      ]
     },
     "execution_count": 89,
     "metadata": {},
     "output_type": "execute_result"
    }
   ],
   "source": [
    "my_regex = r\"[aeiouy]{3}\"\n",
    "[line for line in chanson if re.search(my_regex, line,re.IGNORECASE)]"
   ]
  },
  {
   "cell_type": "code",
   "execution_count": 24,
   "metadata": {
    "collapsed": true
   },
   "outputs": [],
   "source": [
    "#10. Trouver les lignes qui sont en capitales du début à la fin"
   ]
  },
  {
   "cell_type": "code",
   "execution_count": 105,
   "metadata": {},
   "outputs": [
    {
     "data": {
      "text/plain": [
       "[]"
      ]
     },
     "execution_count": 105,
     "metadata": {},
     "output_type": "execute_result"
    }
   ],
   "source": [
    "my_regex = r\"\\A-Z+\\A-Z\"\n",
    "[line for line in chanson if re.search(my_regex, line,re.IGNORECASE)]"
   ]
  },
  {
   "cell_type": "code",
   "execution_count": 25,
   "metadata": {
    "collapsed": true
   },
   "outputs": [],
   "source": [
    "#11. Trouver les lignes qui se terminent par un mot capitalisé"
   ]
  },
  {
   "cell_type": "code",
   "execution_count": 26,
   "metadata": {
    "collapsed": true
   },
   "outputs": [],
   "source": [
    "#12. Trouver les lignes qui contiennent deux mots avec les lettres \"on\""
   ]
  },
  {
   "cell_type": "code",
   "execution_count": 27,
   "metadata": {
    "collapsed": true
   },
   "outputs": [],
   "source": [
    "#13. Trouver les lignes qui commencent par \"Je\""
   ]
  },
  {
   "cell_type": "code",
   "execution_count": 28,
   "metadata": {
    "collapsed": true
   },
   "outputs": [],
   "source": [
    "#14. Trouver les lignes qui se terminent par? (Attention ? est un caractère spécial...)"
   ]
  },
  {
   "cell_type": "code",
   "execution_count": 29,
   "metadata": {
    "collapsed": true
   },
   "outputs": [],
   "source": [
    "#15. Trouver les lignes qui contiennent entre 25 et 35 lettres."
   ]
  }
 ],
 "metadata": {
  "kernelspec": {
   "display_name": "Python 3",
   "language": "python",
   "name": "python3"
  },
  "language_info": {
   "codemirror_mode": {
    "name": "ipython",
    "version": 3
   },
   "file_extension": ".py",
   "mimetype": "text/x-python",
   "name": "python",
   "nbconvert_exporter": "python",
   "pygments_lexer": "ipython3",
   "version": "3.6.1"
  }
 },
 "nbformat": 4,
 "nbformat_minor": 2
}
