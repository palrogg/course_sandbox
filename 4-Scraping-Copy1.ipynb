{
 "cells": [
  {
   "cell_type": "markdown",
   "metadata": {},
   "source": [
    "# Scraping"
   ]
  },
  {
   "cell_type": "code",
   "execution_count": 20,
   "metadata": {},
   "outputs": [],
   "source": [
    "import requests\n",
    "from bs4 import BeautifulSoup"
   ]
  },
  {
   "cell_type": "code",
   "execution_count": 21,
   "metadata": {},
   "outputs": [],
   "source": [
    "response = requests.get('https://exemple.tcch.ch/scraping/')"
   ]
  },
  {
   "cell_type": "code",
   "execution_count": 22,
   "metadata": {},
   "outputs": [
    {
     "data": {
      "text/plain": [
       "<Response [200]>"
      ]
     },
     "execution_count": 22,
     "metadata": {},
     "output_type": "execute_result"
    }
   ],
   "source": [
    "response"
   ]
  },
  {
   "cell_type": "code",
   "execution_count": 23,
   "metadata": {},
   "outputs": [],
   "source": [
    "doc = BeautifulSoup(response.text)"
   ]
  },
  {
   "cell_type": "code",
   "execution_count": 24,
   "metadata": {},
   "outputs": [
    {
     "data": {
      "text/plain": [
       "<h2>Animaux (Titre 2)</h2>"
      ]
     },
     "execution_count": 24,
     "metadata": {},
     "output_type": "execute_result"
    }
   ],
   "source": [
    "doc.find('h2')"
   ]
  },
  {
   "cell_type": "code",
   "execution_count": 25,
   "metadata": {},
   "outputs": [
    {
     "data": {
      "text/plain": [
       "<title>Titre de la page (dans lâonglet, lâhistorique, â¦)</title>"
      ]
     },
     "execution_count": 25,
     "metadata": {},
     "output_type": "execute_result"
    }
   ],
   "source": [
    "doc.find('title')"
   ]
  },
  {
   "cell_type": "markdown",
   "metadata": {},
   "source": [
    "# Essayez:\n",
    "\n",
    "* doc.find_all('p')\n",
    "* doc.find_all('img')\n",
    "* doc.find_all('span')"
   ]
  },
  {
   "cell_type": "code",
   "execution_count": 29,
   "metadata": {},
   "outputs": [
    {
     "data": {
      "text/plain": [
       "[<p>Ce paragraphe nous intÃ©resse. Câest le premier.</p>,\n",
       " <p>Le second nous intÃ©resse Ã©galement.</p>,\n",
       " <p>Le troisiÃ¨me est un peu plus <em>compliquÃ©</em>â¦<br/>\n",
       "     Mais on va sâen sortir!</p>]"
      ]
     },
     "execution_count": 29,
     "metadata": {},
     "output_type": "execute_result"
    }
   ],
   "source": [
    "doc.find_all('p')"
   ]
  },
  {
   "cell_type": "code",
   "execution_count": 30,
   "metadata": {},
   "outputs": [
    {
     "data": {
      "text/plain": [
       "[]"
      ]
     },
     "execution_count": 30,
     "metadata": {},
     "output_type": "execute_result"
    }
   ],
   "source": [
    "doc.find_all('img')"
   ]
  },
  {
   "cell_type": "code",
   "execution_count": 31,
   "metadata": {},
   "outputs": [
    {
     "data": {
      "text/plain": [
       "[]"
      ]
     },
     "execution_count": 31,
     "metadata": {},
     "output_type": "execute_result"
    }
   ],
   "source": [
    "doc.find_all('span')"
   ]
  },
  {
   "cell_type": "markdown",
   "metadata": {},
   "source": [
    "# Et si on parcourt le résultat dans une boucle?"
   ]
  },
  {
   "cell_type": "code",
   "execution_count": 32,
   "metadata": {},
   "outputs": [
    {
     "name": "stdout",
     "output_type": "stream",
     "text": [
      "<p>Ce paragraphe nous intÃ©resse. Câest le premier.</p>\n",
      "<p>Le second nous intÃ©resse Ã©galement.</p>\n",
      "<p>Le troisiÃ¨me est un peu plus <em>compliquÃ©</em>â¦<br/>\n",
      "    Mais on va sâen sortir!</p>\n"
     ]
    }
   ],
   "source": [
    "liste = doc.find_all('p')\n",
    "for i in liste:\n",
    "    print(i)"
   ]
  },
  {
   "cell_type": "code",
   "execution_count": 42,
   "metadata": {},
   "outputs": [],
   "source": [
    "table = doc.find('table')"
   ]
  },
  {
   "cell_type": "code",
   "execution_count": 45,
   "metadata": {},
   "outputs": [
    {
     "name": "stdout",
     "output_type": "stream",
     "text": [
      "<table>\n",
      "<!-- tr = table row -->\n",
      "<tr>\n",
      "<th>Chats</th><th>Chiens</th>\n",
      "</tr>\n",
      "<tr>\n",
      "<td>3</td><td>0</td>\n",
      "</tr>\n",
      "<tr>\n",
      "<td>5</td><td>0</td>\n",
      "</tr>\n",
      "<tr>\n",
      "<td>3</td><td>5</td>\n",
      "</tr>\n",
      "<tr>\n",
      "<td>3</td><td>90</td>\n",
      "</tr>\n",
      "<tr>\n",
      "<td>13</td><td>10</td>\n",
      "</tr>\n",
      "</table>\n",
      "<table>\n",
      "<!-- tr = table row -->\n",
      "<tr>\n",
      "<th>Chats</th><th>Chiens</th>\n",
      "</tr>\n",
      "<tr>\n",
      "<td>3</td><td>0</td>\n",
      "</tr>\n",
      "<tr>\n",
      "<td>5</td><td>0</td>\n",
      "</tr>\n",
      "<tr>\n",
      "<td>3</td><td>5</td>\n",
      "</tr>\n",
      "<tr>\n",
      "<td>3</td><td>90</td>\n",
      "</tr>\n",
      "<tr>\n",
      "<td>13</td><td>10</td>\n",
      "</tr>\n",
      "</table>\n",
      "<table>\n",
      "<!-- tr = table row -->\n",
      "<tr>\n",
      "<th>Chats</th><th>Chiens</th>\n",
      "</tr>\n",
      "<tr>\n",
      "<td>3</td><td>0</td>\n",
      "</tr>\n",
      "<tr>\n",
      "<td>5</td><td>0</td>\n",
      "</tr>\n",
      "<tr>\n",
      "<td>3</td><td>5</td>\n",
      "</tr>\n",
      "<tr>\n",
      "<td>3</td><td>90</td>\n",
      "</tr>\n",
      "<tr>\n",
      "<td>13</td><td>10</td>\n",
      "</tr>\n",
      "</table>\n",
      "<table>\n",
      "<!-- tr = table row -->\n",
      "<tr>\n",
      "<th>Chats</th><th>Chiens</th>\n",
      "</tr>\n",
      "<tr>\n",
      "<td>3</td><td>0</td>\n",
      "</tr>\n",
      "<tr>\n",
      "<td>5</td><td>0</td>\n",
      "</tr>\n",
      "<tr>\n",
      "<td>3</td><td>5</td>\n",
      "</tr>\n",
      "<tr>\n",
      "<td>3</td><td>90</td>\n",
      "</tr>\n",
      "<tr>\n",
      "<td>13</td><td>10</td>\n",
      "</tr>\n",
      "</table>\n",
      "<table>\n",
      "<!-- tr = table row -->\n",
      "<tr>\n",
      "<th>Chats</th><th>Chiens</th>\n",
      "</tr>\n",
      "<tr>\n",
      "<td>3</td><td>0</td>\n",
      "</tr>\n",
      "<tr>\n",
      "<td>5</td><td>0</td>\n",
      "</tr>\n",
      "<tr>\n",
      "<td>3</td><td>5</td>\n",
      "</tr>\n",
      "<tr>\n",
      "<td>3</td><td>90</td>\n",
      "</tr>\n",
      "<tr>\n",
      "<td>13</td><td>10</td>\n",
      "</tr>\n",
      "</table>\n",
      "<table>\n",
      "<!-- tr = table row -->\n",
      "<tr>\n",
      "<th>Chats</th><th>Chiens</th>\n",
      "</tr>\n",
      "<tr>\n",
      "<td>3</td><td>0</td>\n",
      "</tr>\n",
      "<tr>\n",
      "<td>5</td><td>0</td>\n",
      "</tr>\n",
      "<tr>\n",
      "<td>3</td><td>5</td>\n",
      "</tr>\n",
      "<tr>\n",
      "<td>3</td><td>90</td>\n",
      "</tr>\n",
      "<tr>\n",
      "<td>13</td><td>10</td>\n",
      "</tr>\n",
      "</table>\n"
     ]
    }
   ],
   "source": [
    "for row in table.find_all('tr'):\n",
    "    values = row.find_all('td')\n",
    "    print(table)"
   ]
  },
  {
   "cell_type": "code",
   "execution_count": null,
   "metadata": {},
   "outputs": [],
   "source": []
  },
  {
   "cell_type": "code",
   "execution_count": null,
   "metadata": {},
   "outputs": [],
   "source": []
  },
  {
   "cell_type": "markdown",
   "metadata": {},
   "source": [
    "# Attributs et méthodes\n",
    "\n",
    "Mettez doc.find('p') dans la variable `test`, puis écrivez `test.` et appuyez sur tab en laissant votre curseur après le point. Quels attributs et méthodes apparaissent? Essayez-en quelques-uns"
   ]
  },
  {
   "cell_type": "code",
   "execution_count": 18,
   "metadata": {},
   "outputs": [
    {
     "name": "stdout",
     "output_type": "stream",
     "text": [
      "<p>Ce paragraphe nous intÃ©resse. Câest le premier.</p>\n"
     ]
    }
   ],
   "source": [
    "test = doc.find('p')\n",
    "print(test)"
   ]
  },
  {
   "cell_type": "code",
   "execution_count": 19,
   "metadata": {},
   "outputs": [
    {
     "name": "stdout",
     "output_type": "stream",
     "text": [
      "None\n"
     ]
    }
   ],
   "source": [
    "test = doc.find('img')\n",
    "print(test)"
   ]
  },
  {
   "cell_type": "code",
   "execution_count": null,
   "metadata": {},
   "outputs": [],
   "source": []
  },
  {
   "cell_type": "code",
   "execution_count": null,
   "metadata": {},
   "outputs": [],
   "source": []
  },
  {
   "cell_type": "code",
   "execution_count": null,
   "metadata": {},
   "outputs": [],
   "source": []
  },
  {
   "cell_type": "code",
   "execution_count": null,
   "metadata": {},
   "outputs": [],
   "source": []
  },
  {
   "cell_type": "code",
   "execution_count": null,
   "metadata": {},
   "outputs": [],
   "source": []
  },
  {
   "cell_type": "code",
   "execution_count": null,
   "metadata": {},
   "outputs": [],
   "source": []
  }
 ],
 "metadata": {
  "kernelspec": {
   "display_name": "Python 3",
   "language": "python",
   "name": "python3"
  },
  "language_info": {
   "codemirror_mode": {
    "name": "ipython",
    "version": 3
   },
   "file_extension": ".py",
   "mimetype": "text/x-python",
   "name": "python",
   "nbconvert_exporter": "python",
   "pygments_lexer": "ipython3",
   "version": "3.8.3"
  }
 },
 "nbformat": 4,
 "nbformat_minor": 4
}
