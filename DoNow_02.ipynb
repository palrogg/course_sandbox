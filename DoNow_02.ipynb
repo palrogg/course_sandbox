{
 "cells": [
  {
   "cell_type": "markdown",
   "metadata": {},
   "source": [
    "# «Do now»\n",
    "C’est le «warm-up» au début d’une leçon aux US. Boucles, opérateurs, variables: on va tester votre mémoire."
   ]
  },
  {
   "cell_type": "code",
   "execution_count": 1,
   "metadata": {},
   "outputs": [],
   "source": [
    "# Pour vous gagner du temps\n",
    "import math\n",
    "import random"
   ]
  },
  {
   "cell_type": "markdown",
   "metadata": {},
   "source": [
    "### Réparez les trois cellules de code suivantes"
   ]
  },
  {
   "cell_type": "code",
   "execution_count": 2,
   "metadata": {},
   "outputs": [
    {
     "data": {
      "text/plain": [
       "'Roger2'"
      ]
     },
     "execution_count": 2,
     "metadata": {},
     "output_type": "execute_result"
    }
   ],
   "source": [
    "name = \"Roger\"\n",
    "name + \"2\" # ligne à corriger"
   ]
  },
  {
   "cell_type": "code",
   "execution_count": 3,
   "metadata": {},
   "outputs": [
    {
     "name": "stdout",
     "output_type": "stream",
     "text": [
      "Bienvenue\n"
     ]
    }
   ],
   "source": [
    "age_minimal = 12\n",
    "age_transmis = 15\n",
    "\n",
    "if age_transmis >= age_minimal: # ligne à corriger\n",
    "    print('Bienvenue')\n",
    "else:\n",
    "    print('Vous n’avez pas l’âge requis')"
   ]
  },
  {
   "cell_type": "code",
   "execution_count": 5,
   "metadata": {},
   "outputs": [
    {
     "name": "stdout",
     "output_type": "stream",
     "text": [
      "J’aime les chèvre\n",
      "J’aime les bouquetin\n",
      "J’aime les biche\n"
     ]
    }
   ],
   "source": [
    "for item in ['chèvre', 'bouquetin', 'biche']:\n",
    "    print('J’aime les', item) # ligne à corriger"
   ]
  },
  {
   "cell_type": "markdown",
   "metadata": {},
   "source": [
    "### Complétez le code suivant"
   ]
  },
  {
   "cell_type": "code",
   "execution_count": 8,
   "metadata": {},
   "outputs": [
    {
     "name": "stdout",
     "output_type": "stream",
     "text": [
      "Le prénom Anna compte 6 lettres. Il commence par un [?]\n",
      "Le prénom Roger compte 6 lettres. Il commence par un [?]\n",
      "Le prénom Anita compte 6 lettres. Il commence par un [?]\n",
      "Le prénom Richard compte 6 lettres. Il commence par un [?]\n",
      "Le prénom Annabelle compte 6 lettres. Il commence par un [?]\n",
      "Le prénom Rémy compte 6 lettres. Il commence par un [?]\n"
     ]
    }
   ],
   "source": [
    "names = ['Anna', 'Roger', 'Anita', 'Richard', 'Annabelle', 'Rémy']\n",
    "\n",
    "for name in names:\n",
    "    letter_count = (len(names))  # code à compléter\n",
    "    firstLetter = '[?]' # code à compléter\n",
    "    print(\"Le prénom\", name, \"compte\", letter_count, \"lettres. Il commence par un\", firstLetter)"
   ]
  },
  {
   "cell_type": "markdown",
   "metadata": {},
   "source": [
    "### Générez une journée aléatoire: météo, bonne humeur, transports publics"
   ]
  },
  {
   "cell_type": "code",
   "execution_count": 7,
   "metadata": {},
   "outputs": [
    {
     "data": {
      "text/plain": [
       "('soleil', 'bonne humeur', 'trop de monde')"
      ]
     },
     "execution_count": 7,
     "metadata": {},
     "output_type": "execute_result"
    }
   ],
   "source": [
    "weatherOptions = ['soleil', 'pluie', 'grèle']\n",
    "moodOptions = ['bonne humeur', 'sale humeur']\n",
    "transportOptions = ['trop de monde', 'tranquille', 'retard sur toutes les lignes', 'réseau paralysé par un accident']\n",
    "\n",
    "# Ici, choisissez aléatoirement un élément de chaque liste et attribuez-les aux variables ci-dessous.\n",
    "# Indice: vous pouvez utiliser l’une de ces méthodes:\n",
    "# random.choice(…) ou random.randint(…)\n",
    "# (Utilisez shift-tab ou stackoverflow pour vérifier comment les utiliser)\n",
    "\n",
    "weather = 'TODO'\n",
    "mood = 'TODO'\n",
    "transport = 'TODO'\n",
    "\n",
    "random.choice(weatherOptions), random.choice(moodOptions), random.choice(transportOptions)"
   ]
  },
  {
   "cell_type": "markdown",
   "metadata": {},
   "source": [
    "### Indiquez à Abigaël s’il peut sortir de chez lui\n",
    "\n",
    "* Abigaël n’aime ni la pluie ni la grèle. Mais s’il est de bonne humeur, la pluie ne le dérange pas.\n",
    "* S’il est de mauvaise humeur, Abigaël ne sort de chez lui que si les transports publics sont «tranquilles».\n",
    "* En cas de retard, il peut patienter au soleil s’il est de bonne humeur. Mais pas s’il pleut."
   ]
  },
  {
   "cell_type": "code",
   "execution_count": 13,
   "metadata": {},
   "outputs": [
    {
     "ename": "SyntaxError",
     "evalue": "invalid syntax (<ipython-input-13-08e831884949>, line 7)",
     "output_type": "error",
     "traceback": [
      "\u001b[0;36m  File \u001b[0;32m\"<ipython-input-13-08e831884949>\"\u001b[0;36m, line \u001b[0;32m7\u001b[0m\n\u001b[0;31m    if moodOptions == 'bonne humeur',\u001b[0m\n\u001b[0m                                    ^\u001b[0m\n\u001b[0;31mSyntaxError\u001b[0m\u001b[0;31m:\u001b[0m invalid syntax\n"
     ]
    }
   ],
   "source": [
    "# if mood = …\n",
    "weatherOptions = ['soleil', 'pluie', 'grèle']\n",
    "moodOptions = ['bonne humeur', 'sale humeur']\n",
    "transportOptions = ['trop de monde', 'tranquille', 'retard sur toutes les lignes', 'réseau paralysé par un accident']\n",
    "actionsOptions  = ['peut sortir de chez lui', 'ne peut pas sortir de chez lui']\n",
    "\n",
    "if moodOptions == 'bonne humeur', \n",
    "and weatherOptions == 'soleil' or 'pluie'\n",
    "    print: (\"Abigael peut sortir de chez lui\")"
   ]
  },
  {
   "cell_type": "markdown",
   "metadata": {},
   "source": [
    "### Trouvez comment nettoyer ces noms\n",
    "On peut leur mettre une majuscule suivie de minuscule grâce à `\"exemple\".title()`"
   ]
  },
  {
   "cell_type": "code",
   "execution_count": 37,
   "metadata": {},
   "outputs": [
    {
     "data": {
      "text/plain": [
       "'Jean Pierre André'"
      ]
     },
     "execution_count": 37,
     "metadata": {},
     "output_type": "execute_result"
    }
   ],
   "source": [
    "#EXEMPLE\n",
    "\"jean pierre ANDRÉ\".title()"
   ]
  },
  {
   "cell_type": "code",
   "execution_count": 39,
   "metadata": {},
   "outputs": [],
   "source": [
    "names = [\"Jean HERVÉ\", 'ArThUR duPonT', 'Bruce ARNOLDS', 'Abigaël RadicaL']\n",
    "# votre code ici"
   ]
  },
  {
   "cell_type": "code",
   "execution_count": null,
   "metadata": {},
   "outputs": [],
   "source": []
  }
 ],
 "metadata": {
  "kernelspec": {
   "display_name": "Python 3",
   "language": "python",
   "name": "python3"
  },
  "language_info": {
   "codemirror_mode": {
    "name": "ipython",
    "version": 3
   },
   "file_extension": ".py",
   "mimetype": "text/x-python",
   "name": "python",
   "nbconvert_exporter": "python",
   "pygments_lexer": "ipython3",
   "version": "3.8.5"
  }
 },
 "nbformat": 4,
 "nbformat_minor": 4
}
