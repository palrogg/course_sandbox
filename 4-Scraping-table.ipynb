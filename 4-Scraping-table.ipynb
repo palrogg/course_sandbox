{
 "cells": [
  {
   "cell_type": "markdown",
   "metadata": {},
   "source": [
    "# Scraping"
   ]
  },
  {
   "cell_type": "code",
   "execution_count": 65,
   "metadata": {},
   "outputs": [],
   "source": [
    "import requests\n",
    "import pandas as pd\n",
    "from bs4 import BeautifulSoup"
   ]
  },
  {
   "cell_type": "code",
   "execution_count": 66,
   "metadata": {},
   "outputs": [],
   "source": [
    "response = requests.get('https://exemple.tcch.ch/scraping/')"
   ]
  },
  {
   "cell_type": "code",
   "execution_count": 110,
   "metadata": {},
   "outputs": [
    {
     "data": {
      "text/plain": [
       "b'<html>\\n\\n<head>\\n  <meta charset=\"utf-8\">\\n  <title>Titre de la page (dans l\\xe2\\x80\\x99onglet, l\\xe2\\x80\\x99historique, \\xe2\\x80\\xa6)</title>\\n  <style>\\n\\n  th, td {\\n    padding: 10px;\\n    border: 1px solid #eee;\\n  }\\n  td {\\n    text-align: right;\\n  }\\n  p {\\n    border-left: 10px solid #ccc;\\n    padding-left: 20px;\\n  }\\n  p:first-of-type {\\n    border-color: #ecc;\\n  }\\n  </style>\\n</head>\\n\\n<body>\\n  \\n  <h1>Titre principal (Titre 1)</h1>\\n  \\n  <h2>Animaux (Titre 2)</h2>\\n  \\n  <table>\\n    <!-- tr = table row -->\\n    <tr>\\n      <th>Chats</th><th>Chiens</th>\\n    </tr>\\n    \\n    <tr>\\n      <td>3</td><td>0</td>\\n    </tr>\\n    \\n    <tr>\\n      <td>5</td><td>0</td>\\n    </tr>\\n    \\n    <tr>\\n      <td>3</td><td>5</td>\\n    </tr>\\n    \\n    <tr>\\n      <td>3</td><td>90</td>\\n    </tr>\\n    \\n    <tr>\\n      <td>13</td><td>10</td>\\n    </tr>\\n  </table>\\n  \\n  <p>Ce paragraphe nous int\\xc3\\xa9resse. C\\xe2\\x80\\x99est le premier.</p>\\n  \\n  <p>Le second nous int\\xc3\\xa9resse \\xc3\\xa9galement.</p>\\n  \\n  <p>Le troisi\\xc3\\xa8me est un peu plus <em>compliqu\\xc3\\xa9</em>\\xe2\\x80\\xa6<br>\\n    Mais on va s\\xe2\\x80\\x99en sortir!</p>\\n    \\n</body>\\n  \\n</html>'"
      ]
     },
     "execution_count": 110,
     "metadata": {},
     "output_type": "execute_result"
    }
   ],
   "source": [
    "response.content"
   ]
  },
  {
   "cell_type": "code",
   "execution_count": 111,
   "metadata": {},
   "outputs": [],
   "source": [
    "doc = BeautifulSoup(response.content, 'html.parser')"
   ]
  },
  {
   "cell_type": "code",
   "execution_count": 112,
   "metadata": {},
   "outputs": [
    {
     "data": {
      "text/plain": [
       "<p>Ce paragraphe nous intéresse. C’est le premier.</p>"
      ]
     },
     "execution_count": 112,
     "metadata": {},
     "output_type": "execute_result"
    }
   ],
   "source": [
    "doc.find('p')"
   ]
  },
  {
   "cell_type": "code",
   "execution_count": 113,
   "metadata": {},
   "outputs": [],
   "source": [
    "length = len(doc.select('td'))"
   ]
  },
  {
   "cell_type": "code",
   "execution_count": 114,
   "metadata": {},
   "outputs": [
    {
     "data": {
      "text/plain": [
       "<td>10</td>"
      ]
     },
     "execution_count": 114,
     "metadata": {},
     "output_type": "execute_result"
    }
   ],
   "source": [
    "doc.select('td')[-1]"
   ]
  },
  {
   "cell_type": "code",
   "execution_count": null,
   "metadata": {},
   "outputs": [],
   "source": []
  },
  {
   "cell_type": "code",
   "execution_count": 115,
   "metadata": {},
   "outputs": [],
   "source": [
    "table = doc.find('table')"
   ]
  },
  {
   "cell_type": "code",
   "execution_count": 116,
   "metadata": {},
   "outputs": [
    {
     "data": {
      "text/plain": [
       "[<tr>\n",
       " <td>3</td><td>0</td>\n",
       " </tr>, <tr>\n",
       " <td>5</td><td>0</td>\n",
       " </tr>, <tr>\n",
       " <td>3</td><td>5</td>\n",
       " </tr>, <tr>\n",
       " <td>3</td><td>90</td>\n",
       " </tr>, <tr>\n",
       " <td>13</td><td>10</td>\n",
       " </tr>]"
      ]
     },
     "execution_count": 116,
     "metadata": {},
     "output_type": "execute_result"
    }
   ],
   "source": [
    "table.find_all('tr')[1:]"
   ]
  },
  {
   "cell_type": "code",
   "execution_count": 117,
   "metadata": {},
   "outputs": [],
   "source": [
    "rows = []\n",
    "\n",
    "for tr in table.find_all('tr'):\n",
    "    td_list = tr.find_all('td')\n",
    "    \n",
    "    cells = []\n",
    "    for td in td_list:\n",
    "        cells.append( int(td.string) )\n",
    "        \n",
    "    if len(cells) > 0:\n",
    "        rows.append(cells)"
   ]
  },
  {
   "cell_type": "code",
   "execution_count": 106,
   "metadata": {},
   "outputs": [
    {
     "name": "stdout",
     "output_type": "stream",
     "text": [
      "[3, 0]\n",
      "[5, 0]\n",
      "[3, 5]\n",
      "[3, 90]\n",
      "[13, 10]\n"
     ]
    }
   ],
   "source": [
    "for row in rows:\n",
    "    print(row)"
   ]
  },
  {
   "cell_type": "code",
   "execution_count": 107,
   "metadata": {
    "scrolled": false
   },
   "outputs": [],
   "source": [
    "df = pd.DataFrame(rows, columns = ['Chats', 'Chiens'])"
   ]
  },
  {
   "cell_type": "code",
   "execution_count": 108,
   "metadata": {},
   "outputs": [
    {
     "data": {
      "text/html": [
       "<div>\n",
       "<style scoped>\n",
       "    .dataframe tbody tr th:only-of-type {\n",
       "        vertical-align: middle;\n",
       "    }\n",
       "\n",
       "    .dataframe tbody tr th {\n",
       "        vertical-align: top;\n",
       "    }\n",
       "\n",
       "    .dataframe thead th {\n",
       "        text-align: right;\n",
       "    }\n",
       "</style>\n",
       "<table border=\"1\" class=\"dataframe\">\n",
       "  <thead>\n",
       "    <tr style=\"text-align: right;\">\n",
       "      <th></th>\n",
       "      <th>Chats</th>\n",
       "      <th>Chiens</th>\n",
       "    </tr>\n",
       "  </thead>\n",
       "  <tbody>\n",
       "    <tr>\n",
       "      <th>0</th>\n",
       "      <td>3</td>\n",
       "      <td>0</td>\n",
       "    </tr>\n",
       "    <tr>\n",
       "      <th>1</th>\n",
       "      <td>5</td>\n",
       "      <td>0</td>\n",
       "    </tr>\n",
       "    <tr>\n",
       "      <th>2</th>\n",
       "      <td>3</td>\n",
       "      <td>5</td>\n",
       "    </tr>\n",
       "    <tr>\n",
       "      <th>3</th>\n",
       "      <td>3</td>\n",
       "      <td>90</td>\n",
       "    </tr>\n",
       "    <tr>\n",
       "      <th>4</th>\n",
       "      <td>13</td>\n",
       "      <td>10</td>\n",
       "    </tr>\n",
       "  </tbody>\n",
       "</table>\n",
       "</div>"
      ],
      "text/plain": [
       "   Chats  Chiens\n",
       "0      3       0\n",
       "1      5       0\n",
       "2      3       5\n",
       "3      3      90\n",
       "4     13      10"
      ]
     },
     "execution_count": 108,
     "metadata": {},
     "output_type": "execute_result"
    }
   ],
   "source": [
    "df"
   ]
  },
  {
   "cell_type": "code",
   "execution_count": 40,
   "metadata": {},
   "outputs": [],
   "source": [
    "df.to_excel('chats-chiens.xlsx')"
   ]
  },
  {
   "cell_type": "code",
   "execution_count": 22,
   "metadata": {
    "scrolled": true
   },
   "outputs": [
    {
     "data": {
      "text/plain": [
       "'10'"
      ]
     },
     "execution_count": 22,
     "metadata": {},
     "output_type": "execute_result"
    }
   ],
   "source": []
  }
 ],
 "metadata": {
  "kernelspec": {
   "display_name": "Python 3",
   "language": "python",
   "name": "python3"
  },
  "language_info": {
   "codemirror_mode": {
    "name": "ipython",
    "version": 3
   },
   "file_extension": ".py",
   "mimetype": "text/x-python",
   "name": "python",
   "nbconvert_exporter": "python",
   "pygments_lexer": "ipython3",
   "version": "3.8.1"
  }
 },
 "nbformat": 4,
 "nbformat_minor": 4
}
