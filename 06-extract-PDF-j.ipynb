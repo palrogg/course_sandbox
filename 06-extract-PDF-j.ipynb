{
 "cells": [
  {
   "cell_type": "markdown",
   "metadata": {},
   "source": [
    "## Extraire des données d’un PDF\n",
    "\n",
    "**pdfplumber** est un module python qui vous permet de parcourir un PDF et d’en extraire du texte.\n",
    "\n",
    "On va parcourir un rapport de la Loterie Romande et tenter d’extraire ses valeurs.\n",
    "\n",
    "Le gros problème, c’est que le format PDF est conçu pour l’impression et l’affichage à l’écran, mais ne structure pas du tout ses données. Ce sera à nous de trouver comment délimiter les différentes informations, et parfois ce n’est simplement pas possible.\n",
    "\n",
    "Quand les PDF contiennent des tableaux, le logiciel libre et gratuit [Tabula](https://tabula.technology/) peut être d’une grande aide. On peut l’utiliser via Python, et même le combiner à pdfplumber. C’est un aspect que nous ne couvrons pas dans ce cours, mais vous trouvez un exemple dans [06c-PDF-Tabula.ipynb](06c-PDF-Tabula.ipynb)."
   ]
  },
  {
   "cell_type": "code",
   "execution_count": 7,
   "metadata": {},
   "outputs": [],
   "source": [
    "import pandas as pd\n",
    "import pdfplumber"
   ]
  },
  {
   "cell_type": "code",
   "execution_count": 8,
   "metadata": {},
   "outputs": [],
   "source": [
    "# Cette fonction renverra soit une page de texte, soit «False»\n",
    "def extract(page):\n",
    "    try:\n",
    "        text = page.extract_text()\n",
    "        return text\n",
    "    except ValueError as e:\n",
    "        print('Erreur en ouvrant la page', e)\n",
    "        return False"
   ]
  },
  {
   "cell_type": "code",
   "execution_count": 9,
   "metadata": {},
   "outputs": [
    {
     "name": "stdout",
     "output_type": "stream",
     "text": [
      "Loterie Romande\n",
      "Répartition  \n",
      "des bénéfices\n",
      " 2019\n"
     ]
    }
   ],
   "source": [
    "# Test de la fonction sur la première page (page zéro)\n",
    "with pdfplumber.open(\"PDF/LoterieRomande.pdf\") as pdf:\n",
    "    firstPage = extract(pdf.pages[0])\n",
    "    if firstPage:\n",
    "        print(firstPage)"
   ]
  },
  {
   "cell_type": "markdown",
   "metadata": {},
   "source": [
    "## Ouverture du PDF et extraction du texte\n",
    "\n",
    "Cette fois, on va laisser notre PDF ouvert pour le parcourir."
   ]
  },
  {
   "cell_type": "code",
   "execution_count": 10,
   "metadata": {},
   "outputs": [],
   "source": [
    "pdf = pdfplumber.open(\"PDF/LoterieRomande.pdf\")"
   ]
  },
  {
   "cell_type": "code",
   "execution_count": 11,
   "metadata": {},
   "outputs": [
    {
     "data": {
      "text/plain": [
       "75"
      ]
     },
     "execution_count": 11,
     "metadata": {},
     "output_type": "execute_result"
    }
   ],
   "source": [
    "len(pdf.pages)"
   ]
  },
  {
   "cell_type": "markdown",
   "metadata": {},
   "source": [
    "Un exemple de page.\n",
    "\n",
    "Comment est-ce qu'on va extraire les données intéressantes?\n",
    "\n",
    "Le caractère «saut de ligne», \\n, pourra nous aider, de même que les tabulations (\\t) et le symbole récurrent «.-».\n",
    "\n",
    "Mais est-ce que tous les prix se terminent par .-?\n",
    "\n",
    "Et qu’est-ce que **a r u J**?\n",
    "\n",
    "Faites des essais avec:\n",
    "\n",
    "* `text.split('\\n')`\n",
    "* `text.split('.-')`\n",
    "* `text.split('\\t')`\n",
    "* `text.find('.-) > -1`"
   ]
  },
  {
   "cell_type": "code",
   "execution_count": 12,
   "metadata": {},
   "outputs": [
    {
     "name": "stdout",
     "output_type": "stream",
     "text": [
      "a\n",
      "r\n",
      "u\n",
      "J\n",
      "Tennis Club Les Breuleux    300.- Club équestre Chevenez    12'000.- Rossemaison    3'900.-\n",
      "Tennis Club Porrentruy      1'390.- Club équestre St-Hubert Bassecourt  1'000.- Slalom de Bure    1'500.-\n",
      "Tennis Club Saignelégier      1'200.- Course de côte Boécourt-  Sté de cavalerie d'Ajoie\n",
      "Triumph Moto Club Vicques    710.- La Caquerelle    3'300.- Porrentruy    12'500.-\n",
      "Union Jura Rugby Course pédestre Vicques-Rétemberg  500.- Sté de cavalerie Delémont  \n",
      "Delémont     360.- Créa'Move Delémont    1'000.- et environs    3'900.-\n",
      "VCO Delémont Megabike    250.- Critérium jurassien Sté de cavalerie des Franches-Montagnes\n",
      "Delémont    14'500.- Saignelégier    1'500.-\n",
      "Vélo Club Courtételle    810.-\n",
      "Vélo Club Franches-Montagnes Curling Club Ajoie Sté de tir de la ville de Delémont  200.-\n",
      "Saignelégier    1'060.- Porrentruy    1'400.- Sté de tir sportif d'Ajoie\n",
      "Vélo Club Jurassia Bassecourt  700.- Domoniak Triathlon Porrentruy    500.-\n",
      "Delémont    500.-\n",
      "Volleyball Club Delémont    560.- Tennis Club Delémont    500.-\n",
      "Volleyball Club Develier    200.- Ecole de commerce de Delémont Tennis Club Saignelégier    200.-\n",
      "Do-No Entreprise    200.-\n",
      "Volleyball Club Porrentruy    2'000.- Tour de Rebeuvelier    1'000.-\n",
      "Volleyball Club Val Terbi Echiquier bruntrutain Trophée jurassien\n",
      "Vicques    830.- Porrentruy    200.- Develier    1'500.-\n",
      "VTT Club Jura Ecole secondaire du Val-Terbi Valterbimania Sports\n",
      "Delémont    1'480.- Vicques    150.- Montsevelier    1'000.-\n",
      "Energym Fahy    200.- Vélo Club Jurassia\n",
      "EquinoXX Enduro Bike Bassecourt    1'000.-\n",
      "Manifestations \n",
      "Delémont    1'000.-\n",
      "Vélo Club Courtételle    1'400.-\n",
      "132'350.- Féd. sportive cynologique suisse Vélo Club Franches-Montagnes\n",
      "Rebeuvelier    1'500.- Saignelégier    2'500.-\n",
      "Fémina Sport Glovelier    1'000.- VTT Club Jura\n",
      "Franches Equi Trail Delémont    1'000.-\n",
      "Saignelégier    500.-\n",
      "Ajoie Badminton Club\n",
      "Porrentruy    200.- FSG Bassecourt    500.- Projets d'aménagement \n",
      "ASA St-Ursanne-Les Rangiers  15'500.- FSG Courroux-Courcelon    500.- (constructions) \n",
      "Assoc. cantonale jurassienne   Full Boxing Club\n",
      "de gymnastique Porrentruy    2'500.-\n",
      "147'712.-\n",
      "Delémont    2'000.-\n",
      "Groupe sportif Ajoie\n",
      "Assoc. interjurassienne de cyclisme Porrentruy    1'500.-\n",
      "Châtillon     800.-\n",
      "Groupe sportif Asuel    750.-\n",
      "Assoc. Camp jurassien 2019 Gym dames Delémont    200.- Assoc. Phil Steulet, Delémont\n",
      "Delémont     500.- Hockey Club Ajoie Escalade    15'472.-\n",
      "Assoc. des arbitres de hockey   Porrentruy    1'000.- Club de pétanque La Boule  \n",
      "sur glace MOJU/BEJU Hockey Club Delémont Vallée  1'500.- franche Courtételle    1'740.-\n",
      "Le Noirmont     750.-\n",
      "Hockey Club Franches-Montagnes Commune de Courroux    2'398.-\n",
      "Assoc. Jardin del Eden Saignelégier    500.- Commune de Delémont    20'000.-\n",
      "Delémont     500.-\n",
      "Judo Club Boécourt    250.- Football Club La Courtine    11'411.-\n",
      "Assoc. Jura Challenges JuraDéfi Football Club Les Bois    20'147.-\n",
      "Develier     1'500.- Saignelégier    3'000.- Football Club Soyhières    6'150.-\n",
      "Assoc. Tour du Jura Sté de tir Pistolet & Petit calibre \n",
      "Jura'ltitude XC\n",
      "Courgenay     2'000.- Franches-Montagnes\n",
      "Courroux    500.-\n",
      "Saignelégier    1'356.-\n",
      "Auto Moto Club  Ederswiler    2'000.-\n",
      "La Populaire.ch\n",
      "Autocross Jurassien Courtételle    500.- Tennis Club Delémont    41'573.-\n",
      "Courgenay    3'000.- Tennis Club Porrentruy    14'400.-\n",
      "Le Noirmont VTT Club    500.-\n",
      "Tennis Club Saignelégier    13'065.-\n",
      "Club équestre Les Vannez\n",
      "Les foulées ajoulotes\n",
      "Glovelier    1'000.-\n",
      "Bure    500.-\n",
      "Budo-Kan Porrentruy    500.- Mérites sportifs \n",
      "L'Hivern'Alle    200.-\n",
      "Championnat jurassien  \n",
      "Manège Pré-Mo Delémont    1'000.-\n",
      "des sports motorisés 23'463.50\n",
      "Courrendlin    3'000.- Mervelinde\n",
      "Mervelier    500.-\n",
      "Club d'athlétisme Fontenais   1'000.-\n",
      "Moto Club jurassien\n",
      "Club de l'Orque\n",
      "Bassecourt    3'000.-\n",
      "Boncourt    200.- Choong Katherine, Glovelier\n",
      "Narcisses Run Haute-Ajoie Escalade\n",
      "Club de minigolf Delémont    350.-\n",
      "Chenevez    500.-\n",
      "Club de natation Delémont    500.- Gerber Sébastien, Alle\n",
      "Omnisport Boncourt    400.- Athlétisme\n",
      "Club de patinage  \n",
      "des Franches-Montagnes Organisation équestre   Leiser Lucien, Vicques\n",
      "Saignelégier    500.- des Franches-Montagnes    Cyclisme (vélo-trial)\n",
      "Saignelégier    2'500.-\n",
      "Club de pétanque Le Bief Porrentruy  200.- Nussbaumer Valentin, Rossemaison\n",
      "Piscine des Hémionées\n",
      "Club des patineurs d'Ajoie Hockey sur glace\n",
      "Boncourt    500.-\n",
      "Porrentruy    500.-\n",
      "Vuilleumier Joël, Bassecourt\n",
      "Promoskate Events\n",
      "Inline-hockey\n",
      "LOTERIE ROMANDE   |   RÉPARTITION DES BÉNÉFICES 2019   |   71\n"
     ]
    }
   ],
   "source": [
    "text = pdf.pages[70].extract_text()\n",
    "print(text)"
   ]
  },
  {
   "cell_type": "code",
   "execution_count": null,
   "metadata": {},
   "outputs": [],
   "source": []
  }
 ],
 "metadata": {
  "kernelspec": {
   "display_name": "Python 3",
   "language": "python",
   "name": "python3"
  },
  "language_info": {
   "codemirror_mode": {
    "name": "ipython",
    "version": 3
   },
   "file_extension": ".py",
   "mimetype": "text/x-python",
   "name": "python",
   "nbconvert_exporter": "python",
   "pygments_lexer": "ipython3",
   "version": "3.8.3"
  }
 },
 "nbformat": 4,
 "nbformat_minor": 4
}
