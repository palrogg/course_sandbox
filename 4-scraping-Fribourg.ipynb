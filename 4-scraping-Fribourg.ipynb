{
 "cells": [
  {
   "cell_type": "code",
   "execution_count": 5,
   "metadata": {},
   "outputs": [],
   "source": [
    "import pandas as pd\n",
    "import requests\n",
    "from bs4 import BeautifulSoup\n",
    "import time"
   ]
  },
  {
   "cell_type": "code",
   "execution_count": 6,
   "metadata": {},
   "outputs": [],
   "source": [
    "response = requests.get('https://www.fr.ch/gc/sommaire/bulletins-officiels-des-seances-bgc-2019')"
   ]
  },
  {
   "cell_type": "code",
   "execution_count": 7,
   "metadata": {},
   "outputs": [],
   "source": [
    "doc = BeautifulSoup(response.content)"
   ]
  },
  {
   "cell_type": "code",
   "execution_count": 8,
   "metadata": {},
   "outputs": [
    {
     "data": {
      "text/plain": [
       "[<a href=\"/gc/sommaire/bulletins-officiels-des-seances-bgc-2019?page=1#detail\">BGC Février 2019</a>,\n",
       " <a href=\"/gc/sommaire/bulletins-officiels-des-seances-bgc-2019?page=2#detail\">BGC Mars 2019</a>,\n",
       " <a href=\"/gc/sommaire/bulletins-officiels-des-seances-bgc-2019?page=3#detail\">BGC Mai 2019</a>,\n",
       " <a href=\"/gc/sommaire/bulletins-officiels-des-seances-bgc-2019?page=4#detail\">BGC Juin 2019</a>,\n",
       " <a href=\"/gc/sommaire/bulletins-officiels-des-seances-bgc-2019?page=5#detail\">BGC Septembre 2019</a>,\n",
       " <a href=\"/gc/sommaire/bulletins-officiels-des-seances-bgc-2019?page=6#detail\">BGC Octobre 2019</a>,\n",
       " <a href=\"/gc/sommaire/bulletins-officiels-des-seances-bgc-2019?page=7#detail\">BGC Novembre 2019</a>,\n",
       " <a href=\"/gc/sommaire/bulletins-officiels-des-seances-bgc-2019?page=8#detail\">BGC Décembre 2019</a>]"
      ]
     },
     "execution_count": 8,
     "metadata": {},
     "output_type": "execute_result"
    }
   ],
   "source": [
    "links = doc.select('#detail a')\n",
    "links"
   ]
  },
  {
   "cell_type": "code",
   "execution_count": 9,
   "metadata": {},
   "outputs": [],
   "source": [
    "url_list = []\n",
    "for link in links:\n",
    "    href = 'https://www.fr.ch' + link.get('href')\n",
    "    url_list.append(href)"
   ]
  },
  {
   "cell_type": "code",
   "execution_count": 10,
   "metadata": {},
   "outputs": [],
   "source": [
    "pdf_links = []\n",
    "\n",
    "for url in url_list:\n",
    "    response_url = requests.get(url)\n",
    "    doc = BeautifulSoup(response_url.content)\n",
    "\n",
    "    for pdf_link in doc.select('ul.noStyle a'):\n",
    "        pdf_links.append('https://www.fr.ch' + pdf_link.get('href'))"
   ]
  },
  {
   "cell_type": "code",
   "execution_count": 11,
   "metadata": {},
   "outputs": [
    {
     "name": "stdout",
     "output_type": "stream",
     "text": [
      "fr_PV_BGC_05-02-2019_web.pdf\n"
     ]
    },
    {
     "ename": "FileNotFoundError",
     "evalue": "[Errno 2] No such file or directory: 'pdf_truc/fr_PV_BGC_05-02-2019_web.pdf'",
     "output_type": "error",
     "traceback": [
      "\u001b[0;31m---------------------------------------------------------------------------\u001b[0m",
      "\u001b[0;31mFileNotFoundError\u001b[0m                         Traceback (most recent call last)",
      "\u001b[0;32m<ipython-input-11-70b8d1a8b932>\u001b[0m in \u001b[0;36m<module>\u001b[0;34m\u001b[0m\n\u001b[1;32m      3\u001b[0m     \u001b[0mprint\u001b[0m\u001b[0;34m(\u001b[0m\u001b[0mname\u001b[0m\u001b[0;34m)\u001b[0m\u001b[0;34m\u001b[0m\u001b[0;34m\u001b[0m\u001b[0m\n\u001b[1;32m      4\u001b[0m     \u001b[0mresponse\u001b[0m \u001b[0;34m=\u001b[0m \u001b[0mrequests\u001b[0m\u001b[0;34m.\u001b[0m\u001b[0mget\u001b[0m\u001b[0;34m(\u001b[0m\u001b[0mpdf\u001b[0m\u001b[0;34m)\u001b[0m\u001b[0;34m\u001b[0m\u001b[0;34m\u001b[0m\u001b[0m\n\u001b[0;32m----> 5\u001b[0;31m     \u001b[0;32mwith\u001b[0m \u001b[0mopen\u001b[0m\u001b[0;34m(\u001b[0m\u001b[0;34m'pdf_truc/'\u001b[0m \u001b[0;34m+\u001b[0m \u001b[0mname\u001b[0m\u001b[0;34m,\u001b[0m \u001b[0;34m'wb'\u001b[0m\u001b[0;34m)\u001b[0m \u001b[0;32mas\u001b[0m \u001b[0mf\u001b[0m\u001b[0;34m:\u001b[0m\u001b[0;34m\u001b[0m\u001b[0;34m\u001b[0m\u001b[0m\n\u001b[0m\u001b[1;32m      6\u001b[0m         \u001b[0mf\u001b[0m\u001b[0;34m.\u001b[0m\u001b[0mwrite\u001b[0m\u001b[0;34m(\u001b[0m\u001b[0mresponse\u001b[0m\u001b[0;34m.\u001b[0m\u001b[0mcontent\u001b[0m\u001b[0;34m)\u001b[0m\u001b[0;34m\u001b[0m\u001b[0;34m\u001b[0m\u001b[0m\n\u001b[1;32m      7\u001b[0m \u001b[0;34m\u001b[0m\u001b[0m\n",
      "\u001b[0;31mFileNotFoundError\u001b[0m: [Errno 2] No such file or directory: 'pdf_truc/fr_PV_BGC_05-02-2019_web.pdf'"
     ]
    }
   ],
   "source": [
    "for pdf in pdf_links:\n",
    "    name = pdf.split('/')[-1]\n",
    "    print(name)\n",
    "    response = requests.get(pdf)\n",
    "    with open('pdf_truc/' + name, 'wb') as f:\n",
    "        f.write(response.content)\n",
    "\n",
    "    time.sleep(1) # on attend avant la prochaine requête"
   ]
  },
  {
   "cell_type": "code",
   "execution_count": null,
   "metadata": {},
   "outputs": [],
   "source": []
  }
 ],
 "metadata": {
  "kernelspec": {
   "display_name": "Python 3",
   "language": "python",
   "name": "python3"
  },
  "language_info": {
   "codemirror_mode": {
    "name": "ipython",
    "version": 3
   },
   "file_extension": ".py",
   "mimetype": "text/x-python",
   "name": "python",
   "nbconvert_exporter": "python",
   "pygments_lexer": "ipython3",
   "version": "3.8.3"
  }
 },
 "nbformat": 4,
 "nbformat_minor": 4
}
