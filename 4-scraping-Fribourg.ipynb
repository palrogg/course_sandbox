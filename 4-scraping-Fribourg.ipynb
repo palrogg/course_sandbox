{
 "cells": [
  {
   "cell_type": "code",
   "execution_count": 67,
   "metadata": {},
   "outputs": [],
   "source": [
    "import pandas as pd\n",
    "import requests\n",
    "from bs4 import BeautifulSoup"
   ]
  },
  {
   "cell_type": "code",
   "execution_count": 68,
   "metadata": {},
   "outputs": [],
   "source": [
    "response = requests.get('https://www.fr.ch/gc/sommaire/bulletins-officiels-des-seances-bgc-2019')"
   ]
  },
  {
   "cell_type": "code",
   "execution_count": 69,
   "metadata": {},
   "outputs": [],
   "source": [
    "doc = BeautifulSoup(response.content)"
   ]
  },
  {
   "cell_type": "code",
   "execution_count": 70,
   "metadata": {},
   "outputs": [
    {
     "data": {
      "text/plain": [
       "[<a href=\"/gc/sommaire/bulletins-officiels-des-seances-bgc-2019?page=1#detail\">BGC Février 2019</a>,\n",
       " <a href=\"/gc/sommaire/bulletins-officiels-des-seances-bgc-2019?page=2#detail\">BGC Mars 2019</a>,\n",
       " <a href=\"/gc/sommaire/bulletins-officiels-des-seances-bgc-2019?page=3#detail\">BGC Mai 2019</a>,\n",
       " <a href=\"/gc/sommaire/bulletins-officiels-des-seances-bgc-2019?page=4#detail\">BGC Juin 2019</a>,\n",
       " <a href=\"/gc/sommaire/bulletins-officiels-des-seances-bgc-2019?page=5#detail\">BGC Septembre 2019</a>,\n",
       " <a href=\"/gc/sommaire/bulletins-officiels-des-seances-bgc-2019?page=6#detail\">BGC Octobre 2019</a>,\n",
       " <a href=\"/gc/sommaire/bulletins-officiels-des-seances-bgc-2019?page=7#detail\">BGC Novembre 2019</a>,\n",
       " <a href=\"/gc/sommaire/bulletins-officiels-des-seances-bgc-2019?page=8#detail\">BGC Décembre 2019</a>]"
      ]
     },
     "execution_count": 70,
     "metadata": {},
     "output_type": "execute_result"
    }
   ],
   "source": [
    "links = doc.select('#detail a')\n",
    "links"
   ]
  },
  {
   "cell_type": "code",
   "execution_count": 71,
   "metadata": {},
   "outputs": [],
   "source": [
    "url_list = []\n",
    "for link in links:\n",
    "    href = 'https://www.fr.ch' + link.get('href')\n",
    "    url_list.append(href)"
   ]
  },
  {
   "cell_type": "code",
   "execution_count": 77,
   "metadata": {},
   "outputs": [],
   "source": [
    "pdf_links = []\n",
    "\n",
    "for url in url_list:\n",
    "    response_url = requests.get(url)\n",
    "    doc = BeautifulSoup(response_url.content)\n",
    "\n",
    "    for pdf_link in doc.select('ul.noStyle a'):\n",
    "        pdf_links.append('https://www.fr.ch' + pdf_link.get('href'))"
   ]
  },
  {
   "cell_type": "code",
   "execution_count": 83,
   "metadata": {},
   "outputs": [
    {
     "name": "stdout",
     "output_type": "stream",
     "text": [
      "fr_PV_BGC_05-02-2019_web.pdf\n",
      "fr_PV_BGC_06-02-2019_web_corr2.pdf\n",
      "fr_PV_BGC_fevrier_2019_web_corr2.pdf\n",
      "fr_PV_BGC_26-03-2019.pdf\n",
      "fr_PV_BGC_27-03-2019.pdf\n",
      "fr_PV_BGC_28-03-2019.pdf\n",
      "fr_PV_BGC_mars_2019_complet_web_ok-Copy.pdf\n",
      "fr_PV_BGC_21-05-2019.pdf\n",
      "fr_PV_BGC_22-05-2019.pdf\n",
      "fr_PV_BGC_23-05-2019.pdf\n",
      "fr_PV_BGC_24-05-2019.pdf\n",
      "fr_PV_BGC_mai%202019_web.pdf\n",
      "fr_PV_BGC_25_juin_2019.pdf\n",
      "fr_PV_BGC_26_juin_2019.pdf\n",
      "fr_PV_BGC_27_juin_2019.pdf\n",
      "fr_PV_BGC_juin_2019_web_compressed.pdf\n",
      "fr_PV_BGC_10-09-2019.pdf\n",
      "fr_PV_BGC_11-09-2019.pdf\n",
      "fr_PV_BGC_12-09-2019.pdf\n",
      "fr_PV_BGC_sept_2019_web.pdf\n",
      "fr_PV_BGC_15-10-2019.pdf\n",
      "fr_PV_BGC_16-10-2019.pdf\n",
      "fr_PV_BGC_17-10-2019.pdf\n",
      "fr_PV_BGC_18-10-2019.pdf\n",
      "fr_PV_BGC_oct_2019_WEB.pdf\n",
      "fr_PV_BGC_20191119_web.pdf\n",
      "fr_PV_BGC_20191120_web.pdf\n",
      "fr_PV_BGC_20191121_web.pdf\n",
      "fr_PV_BGC_nov_2019_web.pdf\n",
      "fr_PV_BGC_2019-12-17.pdf\n",
      "fr_PV_BGC_2019-12-18.pdf\n",
      "fr_PV_BGC_2019-12-20.pdf\n",
      "fr_PV_BGC_2019_decembre_web.pdf\n"
     ]
    }
   ],
   "source": [
    "for pdf in pdf_links:\n",
    "    name = pdf.split('/')[-1]\n",
    "    print(name)\n",
    "    response = requests.get(pdf)\n",
    "    with open('pdf_truc/' + name, 'wb') as f:\n",
    "        f.write(response.content)"
   ]
  },
  {
   "cell_type": "code",
   "execution_count": null,
   "metadata": {},
   "outputs": [],
   "source": []
  }
 ],
 "metadata": {
  "kernelspec": {
   "display_name": "Python 3",
   "language": "python",
   "name": "python3"
  },
  "language_info": {
   "codemirror_mode": {
    "name": "ipython",
    "version": 3
   },
   "file_extension": ".py",
   "mimetype": "text/x-python",
   "name": "python",
   "nbconvert_exporter": "python",
   "pygments_lexer": "ipython3",
   "version": "3.8.1"
  }
 },
 "nbformat": 4,
 "nbformat_minor": 4
}
