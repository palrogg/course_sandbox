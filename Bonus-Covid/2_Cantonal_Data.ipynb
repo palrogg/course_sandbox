{
 "cells": [
  {
   "cell_type": "markdown",
   "metadata": {},
   "source": [
    "# Données cantonales de l’OFSP\n",
    "\n",
    "L’OFSP actualise quotidiennement plusieurs tableaux de données sur le covid, listés [dans cette page](https://www.bag.admin.ch/bag/fr/home/krankheiten/ausbrueche-epidemien-pandemien/aktuelle-ausbrueche-epidemien/novel-cov/situation-schweiz-und-international.html).\n",
    "\n",
    "Dans ce notebook, on va réunir des données cantonales de l’OFSP et des fichiers de l’OFS sur les cantons."
   ]
  },
  {
   "cell_type": "code",
   "execution_count": 1,
   "metadata": {},
   "outputs": [],
   "source": [
    "# pandas, notre module de traitement des données\n",
    "import pandas as pd\n",
    "\n",
    "# matplotlib permet de générer des graphiques\n",
    "import matplotlib.pyplot as plt\n",
    "\n",
    "# on affiche les graphiques directement dans le notebook (et pas dans une fenêtre séparée)\n",
    "%matplotlib inline\n",
    "\n",
    "# police de caractères pour les graphiques\n",
    "plt.rcParams['font.family'] = \"Gill Sans MT\"\n",
    "\n",
    "# cette ligne permettra d’éditer le texte des graphiques qu’on exporte en PDF,\n",
    "# par exemple dans Inkscape ou Adobe Illustrator\n",
    "plt.rcParams['pdf.fonttype'] = 42\n",
    "\n",
    "# on choisit un style de graphique.\n",
    "# Liste des principaux styles: https://matplotlib.org/3.1.1/gallery/style_sheets/style_sheets_reference.html\n",
    "plt.style.use('seaborn-poster')"
   ]
  },
  {
   "cell_type": "code",
   "execution_count": 2,
   "metadata": {},
   "outputs": [
    {
     "name": "stderr",
     "output_type": "stream",
     "text": [
      "/Users/paul/.virtualenvs/dj/lib/python3.8/site-packages/IPython/core/interactiveshell.py:3050: DtypeWarning: Columns (1,8) have mixed types. Specify dtype option on import or set low_memory=False.\n",
      "  has_raised = await self.run_ast_nodes(code_ast.body, cell_name,\n"
     ]
    }
   ],
   "source": [
    "# On charge un fichier détaillé de l’OFSP dans sa version du 4 octobre\n",
    "\n",
    "df = pd.read_csv('../data/Dashboards_1&2_COVID19_swiss_data_pv-2.csv')\n",
    "\n",
    "# On peut aussi charger la dernière version directement sur le site de l’OFSP.\n",
    "# Long temps de chargement, environ 20 secondes: c’est un gros fichier Excel!\n",
    "# Il suffit d’enlever le «#» de la ligne suivante.\n",
    "# df = pd.read_excel('https://www.bag.admin.ch/dam/bag/fr/dokumente/mt/k-und-i/aktuelle-ausbrueche-pandemien/2019-nCoV/covid-19-basisdaten-fallzahlen.xlsx.download.xlsx/Dashboards_1&2_COVID19_swiss_data_pv.xlsx')"
   ]
  },
  {
   "cell_type": "markdown",
   "metadata": {},
   "source": [
    "Pandas peut vous donner une erreur selon laquelle «des colonnes ont des types mixtes». Ça veut dire qu’il n’a pas pu identifier clairement quelle colonne contient une date, un entier, des float, etc. On va régler ça plus bas."
   ]
  },
  {
   "cell_type": "code",
   "execution_count": 4,
   "metadata": {},
   "outputs": [
    {
     "data": {
      "text/html": [
       "<div>\n",
       "<style scoped>\n",
       "    .dataframe tbody tr th:only-of-type {\n",
       "        vertical-align: middle;\n",
       "    }\n",
       "\n",
       "    .dataframe tbody tr th {\n",
       "        vertical-align: top;\n",
       "    }\n",
       "\n",
       "    .dataframe thead th {\n",
       "        text-align: right;\n",
       "    }\n",
       "</style>\n",
       "<table border=\"1\" class=\"dataframe\">\n",
       "  <thead>\n",
       "    <tr style=\"text-align: right;\">\n",
       "      <th></th>\n",
       "      <th>replikation_dt</th>\n",
       "      <th>fall_dt</th>\n",
       "      <th>ktn</th>\n",
       "      <th>akl</th>\n",
       "      <th>sex</th>\n",
       "      <th>Geschlecht</th>\n",
       "      <th>Sexe</th>\n",
       "      <th>fallklasse_3</th>\n",
       "      <th>pttoddat</th>\n",
       "      <th>pttod_1</th>\n",
       "    </tr>\n",
       "  </thead>\n",
       "  <tbody>\n",
       "    <tr>\n",
       "      <th>0</th>\n",
       "      <td>2020-10-02 08:15:30</td>\n",
       "      <td>2020-02-24</td>\n",
       "      <td>TI</td>\n",
       "      <td>70 - 79</td>\n",
       "      <td>1</td>\n",
       "      <td>Männlich</td>\n",
       "      <td>homme</td>\n",
       "      <td>1</td>\n",
       "      <td>NaN</td>\n",
       "      <td>0</td>\n",
       "    </tr>\n",
       "    <tr>\n",
       "      <th>1</th>\n",
       "      <td>2020-10-02 08:15:30</td>\n",
       "      <td>2020-02-25</td>\n",
       "      <td>AG</td>\n",
       "      <td>20 - 29</td>\n",
       "      <td>1</td>\n",
       "      <td>Männlich</td>\n",
       "      <td>homme</td>\n",
       "      <td>1</td>\n",
       "      <td>NaN</td>\n",
       "      <td>0</td>\n",
       "    </tr>\n",
       "    <tr>\n",
       "      <th>2</th>\n",
       "      <td>2020-10-02 08:15:30</td>\n",
       "      <td>2020-02-26</td>\n",
       "      <td>BL</td>\n",
       "      <td>20 - 29</td>\n",
       "      <td>1</td>\n",
       "      <td>Männlich</td>\n",
       "      <td>homme</td>\n",
       "      <td>1</td>\n",
       "      <td>NaN</td>\n",
       "      <td>0</td>\n",
       "    </tr>\n",
       "    <tr>\n",
       "      <th>3</th>\n",
       "      <td>2020-10-02 08:15:30</td>\n",
       "      <td>2020-02-26</td>\n",
       "      <td>BS</td>\n",
       "      <td>20 - 29</td>\n",
       "      <td>2</td>\n",
       "      <td>Weiblich</td>\n",
       "      <td>femme</td>\n",
       "      <td>1</td>\n",
       "      <td>NaN</td>\n",
       "      <td>0</td>\n",
       "    </tr>\n",
       "    <tr>\n",
       "      <th>4</th>\n",
       "      <td>2020-10-02 08:15:30</td>\n",
       "      <td>2020-02-26</td>\n",
       "      <td>GE</td>\n",
       "      <td>20 - 29</td>\n",
       "      <td>1</td>\n",
       "      <td>Männlich</td>\n",
       "      <td>homme</td>\n",
       "      <td>1</td>\n",
       "      <td>NaN</td>\n",
       "      <td>0</td>\n",
       "    </tr>\n",
       "    <tr>\n",
       "      <th>...</th>\n",
       "      <td>...</td>\n",
       "      <td>...</td>\n",
       "      <td>...</td>\n",
       "      <td>...</td>\n",
       "      <td>...</td>\n",
       "      <td>...</td>\n",
       "      <td>...</td>\n",
       "      <td>...</td>\n",
       "      <td>...</td>\n",
       "      <td>...</td>\n",
       "    </tr>\n",
       "    <tr>\n",
       "      <th>352042</th>\n",
       "      <td>2020-10-02 08:15:30</td>\n",
       "      <td>NaN</td>\n",
       "      <td>ZH</td>\n",
       "      <td>80+</td>\n",
       "      <td>2</td>\n",
       "      <td>Weiblich</td>\n",
       "      <td>femme</td>\n",
       "      <td>0</td>\n",
       "      <td>2020-10-02</td>\n",
       "      <td>0</td>\n",
       "    </tr>\n",
       "    <tr>\n",
       "      <th>352043</th>\n",
       "      <td>2020-10-02 08:15:30</td>\n",
       "      <td>NaN</td>\n",
       "      <td>ZH</td>\n",
       "      <td>80+</td>\n",
       "      <td>9</td>\n",
       "      <td>Unbekannt</td>\n",
       "      <td>manquant</td>\n",
       "      <td>0</td>\n",
       "      <td>2020-10-02</td>\n",
       "      <td>0</td>\n",
       "    </tr>\n",
       "    <tr>\n",
       "      <th>352044</th>\n",
       "      <td>2020-10-02 08:15:30</td>\n",
       "      <td>NaN</td>\n",
       "      <td>ZH</td>\n",
       "      <td>Unbekannt</td>\n",
       "      <td>1</td>\n",
       "      <td>Männlich</td>\n",
       "      <td>homme</td>\n",
       "      <td>0</td>\n",
       "      <td>2020-10-02</td>\n",
       "      <td>0</td>\n",
       "    </tr>\n",
       "    <tr>\n",
       "      <th>352045</th>\n",
       "      <td>2020-10-02 08:15:30</td>\n",
       "      <td>NaN</td>\n",
       "      <td>ZH</td>\n",
       "      <td>Unbekannt</td>\n",
       "      <td>2</td>\n",
       "      <td>Weiblich</td>\n",
       "      <td>femme</td>\n",
       "      <td>0</td>\n",
       "      <td>2020-10-02</td>\n",
       "      <td>0</td>\n",
       "    </tr>\n",
       "    <tr>\n",
       "      <th>352046</th>\n",
       "      <td>2020-10-02 08:15:30</td>\n",
       "      <td>NaN</td>\n",
       "      <td>ZH</td>\n",
       "      <td>Unbekannt</td>\n",
       "      <td>9</td>\n",
       "      <td>Unbekannt</td>\n",
       "      <td>manquant</td>\n",
       "      <td>0</td>\n",
       "      <td>2020-10-02</td>\n",
       "      <td>0</td>\n",
       "    </tr>\n",
       "  </tbody>\n",
       "</table>\n",
       "<p>352047 rows × 10 columns</p>\n",
       "</div>"
      ],
      "text/plain": [
       "             replikation_dt     fall_dt ktn        akl  sex Geschlecht  \\\n",
       "0       2020-10-02 08:15:30  2020-02-24  TI    70 - 79    1   Männlich   \n",
       "1       2020-10-02 08:15:30  2020-02-25  AG    20 - 29    1   Männlich   \n",
       "2       2020-10-02 08:15:30  2020-02-26  BL    20 - 29    1   Männlich   \n",
       "3       2020-10-02 08:15:30  2020-02-26  BS    20 - 29    2   Weiblich   \n",
       "4       2020-10-02 08:15:30  2020-02-26  GE    20 - 29    1   Männlich   \n",
       "...                     ...         ...  ..        ...  ...        ...   \n",
       "352042  2020-10-02 08:15:30         NaN  ZH        80+    2   Weiblich   \n",
       "352043  2020-10-02 08:15:30         NaN  ZH        80+    9  Unbekannt   \n",
       "352044  2020-10-02 08:15:30         NaN  ZH  Unbekannt    1   Männlich   \n",
       "352045  2020-10-02 08:15:30         NaN  ZH  Unbekannt    2   Weiblich   \n",
       "352046  2020-10-02 08:15:30         NaN  ZH  Unbekannt    9  Unbekannt   \n",
       "\n",
       "            Sexe  fallklasse_3    pttoddat  pttod_1  \n",
       "0          homme             1         NaN        0  \n",
       "1          homme             1         NaN        0  \n",
       "2          homme             1         NaN        0  \n",
       "3          femme             1         NaN        0  \n",
       "4          homme             1         NaN        0  \n",
       "...          ...           ...         ...      ...  \n",
       "352042     femme             0  2020-10-02        0  \n",
       "352043  manquant             0  2020-10-02        0  \n",
       "352044     homme             0  2020-10-02        0  \n",
       "352045     femme             0  2020-10-02        0  \n",
       "352046  manquant             0  2020-10-02        0  \n",
       "\n",
       "[352047 rows x 10 columns]"
      ]
     },
     "execution_count": 4,
     "metadata": {},
     "output_type": "execute_result"
    }
   ],
   "source": [
    "df"
   ]
  },
  {
   "cell_type": "code",
   "execution_count": null,
   "metadata": {},
   "outputs": [],
   "source": []
  },
  {
   "cell_type": "code",
   "execution_count": 3,
   "metadata": {},
   "outputs": [
    {
     "data": {
      "text/plain": [
       "352047"
      ]
     },
     "execution_count": 3,
     "metadata": {},
     "output_type": "execute_result"
    }
   ],
   "source": [
    "# Combien de lignes en tout?\n",
    "len(df)"
   ]
  },
  {
   "cell_type": "code",
   "execution_count": 8,
   "metadata": {},
   "outputs": [
    {
     "data": {
      "text/html": [
       "<div>\n",
       "<style scoped>\n",
       "    .dataframe tbody tr th:only-of-type {\n",
       "        vertical-align: middle;\n",
       "    }\n",
       "\n",
       "    .dataframe tbody tr th {\n",
       "        vertical-align: top;\n",
       "    }\n",
       "\n",
       "    .dataframe thead th {\n",
       "        text-align: right;\n",
       "    }\n",
       "</style>\n",
       "<table border=\"1\" class=\"dataframe\">\n",
       "  <thead>\n",
       "    <tr style=\"text-align: right;\">\n",
       "      <th></th>\n",
       "      <th>replikation_dt</th>\n",
       "      <th>fall_dt</th>\n",
       "      <th>ktn</th>\n",
       "      <th>akl</th>\n",
       "      <th>sex</th>\n",
       "      <th>Geschlecht</th>\n",
       "      <th>Sexe</th>\n",
       "      <th>fallklasse_3</th>\n",
       "      <th>pttoddat</th>\n",
       "      <th>pttod_1</th>\n",
       "    </tr>\n",
       "  </thead>\n",
       "  <tbody>\n",
       "    <tr>\n",
       "      <th>0</th>\n",
       "      <td>2020-10-02 08:15:30</td>\n",
       "      <td>2020-02-24</td>\n",
       "      <td>TI</td>\n",
       "      <td>70 - 79</td>\n",
       "      <td>1</td>\n",
       "      <td>Männlich</td>\n",
       "      <td>homme</td>\n",
       "      <td>1</td>\n",
       "      <td>NaN</td>\n",
       "      <td>0</td>\n",
       "    </tr>\n",
       "    <tr>\n",
       "      <th>1</th>\n",
       "      <td>2020-10-02 08:15:30</td>\n",
       "      <td>2020-02-25</td>\n",
       "      <td>AG</td>\n",
       "      <td>20 - 29</td>\n",
       "      <td>1</td>\n",
       "      <td>Männlich</td>\n",
       "      <td>homme</td>\n",
       "      <td>1</td>\n",
       "      <td>NaN</td>\n",
       "      <td>0</td>\n",
       "    </tr>\n",
       "    <tr>\n",
       "      <th>2</th>\n",
       "      <td>2020-10-02 08:15:30</td>\n",
       "      <td>2020-02-26</td>\n",
       "      <td>BL</td>\n",
       "      <td>20 - 29</td>\n",
       "      <td>1</td>\n",
       "      <td>Männlich</td>\n",
       "      <td>homme</td>\n",
       "      <td>1</td>\n",
       "      <td>NaN</td>\n",
       "      <td>0</td>\n",
       "    </tr>\n",
       "    <tr>\n",
       "      <th>3</th>\n",
       "      <td>2020-10-02 08:15:30</td>\n",
       "      <td>2020-02-26</td>\n",
       "      <td>BS</td>\n",
       "      <td>20 - 29</td>\n",
       "      <td>2</td>\n",
       "      <td>Weiblich</td>\n",
       "      <td>femme</td>\n",
       "      <td>1</td>\n",
       "      <td>NaN</td>\n",
       "      <td>0</td>\n",
       "    </tr>\n",
       "    <tr>\n",
       "      <th>4</th>\n",
       "      <td>2020-10-02 08:15:30</td>\n",
       "      <td>2020-02-26</td>\n",
       "      <td>GE</td>\n",
       "      <td>20 - 29</td>\n",
       "      <td>1</td>\n",
       "      <td>Männlich</td>\n",
       "      <td>homme</td>\n",
       "      <td>1</td>\n",
       "      <td>NaN</td>\n",
       "      <td>0</td>\n",
       "    </tr>\n",
       "  </tbody>\n",
       "</table>\n",
       "</div>"
      ],
      "text/plain": [
       "       replikation_dt     fall_dt ktn      akl  sex Geschlecht   Sexe  \\\n",
       "0 2020-10-02 08:15:30  2020-02-24  TI  70 - 79    1   Männlich  homme   \n",
       "1 2020-10-02 08:15:30  2020-02-25  AG  20 - 29    1   Männlich  homme   \n",
       "2 2020-10-02 08:15:30  2020-02-26  BL  20 - 29    1   Männlich  homme   \n",
       "3 2020-10-02 08:15:30  2020-02-26  BS  20 - 29    2   Weiblich  femme   \n",
       "4 2020-10-02 08:15:30  2020-02-26  GE  20 - 29    1   Männlich  homme   \n",
       "\n",
       "   fallklasse_3 pttoddat  pttod_1  \n",
       "0             1      NaN        0  \n",
       "1             1      NaN        0  \n",
       "2             1      NaN        0  \n",
       "3             1      NaN        0  \n",
       "4             1      NaN        0  "
      ]
     },
     "execution_count": 8,
     "metadata": {},
     "output_type": "execute_result"
    }
   ],
   "source": [
    "# A quoi ressemblent les premières lignes?\n",
    "df.head()"
   ]
  },
  {
   "cell_type": "markdown",
   "metadata": {},
   "source": [
    "La colonne **replikation_dt** contient la date de mise à jour du fichier. On n’en a pas besoin. Même chose pour la colonne **Geschlecht**, qui est à double."
   ]
  },
  {
   "cell_type": "code",
   "execution_count": 9,
   "metadata": {},
   "outputs": [],
   "source": [
    "del df['replikation_dt']\n",
    "del df['Geschlecht']"
   ]
  },
  {
   "cell_type": "markdown",
   "metadata": {},
   "source": [
    "Les autres colonnes sont expliquées dans un fichier de l’OFSP, on va leur donner un nom compréhensible…"
   ]
  },
  {
   "cell_type": "code",
   "execution_count": 10,
   "metadata": {},
   "outputs": [],
   "source": [
    "df.columns = ['date cas', 'canton', 'age', 'genre_num', 'genre', 'nouveaux cas',\n",
    "       'date décès', 'nouveaux décès']"
   ]
  },
  {
   "cell_type": "markdown",
   "metadata": {},
   "source": [
    "C’est mieux!"
   ]
  },
  {
   "cell_type": "code",
   "execution_count": 11,
   "metadata": {},
   "outputs": [
    {
     "data": {
      "text/html": [
       "<div>\n",
       "<style scoped>\n",
       "    .dataframe tbody tr th:only-of-type {\n",
       "        vertical-align: middle;\n",
       "    }\n",
       "\n",
       "    .dataframe tbody tr th {\n",
       "        vertical-align: top;\n",
       "    }\n",
       "\n",
       "    .dataframe thead th {\n",
       "        text-align: right;\n",
       "    }\n",
       "</style>\n",
       "<table border=\"1\" class=\"dataframe\">\n",
       "  <thead>\n",
       "    <tr style=\"text-align: right;\">\n",
       "      <th></th>\n",
       "      <th>date cas</th>\n",
       "      <th>canton</th>\n",
       "      <th>age</th>\n",
       "      <th>genre_num</th>\n",
       "      <th>genre</th>\n",
       "      <th>nouveaux cas</th>\n",
       "      <th>date décès</th>\n",
       "      <th>nouveaux décès</th>\n",
       "    </tr>\n",
       "  </thead>\n",
       "  <tbody>\n",
       "    <tr>\n",
       "      <th>0</th>\n",
       "      <td>2020-02-24</td>\n",
       "      <td>TI</td>\n",
       "      <td>70 - 79</td>\n",
       "      <td>1</td>\n",
       "      <td>homme</td>\n",
       "      <td>1</td>\n",
       "      <td>NaN</td>\n",
       "      <td>0</td>\n",
       "    </tr>\n",
       "    <tr>\n",
       "      <th>1</th>\n",
       "      <td>2020-02-25</td>\n",
       "      <td>AG</td>\n",
       "      <td>20 - 29</td>\n",
       "      <td>1</td>\n",
       "      <td>homme</td>\n",
       "      <td>1</td>\n",
       "      <td>NaN</td>\n",
       "      <td>0</td>\n",
       "    </tr>\n",
       "    <tr>\n",
       "      <th>2</th>\n",
       "      <td>2020-02-26</td>\n",
       "      <td>BL</td>\n",
       "      <td>20 - 29</td>\n",
       "      <td>1</td>\n",
       "      <td>homme</td>\n",
       "      <td>1</td>\n",
       "      <td>NaN</td>\n",
       "      <td>0</td>\n",
       "    </tr>\n",
       "    <tr>\n",
       "      <th>3</th>\n",
       "      <td>2020-02-26</td>\n",
       "      <td>BS</td>\n",
       "      <td>20 - 29</td>\n",
       "      <td>2</td>\n",
       "      <td>femme</td>\n",
       "      <td>1</td>\n",
       "      <td>NaN</td>\n",
       "      <td>0</td>\n",
       "    </tr>\n",
       "    <tr>\n",
       "      <th>4</th>\n",
       "      <td>2020-02-26</td>\n",
       "      <td>GE</td>\n",
       "      <td>20 - 29</td>\n",
       "      <td>1</td>\n",
       "      <td>homme</td>\n",
       "      <td>1</td>\n",
       "      <td>NaN</td>\n",
       "      <td>0</td>\n",
       "    </tr>\n",
       "  </tbody>\n",
       "</table>\n",
       "</div>"
      ],
      "text/plain": [
       "     date cas canton      age  genre_num  genre  nouveaux cas date décès  \\\n",
       "0  2020-02-24     TI  70 - 79          1  homme             1        NaN   \n",
       "1  2020-02-25     AG  20 - 29          1  homme             1        NaN   \n",
       "2  2020-02-26     BL  20 - 29          1  homme             1        NaN   \n",
       "3  2020-02-26     BS  20 - 29          2  femme             1        NaN   \n",
       "4  2020-02-26     GE  20 - 29          1  homme             1        NaN   \n",
       "\n",
       "   nouveaux décès  \n",
       "0               0  \n",
       "1               0  \n",
       "2               0  \n",
       "3               0  \n",
       "4               0  "
      ]
     },
     "execution_count": 11,
     "metadata": {},
     "output_type": "execute_result"
    }
   ],
   "source": [
    "df.head()"
   ]
  },
  {
   "cell_type": "code",
   "execution_count": 12,
   "metadata": {},
   "outputs": [
    {
     "data": {
      "text/html": [
       "<div>\n",
       "<style scoped>\n",
       "    .dataframe tbody tr th:only-of-type {\n",
       "        vertical-align: middle;\n",
       "    }\n",
       "\n",
       "    .dataframe tbody tr th {\n",
       "        vertical-align: top;\n",
       "    }\n",
       "\n",
       "    .dataframe thead th {\n",
       "        text-align: right;\n",
       "    }\n",
       "</style>\n",
       "<table border=\"1\" class=\"dataframe\">\n",
       "  <thead>\n",
       "    <tr style=\"text-align: right;\">\n",
       "      <th></th>\n",
       "      <th>date cas</th>\n",
       "      <th>canton</th>\n",
       "      <th>age</th>\n",
       "      <th>genre_num</th>\n",
       "      <th>genre</th>\n",
       "      <th>nouveaux cas</th>\n",
       "      <th>date décès</th>\n",
       "      <th>nouveaux décès</th>\n",
       "    </tr>\n",
       "  </thead>\n",
       "  <tbody>\n",
       "    <tr>\n",
       "      <th>352042</th>\n",
       "      <td>NaN</td>\n",
       "      <td>ZH</td>\n",
       "      <td>80+</td>\n",
       "      <td>2</td>\n",
       "      <td>femme</td>\n",
       "      <td>0</td>\n",
       "      <td>2020-10-02</td>\n",
       "      <td>0</td>\n",
       "    </tr>\n",
       "    <tr>\n",
       "      <th>352043</th>\n",
       "      <td>NaN</td>\n",
       "      <td>ZH</td>\n",
       "      <td>80+</td>\n",
       "      <td>9</td>\n",
       "      <td>manquant</td>\n",
       "      <td>0</td>\n",
       "      <td>2020-10-02</td>\n",
       "      <td>0</td>\n",
       "    </tr>\n",
       "    <tr>\n",
       "      <th>352044</th>\n",
       "      <td>NaN</td>\n",
       "      <td>ZH</td>\n",
       "      <td>Unbekannt</td>\n",
       "      <td>1</td>\n",
       "      <td>homme</td>\n",
       "      <td>0</td>\n",
       "      <td>2020-10-02</td>\n",
       "      <td>0</td>\n",
       "    </tr>\n",
       "    <tr>\n",
       "      <th>352045</th>\n",
       "      <td>NaN</td>\n",
       "      <td>ZH</td>\n",
       "      <td>Unbekannt</td>\n",
       "      <td>2</td>\n",
       "      <td>femme</td>\n",
       "      <td>0</td>\n",
       "      <td>2020-10-02</td>\n",
       "      <td>0</td>\n",
       "    </tr>\n",
       "    <tr>\n",
       "      <th>352046</th>\n",
       "      <td>NaN</td>\n",
       "      <td>ZH</td>\n",
       "      <td>Unbekannt</td>\n",
       "      <td>9</td>\n",
       "      <td>manquant</td>\n",
       "      <td>0</td>\n",
       "      <td>2020-10-02</td>\n",
       "      <td>0</td>\n",
       "    </tr>\n",
       "  </tbody>\n",
       "</table>\n",
       "</div>"
      ],
      "text/plain": [
       "       date cas canton        age  genre_num     genre  nouveaux cas  \\\n",
       "352042      NaN     ZH        80+          2     femme             0   \n",
       "352043      NaN     ZH        80+          9  manquant             0   \n",
       "352044      NaN     ZH  Unbekannt          1     homme             0   \n",
       "352045      NaN     ZH  Unbekannt          2     femme             0   \n",
       "352046      NaN     ZH  Unbekannt          9  manquant             0   \n",
       "\n",
       "        date décès  nouveaux décès  \n",
       "352042  2020-10-02               0  \n",
       "352043  2020-10-02               0  \n",
       "352044  2020-10-02               0  \n",
       "352045  2020-10-02               0  \n",
       "352046  2020-10-02               0  "
      ]
     },
     "execution_count": 12,
     "metadata": {},
     "output_type": "execute_result"
    }
   ],
   "source": [
    "df.tail()"
   ]
  },
  {
   "cell_type": "markdown",
   "metadata": {},
   "source": [
    "Combien de lignes avec 0 nouveau cas? Et avec 0 nouveau décès?"
   ]
  },
  {
   "cell_type": "code",
   "execution_count": 13,
   "metadata": {
    "scrolled": true
   },
   "outputs": [
    {
     "data": {
      "text/plain": [
       "331393"
      ]
     },
     "execution_count": 13,
     "metadata": {},
     "output_type": "execute_result"
    }
   ],
   "source": [
    "len(df[ df['nouveaux cas'] == 0 ])"
   ]
  },
  {
   "cell_type": "code",
   "execution_count": 14,
   "metadata": {},
   "outputs": [
    {
     "data": {
      "text/plain": [
       "350827"
      ]
     },
     "execution_count": 14,
     "metadata": {},
     "output_type": "execute_result"
    }
   ],
   "source": [
    "len(df[ df['nouveaux décès'] == 0 ])"
   ]
  },
  {
   "cell_type": "markdown",
   "metadata": {},
   "source": [
    "On comprend que notre fichier contient en fait deux tableaux, mis à la suite:\n",
    "* cas confirmés par classe d’âge, genre et canton\n",
    "* décès par classe d’âge, genre et canton\n",
    "\n",
    "Dans cet exercice, on s’intéressera uniquement aux cas. L’instruction `.copy()` fait comprendre à Pandas que je ne veux pas enregistrer un sous-ensemble (une «slice») d’un tableau, mais créer un nouveau tableau."
   ]
  },
  {
   "cell_type": "code",
   "execution_count": 15,
   "metadata": {},
   "outputs": [],
   "source": [
    "df = df[ df['nouveaux cas'] > 0 ].copy()"
   ]
  },
  {
   "cell_type": "markdown",
   "metadata": {},
   "source": [
    "On n’a plus besoin des colonnes relatives aux décès."
   ]
  },
  {
   "cell_type": "code",
   "execution_count": 16,
   "metadata": {},
   "outputs": [],
   "source": [
    "del df['date décès']\n",
    "del df['nouveaux décès']"
   ]
  },
  {
   "cell_type": "markdown",
   "metadata": {},
   "source": [
    "## Une date comme index\n",
    "On indique à Python de construire l’index à partir de la colonne **date cas**:"
   ]
  },
  {
   "cell_type": "code",
   "execution_count": 17,
   "metadata": {},
   "outputs": [],
   "source": [
    "df.index = pd.to_datetime( df['date cas'] )"
   ]
  },
  {
   "cell_type": "code",
   "execution_count": 18,
   "metadata": {},
   "outputs": [
    {
     "data": {
      "text/html": [
       "<div>\n",
       "<style scoped>\n",
       "    .dataframe tbody tr th:only-of-type {\n",
       "        vertical-align: middle;\n",
       "    }\n",
       "\n",
       "    .dataframe tbody tr th {\n",
       "        vertical-align: top;\n",
       "    }\n",
       "\n",
       "    .dataframe thead th {\n",
       "        text-align: right;\n",
       "    }\n",
       "</style>\n",
       "<table border=\"1\" class=\"dataframe\">\n",
       "  <thead>\n",
       "    <tr style=\"text-align: right;\">\n",
       "      <th></th>\n",
       "      <th>date cas</th>\n",
       "      <th>canton</th>\n",
       "      <th>age</th>\n",
       "      <th>genre_num</th>\n",
       "      <th>genre</th>\n",
       "      <th>nouveaux cas</th>\n",
       "    </tr>\n",
       "    <tr>\n",
       "      <th>date cas</th>\n",
       "      <th></th>\n",
       "      <th></th>\n",
       "      <th></th>\n",
       "      <th></th>\n",
       "      <th></th>\n",
       "      <th></th>\n",
       "    </tr>\n",
       "  </thead>\n",
       "  <tbody>\n",
       "    <tr>\n",
       "      <th>2020-02-24</th>\n",
       "      <td>2020-02-24</td>\n",
       "      <td>TI</td>\n",
       "      <td>70 - 79</td>\n",
       "      <td>1</td>\n",
       "      <td>homme</td>\n",
       "      <td>1</td>\n",
       "    </tr>\n",
       "  </tbody>\n",
       "</table>\n",
       "</div>"
      ],
      "text/plain": [
       "              date cas canton      age  genre_num  genre  nouveaux cas\n",
       "date cas                                                              \n",
       "2020-02-24  2020-02-24     TI  70 - 79          1  homme             1"
      ]
     },
     "execution_count": 18,
     "metadata": {},
     "output_type": "execute_result"
    }
   ],
   "source": [
    "df[df['canton'] == 'TI']['2020-02-24': '2020-02-24']"
   ]
  },
  {
   "cell_type": "markdown",
   "metadata": {},
   "source": [
    "## Filtrer les données\n",
    "\n",
    "Pour commencer, on va s’intéresser aux cantons romands en créant un sous-ensemble avec la méthode `isin()`. Elle est très pratique pour proposer une liste de valeurs à vérifier.\n",
    "\n",
    "On travaillera dans la suite du notebook avec la variable **dfr** (df des cantons romands)."
   ]
  },
  {
   "cell_type": "code",
   "execution_count": 19,
   "metadata": {},
   "outputs": [],
   "source": [
    "cantons_romands = ['VD', 'GE', 'JU', 'VS', 'NE', 'FR']\n",
    "dfr = df[ df['canton'].isin( cantons_romands ) ]"
   ]
  },
  {
   "cell_type": "code",
   "execution_count": 20,
   "metadata": {},
   "outputs": [
    {
     "data": {
      "text/html": [
       "<div>\n",
       "<style scoped>\n",
       "    .dataframe tbody tr th:only-of-type {\n",
       "        vertical-align: middle;\n",
       "    }\n",
       "\n",
       "    .dataframe tbody tr th {\n",
       "        vertical-align: top;\n",
       "    }\n",
       "\n",
       "    .dataframe thead th {\n",
       "        text-align: right;\n",
       "    }\n",
       "</style>\n",
       "<table border=\"1\" class=\"dataframe\">\n",
       "  <thead>\n",
       "    <tr style=\"text-align: right;\">\n",
       "      <th></th>\n",
       "      <th>date cas</th>\n",
       "      <th>canton</th>\n",
       "      <th>age</th>\n",
       "      <th>genre_num</th>\n",
       "      <th>genre</th>\n",
       "      <th>nouveaux cas</th>\n",
       "    </tr>\n",
       "    <tr>\n",
       "      <th>date cas</th>\n",
       "      <th></th>\n",
       "      <th></th>\n",
       "      <th></th>\n",
       "      <th></th>\n",
       "      <th></th>\n",
       "      <th></th>\n",
       "    </tr>\n",
       "  </thead>\n",
       "  <tbody>\n",
       "    <tr>\n",
       "      <th>2020-02-26</th>\n",
       "      <td>2020-02-26</td>\n",
       "      <td>GE</td>\n",
       "      <td>20 - 29</td>\n",
       "      <td>1</td>\n",
       "      <td>homme</td>\n",
       "      <td>1</td>\n",
       "    </tr>\n",
       "    <tr>\n",
       "      <th>2020-02-26</th>\n",
       "      <td>2020-02-26</td>\n",
       "      <td>JU</td>\n",
       "      <td>50 - 59</td>\n",
       "      <td>1</td>\n",
       "      <td>homme</td>\n",
       "      <td>1</td>\n",
       "    </tr>\n",
       "    <tr>\n",
       "      <th>2020-02-26</th>\n",
       "      <td>2020-02-26</td>\n",
       "      <td>VD</td>\n",
       "      <td>40 - 49</td>\n",
       "      <td>1</td>\n",
       "      <td>homme</td>\n",
       "      <td>1</td>\n",
       "    </tr>\n",
       "    <tr>\n",
       "      <th>2020-02-27</th>\n",
       "      <td>2020-02-27</td>\n",
       "      <td>GE</td>\n",
       "      <td>20 - 29</td>\n",
       "      <td>2</td>\n",
       "      <td>femme</td>\n",
       "      <td>1</td>\n",
       "    </tr>\n",
       "    <tr>\n",
       "      <th>2020-02-27</th>\n",
       "      <td>2020-02-27</td>\n",
       "      <td>GE</td>\n",
       "      <td>30 - 39</td>\n",
       "      <td>1</td>\n",
       "      <td>homme</td>\n",
       "      <td>1</td>\n",
       "    </tr>\n",
       "  </tbody>\n",
       "</table>\n",
       "</div>"
      ],
      "text/plain": [
       "              date cas canton      age  genre_num  genre  nouveaux cas\n",
       "date cas                                                              \n",
       "2020-02-26  2020-02-26     GE  20 - 29          1  homme             1\n",
       "2020-02-26  2020-02-26     JU  50 - 59          1  homme             1\n",
       "2020-02-26  2020-02-26     VD  40 - 49          1  homme             1\n",
       "2020-02-27  2020-02-27     GE  20 - 29          2  femme             1\n",
       "2020-02-27  2020-02-27     GE  30 - 39          1  homme             1"
      ]
     },
     "execution_count": 20,
     "metadata": {},
     "output_type": "execute_result"
    }
   ],
   "source": [
    "dfr.head()"
   ]
  },
  {
   "cell_type": "markdown",
   "metadata": {},
   "source": [
    "## Regrouper les données\n",
    "Et si on s’intéressait uniquement aux cantons, et pas aux genres et aux âges?\n",
    "\n",
    "Pandas permet de **regrouper** des données avec la méthode `groupby()`.\n",
    "\n",
    "Voici par exemple le total pour les cantons romands:"
   ]
  },
  {
   "cell_type": "code",
   "execution_count": 21,
   "metadata": {},
   "outputs": [
    {
     "data": {
      "text/plain": [
       "canton\n",
       "FR     2477\n",
       "GE     8678\n",
       "JU      342\n",
       "NE     1112\n",
       "VD    10748\n",
       "VS     2691\n",
       "Name: nouveaux cas, dtype: int64"
      ]
     },
     "execution_count": 21,
     "metadata": {},
     "output_type": "execute_result"
    }
   ],
   "source": [
    "dfr.groupby('canton')['nouveaux cas'].sum()"
   ]
  },
  {
   "cell_type": "markdown",
   "metadata": {},
   "source": [
    "Et leurs totaux pour le mois d’avril:"
   ]
  },
  {
   "cell_type": "code",
   "execution_count": 22,
   "metadata": {},
   "outputs": [
    {
     "data": {
      "text/plain": [
       "canton\n",
       "FR     543\n",
       "GE    2269\n",
       "JU      53\n",
       "NE     276\n",
       "VD    1548\n",
       "VS     665\n",
       "Name: nouveaux cas, dtype: int64"
      ]
     },
     "execution_count": 22,
     "metadata": {},
     "output_type": "execute_result"
    }
   ],
   "source": [
    "dfr['2020-04'].groupby('canton')['nouveaux cas'].sum()"
   ]
  },
  {
   "cell_type": "markdown",
   "metadata": {},
   "source": [
    "Mais on peut aussi regrouper par canton **et âge**:"
   ]
  },
  {
   "cell_type": "code",
   "execution_count": 23,
   "metadata": {},
   "outputs": [
    {
     "data": {
      "text/plain": [
       "canton  age      \n",
       "FR      0 - 9           5\n",
       "        10 - 19       170\n",
       "        20 - 29       567\n",
       "        30 - 39       353\n",
       "        40 - 49       356\n",
       "        50 - 59       339\n",
       "        60 - 69       204\n",
       "        70 - 79       182\n",
       "        80+           300\n",
       "        Unbekannt       1\n",
       "GE      0 - 9         116\n",
       "        10 - 19       422\n",
       "        20 - 29      1565\n",
       "        30 - 39      1603\n",
       "        40 - 49      1571\n",
       "        50 - 59      1500\n",
       "        60 - 69       702\n",
       "        70 - 79       451\n",
       "        80+           744\n",
       "        Unbekannt       4\n",
       "JU      0 - 9           2\n",
       "        10 - 19        13\n",
       "        20 - 29        59\n",
       "        30 - 39        44\n",
       "        40 - 49        46\n",
       "        50 - 59        75\n",
       "        60 - 69        47\n",
       "        70 - 79        24\n",
       "        80+            32\n",
       "NE      0 - 9           7\n",
       "        10 - 19        44\n",
       "        20 - 29       164\n",
       "        30 - 39       146\n",
       "        40 - 49       184\n",
       "        50 - 59       183\n",
       "        60 - 69       104\n",
       "        70 - 79        99\n",
       "        80+           180\n",
       "        Unbekannt       1\n",
       "VD      0 - 9          44\n",
       "        10 - 19       694\n",
       "        20 - 29      2202\n",
       "        30 - 39      1824\n",
       "        40 - 49      1615\n",
       "        50 - 59      1661\n",
       "        60 - 69      1047\n",
       "        70 - 79       688\n",
       "        80+           964\n",
       "        Unbekannt       9\n",
       "VS      0 - 9          14\n",
       "        10 - 19       132\n",
       "        20 - 29       464\n",
       "        30 - 39       357\n",
       "        40 - 49       347\n",
       "        50 - 59       534\n",
       "        60 - 69       316\n",
       "        70 - 79       231\n",
       "        80+           293\n",
       "        Unbekannt       3\n",
       "Name: nouveaux cas, dtype: int64"
      ]
     },
     "execution_count": 23,
     "metadata": {},
     "output_type": "execute_result"
    }
   ],
   "source": [
    "dfr.groupby(['canton', 'age'])['nouveaux cas'].sum()"
   ]
  },
  {
   "cell_type": "markdown",
   "metadata": {},
   "source": [
    "## Créer un «multi-index»\n",
    "Une autre manière de regrouper les données consiste à demander un nouvel index à Pandas, par exemple:\n",
    "* une colonne d’index pour le canton\n",
    "* une colonne d’index pour la date\n",
    "\n",
    "Voici ce que ça donne:"
   ]
  },
  {
   "cell_type": "code",
   "execution_count": 24,
   "metadata": {},
   "outputs": [
    {
     "data": {
      "text/html": [
       "<div>\n",
       "<style scoped>\n",
       "    .dataframe tbody tr th:only-of-type {\n",
       "        vertical-align: middle;\n",
       "    }\n",
       "\n",
       "    .dataframe tbody tr th {\n",
       "        vertical-align: top;\n",
       "    }\n",
       "\n",
       "    .dataframe thead th {\n",
       "        text-align: right;\n",
       "    }\n",
       "</style>\n",
       "<table border=\"1\" class=\"dataframe\">\n",
       "  <thead>\n",
       "    <tr style=\"text-align: right;\">\n",
       "      <th></th>\n",
       "      <th></th>\n",
       "      <th>age</th>\n",
       "      <th>genre_num</th>\n",
       "      <th>genre</th>\n",
       "      <th>nouveaux cas</th>\n",
       "    </tr>\n",
       "    <tr>\n",
       "      <th>canton</th>\n",
       "      <th>date cas</th>\n",
       "      <th></th>\n",
       "      <th></th>\n",
       "      <th></th>\n",
       "      <th></th>\n",
       "    </tr>\n",
       "  </thead>\n",
       "  <tbody>\n",
       "    <tr>\n",
       "      <th>GE</th>\n",
       "      <th>2020-02-26</th>\n",
       "      <td>20 - 29</td>\n",
       "      <td>1</td>\n",
       "      <td>homme</td>\n",
       "      <td>1</td>\n",
       "    </tr>\n",
       "    <tr>\n",
       "      <th>JU</th>\n",
       "      <th>2020-02-26</th>\n",
       "      <td>50 - 59</td>\n",
       "      <td>1</td>\n",
       "      <td>homme</td>\n",
       "      <td>1</td>\n",
       "    </tr>\n",
       "    <tr>\n",
       "      <th>VD</th>\n",
       "      <th>2020-02-26</th>\n",
       "      <td>40 - 49</td>\n",
       "      <td>1</td>\n",
       "      <td>homme</td>\n",
       "      <td>1</td>\n",
       "    </tr>\n",
       "    <tr>\n",
       "      <th rowspan=\"2\" valign=\"top\">GE</th>\n",
       "      <th>2020-02-27</th>\n",
       "      <td>20 - 29</td>\n",
       "      <td>2</td>\n",
       "      <td>femme</td>\n",
       "      <td>1</td>\n",
       "    </tr>\n",
       "    <tr>\n",
       "      <th>2020-02-27</th>\n",
       "      <td>30 - 39</td>\n",
       "      <td>1</td>\n",
       "      <td>homme</td>\n",
       "      <td>1</td>\n",
       "    </tr>\n",
       "  </tbody>\n",
       "</table>\n",
       "</div>"
      ],
      "text/plain": [
       "                       age  genre_num  genre  nouveaux cas\n",
       "canton date cas                                           \n",
       "GE     2020-02-26  20 - 29          1  homme             1\n",
       "JU     2020-02-26  50 - 59          1  homme             1\n",
       "VD     2020-02-26  40 - 49          1  homme             1\n",
       "GE     2020-02-27  20 - 29          2  femme             1\n",
       "       2020-02-27  30 - 39          1  homme             1"
      ]
     },
     "execution_count": 24,
     "metadata": {},
     "output_type": "execute_result"
    }
   ],
   "source": [
    "dfc = dfr.set_index(['canton', 'date cas'])\n",
    "dfc.head()"
   ]
  },
  {
   "cell_type": "markdown",
   "metadata": {},
   "source": [
    "## Exercice\n",
    "Trouvez:\n",
    "* le nombre total de cas par canton en juin\n",
    "* le nombre total de cas à Fribourg en juillet"
   ]
  },
  {
   "cell_type": "code",
   "execution_count": null,
   "metadata": {},
   "outputs": [],
   "source": []
  },
  {
   "cell_type": "code",
   "execution_count": null,
   "metadata": {},
   "outputs": [],
   "source": []
  },
  {
   "cell_type": "markdown",
   "metadata": {},
   "source": [
    "# Réunir deux jeux de données\n",
    "On peut ajouter les noms des cantons à l’aide d’un autre tableau de données, qu’on va charger dans la variable **df_cantons**:"
   ]
  },
  {
   "cell_type": "code",
   "execution_count": 27,
   "metadata": {
    "scrolled": true
   },
   "outputs": [
    {
     "data": {
      "text/html": [
       "<div>\n",
       "<style scoped>\n",
       "    .dataframe tbody tr th:only-of-type {\n",
       "        vertical-align: middle;\n",
       "    }\n",
       "\n",
       "    .dataframe tbody tr th {\n",
       "        vertical-align: top;\n",
       "    }\n",
       "\n",
       "    .dataframe thead th {\n",
       "        text-align: right;\n",
       "    }\n",
       "</style>\n",
       "<table border=\"1\" class=\"dataframe\">\n",
       "  <thead>\n",
       "    <tr style=\"text-align: right;\">\n",
       "      <th></th>\n",
       "      <th>Unnamed: 0</th>\n",
       "      <th>name_fr</th>\n",
       "      <th>name_de</th>\n",
       "      <th>abbrev</th>\n",
       "      <th>lat</th>\n",
       "      <th>lng</th>\n",
       "    </tr>\n",
       "  </thead>\n",
       "  <tbody>\n",
       "    <tr>\n",
       "      <th>0</th>\n",
       "      <td>0</td>\n",
       "      <td>Argovie</td>\n",
       "      <td>Aargau</td>\n",
       "      <td>AG</td>\n",
       "      <td>47,3876664</td>\n",
       "      <td>8,1554295</td>\n",
       "    </tr>\n",
       "    <tr>\n",
       "      <th>1</th>\n",
       "      <td>1</td>\n",
       "      <td>Appenzell Rhodes-Extérieures</td>\n",
       "      <td>Appenzell Ausserrhoden</td>\n",
       "      <td>AR</td>\n",
       "      <td>47,366481</td>\n",
       "      <td>9,3000916</td>\n",
       "    </tr>\n",
       "    <tr>\n",
       "      <th>2</th>\n",
       "      <td>2</td>\n",
       "      <td>Appenzell Rhodes-Intérieures</td>\n",
       "      <td>Appenzell Innerrhoden</td>\n",
       "      <td>AI</td>\n",
       "      <td>47,3161925</td>\n",
       "      <td>9,6316573</td>\n",
       "    </tr>\n",
       "    <tr>\n",
       "      <th>3</th>\n",
       "      <td>3</td>\n",
       "      <td>Bâle-Campagne</td>\n",
       "      <td>Basel-Landschaft</td>\n",
       "      <td>BL</td>\n",
       "      <td>47,4418122</td>\n",
       "      <td>7,7644002</td>\n",
       "    </tr>\n",
       "    <tr>\n",
       "      <th>4</th>\n",
       "      <td>4</td>\n",
       "      <td>Bâle-Ville</td>\n",
       "      <td>Basel-Stadt</td>\n",
       "      <td>BS</td>\n",
       "      <td>47,5619253</td>\n",
       "      <td>7,592768</td>\n",
       "    </tr>\n",
       "  </tbody>\n",
       "</table>\n",
       "</div>"
      ],
      "text/plain": [
       "   Unnamed: 0                       name_fr                 name_de abbrev  \\\n",
       "0           0                       Argovie                  Aargau     AG   \n",
       "1           1  Appenzell Rhodes-Extérieures  Appenzell Ausserrhoden     AR   \n",
       "2           2  Appenzell Rhodes-Intérieures   Appenzell Innerrhoden     AI   \n",
       "3           3                 Bâle-Campagne        Basel-Landschaft     BL   \n",
       "4           4                    Bâle-Ville             Basel-Stadt     BS   \n",
       "\n",
       "          lat        lng  \n",
       "0  47,3876664  8,1554295  \n",
       "1   47,366481  9,3000916  \n",
       "2  47,3161925  9,6316573  \n",
       "3  47,4418122  7,7644002  \n",
       "4  47,5619253   7,592768  "
      ]
     },
     "execution_count": 27,
     "metadata": {},
     "output_type": "execute_result"
    }
   ],
   "source": [
    "df_cantons = pd.read_csv('../data/cantons_geo.csv')\n",
    "df_cantons.head()"
   ]
  },
  {
   "cell_type": "markdown",
   "metadata": {},
   "source": [
    "Accessoirement, ce tableau vous donne les coordonnées géographiques des centres des cantons. Mais on ne va utiliser que leur abréviation (AG) et leur nom en français."
   ]
  },
  {
   "cell_type": "code",
   "execution_count": 28,
   "metadata": {},
   "outputs": [],
   "source": [
    "df_cantons = df_cantons[['name_fr', 'abbrev']]"
   ]
  },
  {
   "cell_type": "markdown",
   "metadata": {},
   "source": [
    "Et maintenant, on est prêt à **réunir ces tableaux**! Il faut indiquer à Pandas quelle colonne il doit utiliser pour aligner chaque ligne, et comment gérer les lignes pour lesquelles il n’existe aucune correspondance."
   ]
  },
  {
   "cell_type": "code",
   "execution_count": 29,
   "metadata": {},
   "outputs": [
    {
     "data": {
      "text/html": [
       "<div>\n",
       "<style scoped>\n",
       "    .dataframe tbody tr th:only-of-type {\n",
       "        vertical-align: middle;\n",
       "    }\n",
       "\n",
       "    .dataframe tbody tr th {\n",
       "        vertical-align: top;\n",
       "    }\n",
       "\n",
       "    .dataframe thead th {\n",
       "        text-align: right;\n",
       "    }\n",
       "</style>\n",
       "<table border=\"1\" class=\"dataframe\">\n",
       "  <thead>\n",
       "    <tr style=\"text-align: right;\">\n",
       "      <th></th>\n",
       "      <th>date cas</th>\n",
       "      <th>canton</th>\n",
       "      <th>age</th>\n",
       "      <th>genre_num</th>\n",
       "      <th>genre</th>\n",
       "      <th>nouveaux cas</th>\n",
       "      <th>name_fr</th>\n",
       "      <th>abbrev</th>\n",
       "    </tr>\n",
       "  </thead>\n",
       "  <tbody>\n",
       "    <tr>\n",
       "      <th>0</th>\n",
       "      <td>2020-02-24</td>\n",
       "      <td>TI</td>\n",
       "      <td>70 - 79</td>\n",
       "      <td>1</td>\n",
       "      <td>homme</td>\n",
       "      <td>1</td>\n",
       "      <td>Tessin</td>\n",
       "      <td>TI</td>\n",
       "    </tr>\n",
       "    <tr>\n",
       "      <th>1</th>\n",
       "      <td>2020-02-27</td>\n",
       "      <td>TI</td>\n",
       "      <td>50 - 59</td>\n",
       "      <td>2</td>\n",
       "      <td>femme</td>\n",
       "      <td>1</td>\n",
       "      <td>Tessin</td>\n",
       "      <td>TI</td>\n",
       "    </tr>\n",
       "    <tr>\n",
       "      <th>2</th>\n",
       "      <td>2020-02-27</td>\n",
       "      <td>TI</td>\n",
       "      <td>70 - 79</td>\n",
       "      <td>1</td>\n",
       "      <td>homme</td>\n",
       "      <td>2</td>\n",
       "      <td>Tessin</td>\n",
       "      <td>TI</td>\n",
       "    </tr>\n",
       "    <tr>\n",
       "      <th>3</th>\n",
       "      <td>2020-02-29</td>\n",
       "      <td>TI</td>\n",
       "      <td>50 - 59</td>\n",
       "      <td>2</td>\n",
       "      <td>femme</td>\n",
       "      <td>1</td>\n",
       "      <td>Tessin</td>\n",
       "      <td>TI</td>\n",
       "    </tr>\n",
       "    <tr>\n",
       "      <th>4</th>\n",
       "      <td>2020-03-01</td>\n",
       "      <td>TI</td>\n",
       "      <td>80+</td>\n",
       "      <td>1</td>\n",
       "      <td>homme</td>\n",
       "      <td>1</td>\n",
       "      <td>Tessin</td>\n",
       "      <td>TI</td>\n",
       "    </tr>\n",
       "  </tbody>\n",
       "</table>\n",
       "</div>"
      ],
      "text/plain": [
       "     date cas canton      age  genre_num  genre  nouveaux cas name_fr abbrev\n",
       "0  2020-02-24     TI  70 - 79          1  homme             1  Tessin     TI\n",
       "1  2020-02-27     TI  50 - 59          2  femme             1  Tessin     TI\n",
       "2  2020-02-27     TI  70 - 79          1  homme             2  Tessin     TI\n",
       "3  2020-02-29     TI  50 - 59          2  femme             1  Tessin     TI\n",
       "4  2020-03-01     TI      80+          1  homme             1  Tessin     TI"
      ]
     },
     "execution_count": 29,
     "metadata": {},
     "output_type": "execute_result"
    }
   ],
   "source": [
    "dfm = df.merge(df_cantons, left_on='canton', right_on='abbrev')\n",
    "dfm.head()"
   ]
  },
  {
   "cell_type": "markdown",
   "metadata": {},
   "source": [
    "Ici, on a gardé toutes les lignes de **dfr**, mais seulement les lignes de **df_cantons** qui y correspondent. C’est ce qu’on appelle un «left join»: le résultat contient tout le tableau de gauche mais seulement les éléments pertinents du tableau de droite. Cette page [détaille les différents types de «joints»](https://www.datacourses.com/concatenate-merge-and-join-data-with-pandas-598/) qu’on peut utiliser.\n",
    "\n",
    "On va maintenant faire la même opération sur **df** (Suisse entière), et écraser **df** avec le résultat."
   ]
  },
  {
   "cell_type": "code",
   "execution_count": 30,
   "metadata": {},
   "outputs": [
    {
     "data": {
      "text/html": [
       "<div>\n",
       "<style scoped>\n",
       "    .dataframe tbody tr th:only-of-type {\n",
       "        vertical-align: middle;\n",
       "    }\n",
       "\n",
       "    .dataframe tbody tr th {\n",
       "        vertical-align: top;\n",
       "    }\n",
       "\n",
       "    .dataframe thead th {\n",
       "        text-align: right;\n",
       "    }\n",
       "</style>\n",
       "<table border=\"1\" class=\"dataframe\">\n",
       "  <thead>\n",
       "    <tr style=\"text-align: right;\">\n",
       "      <th></th>\n",
       "      <th>date cas</th>\n",
       "      <th>canton</th>\n",
       "      <th>age</th>\n",
       "      <th>genre_num</th>\n",
       "      <th>genre</th>\n",
       "      <th>nouveaux cas</th>\n",
       "      <th>name_fr</th>\n",
       "      <th>abbrev</th>\n",
       "    </tr>\n",
       "  </thead>\n",
       "  <tbody>\n",
       "    <tr>\n",
       "      <th>0</th>\n",
       "      <td>2020-02-24</td>\n",
       "      <td>TI</td>\n",
       "      <td>70 - 79</td>\n",
       "      <td>1</td>\n",
       "      <td>homme</td>\n",
       "      <td>1</td>\n",
       "      <td>Tessin</td>\n",
       "      <td>TI</td>\n",
       "    </tr>\n",
       "    <tr>\n",
       "      <th>1</th>\n",
       "      <td>2020-02-27</td>\n",
       "      <td>TI</td>\n",
       "      <td>50 - 59</td>\n",
       "      <td>2</td>\n",
       "      <td>femme</td>\n",
       "      <td>1</td>\n",
       "      <td>Tessin</td>\n",
       "      <td>TI</td>\n",
       "    </tr>\n",
       "    <tr>\n",
       "      <th>2</th>\n",
       "      <td>2020-02-27</td>\n",
       "      <td>TI</td>\n",
       "      <td>70 - 79</td>\n",
       "      <td>1</td>\n",
       "      <td>homme</td>\n",
       "      <td>2</td>\n",
       "      <td>Tessin</td>\n",
       "      <td>TI</td>\n",
       "    </tr>\n",
       "    <tr>\n",
       "      <th>3</th>\n",
       "      <td>2020-02-29</td>\n",
       "      <td>TI</td>\n",
       "      <td>50 - 59</td>\n",
       "      <td>2</td>\n",
       "      <td>femme</td>\n",
       "      <td>1</td>\n",
       "      <td>Tessin</td>\n",
       "      <td>TI</td>\n",
       "    </tr>\n",
       "    <tr>\n",
       "      <th>4</th>\n",
       "      <td>2020-03-01</td>\n",
       "      <td>TI</td>\n",
       "      <td>80+</td>\n",
       "      <td>1</td>\n",
       "      <td>homme</td>\n",
       "      <td>1</td>\n",
       "      <td>Tessin</td>\n",
       "      <td>TI</td>\n",
       "    </tr>\n",
       "  </tbody>\n",
       "</table>\n",
       "</div>"
      ],
      "text/plain": [
       "     date cas canton      age  genre_num  genre  nouveaux cas name_fr abbrev\n",
       "0  2020-02-24     TI  70 - 79          1  homme             1  Tessin     TI\n",
       "1  2020-02-27     TI  50 - 59          2  femme             1  Tessin     TI\n",
       "2  2020-02-27     TI  70 - 79          1  homme             2  Tessin     TI\n",
       "3  2020-02-29     TI  50 - 59          2  femme             1  Tessin     TI\n",
       "4  2020-03-01     TI      80+          1  homme             1  Tessin     TI"
      ]
     },
     "execution_count": 30,
     "metadata": {},
     "output_type": "execute_result"
    }
   ],
   "source": [
    "df = df.merge(df_cantons, left_on='canton', right_on='abbrev')\n",
    "df.head()"
   ]
  },
  {
   "cell_type": "code",
   "execution_count": 31,
   "metadata": {},
   "outputs": [],
   "source": [
    "# On n’a pas besoin de l’abréviation à double\n",
    "del df['abbrev']"
   ]
  },
  {
   "cell_type": "markdown",
   "metadata": {},
   "source": [
    "## Remplacer des valeurs\n",
    "\n",
    "On a vu passer cette drôle de classe d’âge: «Unbekannt»… Comment mettre ça en français?"
   ]
  },
  {
   "cell_type": "code",
   "execution_count": 32,
   "metadata": {},
   "outputs": [
    {
     "data": {
      "text/plain": [
       "20 - 29      3488\n",
       "50 - 59      3174\n",
       "30 - 39      3134\n",
       "40 - 49      2961\n",
       "60 - 69      2333\n",
       "10 - 19      1757\n",
       "70 - 79      1650\n",
       "80+          1591\n",
       "0 - 9         412\n",
       "Unbekannt      42\n",
       "Name: age, dtype: int64"
      ]
     },
     "execution_count": 32,
     "metadata": {},
     "output_type": "execute_result"
    }
   ],
   "source": [
    "df['age'].value_counts()"
   ]
  },
  {
   "cell_type": "code",
   "execution_count": 33,
   "metadata": {
    "scrolled": true
   },
   "outputs": [
    {
     "data": {
      "text/plain": [
       "0        70 - 79\n",
       "1        50 - 59\n",
       "2        70 - 79\n",
       "3        50 - 59\n",
       "4            80+\n",
       "          ...   \n",
       "20537    50 - 59\n",
       "20538    50 - 59\n",
       "20539    40 - 49\n",
       "20540    60 - 69\n",
       "20541        80+\n",
       "Name: age, Length: 20542, dtype: object"
      ]
     },
     "execution_count": 33,
     "metadata": {},
     "output_type": "execute_result"
    }
   ],
   "source": [
    "df['age'].replace('Unbekannt', 'Inconnu')"
   ]
  },
  {
   "cell_type": "markdown",
   "metadata": {},
   "source": [
    "Mais pourquoi est-ce qu’on a encore des «Unbekannt»?"
   ]
  },
  {
   "cell_type": "code",
   "execution_count": 34,
   "metadata": {},
   "outputs": [
    {
     "data": {
      "text/html": [
       "<div>\n",
       "<style scoped>\n",
       "    .dataframe tbody tr th:only-of-type {\n",
       "        vertical-align: middle;\n",
       "    }\n",
       "\n",
       "    .dataframe tbody tr th {\n",
       "        vertical-align: top;\n",
       "    }\n",
       "\n",
       "    .dataframe thead th {\n",
       "        text-align: right;\n",
       "    }\n",
       "</style>\n",
       "<table border=\"1\" class=\"dataframe\">\n",
       "  <thead>\n",
       "    <tr style=\"text-align: right;\">\n",
       "      <th></th>\n",
       "      <th>date cas</th>\n",
       "      <th>canton</th>\n",
       "      <th>age</th>\n",
       "      <th>genre_num</th>\n",
       "      <th>genre</th>\n",
       "      <th>nouveaux cas</th>\n",
       "      <th>name_fr</th>\n",
       "    </tr>\n",
       "  </thead>\n",
       "  <tbody>\n",
       "    <tr>\n",
       "      <th>187</th>\n",
       "      <td>2020-03-17</td>\n",
       "      <td>TI</td>\n",
       "      <td>Unbekannt</td>\n",
       "      <td>2</td>\n",
       "      <td>femme</td>\n",
       "      <td>1</td>\n",
       "      <td>Tessin</td>\n",
       "    </tr>\n",
       "    <tr>\n",
       "      <th>218</th>\n",
       "      <td>2020-03-19</td>\n",
       "      <td>TI</td>\n",
       "      <td>Unbekannt</td>\n",
       "      <td>1</td>\n",
       "      <td>homme</td>\n",
       "      <td>1</td>\n",
       "      <td>Tessin</td>\n",
       "    </tr>\n",
       "    <tr>\n",
       "      <th>385</th>\n",
       "      <td>2020-03-30</td>\n",
       "      <td>TI</td>\n",
       "      <td>Unbekannt</td>\n",
       "      <td>1</td>\n",
       "      <td>homme</td>\n",
       "      <td>1</td>\n",
       "      <td>Tessin</td>\n",
       "    </tr>\n",
       "    <tr>\n",
       "      <th>2500</th>\n",
       "      <td>2020-03-15</td>\n",
       "      <td>BL</td>\n",
       "      <td>Unbekannt</td>\n",
       "      <td>1</td>\n",
       "      <td>homme</td>\n",
       "      <td>1</td>\n",
       "      <td>Bâle-Campagne</td>\n",
       "    </tr>\n",
       "    <tr>\n",
       "      <th>2542</th>\n",
       "      <td>2020-03-18</td>\n",
       "      <td>BL</td>\n",
       "      <td>Unbekannt</td>\n",
       "      <td>1</td>\n",
       "      <td>homme</td>\n",
       "      <td>1</td>\n",
       "      <td>Bâle-Campagne</td>\n",
       "    </tr>\n",
       "  </tbody>\n",
       "</table>\n",
       "</div>"
      ],
      "text/plain": [
       "        date cas canton        age  genre_num  genre  nouveaux cas  \\\n",
       "187   2020-03-17     TI  Unbekannt          2  femme             1   \n",
       "218   2020-03-19     TI  Unbekannt          1  homme             1   \n",
       "385   2020-03-30     TI  Unbekannt          1  homme             1   \n",
       "2500  2020-03-15     BL  Unbekannt          1  homme             1   \n",
       "2542  2020-03-18     BL  Unbekannt          1  homme             1   \n",
       "\n",
       "            name_fr  \n",
       "187          Tessin  \n",
       "218          Tessin  \n",
       "385          Tessin  \n",
       "2500  Bâle-Campagne  \n",
       "2542  Bâle-Campagne  "
      ]
     },
     "execution_count": 34,
     "metadata": {},
     "output_type": "execute_result"
    }
   ],
   "source": [
    "df[df['age'] == 'Unbekannt'].head()"
   ]
  },
  {
   "cell_type": "markdown",
   "metadata": {},
   "source": [
    "**Pour effectuer un remplacement, il faut:**\n",
    "* ajouter `inplace=True` -> `.replace('expression à trouver', 'remplacement', inplace=True)`\n",
    "* soit sauvegarder le résultat dans la variable df"
   ]
  },
  {
   "cell_type": "code",
   "execution_count": 35,
   "metadata": {},
   "outputs": [],
   "source": [
    "df.replace('Unbekannt', 'Inconnu', inplace=True)\n",
    "# ou: df = df.replace('Unbekannt', 'Inconnu')"
   ]
  },
  {
   "cell_type": "markdown",
   "metadata": {},
   "source": [
    "Cette fois, on est bon!"
   ]
  },
  {
   "cell_type": "code",
   "execution_count": 36,
   "metadata": {},
   "outputs": [
    {
     "data": {
      "text/html": [
       "<div>\n",
       "<style scoped>\n",
       "    .dataframe tbody tr th:only-of-type {\n",
       "        vertical-align: middle;\n",
       "    }\n",
       "\n",
       "    .dataframe tbody tr th {\n",
       "        vertical-align: top;\n",
       "    }\n",
       "\n",
       "    .dataframe thead th {\n",
       "        text-align: right;\n",
       "    }\n",
       "</style>\n",
       "<table border=\"1\" class=\"dataframe\">\n",
       "  <thead>\n",
       "    <tr style=\"text-align: right;\">\n",
       "      <th></th>\n",
       "      <th>date cas</th>\n",
       "      <th>canton</th>\n",
       "      <th>age</th>\n",
       "      <th>genre_num</th>\n",
       "      <th>genre</th>\n",
       "      <th>nouveaux cas</th>\n",
       "      <th>name_fr</th>\n",
       "    </tr>\n",
       "  </thead>\n",
       "  <tbody>\n",
       "  </tbody>\n",
       "</table>\n",
       "</div>"
      ],
      "text/plain": [
       "Empty DataFrame\n",
       "Columns: [date cas, canton, age, genre_num, genre, nouveaux cas, name_fr]\n",
       "Index: []"
      ]
     },
     "execution_count": 36,
     "metadata": {},
     "output_type": "execute_result"
    }
   ],
   "source": [
    "df[df['age'] == 'Unbekannt']"
   ]
  },
  {
   "cell_type": "markdown",
   "metadata": {},
   "source": [
    "## Rechercher du texte"
   ]
  },
  {
   "cell_type": "markdown",
   "metadata": {},
   "source": [
    "Avec `str.contains`, on peut chercher du texte:"
   ]
  },
  {
   "cell_type": "code",
   "execution_count": 37,
   "metadata": {},
   "outputs": [
    {
     "data": {
      "text/html": [
       "<div>\n",
       "<style scoped>\n",
       "    .dataframe tbody tr th:only-of-type {\n",
       "        vertical-align: middle;\n",
       "    }\n",
       "\n",
       "    .dataframe tbody tr th {\n",
       "        vertical-align: top;\n",
       "    }\n",
       "\n",
       "    .dataframe thead th {\n",
       "        text-align: right;\n",
       "    }\n",
       "</style>\n",
       "<table border=\"1\" class=\"dataframe\">\n",
       "  <thead>\n",
       "    <tr style=\"text-align: right;\">\n",
       "      <th></th>\n",
       "      <th>date cas</th>\n",
       "      <th>canton</th>\n",
       "      <th>age</th>\n",
       "      <th>genre_num</th>\n",
       "      <th>genre</th>\n",
       "      <th>nouveaux cas</th>\n",
       "      <th>name_fr</th>\n",
       "    </tr>\n",
       "  </thead>\n",
       "  <tbody>\n",
       "    <tr>\n",
       "      <th>5</th>\n",
       "      <td>2020-03-02</td>\n",
       "      <td>TI</td>\n",
       "      <td>20 - 29</td>\n",
       "      <td>1</td>\n",
       "      <td>homme</td>\n",
       "      <td>1</td>\n",
       "      <td>Tessin</td>\n",
       "    </tr>\n",
       "    <tr>\n",
       "      <th>10</th>\n",
       "      <td>2020-03-03</td>\n",
       "      <td>TI</td>\n",
       "      <td>20 - 29</td>\n",
       "      <td>1</td>\n",
       "      <td>homme</td>\n",
       "      <td>1</td>\n",
       "      <td>Tessin</td>\n",
       "    </tr>\n",
       "    <tr>\n",
       "      <th>19</th>\n",
       "      <td>2020-03-04</td>\n",
       "      <td>TI</td>\n",
       "      <td>20 - 29</td>\n",
       "      <td>1</td>\n",
       "      <td>homme</td>\n",
       "      <td>1</td>\n",
       "      <td>Tessin</td>\n",
       "    </tr>\n",
       "    <tr>\n",
       "      <th>39</th>\n",
       "      <td>2020-03-07</td>\n",
       "      <td>TI</td>\n",
       "      <td>20 - 29</td>\n",
       "      <td>2</td>\n",
       "      <td>femme</td>\n",
       "      <td>1</td>\n",
       "      <td>Tessin</td>\n",
       "    </tr>\n",
       "    <tr>\n",
       "      <th>51</th>\n",
       "      <td>2020-03-09</td>\n",
       "      <td>TI</td>\n",
       "      <td>20 - 29</td>\n",
       "      <td>2</td>\n",
       "      <td>femme</td>\n",
       "      <td>2</td>\n",
       "      <td>Tessin</td>\n",
       "    </tr>\n",
       "    <tr>\n",
       "      <th>...</th>\n",
       "      <td>...</td>\n",
       "      <td>...</td>\n",
       "      <td>...</td>\n",
       "      <td>...</td>\n",
       "      <td>...</td>\n",
       "      <td>...</td>\n",
       "      <td>...</td>\n",
       "    </tr>\n",
       "    <tr>\n",
       "      <th>20528</th>\n",
       "      <td>2020-08-24</td>\n",
       "      <td>UR</td>\n",
       "      <td>20 - 29</td>\n",
       "      <td>1</td>\n",
       "      <td>homme</td>\n",
       "      <td>1</td>\n",
       "      <td>Uri</td>\n",
       "    </tr>\n",
       "    <tr>\n",
       "      <th>20530</th>\n",
       "      <td>2020-08-25</td>\n",
       "      <td>UR</td>\n",
       "      <td>20 - 29</td>\n",
       "      <td>1</td>\n",
       "      <td>homme</td>\n",
       "      <td>1</td>\n",
       "      <td>Uri</td>\n",
       "    </tr>\n",
       "    <tr>\n",
       "      <th>20531</th>\n",
       "      <td>2020-08-27</td>\n",
       "      <td>UR</td>\n",
       "      <td>20 - 29</td>\n",
       "      <td>2</td>\n",
       "      <td>femme</td>\n",
       "      <td>1</td>\n",
       "      <td>Uri</td>\n",
       "    </tr>\n",
       "    <tr>\n",
       "      <th>20534</th>\n",
       "      <td>2020-09-17</td>\n",
       "      <td>UR</td>\n",
       "      <td>20 - 29</td>\n",
       "      <td>2</td>\n",
       "      <td>femme</td>\n",
       "      <td>1</td>\n",
       "      <td>Uri</td>\n",
       "    </tr>\n",
       "    <tr>\n",
       "      <th>20535</th>\n",
       "      <td>2020-09-21</td>\n",
       "      <td>UR</td>\n",
       "      <td>20 - 29</td>\n",
       "      <td>1</td>\n",
       "      <td>homme</td>\n",
       "      <td>1</td>\n",
       "      <td>Uri</td>\n",
       "    </tr>\n",
       "  </tbody>\n",
       "</table>\n",
       "<p>3488 rows × 7 columns</p>\n",
       "</div>"
      ],
      "text/plain": [
       "         date cas canton      age  genre_num  genre  nouveaux cas name_fr\n",
       "5      2020-03-02     TI  20 - 29          1  homme             1  Tessin\n",
       "10     2020-03-03     TI  20 - 29          1  homme             1  Tessin\n",
       "19     2020-03-04     TI  20 - 29          1  homme             1  Tessin\n",
       "39     2020-03-07     TI  20 - 29          2  femme             1  Tessin\n",
       "51     2020-03-09     TI  20 - 29          2  femme             2  Tessin\n",
       "...           ...    ...      ...        ...    ...           ...     ...\n",
       "20528  2020-08-24     UR  20 - 29          1  homme             1     Uri\n",
       "20530  2020-08-25     UR  20 - 29          1  homme             1     Uri\n",
       "20531  2020-08-27     UR  20 - 29          2  femme             1     Uri\n",
       "20534  2020-09-17     UR  20 - 29          2  femme             1     Uri\n",
       "20535  2020-09-21     UR  20 - 29          1  homme             1     Uri\n",
       "\n",
       "[3488 rows x 7 columns]"
      ]
     },
     "execution_count": 37,
     "metadata": {},
     "output_type": "execute_result"
    }
   ],
   "source": [
    "df[df['age'].str.contains('20')]"
   ]
  },
  {
   "cell_type": "markdown",
   "metadata": {},
   "source": [
    "Mais aussi avec des **expressions régulières** comme \\d{2}, qui signifie «2 chiffres». Voici pour rappel:\n",
    "\n",
    "* [une cheat sheet en anglais sur les Regular Expressions](https://cheatography.com/davechild/cheat-sheets/regular-expressions/)\n",
    "* [une cheat sheet en français](https://fr.wikibooks.org/wiki/Programmation_Bash/Regex)\n",
    "* et le site **[regexr.com](https://regexr.com/)** pour tester ses expressions\n",
    "\n",
    "L’expression suivante prendra toutes les tranches d’âges. On aurait aussi pu montrer toutes les lignes qui ne contiennent pas «Inconnu»."
   ]
  },
  {
   "cell_type": "code",
   "execution_count": 38,
   "metadata": {},
   "outputs": [
    {
     "data": {
      "text/html": [
       "<div>\n",
       "<style scoped>\n",
       "    .dataframe tbody tr th:only-of-type {\n",
       "        vertical-align: middle;\n",
       "    }\n",
       "\n",
       "    .dataframe tbody tr th {\n",
       "        vertical-align: top;\n",
       "    }\n",
       "\n",
       "    .dataframe thead th {\n",
       "        text-align: right;\n",
       "    }\n",
       "</style>\n",
       "<table border=\"1\" class=\"dataframe\">\n",
       "  <thead>\n",
       "    <tr style=\"text-align: right;\">\n",
       "      <th></th>\n",
       "      <th>date cas</th>\n",
       "      <th>canton</th>\n",
       "      <th>age</th>\n",
       "      <th>genre_num</th>\n",
       "      <th>genre</th>\n",
       "      <th>nouveaux cas</th>\n",
       "      <th>name_fr</th>\n",
       "    </tr>\n",
       "  </thead>\n",
       "  <tbody>\n",
       "    <tr>\n",
       "      <th>0</th>\n",
       "      <td>2020-02-24</td>\n",
       "      <td>TI</td>\n",
       "      <td>70 - 79</td>\n",
       "      <td>1</td>\n",
       "      <td>homme</td>\n",
       "      <td>1</td>\n",
       "      <td>Tessin</td>\n",
       "    </tr>\n",
       "    <tr>\n",
       "      <th>1</th>\n",
       "      <td>2020-02-27</td>\n",
       "      <td>TI</td>\n",
       "      <td>50 - 59</td>\n",
       "      <td>2</td>\n",
       "      <td>femme</td>\n",
       "      <td>1</td>\n",
       "      <td>Tessin</td>\n",
       "    </tr>\n",
       "    <tr>\n",
       "      <th>2</th>\n",
       "      <td>2020-02-27</td>\n",
       "      <td>TI</td>\n",
       "      <td>70 - 79</td>\n",
       "      <td>1</td>\n",
       "      <td>homme</td>\n",
       "      <td>2</td>\n",
       "      <td>Tessin</td>\n",
       "    </tr>\n",
       "    <tr>\n",
       "      <th>3</th>\n",
       "      <td>2020-02-29</td>\n",
       "      <td>TI</td>\n",
       "      <td>50 - 59</td>\n",
       "      <td>2</td>\n",
       "      <td>femme</td>\n",
       "      <td>1</td>\n",
       "      <td>Tessin</td>\n",
       "    </tr>\n",
       "    <tr>\n",
       "      <th>4</th>\n",
       "      <td>2020-03-01</td>\n",
       "      <td>TI</td>\n",
       "      <td>80+</td>\n",
       "      <td>1</td>\n",
       "      <td>homme</td>\n",
       "      <td>1</td>\n",
       "      <td>Tessin</td>\n",
       "    </tr>\n",
       "    <tr>\n",
       "      <th>...</th>\n",
       "      <td>...</td>\n",
       "      <td>...</td>\n",
       "      <td>...</td>\n",
       "      <td>...</td>\n",
       "      <td>...</td>\n",
       "      <td>...</td>\n",
       "      <td>...</td>\n",
       "    </tr>\n",
       "    <tr>\n",
       "      <th>20537</th>\n",
       "      <td>2020-09-28</td>\n",
       "      <td>UR</td>\n",
       "      <td>50 - 59</td>\n",
       "      <td>1</td>\n",
       "      <td>homme</td>\n",
       "      <td>1</td>\n",
       "      <td>Uri</td>\n",
       "    </tr>\n",
       "    <tr>\n",
       "      <th>20538</th>\n",
       "      <td>2020-09-29</td>\n",
       "      <td>UR</td>\n",
       "      <td>50 - 59</td>\n",
       "      <td>2</td>\n",
       "      <td>femme</td>\n",
       "      <td>1</td>\n",
       "      <td>Uri</td>\n",
       "    </tr>\n",
       "    <tr>\n",
       "      <th>20539</th>\n",
       "      <td>2020-09-30</td>\n",
       "      <td>UR</td>\n",
       "      <td>40 - 49</td>\n",
       "      <td>1</td>\n",
       "      <td>homme</td>\n",
       "      <td>1</td>\n",
       "      <td>Uri</td>\n",
       "    </tr>\n",
       "    <tr>\n",
       "      <th>20540</th>\n",
       "      <td>2020-09-30</td>\n",
       "      <td>UR</td>\n",
       "      <td>60 - 69</td>\n",
       "      <td>1</td>\n",
       "      <td>homme</td>\n",
       "      <td>1</td>\n",
       "      <td>Uri</td>\n",
       "    </tr>\n",
       "    <tr>\n",
       "      <th>20541</th>\n",
       "      <td>2020-09-30</td>\n",
       "      <td>UR</td>\n",
       "      <td>80+</td>\n",
       "      <td>2</td>\n",
       "      <td>femme</td>\n",
       "      <td>1</td>\n",
       "      <td>Uri</td>\n",
       "    </tr>\n",
       "  </tbody>\n",
       "</table>\n",
       "<p>20088 rows × 7 columns</p>\n",
       "</div>"
      ],
      "text/plain": [
       "         date cas canton      age  genre_num  genre  nouveaux cas name_fr\n",
       "0      2020-02-24     TI  70 - 79          1  homme             1  Tessin\n",
       "1      2020-02-27     TI  50 - 59          2  femme             1  Tessin\n",
       "2      2020-02-27     TI  70 - 79          1  homme             2  Tessin\n",
       "3      2020-02-29     TI  50 - 59          2  femme             1  Tessin\n",
       "4      2020-03-01     TI      80+          1  homme             1  Tessin\n",
       "...           ...    ...      ...        ...    ...           ...     ...\n",
       "20537  2020-09-28     UR  50 - 59          1  homme             1     Uri\n",
       "20538  2020-09-29     UR  50 - 59          2  femme             1     Uri\n",
       "20539  2020-09-30     UR  40 - 49          1  homme             1     Uri\n",
       "20540  2020-09-30     UR  60 - 69          1  homme             1     Uri\n",
       "20541  2020-09-30     UR      80+          2  femme             1     Uri\n",
       "\n",
       "[20088 rows x 7 columns]"
      ]
     },
     "execution_count": 38,
     "metadata": {},
     "output_type": "execute_result"
    }
   ],
   "source": [
    "df[df['age'].str.contains('\\d{2}')]"
   ]
  },
  {
   "cell_type": "code",
   "execution_count": null,
   "metadata": {},
   "outputs": [],
   "source": []
  },
  {
   "cell_type": "code",
   "execution_count": null,
   "metadata": {},
   "outputs": [],
   "source": []
  },
  {
   "cell_type": "markdown",
   "metadata": {},
   "source": [
    "# Créer des graphiques"
   ]
  },
  {
   "cell_type": "markdown",
   "metadata": {},
   "source": [
    "Revenons à nos cantons romands… Pour commencer, on va reporter ce qu’on a fait dans le df principal en recréant **dfr** à partir de **df**:"
   ]
  },
  {
   "cell_type": "code",
   "execution_count": 39,
   "metadata": {},
   "outputs": [],
   "source": [
    "cantons_romands = ['VD', 'GE', 'JU', 'VS', 'NE', 'FR']\n",
    "dfr = df[ df['canton'].isin( cantons_romands ) ]"
   ]
  },
  {
   "cell_type": "markdown",
   "metadata": {},
   "source": [
    "Essayons de montrer le total des cas romands par âge et sexe, dans un graphique en barres…\n",
    "\n",
    "Pour ce faire:\n",
    "\n",
    "* on groupe par âge et genre: `dfr.groupby(['age', 'genre']).sum()`\n",
    "* on précise que le genre de graphique est `bar`"
   ]
  },
  {
   "cell_type": "code",
   "execution_count": 40,
   "metadata": {},
   "outputs": [
    {
     "data": {
      "text/plain": [
       "<matplotlib.axes._subplots.AxesSubplot at 0x7f82054744c0>"
      ]
     },
     "execution_count": 40,
     "metadata": {},
     "output_type": "execute_result"
    },
    {
     "data": {
      "image/png": "[encoded data removed]",
      "text/plain": [
       "<Figure size 921.6x633.6 with 1 Axes>"
      ]
     },
     "metadata": {
      "needs_background": "light"
     },
     "output_type": "display_data"
    }
   ],
   "source": [
    "dfr.groupby(['age', 'genre']).sum().plot(kind='bar')"
   ]
  },
  {
   "cell_type": "markdown",
   "metadata": {},
   "source": [
    "Oups: des genres «manquants», des âges «inconnus»… On va les retirer. Mais d’abord, on compte le nombre de lignes que ça représente pour pouvoir l’indiquer dans une note."
   ]
  },
  {
   "cell_type": "code",
   "execution_count": 41,
   "metadata": {},
   "outputs": [],
   "source": [
    "unknown_age = dfr['age'] == 'Inconnu'\n",
    "unknown_gender = dfr['age'] == 'manquant'"
   ]
  },
  {
   "cell_type": "markdown",
   "metadata": {},
   "source": [
    "La barre verticale | correspond à un opérateur OR:"
   ]
  },
  {
   "cell_type": "code",
   "execution_count": 42,
   "metadata": {},
   "outputs": [
    {
     "data": {
      "text/plain": [
       "16"
      ]
     },
     "execution_count": 42,
     "metadata": {},
     "output_type": "execute_result"
    }
   ],
   "source": [
    "len(dfr[ unknown_age | unknown_gender ])"
   ]
  },
  {
   "cell_type": "markdown",
   "metadata": {},
   "source": [
    "Refaisons notre graphique. Et cette fois, on l’exporte!"
   ]
  },
  {
   "cell_type": "code",
   "execution_count": 43,
   "metadata": {},
   "outputs": [
    {
     "data": {
      "image/png": "[encoded data removed]",
      "text/plain": [
       "<Figure size 921.6x633.6 with 1 Axes>"
      ]
     },
     "metadata": {
      "needs_background": "light"
     },
     "output_type": "display_data"
    }
   ],
   "source": [
    "dfr[ -unknown_age & -unknown_gender ].groupby(['age', 'genre']).sum().plot(kind='bar')\n",
    "\n",
    "# Ajuster les marges pour que le PDF exporté ne soit pas rogné\n",
    "plt.tight_layout()\n",
    "\n",
    "plt.title('Les cas romands par genre et tranche d’âge')\n",
    "\n",
    "plt.savefig('cas-romands-age-genre.pdf')"
   ]
  },
  {
   "cell_type": "code",
   "execution_count": null,
   "metadata": {},
   "outputs": [],
   "source": []
  },
  {
   "cell_type": "code",
   "execution_count": null,
   "metadata": {},
   "outputs": [],
   "source": []
  },
  {
   "cell_type": "markdown",
   "metadata": {},
   "source": [
    "# Exercices bonus\n",
    "\n",
    "* Arrivez-vous à réunir notre df actuel avec la population des cantons romands, contenue dans **data/cantons_population.csv** ?\n",
    "\n",
    "* Pouvez-vous utiliser une moyenne mobile sur 5 ou 7 jours, comme nous l’avons fait dans le fichier Covid-data.ipynb?"
   ]
  },
  {
   "cell_type": "code",
   "execution_count": null,
   "metadata": {},
   "outputs": [],
   "source": []
  }
 ],
 "metadata": {
  "kernelspec": {
   "display_name": "Python 3",
   "language": "python",
   "name": "python3"
  },
  "language_info": {
   "codemirror_mode": {
    "name": "ipython",
    "version": 3
   },
   "file_extension": ".py",
   "mimetype": "text/x-python",
   "name": "python",
   "nbconvert_exporter": "python",
   "pygments_lexer": "ipython3",
   "version": "3.8.1"
  }
 },
 "nbformat": 4,
 "nbformat_minor": 4
}
