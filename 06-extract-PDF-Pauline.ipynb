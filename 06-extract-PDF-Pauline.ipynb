{
 "cells": [
  {
   "cell_type": "markdown",
   "metadata": {},
   "source": [
    "## Extraire des données d’un PDF\n",
    "\n",
    "**pdfplumber** est un module python qui vous permet de parcourir un PDF et d’en extraire du texte.\n",
    "\n",
    "On va parcourir un rapport de la Loterie Romande et tenter d’extraire ses valeurs.\n",
    "\n",
    "Le gros problème, c’est que le format PDF est conçu pour l’impression et l’affichage à l’écran, mais ne structure pas du tout ses données. Ce sera à nous de trouver comment délimiter les différentes informations, et parfois ce n’est simplement pas possible.\n",
    "\n",
    "Quand les PDF contiennent des tableaux, le logiciel libre et gratuit [Tabula](https://tabula.technology/) peut être d’une grande aide. On peut l’utiliser via Python, et même le combiner à pdfplumber. C’est un aspect que nous ne couvrons pas dans ce cours, mais vous trouvez un exemple dans [06c-PDF-Tabula.ipynb](06c-PDF-Tabula.ipynb)."
   ]
  },
  {
   "cell_type": "code",
   "execution_count": 5,
   "metadata": {},
   "outputs": [
    {
     "name": "stdout",
     "output_type": "stream",
     "text": [
      "Collecting pdfplumber\n",
      "  Downloading pdfplumber-0.5.28.tar.gz (45 kB)\n",
      "\u001b[K     |████████████████████████████████| 45 kB 2.4 MB/s eta 0:00:011\n",
      "\u001b[?25hCollecting pdfminer.six==20200517\n",
      "  Downloading pdfminer.six-20200517-py3-none-any.whl (5.6 MB)\n",
      "\u001b[K     |████████████████████████████████| 5.6 MB 5.1 MB/s eta 0:00:01\n",
      "\u001b[?25hRequirement already satisfied: Pillow>=7.0.0 in /Users/paulineturuban/opt/anaconda3/lib/python3.8/site-packages (from pdfplumber) (8.0.1)\n",
      "Collecting Wand\n",
      "  Downloading Wand-0.6.6-py2.py3-none-any.whl (138 kB)\n",
      "\u001b[K     |████████████████████████████████| 138 kB 19.7 MB/s eta 0:00:01\n",
      "\u001b[?25hRequirement already satisfied: chardet; python_version > \"3.0\" in /Users/paulineturuban/opt/anaconda3/lib/python3.8/site-packages (from pdfminer.six==20200517->pdfplumber) (3.0.4)\n",
      "Collecting pycryptodome\n",
      "  Downloading pycryptodome-3.10.1-cp35-abi3-macosx_10_9_x86_64.whl (1.5 MB)\n",
      "\u001b[K     |████████████████████████████████| 1.5 MB 17.0 MB/s eta 0:00:01\n",
      "\u001b[?25hRequirement already satisfied: sortedcontainers in /Users/paulineturuban/opt/anaconda3/lib/python3.8/site-packages (from pdfminer.six==20200517->pdfplumber) (2.2.2)\n",
      "Building wheels for collected packages: pdfplumber\n",
      "  Building wheel for pdfplumber (setup.py) ... \u001b[?25ldone\n",
      "\u001b[?25h  Created wheel for pdfplumber: filename=pdfplumber-0.5.28-py3-none-any.whl size=32220 sha256=e371485c1d1aac4dbf39f7cde5ef91182b56eaafaa1398f7b013207c0d1dd2bf\n",
      "  Stored in directory: /Users/paulineturuban/Library/Caches/pip/wheels/36/61/6d/5fdf7f85a9598d42f094b4099be9a3dd9a887b25ca9b5a1bf4\n",
      "Successfully built pdfplumber\n",
      "Installing collected packages: pycryptodome, pdfminer.six, Wand, pdfplumber\n",
      "Successfully installed Wand-0.6.6 pdfminer.six-20200517 pdfplumber-0.5.28 pycryptodome-3.10.1\n"
     ]
    }
   ],
   "source": [
    "! pip install pdfplumber"
   ]
  },
  {
   "cell_type": "code",
   "execution_count": 6,
   "metadata": {},
   "outputs": [],
   "source": [
    "import pandas as pd\n",
    "import pdfplumber"
   ]
  },
  {
   "cell_type": "code",
   "execution_count": 7,
   "metadata": {},
   "outputs": [],
   "source": [
    "# Cette fonction renverra soit une page de texte, soit «False»\n",
    "def extract(page):\n",
    "    try:\n",
    "        text = page.extract_text()\n",
    "        return text\n",
    "    except ValueError as e:\n",
    "        print('Erreur en ouvrant la page', e)\n",
    "        return False"
   ]
  },
  {
   "cell_type": "code",
   "execution_count": 8,
   "metadata": {},
   "outputs": [
    {
     "name": "stdout",
     "output_type": "stream",
     "text": [
      "Loterie Romande\n",
      "Répartition  \n",
      "des bénéfices\n",
      " 2019\n"
     ]
    }
   ],
   "source": [
    "# Test de la fonction sur la première page (page zéro)\n",
    "with pdfplumber.open(\"PDF/LoterieRomande.pdf\") as pdf:\n",
    "    firstPage = extract(pdf.pages[0])\n",
    "    if firstPage:\n",
    "        print(firstPage)"
   ]
  },
  {
   "cell_type": "markdown",
   "metadata": {},
   "source": [
    "## Ouverture du PDF et extraction du texte\n",
    "\n",
    "Cette fois, on va laisser notre PDF ouvert pour le parcourir."
   ]
  },
  {
   "cell_type": "code",
   "execution_count": null,
   "metadata": {},
   "outputs": [],
   "source": []
  },
  {
   "cell_type": "code",
   "execution_count": 9,
   "metadata": {},
   "outputs": [],
   "source": [
    "pdf = pdfplumber.open(\"PDF/LoterieRomande.pdf\")"
   ]
  },
  {
   "cell_type": "code",
   "execution_count": 10,
   "metadata": {},
   "outputs": [
    {
     "data": {
      "text/plain": [
       "75"
      ]
     },
     "execution_count": 10,
     "metadata": {},
     "output_type": "execute_result"
    }
   ],
   "source": [
    "len(pdf.pages)"
   ]
  },
  {
   "cell_type": "markdown",
   "metadata": {},
   "source": [
    "Un exemple de page.\n",
    "\n",
    "Comment est-ce qu'on va extraire les données intéressantes?\n",
    "\n",
    "Le caractère «saut de ligne», \\n, pourra nous aider, de même que les tabulations (\\t) et le symbole récurrent «.-».\n",
    "\n",
    "Mais est-ce que tous les prix se terminent par .-?\n",
    "\n",
    "Et qu’est-ce que **a r u J**?\n",
    "\n",
    "Faites des essais avec:\n",
    "\n",
    "* `text.split('\\n')`\n",
    "* `text.split('.-')`\n",
    "* `text.split('\\t')`\n",
    "* `text.find('.-) > -1`"
   ]
  },
  {
   "cell_type": "code",
   "execution_count": null,
   "metadata": {},
   "outputs": [],
   "source": [
    "text = pdf.pages[70].extract_text()\n",
    "print(text)"
   ]
  },
  {
   "cell_type": "code",
   "execution_count": null,
   "metadata": {},
   "outputs": [],
   "source": []
  }
 ],
 "metadata": {
  "kernelspec": {
   "display_name": "Python 3",
   "language": "python",
   "name": "python3"
  },
  "language_info": {
   "codemirror_mode": {
    "name": "ipython",
    "version": 3
   },
   "file_extension": ".py",
   "mimetype": "text/x-python",
   "name": "python",
   "nbconvert_exporter": "python",
   "pygments_lexer": "ipython3",
   "version": "3.8.5"
  }
 },
 "nbformat": 4,
 "nbformat_minor": 4
}
