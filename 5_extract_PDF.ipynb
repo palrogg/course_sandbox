{
 "cells": [
  {
   "cell_type": "code",
   "execution_count": 1,
   "metadata": {},
   "outputs": [],
   "source": [
    "import pandas as pd\n",
    "import pdfplumber"
   ]
  },
  {
   "cell_type": "code",
   "execution_count": 2,
   "metadata": {},
   "outputs": [],
   "source": [
    "def extract(page):\n",
    "    try:\n",
    "        text = page.extract_text()\n",
    "        return text\n",
    "    except ValueError as e:\n",
    "        print('Erreur en ouvrant la page', e)\n",
    "        return False"
   ]
  },
  {
   "cell_type": "code",
   "execution_count": 3,
   "metadata": {},
   "outputs": [
    {
     "name": "stdout",
     "output_type": "stream",
     "text": [
      "Loterie Romande\n",
      "Répartition  \n",
      "des bénéfices\n",
      " 2019\n"
     ]
    }
   ],
   "source": [
    "with pdfplumber.open(\"PDF/LoterieRomande.pdf\") as pdf:\n",
    "    firstPage = extract(pdf.pages[0])\n",
    "    if firstPage:\n",
    "        print(firstPage)"
   ]
  },
  {
   "cell_type": "code",
   "execution_count": null,
   "metadata": {},
   "outputs": [],
   "source": []
  },
  {
   "cell_type": "code",
   "execution_count": 10,
   "metadata": {},
   "outputs": [],
   "source": [
    "pdf = pdfplumber.open(\"PDF/LoterieRomande.pdf\")"
   ]
  },
  {
   "cell_type": "code",
   "execution_count": 6,
   "metadata": {},
   "outputs": [
    {
     "data": {
      "text/plain": [
       "75"
      ]
     },
     "execution_count": 6,
     "metadata": {},
     "output_type": "execute_result"
    }
   ],
   "source": [
    "len(pdf.pages)"
   ]
  },
  {
   "cell_type": "code",
   "execution_count": 14,
   "metadata": {},
   "outputs": [
    {
     "data": {
      "text/plain": [
       "\"a\\nr\\nu\\nJ\\nTennis Club Les Breuleux    300.- Club équestre Chevenez    12'000.- Rossemaison    3'900.-\\nTennis Club Porrentruy      1'390.- Club équestre St-Hubert Bassecourt  1'000.- Slalom de Bure    1'500.-\\nTennis Club Saignelégier      1'200.- Course de côte Boécourt-  Sté de cavalerie d'Ajoie\\nTriumph Moto Club Vicques    710.- La Caquerelle    3'300.- Porrentruy    12'500.-\\nUnion Jura Rugby Course pédestre Vicques-Rétemberg  500.- Sté de cavalerie Delémont  \\nDelémont     360.- Créa'Move Delémont    1'000.- et environs    3'900.-\\nVCO Delémont Megabike    250.- Critérium jurassien Sté de cavalerie des Franches-Montagnes\\nDelémont    14'500.- Saignelégier    1'500.-\\nVélo Club Courtételle    810.-\\nVélo Club Franches-Montagnes Curling Club Ajoie Sté de tir de la ville de Delémont  200.-\\nSaignelégier    1'060.- Porrentruy    1'400.- Sté de tir sportif d'Ajoie\\nVélo Club Jurassia Bassecourt  700.- Domoniak Triathlon Porrentruy    500.-\\nDelémont    500.-\\nVolleyball Club Delémont    560.- Tennis Club Delémont    500.-\\nVolleyball Club Develier    200.- Ecole de commerce de Delémont Tennis Club Saignelégier    200.-\\nDo-No Entreprise    200.-\\nVolleyball Club Porrentruy    2'000.- Tour de Rebeuvelier    1'000.-\\nVolleyball Club Val Terbi Echiquier bruntrutain Trophée jurassien\\nVicques    830.- Porrentruy    200.- Develier    1'500.-\\nVTT Club Jura Ecole secondaire du Val-Terbi Valterbimania Sports\\nDelémont    1'480.- Vicques    150.- Montsevelier    1'000.-\\nEnergym Fahy    200.- Vélo Club Jurassia\\nEquinoXX Enduro Bike Bassecourt    1'000.-\\nManifestations \\nDelémont    1'000.-\\nVélo Club Courtételle    1'400.-\\n132'350.- Féd. sportive cynologique suisse Vélo Club Franches-Montagnes\\nRebeuvelier    1'500.- Saignelégier    2'500.-\\nFémina Sport Glovelier    1'000.- VTT Club Jura\\nFranches Equi Trail Delémont    1'000.-\\nSaignelégier    500.-\\nAjoie Badminton Club\\nPorrentruy    200.- FSG Bassecourt    500.- Projets d'aménagement \\nASA St-Ursanne-Les Rangiers  15'500.- FSG Courroux-Courcelon    500.- (constructions) \\nAssoc. cantonale jurassienne   Full Boxing Club\\nde gymnastique Porrentruy    2'500.-\\n147'712.-\\nDelémont    2'000.-\\nGroupe sportif Ajoie\\nAssoc. interjurassienne de cyclisme Porrentruy    1'500.-\\nChâtillon     800.-\\nGroupe sportif Asuel    750.-\\nAssoc. Camp jurassien 2019 Gym dames Delémont    200.- Assoc. Phil Steulet, Delémont\\nDelémont     500.- Hockey Club Ajoie Escalade    15'472.-\\nAssoc. des arbitres de hockey   Porrentruy    1'000.- Club de pétanque La Boule  \\nsur glace MOJU/BEJU Hockey Club Delémont Vallée  1'500.- franche Courtételle    1'740.-\\nLe Noirmont     750.-\\nHockey Club Franches-Montagnes Commune de Courroux    2'398.-\\nAssoc. Jardin del Eden Saignelégier    500.- Commune de Delémont    20'000.-\\nDelémont     500.-\\nJudo Club Boécourt    250.- Football Club La Courtine    11'411.-\\nAssoc. Jura Challenges JuraDéfi Football Club Les Bois    20'147.-\\nDevelier     1'500.- Saignelégier    3'000.- Football Club Soyhières    6'150.-\\nAssoc. Tour du Jura Sté de tir Pistolet & Petit calibre \\nJura'ltitude XC\\nCourgenay     2'000.- Franches-Montagnes\\nCourroux    500.-\\nSaignelégier    1'356.-\\nAuto Moto Club  Ederswiler    2'000.-\\nLa Populaire.ch\\nAutocross Jurassien Courtételle    500.- Tennis Club Delémont    41'573.-\\nCourgenay    3'000.- Tennis Club Porrentruy    14'400.-\\nLe Noirmont VTT Club    500.-\\nTennis Club Saignelégier    13'065.-\\nClub équestre Les Vannez\\nLes foulées ajoulotes\\nGlovelier    1'000.-\\nBure    500.-\\nBudo-Kan Porrentruy    500.- Mérites sportifs \\nL'Hivern'Alle    200.-\\nChampionnat jurassien  \\nManège Pré-Mo Delémont    1'000.-\\ndes sports motorisés 23'463.50\\nCourrendlin    3'000.- Mervelinde\\nMervelier    500.-\\nClub d'athlétisme Fontenais   1'000.-\\nMoto Club jurassien\\nClub de l'Orque\\nBassecourt    3'000.-\\nBoncourt    200.- Choong Katherine, Glovelier\\nNarcisses Run Haute-Ajoie Escalade\\nClub de minigolf Delémont    350.-\\nChenevez    500.-\\nClub de natation Delémont    500.- Gerber Sébastien, Alle\\nOmnisport Boncourt    400.- Athlétisme\\nClub de patinage  \\ndes Franches-Montagnes Organisation équestre   Leiser Lucien, Vicques\\nSaignelégier    500.- des Franches-Montagnes    Cyclisme (vélo-trial)\\nSaignelégier    2'500.-\\nClub de pétanque Le Bief Porrentruy  200.- Nussbaumer Valentin, Rossemaison\\nPiscine des Hémionées\\nClub des patineurs d'Ajoie Hockey sur glace\\nBoncourt    500.-\\nPorrentruy    500.-\\nVuilleumier Joël, Bassecourt\\nPromoskate Events\\nInline-hockey\\nLOTERIE ROMANDE   |   RÉPARTITION DES BÉNÉFICES 2019   |   71\""
      ]
     },
     "execution_count": 14,
     "metadata": {},
     "output_type": "execute_result"
    }
   ],
   "source": [
    "pdf.pages[70].extract_text()"
   ]
  }
 ],
 "metadata": {
  "kernelspec": {
   "display_name": "Python 3",
   "language": "python",
   "name": "python3"
  },
  "language_info": {
   "codemirror_mode": {
    "name": "ipython",
    "version": 3
   },
   "file_extension": ".py",
   "mimetype": "text/x-python",
   "name": "python",
   "nbconvert_exporter": "python",
   "pygments_lexer": "ipython3",
   "version": "3.8.3"
  }
 },
 "nbformat": 4,
 "nbformat_minor": 4
}
