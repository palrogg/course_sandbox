{
 "cells": [
  {
   "cell_type": "markdown",
   "metadata": {},
   "source": [
    "# Données de l’OFSP sur le covid\n",
    "\n",
    "L’OFSP actualise quotidiennement plusieurs tableaux de données sur le covid, listés [dans cette page](https://www.bag.admin.ch/bag/fr/home/krankheiten/ausbrueche-epidemien-pandemien/aktuelle-ausbrueche-epidemien/novel-cov/situation-schweiz-und-international.html). On va se plonger dans le premier."
   ]
  },
  {
   "cell_type": "code",
   "execution_count": 24,
   "metadata": {},
   "outputs": [],
   "source": [
    "import pandas as pd\n",
    "\n",
    "# matplotlib permet de générer des graphiques\n",
    "import matplotlib.pyplot as plt\n",
    "\n",
    "# on affiche les graphiques dans le notebook directement\n",
    "%matplotlib inline"
   ]
  },
  {
   "cell_type": "code",
   "execution_count": 25,
   "metadata": {},
   "outputs": [],
   "source": [
    "# on charge le fichier CSV directement sur le site de l’OFSP\n",
    "df = pd.read_excel('https://www.bag.admin.ch/dam/bag/fr/dokumente/mt/k-und-i/aktuelle-ausbrueche-pandemien/2019-nCoV/covid-19-datengrundlage-lagebericht.xlsx.download.xlsx/200325_base%20de%20donn%C3%A9es_graphiques_COVID-19-rapport.xlsx', skiprows=6)"
   ]
  },
  {
   "cell_type": "markdown",
   "metadata": {},
   "source": [
    "## Sélectionner les lignes de tant à tant\n",
    "\n",
    "En Python, on peut découper une liste pour extraire les éléments de tel à tel index.\n",
    "\n",
    "Exemple:"
   ]
  },
  {
   "cell_type": "code",
   "execution_count": 26,
   "metadata": {},
   "outputs": [],
   "source": [
    "maliste = ['un', 'deux', 'trois', 'quatre', 'cinq', 'six']"
   ]
  },
  {
   "cell_type": "code",
   "execution_count": 27,
   "metadata": {},
   "outputs": [
    {
     "data": {
      "text/plain": [
       "['deux', 'trois', 'quatre']"
      ]
     },
     "execution_count": 27,
     "metadata": {},
     "output_type": "execute_result"
    }
   ],
   "source": [
    "# Du 2e au 4e élément – mais comme toujours, la numérotation commence à zéro\n",
    "maliste[1:4]"
   ]
  },
  {
   "cell_type": "code",
   "execution_count": 28,
   "metadata": {},
   "outputs": [
    {
     "data": {
      "text/plain": [
       "['trois', 'quatre', 'cinq', 'six']"
      ]
     },
     "execution_count": 28,
     "metadata": {},
     "output_type": "execute_result"
    }
   ],
   "source": [
    "# Elements à partir du 3ème\n",
    "maliste[2:]"
   ]
  },
  {
   "cell_type": "code",
   "execution_count": 29,
   "metadata": {},
   "outputs": [
    {
     "data": {
      "text/plain": [
       "['quatre', 'cinq', 'six']"
      ]
     },
     "execution_count": 29,
     "metadata": {},
     "output_type": "execute_result"
    }
   ],
   "source": [
    "# Trois derniers éléments\n",
    "maliste[-3:]"
   ]
  },
  {
   "cell_type": "markdown",
   "metadata": {},
   "source": [
    "### Dans Pandas\n",
    "On peut faire pareil pour les lignes de notre tableau"
   ]
  },
  {
   "cell_type": "code",
   "execution_count": 30,
   "metadata": {},
   "outputs": [
    {
     "data": {
      "text/html": [
       "<div>\n",
       "<style scoped>\n",
       "    .dataframe tbody tr th:only-of-type {\n",
       "        vertical-align: middle;\n",
       "    }\n",
       "\n",
       "    .dataframe tbody tr th {\n",
       "        vertical-align: top;\n",
       "    }\n",
       "\n",
       "    .dataframe thead th {\n",
       "        text-align: right;\n",
       "    }\n",
       "</style>\n",
       "<table border=\"1\" class=\"dataframe\">\n",
       "  <thead>\n",
       "    <tr style=\"text-align: right;\">\n",
       "      <th></th>\n",
       "      <th>Date</th>\n",
       "      <th>Nombre de cas</th>\n",
       "      <th>Nombre de cas, cumulé</th>\n",
       "      <th>Nombre de cas hospitalisés</th>\n",
       "      <th>Nombre de cas hospitalisés, cumulé</th>\n",
       "      <th>Nombre de décés</th>\n",
       "      <th>Nombre de décés, cumulé</th>\n",
       "    </tr>\n",
       "  </thead>\n",
       "  <tbody>\n",
       "    <tr>\n",
       "      <th>5</th>\n",
       "      <td>2020-02-29</td>\n",
       "      <td>13</td>\n",
       "      <td>45</td>\n",
       "      <td>14</td>\n",
       "      <td>42</td>\n",
       "      <td>NaN</td>\n",
       "      <td>NaN</td>\n",
       "    </tr>\n",
       "    <tr>\n",
       "      <th>6</th>\n",
       "      <td>2020-03-01</td>\n",
       "      <td>11</td>\n",
       "      <td>56</td>\n",
       "      <td>10</td>\n",
       "      <td>52</td>\n",
       "      <td>NaN</td>\n",
       "      <td>NaN</td>\n",
       "    </tr>\n",
       "  </tbody>\n",
       "</table>\n",
       "</div>"
      ],
      "text/plain": [
       "        Date  Nombre de cas  Nombre de cas, cumulé  \\\n",
       "5 2020-02-29             13                     45   \n",
       "6 2020-03-01             11                     56   \n",
       "\n",
       "   Nombre de cas hospitalisés  Nombre de cas hospitalisés, cumulé  \\\n",
       "5                          14                                  42   \n",
       "6                          10                                  52   \n",
       "\n",
       "   Nombre de décés  Nombre de décés, cumulé  \n",
       "5              NaN                      NaN  \n",
       "6              NaN                      NaN  "
      ]
     },
     "execution_count": 30,
     "metadata": {},
     "output_type": "execute_result"
    }
   ],
   "source": [
    "# Index 5 et 6 contre intuitif \n",
    "df[5:7]"
   ]
  },
  {
   "cell_type": "code",
   "execution_count": 31,
   "metadata": {},
   "outputs": [
    {
     "data": {
      "text/html": [
       "<div>\n",
       "<style scoped>\n",
       "    .dataframe tbody tr th:only-of-type {\n",
       "        vertical-align: middle;\n",
       "    }\n",
       "\n",
       "    .dataframe tbody tr th {\n",
       "        vertical-align: top;\n",
       "    }\n",
       "\n",
       "    .dataframe thead th {\n",
       "        text-align: right;\n",
       "    }\n",
       "</style>\n",
       "<table border=\"1\" class=\"dataframe\">\n",
       "  <thead>\n",
       "    <tr style=\"text-align: right;\">\n",
       "      <th></th>\n",
       "      <th>Date</th>\n",
       "      <th>Nombre de cas</th>\n",
       "      <th>Nombre de cas, cumulé</th>\n",
       "      <th>Nombre de cas hospitalisés</th>\n",
       "      <th>Nombre de cas hospitalisés, cumulé</th>\n",
       "      <th>Nombre de décés</th>\n",
       "      <th>Nombre de décés, cumulé</th>\n",
       "    </tr>\n",
       "  </thead>\n",
       "  <tbody>\n",
       "    <tr>\n",
       "      <th>0</th>\n",
       "      <td>2020-02-24</td>\n",
       "      <td>1</td>\n",
       "      <td>1</td>\n",
       "      <td>5</td>\n",
       "      <td>5</td>\n",
       "      <td>NaN</td>\n",
       "      <td>NaN</td>\n",
       "    </tr>\n",
       "    <tr>\n",
       "      <th>1</th>\n",
       "      <td>2020-02-25</td>\n",
       "      <td>1</td>\n",
       "      <td>2</td>\n",
       "      <td>4</td>\n",
       "      <td>9</td>\n",
       "      <td>NaN</td>\n",
       "      <td>NaN</td>\n",
       "    </tr>\n",
       "    <tr>\n",
       "      <th>2</th>\n",
       "      <td>2020-02-26</td>\n",
       "      <td>10</td>\n",
       "      <td>12</td>\n",
       "      <td>9</td>\n",
       "      <td>18</td>\n",
       "      <td>NaN</td>\n",
       "      <td>NaN</td>\n",
       "    </tr>\n",
       "    <tr>\n",
       "      <th>3</th>\n",
       "      <td>2020-02-27</td>\n",
       "      <td>10</td>\n",
       "      <td>22</td>\n",
       "      <td>5</td>\n",
       "      <td>23</td>\n",
       "      <td>NaN</td>\n",
       "      <td>NaN</td>\n",
       "    </tr>\n",
       "    <tr>\n",
       "      <th>4</th>\n",
       "      <td>2020-02-28</td>\n",
       "      <td>10</td>\n",
       "      <td>32</td>\n",
       "      <td>5</td>\n",
       "      <td>28</td>\n",
       "      <td>NaN</td>\n",
       "      <td>NaN</td>\n",
       "    </tr>\n",
       "    <tr>\n",
       "      <th>...</th>\n",
       "      <td>...</td>\n",
       "      <td>...</td>\n",
       "      <td>...</td>\n",
       "      <td>...</td>\n",
       "      <td>...</td>\n",
       "      <td>...</td>\n",
       "      <td>...</td>\n",
       "    </tr>\n",
       "    <tr>\n",
       "      <th>469</th>\n",
       "      <td>2021-06-07</td>\n",
       "      <td>583</td>\n",
       "      <td>699051</td>\n",
       "      <td>15</td>\n",
       "      <td>28859</td>\n",
       "      <td>2.0</td>\n",
       "      <td>10299.0</td>\n",
       "    </tr>\n",
       "    <tr>\n",
       "      <th>470</th>\n",
       "      <td>2021-06-08</td>\n",
       "      <td>415</td>\n",
       "      <td>699466</td>\n",
       "      <td>6</td>\n",
       "      <td>28865</td>\n",
       "      <td>1.0</td>\n",
       "      <td>10300.0</td>\n",
       "    </tr>\n",
       "    <tr>\n",
       "      <th>471</th>\n",
       "      <td>2021-06-09</td>\n",
       "      <td>372</td>\n",
       "      <td>699838</td>\n",
       "      <td>8</td>\n",
       "      <td>28873</td>\n",
       "      <td>3.0</td>\n",
       "      <td>10303.0</td>\n",
       "    </tr>\n",
       "    <tr>\n",
       "      <th>472</th>\n",
       "      <td>2021-06-10</td>\n",
       "      <td>210</td>\n",
       "      <td>700048</td>\n",
       "      <td>2</td>\n",
       "      <td>28875</td>\n",
       "      <td>1.0</td>\n",
       "      <td>10304.0</td>\n",
       "    </tr>\n",
       "    <tr>\n",
       "      <th>473</th>\n",
       "      <td>2021-06-11</td>\n",
       "      <td>3</td>\n",
       "      <td>700051</td>\n",
       "      <td>0</td>\n",
       "      <td>28875</td>\n",
       "      <td>0.0</td>\n",
       "      <td>10304.0</td>\n",
       "    </tr>\n",
       "  </tbody>\n",
       "</table>\n",
       "<p>474 rows × 7 columns</p>\n",
       "</div>"
      ],
      "text/plain": [
       "          Date  Nombre de cas  Nombre de cas, cumulé  \\\n",
       "0   2020-02-24              1                      1   \n",
       "1   2020-02-25              1                      2   \n",
       "2   2020-02-26             10                     12   \n",
       "3   2020-02-27             10                     22   \n",
       "4   2020-02-28             10                     32   \n",
       "..         ...            ...                    ...   \n",
       "469 2021-06-07            583                 699051   \n",
       "470 2021-06-08            415                 699466   \n",
       "471 2021-06-09            372                 699838   \n",
       "472 2021-06-10            210                 700048   \n",
       "473 2021-06-11              3                 700051   \n",
       "\n",
       "     Nombre de cas hospitalisés  Nombre de cas hospitalisés, cumulé  \\\n",
       "0                             5                                   5   \n",
       "1                             4                                   9   \n",
       "2                             9                                  18   \n",
       "3                             5                                  23   \n",
       "4                             5                                  28   \n",
       "..                          ...                                 ...   \n",
       "469                          15                               28859   \n",
       "470                           6                               28865   \n",
       "471                           8                               28873   \n",
       "472                           2                               28875   \n",
       "473                           0                               28875   \n",
       "\n",
       "     Nombre de décés  Nombre de décés, cumulé  \n",
       "0                NaN                      NaN  \n",
       "1                NaN                      NaN  \n",
       "2                NaN                      NaN  \n",
       "3                NaN                      NaN  \n",
       "4                NaN                      NaN  \n",
       "..               ...                      ...  \n",
       "469              2.0                  10299.0  \n",
       "470              1.0                  10300.0  \n",
       "471              3.0                  10303.0  \n",
       "472              1.0                  10304.0  \n",
       "473              0.0                  10304.0  \n",
       "\n",
       "[474 rows x 7 columns]"
      ]
     },
     "execution_count": 31,
     "metadata": {},
     "output_type": "execute_result"
    }
   ],
   "source": [
    "df"
   ]
  },
  {
   "cell_type": "code",
   "execution_count": 32,
   "metadata": {},
   "outputs": [
    {
     "data": {
      "text/html": [
       "<div>\n",
       "<style scoped>\n",
       "    .dataframe tbody tr th:only-of-type {\n",
       "        vertical-align: middle;\n",
       "    }\n",
       "\n",
       "    .dataframe tbody tr th {\n",
       "        vertical-align: top;\n",
       "    }\n",
       "\n",
       "    .dataframe thead th {\n",
       "        text-align: right;\n",
       "    }\n",
       "</style>\n",
       "<table border=\"1\" class=\"dataframe\">\n",
       "  <thead>\n",
       "    <tr style=\"text-align: right;\">\n",
       "      <th></th>\n",
       "      <th>Date</th>\n",
       "      <th>Nombre de cas</th>\n",
       "      <th>Nombre de cas, cumulé</th>\n",
       "      <th>Nombre de cas hospitalisés</th>\n",
       "      <th>Nombre de cas hospitalisés, cumulé</th>\n",
       "      <th>Nombre de décés</th>\n",
       "      <th>Nombre de décés, cumulé</th>\n",
       "    </tr>\n",
       "  </thead>\n",
       "  <tbody>\n",
       "    <tr>\n",
       "      <th>472</th>\n",
       "      <td>2021-06-10</td>\n",
       "      <td>210</td>\n",
       "      <td>700048</td>\n",
       "      <td>2</td>\n",
       "      <td>28875</td>\n",
       "      <td>1.0</td>\n",
       "      <td>10304.0</td>\n",
       "    </tr>\n",
       "    <tr>\n",
       "      <th>473</th>\n",
       "      <td>2021-06-11</td>\n",
       "      <td>3</td>\n",
       "      <td>700051</td>\n",
       "      <td>0</td>\n",
       "      <td>28875</td>\n",
       "      <td>0.0</td>\n",
       "      <td>10304.0</td>\n",
       "    </tr>\n",
       "  </tbody>\n",
       "</table>\n",
       "</div>"
      ],
      "text/plain": [
       "          Date  Nombre de cas  Nombre de cas, cumulé  \\\n",
       "472 2021-06-10            210                 700048   \n",
       "473 2021-06-11              3                 700051   \n",
       "\n",
       "     Nombre de cas hospitalisés  Nombre de cas hospitalisés, cumulé  \\\n",
       "472                           2                               28875   \n",
       "473                           0                               28875   \n",
       "\n",
       "     Nombre de décés  Nombre de décés, cumulé  \n",
       "472              1.0                  10304.0  \n",
       "473              0.0                  10304.0  "
      ]
     },
     "execution_count": 32,
     "metadata": {},
     "output_type": "execute_result"
    }
   ],
   "source": [
    "# Les deux dernières lignes\n",
    "df[-2:]"
   ]
  },
  {
   "cell_type": "code",
   "execution_count": 33,
   "metadata": {},
   "outputs": [
    {
     "data": {
      "text/html": [
       "<div>\n",
       "<style scoped>\n",
       "    .dataframe tbody tr th:only-of-type {\n",
       "        vertical-align: middle;\n",
       "    }\n",
       "\n",
       "    .dataframe tbody tr th {\n",
       "        vertical-align: top;\n",
       "    }\n",
       "\n",
       "    .dataframe thead th {\n",
       "        text-align: right;\n",
       "    }\n",
       "</style>\n",
       "<table border=\"1\" class=\"dataframe\">\n",
       "  <thead>\n",
       "    <tr style=\"text-align: right;\">\n",
       "      <th></th>\n",
       "      <th>Date</th>\n",
       "      <th>Nombre de cas</th>\n",
       "      <th>Nombre de cas, cumulé</th>\n",
       "      <th>Nombre de cas hospitalisés</th>\n",
       "      <th>Nombre de cas hospitalisés, cumulé</th>\n",
       "      <th>Nombre de décés</th>\n",
       "      <th>Nombre de décés, cumulé</th>\n",
       "    </tr>\n",
       "  </thead>\n",
       "  <tbody>\n",
       "    <tr>\n",
       "      <th>464</th>\n",
       "      <td>2021-06-02</td>\n",
       "      <td>550</td>\n",
       "      <td>697008</td>\n",
       "      <td>11</td>\n",
       "      <td>28786</td>\n",
       "      <td>3.0</td>\n",
       "      <td>10279.0</td>\n",
       "    </tr>\n",
       "    <tr>\n",
       "      <th>465</th>\n",
       "      <td>2021-06-03</td>\n",
       "      <td>473</td>\n",
       "      <td>697481</td>\n",
       "      <td>16</td>\n",
       "      <td>28802</td>\n",
       "      <td>6.0</td>\n",
       "      <td>10285.0</td>\n",
       "    </tr>\n",
       "    <tr>\n",
       "      <th>466</th>\n",
       "      <td>2021-06-04</td>\n",
       "      <td>486</td>\n",
       "      <td>697967</td>\n",
       "      <td>17</td>\n",
       "      <td>28819</td>\n",
       "      <td>5.0</td>\n",
       "      <td>10290.0</td>\n",
       "    </tr>\n",
       "    <tr>\n",
       "      <th>467</th>\n",
       "      <td>2021-06-05</td>\n",
       "      <td>314</td>\n",
       "      <td>698281</td>\n",
       "      <td>11</td>\n",
       "      <td>28830</td>\n",
       "      <td>2.0</td>\n",
       "      <td>10292.0</td>\n",
       "    </tr>\n",
       "    <tr>\n",
       "      <th>468</th>\n",
       "      <td>2021-06-06</td>\n",
       "      <td>187</td>\n",
       "      <td>698468</td>\n",
       "      <td>14</td>\n",
       "      <td>28844</td>\n",
       "      <td>5.0</td>\n",
       "      <td>10297.0</td>\n",
       "    </tr>\n",
       "    <tr>\n",
       "      <th>469</th>\n",
       "      <td>2021-06-07</td>\n",
       "      <td>583</td>\n",
       "      <td>699051</td>\n",
       "      <td>15</td>\n",
       "      <td>28859</td>\n",
       "      <td>2.0</td>\n",
       "      <td>10299.0</td>\n",
       "    </tr>\n",
       "    <tr>\n",
       "      <th>470</th>\n",
       "      <td>2021-06-08</td>\n",
       "      <td>415</td>\n",
       "      <td>699466</td>\n",
       "      <td>6</td>\n",
       "      <td>28865</td>\n",
       "      <td>1.0</td>\n",
       "      <td>10300.0</td>\n",
       "    </tr>\n",
       "    <tr>\n",
       "      <th>471</th>\n",
       "      <td>2021-06-09</td>\n",
       "      <td>372</td>\n",
       "      <td>699838</td>\n",
       "      <td>8</td>\n",
       "      <td>28873</td>\n",
       "      <td>3.0</td>\n",
       "      <td>10303.0</td>\n",
       "    </tr>\n",
       "    <tr>\n",
       "      <th>472</th>\n",
       "      <td>2021-06-10</td>\n",
       "      <td>210</td>\n",
       "      <td>700048</td>\n",
       "      <td>2</td>\n",
       "      <td>28875</td>\n",
       "      <td>1.0</td>\n",
       "      <td>10304.0</td>\n",
       "    </tr>\n",
       "    <tr>\n",
       "      <th>473</th>\n",
       "      <td>2021-06-11</td>\n",
       "      <td>3</td>\n",
       "      <td>700051</td>\n",
       "      <td>0</td>\n",
       "      <td>28875</td>\n",
       "      <td>0.0</td>\n",
       "      <td>10304.0</td>\n",
       "    </tr>\n",
       "  </tbody>\n",
       "</table>\n",
       "</div>"
      ],
      "text/plain": [
       "          Date  Nombre de cas  Nombre de cas, cumulé  \\\n",
       "464 2021-06-02            550                 697008   \n",
       "465 2021-06-03            473                 697481   \n",
       "466 2021-06-04            486                 697967   \n",
       "467 2021-06-05            314                 698281   \n",
       "468 2021-06-06            187                 698468   \n",
       "469 2021-06-07            583                 699051   \n",
       "470 2021-06-08            415                 699466   \n",
       "471 2021-06-09            372                 699838   \n",
       "472 2021-06-10            210                 700048   \n",
       "473 2021-06-11              3                 700051   \n",
       "\n",
       "     Nombre de cas hospitalisés  Nombre de cas hospitalisés, cumulé  \\\n",
       "464                          11                               28786   \n",
       "465                          16                               28802   \n",
       "466                          17                               28819   \n",
       "467                          11                               28830   \n",
       "468                          14                               28844   \n",
       "469                          15                               28859   \n",
       "470                           6                               28865   \n",
       "471                           8                               28873   \n",
       "472                           2                               28875   \n",
       "473                           0                               28875   \n",
       "\n",
       "     Nombre de décés  Nombre de décés, cumulé  \n",
       "464              3.0                  10279.0  \n",
       "465              6.0                  10285.0  \n",
       "466              5.0                  10290.0  \n",
       "467              2.0                  10292.0  \n",
       "468              5.0                  10297.0  \n",
       "469              2.0                  10299.0  \n",
       "470              1.0                  10300.0  \n",
       "471              3.0                  10303.0  \n",
       "472              1.0                  10304.0  \n",
       "473              0.0                  10304.0  "
      ]
     },
     "execution_count": 33,
     "metadata": {},
     "output_type": "execute_result"
    }
   ],
   "source": [
    "# Les deux dernières lignes\n",
    "df[-10:]"
   ]
  },
  {
   "cell_type": "markdown",
   "metadata": {},
   "source": [
    "## Une date comme index\n",
    "On indique à Python de construire l’index à partir de la colonne **date**:"
   ]
  },
  {
   "cell_type": "code",
   "execution_count": 34,
   "metadata": {},
   "outputs": [],
   "source": [
    "# D’abord, on convertit la date\n",
    "df['Date'] = pd.to_datetime( df['Date'] )"
   ]
  },
  {
   "cell_type": "code",
   "execution_count": 35,
   "metadata": {},
   "outputs": [],
   "source": [
    "# Ensuite, on en fait notre index. N’oubliez pas inplace=True!\n",
    "df.set_index( df['Date'], inplace=True )"
   ]
  },
  {
   "cell_type": "code",
   "execution_count": 36,
   "metadata": {},
   "outputs": [
    {
     "data": {
      "text/html": [
       "<div>\n",
       "<style scoped>\n",
       "    .dataframe tbody tr th:only-of-type {\n",
       "        vertical-align: middle;\n",
       "    }\n",
       "\n",
       "    .dataframe tbody tr th {\n",
       "        vertical-align: top;\n",
       "    }\n",
       "\n",
       "    .dataframe thead th {\n",
       "        text-align: right;\n",
       "    }\n",
       "</style>\n",
       "<table border=\"1\" class=\"dataframe\">\n",
       "  <thead>\n",
       "    <tr style=\"text-align: right;\">\n",
       "      <th></th>\n",
       "      <th>Date</th>\n",
       "      <th>Nombre de cas</th>\n",
       "      <th>Nombre de cas, cumulé</th>\n",
       "      <th>Nombre de cas hospitalisés</th>\n",
       "      <th>Nombre de cas hospitalisés, cumulé</th>\n",
       "      <th>Nombre de décés</th>\n",
       "      <th>Nombre de décés, cumulé</th>\n",
       "    </tr>\n",
       "    <tr>\n",
       "      <th>Date</th>\n",
       "      <th></th>\n",
       "      <th></th>\n",
       "      <th></th>\n",
       "      <th></th>\n",
       "      <th></th>\n",
       "      <th></th>\n",
       "      <th></th>\n",
       "    </tr>\n",
       "  </thead>\n",
       "  <tbody>\n",
       "    <tr>\n",
       "      <th>2020-02-24</th>\n",
       "      <td>2020-02-24</td>\n",
       "      <td>1</td>\n",
       "      <td>1</td>\n",
       "      <td>5</td>\n",
       "      <td>5</td>\n",
       "      <td>NaN</td>\n",
       "      <td>NaN</td>\n",
       "    </tr>\n",
       "    <tr>\n",
       "      <th>2020-02-25</th>\n",
       "      <td>2020-02-25</td>\n",
       "      <td>1</td>\n",
       "      <td>2</td>\n",
       "      <td>4</td>\n",
       "      <td>9</td>\n",
       "      <td>NaN</td>\n",
       "      <td>NaN</td>\n",
       "    </tr>\n",
       "    <tr>\n",
       "      <th>2020-02-26</th>\n",
       "      <td>2020-02-26</td>\n",
       "      <td>10</td>\n",
       "      <td>12</td>\n",
       "      <td>9</td>\n",
       "      <td>18</td>\n",
       "      <td>NaN</td>\n",
       "      <td>NaN</td>\n",
       "    </tr>\n",
       "    <tr>\n",
       "      <th>2020-02-27</th>\n",
       "      <td>2020-02-27</td>\n",
       "      <td>10</td>\n",
       "      <td>22</td>\n",
       "      <td>5</td>\n",
       "      <td>23</td>\n",
       "      <td>NaN</td>\n",
       "      <td>NaN</td>\n",
       "    </tr>\n",
       "    <tr>\n",
       "      <th>2020-02-28</th>\n",
       "      <td>2020-02-28</td>\n",
       "      <td>10</td>\n",
       "      <td>32</td>\n",
       "      <td>5</td>\n",
       "      <td>28</td>\n",
       "      <td>NaN</td>\n",
       "      <td>NaN</td>\n",
       "    </tr>\n",
       "  </tbody>\n",
       "</table>\n",
       "</div>"
      ],
      "text/plain": [
       "                 Date  Nombre de cas  Nombre de cas, cumulé  \\\n",
       "Date                                                          \n",
       "2020-02-24 2020-02-24              1                      1   \n",
       "2020-02-25 2020-02-25              1                      2   \n",
       "2020-02-26 2020-02-26             10                     12   \n",
       "2020-02-27 2020-02-27             10                     22   \n",
       "2020-02-28 2020-02-28             10                     32   \n",
       "\n",
       "            Nombre de cas hospitalisés  Nombre de cas hospitalisés, cumulé  \\\n",
       "Date                                                                         \n",
       "2020-02-24                           5                                   5   \n",
       "2020-02-25                           4                                   9   \n",
       "2020-02-26                           9                                  18   \n",
       "2020-02-27                           5                                  23   \n",
       "2020-02-28                           5                                  28   \n",
       "\n",
       "            Nombre de décés  Nombre de décés, cumulé  \n",
       "Date                                                  \n",
       "2020-02-24              NaN                      NaN  \n",
       "2020-02-25              NaN                      NaN  \n",
       "2020-02-26              NaN                      NaN  \n",
       "2020-02-27              NaN                      NaN  \n",
       "2020-02-28              NaN                      NaN  "
      ]
     },
     "execution_count": 36,
     "metadata": {},
     "output_type": "execute_result"
    }
   ],
   "source": [
    "# Et voilà à quoi ça ressemble!\n",
    "df.head()"
   ]
  },
  {
   "cell_type": "markdown",
   "metadata": {},
   "source": [
    "## Sélectionner par date\n",
    "C’est le même principe que plus haut!"
   ]
  },
  {
   "cell_type": "code",
   "execution_count": null,
   "metadata": {},
   "outputs": [],
   "source": []
  },
  {
   "cell_type": "code",
   "execution_count": 37,
   "metadata": {},
   "outputs": [
    {
     "data": {
      "text/plain": [
       "3753"
      ]
     },
     "execution_count": 37,
     "metadata": {},
     "output_type": "execute_result"
    }
   ],
   "source": [
    "# On peut cibler des données de telle à telle date, puis faire la somme\n",
    "df['2020-02-28':'2020-03-16']['Nombre de cas'].sum()"
   ]
  },
  {
   "cell_type": "code",
   "execution_count": 38,
   "metadata": {},
   "outputs": [
    {
     "data": {
      "text/plain": [
       "697341"
      ]
     },
     "execution_count": 38,
     "metadata": {},
     "output_type": "execute_result"
    }
   ],
   "source": [
    "# Ou prendre les données dès / jusqu’à telle date\n",
    "df['2020-03-16':]['Nombre de cas'].sum()"
   ]
  },
  {
   "cell_type": "code",
   "execution_count": 39,
   "metadata": {},
   "outputs": [
    {
     "data": {
      "text/html": [
       "<div>\n",
       "<style scoped>\n",
       "    .dataframe tbody tr th:only-of-type {\n",
       "        vertical-align: middle;\n",
       "    }\n",
       "\n",
       "    .dataframe tbody tr th {\n",
       "        vertical-align: top;\n",
       "    }\n",
       "\n",
       "    .dataframe thead th {\n",
       "        text-align: right;\n",
       "    }\n",
       "</style>\n",
       "<table border=\"1\" class=\"dataframe\">\n",
       "  <thead>\n",
       "    <tr style=\"text-align: right;\">\n",
       "      <th></th>\n",
       "      <th>Date</th>\n",
       "      <th>Nombre de cas</th>\n",
       "      <th>Nombre de cas, cumulé</th>\n",
       "      <th>Nombre de cas hospitalisés</th>\n",
       "      <th>Nombre de cas hospitalisés, cumulé</th>\n",
       "      <th>Nombre de décés</th>\n",
       "      <th>Nombre de décés, cumulé</th>\n",
       "    </tr>\n",
       "    <tr>\n",
       "      <th>Date</th>\n",
       "      <th></th>\n",
       "      <th></th>\n",
       "      <th></th>\n",
       "      <th></th>\n",
       "      <th></th>\n",
       "      <th></th>\n",
       "      <th></th>\n",
       "    </tr>\n",
       "  </thead>\n",
       "  <tbody>\n",
       "    <tr>\n",
       "      <th>2020-03-20</th>\n",
       "      <td>2020-03-20</td>\n",
       "      <td>1147</td>\n",
       "      <td>8061</td>\n",
       "      <td>143</td>\n",
       "      <td>1096</td>\n",
       "      <td>21.0</td>\n",
       "      <td>90.0</td>\n",
       "    </tr>\n",
       "    <tr>\n",
       "      <th>2020-03-13</th>\n",
       "      <td>2020-03-13</td>\n",
       "      <td>433</td>\n",
       "      <td>1961</td>\n",
       "      <td>56</td>\n",
       "      <td>392</td>\n",
       "      <td>3.0</td>\n",
       "      <td>15.0</td>\n",
       "    </tr>\n",
       "    <tr>\n",
       "      <th>2020-03-28</th>\n",
       "      <td>2020-03-28</td>\n",
       "      <td>723</td>\n",
       "      <td>16231</td>\n",
       "      <td>123</td>\n",
       "      <td>2391</td>\n",
       "      <td>57.0</td>\n",
       "      <td>335.0</td>\n",
       "    </tr>\n",
       "    <tr>\n",
       "      <th>2020-03-02</th>\n",
       "      <td>2020-03-02</td>\n",
       "      <td>31</td>\n",
       "      <td>87</td>\n",
       "      <td>14</td>\n",
       "      <td>66</td>\n",
       "      <td>NaN</td>\n",
       "      <td>NaN</td>\n",
       "    </tr>\n",
       "    <tr>\n",
       "      <th>2020-03-24</th>\n",
       "      <td>2020-03-24</td>\n",
       "      <td>1243</td>\n",
       "      <td>12009</td>\n",
       "      <td>181</td>\n",
       "      <td>1693</td>\n",
       "      <td>19.0</td>\n",
       "      <td>169.0</td>\n",
       "    </tr>\n",
       "  </tbody>\n",
       "</table>\n",
       "</div>"
      ],
      "text/plain": [
       "                 Date  Nombre de cas  Nombre de cas, cumulé  \\\n",
       "Date                                                          \n",
       "2020-03-20 2020-03-20           1147                   8061   \n",
       "2020-03-13 2020-03-13            433                   1961   \n",
       "2020-03-28 2020-03-28            723                  16231   \n",
       "2020-03-02 2020-03-02             31                     87   \n",
       "2020-03-24 2020-03-24           1243                  12009   \n",
       "\n",
       "            Nombre de cas hospitalisés  Nombre de cas hospitalisés, cumulé  \\\n",
       "Date                                                                         \n",
       "2020-03-20                         143                                1096   \n",
       "2020-03-13                          56                                 392   \n",
       "2020-03-28                         123                                2391   \n",
       "2020-03-02                          14                                  66   \n",
       "2020-03-24                         181                                1693   \n",
       "\n",
       "            Nombre de décés  Nombre de décés, cumulé  \n",
       "Date                                                  \n",
       "2020-03-20             21.0                     90.0  \n",
       "2020-03-13              3.0                     15.0  \n",
       "2020-03-28             57.0                    335.0  \n",
       "2020-03-02              NaN                      NaN  \n",
       "2020-03-24             19.0                    169.0  "
      ]
     },
     "execution_count": 39,
     "metadata": {},
     "output_type": "execute_result"
    }
   ],
   "source": [
    "# Ou encore prendre un mois entier, avec .loc\n",
    "# J’ai pris 5 lignes au hasard pour ne pas prendre tout votre écran\n",
    "df.loc['2020-03'].sample(5)"
   ]
  },
  {
   "cell_type": "code",
   "execution_count": 40,
   "metadata": {},
   "outputs": [
    {
     "data": {
      "text/html": [
       "<div>\n",
       "<style scoped>\n",
       "    .dataframe tbody tr th:only-of-type {\n",
       "        vertical-align: middle;\n",
       "    }\n",
       "\n",
       "    .dataframe tbody tr th {\n",
       "        vertical-align: top;\n",
       "    }\n",
       "\n",
       "    .dataframe thead th {\n",
       "        text-align: right;\n",
       "    }\n",
       "</style>\n",
       "<table border=\"1\" class=\"dataframe\">\n",
       "  <thead>\n",
       "    <tr style=\"text-align: right;\">\n",
       "      <th></th>\n",
       "      <th>Date</th>\n",
       "      <th>Nombre de cas</th>\n",
       "      <th>Nombre de cas, cumulé</th>\n",
       "      <th>Nombre de cas hospitalisés</th>\n",
       "      <th>Nombre de cas hospitalisés, cumulé</th>\n",
       "      <th>Nombre de décés</th>\n",
       "      <th>Nombre de décés, cumulé</th>\n",
       "    </tr>\n",
       "    <tr>\n",
       "      <th>Date</th>\n",
       "      <th></th>\n",
       "      <th></th>\n",
       "      <th></th>\n",
       "      <th></th>\n",
       "      <th></th>\n",
       "      <th></th>\n",
       "      <th></th>\n",
       "    </tr>\n",
       "  </thead>\n",
       "  <tbody>\n",
       "    <tr>\n",
       "      <th>2020-08-29</th>\n",
       "      <td>2020-08-29</td>\n",
       "      <td>216</td>\n",
       "      <td>42213</td>\n",
       "      <td>2</td>\n",
       "      <td>4511</td>\n",
       "      <td>0.0</td>\n",
       "      <td>1769.0</td>\n",
       "    </tr>\n",
       "    <tr>\n",
       "      <th>2020-08-30</th>\n",
       "      <td>2020-08-30</td>\n",
       "      <td>144</td>\n",
       "      <td>42357</td>\n",
       "      <td>7</td>\n",
       "      <td>4518</td>\n",
       "      <td>1.0</td>\n",
       "      <td>1770.0</td>\n",
       "    </tr>\n",
       "    <tr>\n",
       "      <th>2020-08-31</th>\n",
       "      <td>2020-08-31</td>\n",
       "      <td>347</td>\n",
       "      <td>42704</td>\n",
       "      <td>9</td>\n",
       "      <td>4527</td>\n",
       "      <td>1.0</td>\n",
       "      <td>1771.0</td>\n",
       "    </tr>\n",
       "    <tr>\n",
       "      <th>2020-09-01</th>\n",
       "      <td>2020-09-01</td>\n",
       "      <td>364</td>\n",
       "      <td>43068</td>\n",
       "      <td>11</td>\n",
       "      <td>4538</td>\n",
       "      <td>1.0</td>\n",
       "      <td>1772.0</td>\n",
       "    </tr>\n",
       "    <tr>\n",
       "      <th>2020-09-02</th>\n",
       "      <td>2020-09-02</td>\n",
       "      <td>417</td>\n",
       "      <td>43485</td>\n",
       "      <td>11</td>\n",
       "      <td>4549</td>\n",
       "      <td>3.0</td>\n",
       "      <td>1775.0</td>\n",
       "    </tr>\n",
       "  </tbody>\n",
       "</table>\n",
       "</div>"
      ],
      "text/plain": [
       "                 Date  Nombre de cas  Nombre de cas, cumulé  \\\n",
       "Date                                                          \n",
       "2020-08-29 2020-08-29            216                  42213   \n",
       "2020-08-30 2020-08-30            144                  42357   \n",
       "2020-08-31 2020-08-31            347                  42704   \n",
       "2020-09-01 2020-09-01            364                  43068   \n",
       "2020-09-02 2020-09-02            417                  43485   \n",
       "\n",
       "            Nombre de cas hospitalisés  Nombre de cas hospitalisés, cumulé  \\\n",
       "Date                                                                         \n",
       "2020-08-29                           2                                4511   \n",
       "2020-08-30                           7                                4518   \n",
       "2020-08-31                           9                                4527   \n",
       "2020-09-01                          11                                4538   \n",
       "2020-09-02                          11                                4549   \n",
       "\n",
       "            Nombre de décés  Nombre de décés, cumulé  \n",
       "Date                                                  \n",
       "2020-08-29              0.0                   1769.0  \n",
       "2020-08-30              1.0                   1770.0  \n",
       "2020-08-31              1.0                   1771.0  \n",
       "2020-09-01              1.0                   1772.0  \n",
       "2020-09-02              3.0                   1775.0  "
      ]
     },
     "execution_count": 40,
     "metadata": {},
     "output_type": "execute_result"
    }
   ],
   "source": [
    "df[:'2020-09-02'].tail()"
   ]
  },
  {
   "cell_type": "markdown",
   "metadata": {},
   "source": [
    "# Passons aux graphiques!\n",
    "\n",
    "Matplotlib est un module Python très puissant pour les graphiques.\n",
    "\n",
    "Mais il est aussi très «bas niveau». Vous pouvez tout faire, mais vous devez un peu tout lui dire.\n",
    "\n",
    "Google et StackOverflow sont vos amis..."
   ]
  },
  {
   "cell_type": "code",
   "execution_count": 41,
   "metadata": {},
   "outputs": [],
   "source": [
    "plt.style.use('fivethirtyeight')"
   ]
  },
  {
   "cell_type": "code",
   "execution_count": 42,
   "metadata": {},
   "outputs": [
    {
     "data": {
      "text/plain": [
       "<AxesSubplot:xlabel='Date'>"
      ]
     },
     "execution_count": 42,
     "metadata": {},
     "output_type": "execute_result"
    },
    {
     "data": {
      "image/png": "[encoded data removed]",
      "text/plain": [
       "<Figure size 1008x576 with 1 Axes>"
      ]
     },
     "metadata": {},
     "output_type": "display_data"
    }
   ],
   "source": [
    "# Le nombre de cas quotidien\n",
    "df['Nombre de cas'].plot(figsize=(14, 8))"
   ]
  },
  {
   "cell_type": "code",
   "execution_count": 43,
   "metadata": {
    "scrolled": true
   },
   "outputs": [
    {
     "data": {
      "text/plain": [
       "<AxesSubplot:>"
      ]
     },
     "execution_count": 43,
     "metadata": {},
     "output_type": "execute_result"
    },
    {
     "data": {
      "image/png": "[encoded data removed]",
      "text/plain": [
       "<Figure size 432x288 with 1 Axes>"
      ]
     },
     "metadata": {},
     "output_type": "display_data"
    }
   ],
   "source": [
    "# Un histogramme, pour voir comment les données sont distribuées\n",
    "df['Nombre de cas'].hist(bins=10)"
   ]
  },
  {
   "cell_type": "code",
   "execution_count": 44,
   "metadata": {},
   "outputs": [
    {
     "data": {
      "image/png": "[encoded data removed]",
      "text/plain": [
       "<Figure size 1008x576 with 1 Axes>"
      ]
     },
     "metadata": {},
     "output_type": "display_data"
    }
   ],
   "source": [
    "# Et si on veut exporter notre graphique en PDF, pour le retravailler?\n",
    "df['Nombre de cas'].plot(kind='line', figsize=(14, 8))\n",
    "plt.tight_layout()\n",
    "plt.savefig('export_graphique.pdf')"
   ]
  },
  {
   "cell_type": "markdown",
   "metadata": {},
   "source": [
    "## Moyenne mobile = rolling average\n",
    "Les données du covid sont très fortement influencées par les jours de la semaine, avec des creux chaque week-end.\n",
    "\n",
    "Elles prennent plus de sens soit quand on les regroupe par semaine, soit avec une moyenne mobile sur 7 jours:"
   ]
  },
  {
   "cell_type": "code",
   "execution_count": 45,
   "metadata": {},
   "outputs": [
    {
     "data": {
      "text/plain": [
       "<AxesSubplot:xlabel='Date'>"
      ]
     },
     "execution_count": 45,
     "metadata": {},
     "output_type": "execute_result"
    },
    {
     "data": {
      "image/png": "[encoded data removed]",
      "text/plain": [
       "<Figure size 1008x576 with 1 Axes>"
      ]
     },
     "metadata": {},
     "output_type": "display_data"
    }
   ],
   "source": [
    "df['Nombre de cas'].rolling('7d').mean().plot(figsize=(14, 8))"
   ]
  },
  {
   "cell_type": "code",
   "execution_count": 47,
   "metadata": {},
   "outputs": [
    {
     "name": "stderr",
     "output_type": "stream",
     "text": [
      "<ipython-input-47-06fcbf5d117c>:3: FutureWarning: 'loffset' in .resample() and in Grouper() is deprecated.\n",
      "\n",
      ">>> df.resample(freq=\"3s\", loffset=\"8H\")\n",
      "\n",
      "becomes:\n",
      "\n",
      ">>> from pandas.tseries.frequencies import to_offset\n",
      ">>> df = df.resample(freq=\"3s\").mean()\n",
      ">>> df.index = df.index.to_timestamp() + to_offset(\"8H\")\n",
      "\n",
      "  df['Nombre de cas'].resample('W', label='left', loffset=pd.DateOffset(days=1)).sum()\n"
     ]
    },
    {
     "data": {
      "text/plain": [
       "Date\n",
       "2020-02-24      56\n",
       "2020-03-02     377\n",
       "2020-03-09    2277\n",
       "2020-03-16    6592\n",
       "2020-03-23    7364\n",
       "              ... \n",
       "2021-05-10    7851\n",
       "2021-05-17    7347\n",
       "2021-05-24    5113\n",
       "2021-05-31    3520\n",
       "2021-06-07    1583\n",
       "Name: Nombre de cas, Length: 68, dtype: int64"
      ]
     },
     "execution_count": 47,
     "metadata": {},
     "output_type": "execute_result"
    }
   ],
   "source": [
    "# Calculer la somme hebdomadaire.\n",
    "# Comme nos semaines commencent le lundi, on glisse un \"loffset\" (left offset) d’un jour.\n",
    "df['Nombre de cas'].resample('W', label='left', loffset=pd.DateOffset(days=1)).sum()"
   ]
  },
  {
   "cell_type": "markdown",
   "metadata": {},
   "source": [
    "## Exercice\n",
    "\n",
    "Pouvez-vous compléter ces données avec le nombre de tests par jour, également publié par l’OFSP [sur cette page](https://www.bag.admin.ch/bag/fr/home/krankheiten/ausbrueche-epidemien-pandemien/aktuelle-ausbrueche-epidemien/novel-cov/situation-schweiz-und-international.html)?\n",
    "\n",
    "Et lui appliquer également une moyenne mobile?"
   ]
  },
  {
   "cell_type": "code",
   "execution_count": null,
   "metadata": {},
   "outputs": [],
   "source": []
  },
  {
   "cell_type": "code",
   "execution_count": null,
   "metadata": {},
   "outputs": [],
   "source": []
  },
  {
   "cell_type": "markdown",
   "metadata": {},
   "source": [
    "## Pour terminer\n",
    "\n",
    "On peut exporter le résultat tout joli, avec moyenne mobile, vers datawrapper.\n",
    "\n",
    "Sélectionnez les colonnes et les dates qui vous intéressent, puis essayez un `to_excel('nom-du-fichier.xlsx')` ou `to_csv('nom-du-fichier.csv')`..."
   ]
  },
  {
   "cell_type": "code",
   "execution_count": null,
   "metadata": {},
   "outputs": [],
   "source": []
  }
 ],
 "metadata": {
  "kernelspec": {
   "display_name": "Python 3",
   "language": "python",
   "name": "python3"
  },
  "language_info": {
   "codemirror_mode": {
    "name": "ipython",
    "version": 3
   },
   "file_extension": ".py",
   "mimetype": "text/x-python",
   "name": "python",
   "nbconvert_exporter": "python",
   "pygments_lexer": "ipython3",
   "version": "3.8.8"
  }
 },
 "nbformat": 4,
 "nbformat_minor": 4
}
