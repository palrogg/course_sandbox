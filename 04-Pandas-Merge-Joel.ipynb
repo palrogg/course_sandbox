{
 "cells": [
  {
   "cell_type": "markdown",
   "metadata": {},
   "source": [
    "# Réunir des jeux de données\n",
    "\n",
    "L’OFSP actualise quotidiennement plusieurs tableaux de données sur le covid, listés [dans cette page](https://www.bag.admin.ch/bag/fr/home/krankheiten/ausbrueche-epidemien-pandemien/aktuelle-ausbrueche-epidemien/novel-cov/situation-schweiz-und-international.html).\n",
    "\n",
    "Dans ce notebook, on va réunir deux de ces jeux de données."
   ]
  },
  {
   "cell_type": "code",
   "execution_count": 7,
   "metadata": {},
   "outputs": [],
   "source": [
    "import pandas as pd"
   ]
  },
  {
   "cell_type": "code",
   "execution_count": 8,
   "metadata": {},
   "outputs": [
    {
     "name": "stderr",
     "output_type": "stream",
     "text": [
      "C:\\Users\\jf\\anaconda3\\lib\\site-packages\\IPython\\core\\interactiveshell.py:3071: DtypeWarning: Columns (1,8) have mixed types.Specify dtype option on import or set low_memory=False.\n",
      "  has_raised = await self.run_ast_nodes(code_ast.body, cell_name,\n"
     ]
    }
   ],
   "source": [
    "# On charge un fichier détaillé de l’OFSP dans sa version du 3 septembre 2020\n",
    "\n",
    "df = pd.read_csv('data/Dashboards_1&2_COVID19_swiss_data_pv-2.csv')\n",
    "\n",
    "# En principe, on pouvait aussi charger la dernière version directement sur le site de l’OFSP.\n",
    "# Ça ne marche plus (mais vous pouvez essayer, on sait jamais).\n",
    "# df = pd.read_excel('https://www.bag.admin.ch/dam/bag/fr/dokumente/mt/k-und-i/aktuelle-ausbrueche-pandemien/2019-nCoV/covid-19-basisdaten-fallzahlen.xlsx.download.xlsx/Dashboards_1&2_COVID19_swiss_data_pv.xlsx')"
   ]
  },
  {
   "cell_type": "markdown",
   "metadata": {},
   "source": [
    "Pandas a dû vous donner une erreur selon laquelle «des colonnes ont des types mixtes». Ça veut dire qu’il n’a pas pu identifier clairement quelle colonne contient une date, un entier, des float, etc. On va examiner ça."
   ]
  },
  {
   "cell_type": "code",
   "execution_count": 9,
   "metadata": {},
   "outputs": [
    {
     "data": {
      "text/plain": [
       "304255"
      ]
     },
     "execution_count": 9,
     "metadata": {},
     "output_type": "execute_result"
    }
   ],
   "source": [
    "# Combien de lignes en tout?\n",
    "len(df)"
   ]
  },
  {
   "cell_type": "code",
   "execution_count": 10,
   "metadata": {},
   "outputs": [
    {
     "data": {
      "text/html": [
       "<div>\n",
       "<style scoped>\n",
       "    .dataframe tbody tr th:only-of-type {\n",
       "        vertical-align: middle;\n",
       "    }\n",
       "\n",
       "    .dataframe tbody tr th {\n",
       "        vertical-align: top;\n",
       "    }\n",
       "\n",
       "    .dataframe thead th {\n",
       "        text-align: right;\n",
       "    }\n",
       "</style>\n",
       "<table border=\"1\" class=\"dataframe\">\n",
       "  <thead>\n",
       "    <tr style=\"text-align: right;\">\n",
       "      <th></th>\n",
       "      <th>replikation_dt</th>\n",
       "      <th>fall_dt</th>\n",
       "      <th>ktn</th>\n",
       "      <th>akl</th>\n",
       "      <th>sex</th>\n",
       "      <th>Geschlecht</th>\n",
       "      <th>Sexe</th>\n",
       "      <th>fallklasse_3</th>\n",
       "      <th>pttoddat</th>\n",
       "      <th>pttod_1</th>\n",
       "    </tr>\n",
       "  </thead>\n",
       "  <tbody>\n",
       "    <tr>\n",
       "      <th>0</th>\n",
       "      <td>2020-09-03 07:29:56</td>\n",
       "      <td>2020-02-24</td>\n",
       "      <td>TI</td>\n",
       "      <td>70 - 79</td>\n",
       "      <td>1</td>\n",
       "      <td>Männlich</td>\n",
       "      <td>homme</td>\n",
       "      <td>1</td>\n",
       "      <td>NaN</td>\n",
       "      <td>0</td>\n",
       "    </tr>\n",
       "    <tr>\n",
       "      <th>1</th>\n",
       "      <td>2020-09-03 07:29:56</td>\n",
       "      <td>2020-02-25</td>\n",
       "      <td>AG</td>\n",
       "      <td>20 - 29</td>\n",
       "      <td>1</td>\n",
       "      <td>Männlich</td>\n",
       "      <td>homme</td>\n",
       "      <td>1</td>\n",
       "      <td>NaN</td>\n",
       "      <td>0</td>\n",
       "    </tr>\n",
       "    <tr>\n",
       "      <th>2</th>\n",
       "      <td>2020-09-03 07:29:56</td>\n",
       "      <td>2020-02-26</td>\n",
       "      <td>BL</td>\n",
       "      <td>20 - 29</td>\n",
       "      <td>1</td>\n",
       "      <td>Männlich</td>\n",
       "      <td>homme</td>\n",
       "      <td>1</td>\n",
       "      <td>NaN</td>\n",
       "      <td>0</td>\n",
       "    </tr>\n",
       "    <tr>\n",
       "      <th>3</th>\n",
       "      <td>2020-09-03 07:29:56</td>\n",
       "      <td>2020-02-26</td>\n",
       "      <td>BS</td>\n",
       "      <td>20 - 29</td>\n",
       "      <td>2</td>\n",
       "      <td>Weiblich</td>\n",
       "      <td>femme</td>\n",
       "      <td>1</td>\n",
       "      <td>NaN</td>\n",
       "      <td>0</td>\n",
       "    </tr>\n",
       "    <tr>\n",
       "      <th>4</th>\n",
       "      <td>2020-09-03 07:29:56</td>\n",
       "      <td>2020-02-26</td>\n",
       "      <td>GE</td>\n",
       "      <td>20 - 29</td>\n",
       "      <td>1</td>\n",
       "      <td>Männlich</td>\n",
       "      <td>homme</td>\n",
       "      <td>1</td>\n",
       "      <td>NaN</td>\n",
       "      <td>0</td>\n",
       "    </tr>\n",
       "  </tbody>\n",
       "</table>\n",
       "</div>"
      ],
      "text/plain": [
       "        replikation_dt     fall_dt ktn      akl  sex Geschlecht   Sexe  \\\n",
       "0  2020-09-03 07:29:56  2020-02-24  TI  70 - 79    1   Männlich  homme   \n",
       "1  2020-09-03 07:29:56  2020-02-25  AG  20 - 29    1   Männlich  homme   \n",
       "2  2020-09-03 07:29:56  2020-02-26  BL  20 - 29    1   Männlich  homme   \n",
       "3  2020-09-03 07:29:56  2020-02-26  BS  20 - 29    2   Weiblich  femme   \n",
       "4  2020-09-03 07:29:56  2020-02-26  GE  20 - 29    1   Männlich  homme   \n",
       "\n",
       "   fallklasse_3 pttoddat  pttod_1  \n",
       "0             1      NaN        0  \n",
       "1             1      NaN        0  \n",
       "2             1      NaN        0  \n",
       "3             1      NaN        0  \n",
       "4             1      NaN        0  "
      ]
     },
     "execution_count": 10,
     "metadata": {},
     "output_type": "execute_result"
    }
   ],
   "source": [
    "df.head()"
   ]
  },
  {
   "cell_type": "markdown",
   "metadata": {},
   "source": [
    "La colonne **replikation_dt** contient la date de mise à jour du fichier. On n’en a pas besoin. Même chose pour la colonne **Geschlecht**, qui est à double."
   ]
  },
  {
   "cell_type": "code",
   "execution_count": 11,
   "metadata": {},
   "outputs": [],
   "source": [
    "del df['replikation_dt']\n",
    "del df['Geschlecht']"
   ]
  },
  {
   "cell_type": "markdown",
   "metadata": {},
   "source": [
    "Les autres colonnes sont expliquées dans un fichier de l’OFSP, on va leur donner un nom compréhensible…"
   ]
  },
  {
   "cell_type": "code",
   "execution_count": 12,
   "metadata": {},
   "outputs": [],
   "source": [
    "df.columns = ['date cas', 'canton', 'age', 'genre_num', 'genre', 'nouveaux cas',\n",
    "       'date décès', 'nouveaux décès']"
   ]
  },
  {
   "cell_type": "markdown",
   "metadata": {},
   "source": [
    "C’est mieux!\n",
    "\n",
    "Si on veut être sûr que les colonnes correspondent – par exemple pour un programme entièrement automatisé – on peut aussi utiliser la méthode suivante:"
   ]
  },
  {
   "cell_type": "code",
   "execution_count": 13,
   "metadata": {},
   "outputs": [],
   "source": [
    "df.rename(columns={\n",
    "    'fall_dt': 'date cas',\n",
    "    'ktn': 'canton'}, inplace=True)"
   ]
  },
  {
   "cell_type": "code",
   "execution_count": 14,
   "metadata": {},
   "outputs": [
    {
     "data": {
      "text/html": [
       "<div>\n",
       "<style scoped>\n",
       "    .dataframe tbody tr th:only-of-type {\n",
       "        vertical-align: middle;\n",
       "    }\n",
       "\n",
       "    .dataframe tbody tr th {\n",
       "        vertical-align: top;\n",
       "    }\n",
       "\n",
       "    .dataframe thead th {\n",
       "        text-align: right;\n",
       "    }\n",
       "</style>\n",
       "<table border=\"1\" class=\"dataframe\">\n",
       "  <thead>\n",
       "    <tr style=\"text-align: right;\">\n",
       "      <th></th>\n",
       "      <th>date cas</th>\n",
       "      <th>canton</th>\n",
       "      <th>age</th>\n",
       "      <th>genre_num</th>\n",
       "      <th>genre</th>\n",
       "      <th>nouveaux cas</th>\n",
       "      <th>date décès</th>\n",
       "      <th>nouveaux décès</th>\n",
       "    </tr>\n",
       "  </thead>\n",
       "  <tbody>\n",
       "    <tr>\n",
       "      <th>0</th>\n",
       "      <td>2020-02-24</td>\n",
       "      <td>TI</td>\n",
       "      <td>70 - 79</td>\n",
       "      <td>1</td>\n",
       "      <td>homme</td>\n",
       "      <td>1</td>\n",
       "      <td>NaN</td>\n",
       "      <td>0</td>\n",
       "    </tr>\n",
       "    <tr>\n",
       "      <th>1</th>\n",
       "      <td>2020-02-25</td>\n",
       "      <td>AG</td>\n",
       "      <td>20 - 29</td>\n",
       "      <td>1</td>\n",
       "      <td>homme</td>\n",
       "      <td>1</td>\n",
       "      <td>NaN</td>\n",
       "      <td>0</td>\n",
       "    </tr>\n",
       "    <tr>\n",
       "      <th>2</th>\n",
       "      <td>2020-02-26</td>\n",
       "      <td>BL</td>\n",
       "      <td>20 - 29</td>\n",
       "      <td>1</td>\n",
       "      <td>homme</td>\n",
       "      <td>1</td>\n",
       "      <td>NaN</td>\n",
       "      <td>0</td>\n",
       "    </tr>\n",
       "    <tr>\n",
       "      <th>3</th>\n",
       "      <td>2020-02-26</td>\n",
       "      <td>BS</td>\n",
       "      <td>20 - 29</td>\n",
       "      <td>2</td>\n",
       "      <td>femme</td>\n",
       "      <td>1</td>\n",
       "      <td>NaN</td>\n",
       "      <td>0</td>\n",
       "    </tr>\n",
       "    <tr>\n",
       "      <th>4</th>\n",
       "      <td>2020-02-26</td>\n",
       "      <td>GE</td>\n",
       "      <td>20 - 29</td>\n",
       "      <td>1</td>\n",
       "      <td>homme</td>\n",
       "      <td>1</td>\n",
       "      <td>NaN</td>\n",
       "      <td>0</td>\n",
       "    </tr>\n",
       "  </tbody>\n",
       "</table>\n",
       "</div>"
      ],
      "text/plain": [
       "     date cas canton      age  genre_num  genre  nouveaux cas date décès  \\\n",
       "0  2020-02-24     TI  70 - 79          1  homme             1        NaN   \n",
       "1  2020-02-25     AG  20 - 29          1  homme             1        NaN   \n",
       "2  2020-02-26     BL  20 - 29          1  homme             1        NaN   \n",
       "3  2020-02-26     BS  20 - 29          2  femme             1        NaN   \n",
       "4  2020-02-26     GE  20 - 29          1  homme             1        NaN   \n",
       "\n",
       "   nouveaux décès  \n",
       "0               0  \n",
       "1               0  \n",
       "2               0  \n",
       "3               0  \n",
       "4               0  "
      ]
     },
     "execution_count": 14,
     "metadata": {},
     "output_type": "execute_result"
    }
   ],
   "source": [
    "df.head()"
   ]
  },
  {
   "cell_type": "code",
   "execution_count": 15,
   "metadata": {},
   "outputs": [
    {
     "data": {
      "text/html": [
       "<div>\n",
       "<style scoped>\n",
       "    .dataframe tbody tr th:only-of-type {\n",
       "        vertical-align: middle;\n",
       "    }\n",
       "\n",
       "    .dataframe tbody tr th {\n",
       "        vertical-align: top;\n",
       "    }\n",
       "\n",
       "    .dataframe thead th {\n",
       "        text-align: right;\n",
       "    }\n",
       "</style>\n",
       "<table border=\"1\" class=\"dataframe\">\n",
       "  <thead>\n",
       "    <tr style=\"text-align: right;\">\n",
       "      <th></th>\n",
       "      <th>date cas</th>\n",
       "      <th>canton</th>\n",
       "      <th>age</th>\n",
       "      <th>genre_num</th>\n",
       "      <th>genre</th>\n",
       "      <th>nouveaux cas</th>\n",
       "      <th>date décès</th>\n",
       "      <th>nouveaux décès</th>\n",
       "    </tr>\n",
       "  </thead>\n",
       "  <tbody>\n",
       "    <tr>\n",
       "      <th>304250</th>\n",
       "      <td>NaN</td>\n",
       "      <td>ZH</td>\n",
       "      <td>80+</td>\n",
       "      <td>2</td>\n",
       "      <td>femme</td>\n",
       "      <td>0</td>\n",
       "      <td>2020-09-03</td>\n",
       "      <td>0</td>\n",
       "    </tr>\n",
       "    <tr>\n",
       "      <th>304251</th>\n",
       "      <td>NaN</td>\n",
       "      <td>ZH</td>\n",
       "      <td>80+</td>\n",
       "      <td>9</td>\n",
       "      <td>manquant</td>\n",
       "      <td>0</td>\n",
       "      <td>2020-09-03</td>\n",
       "      <td>0</td>\n",
       "    </tr>\n",
       "    <tr>\n",
       "      <th>304252</th>\n",
       "      <td>NaN</td>\n",
       "      <td>ZH</td>\n",
       "      <td>Unbekannt</td>\n",
       "      <td>1</td>\n",
       "      <td>homme</td>\n",
       "      <td>0</td>\n",
       "      <td>2020-09-03</td>\n",
       "      <td>0</td>\n",
       "    </tr>\n",
       "    <tr>\n",
       "      <th>304253</th>\n",
       "      <td>NaN</td>\n",
       "      <td>ZH</td>\n",
       "      <td>Unbekannt</td>\n",
       "      <td>2</td>\n",
       "      <td>femme</td>\n",
       "      <td>0</td>\n",
       "      <td>2020-09-03</td>\n",
       "      <td>0</td>\n",
       "    </tr>\n",
       "    <tr>\n",
       "      <th>304254</th>\n",
       "      <td>NaN</td>\n",
       "      <td>ZH</td>\n",
       "      <td>Unbekannt</td>\n",
       "      <td>9</td>\n",
       "      <td>manquant</td>\n",
       "      <td>0</td>\n",
       "      <td>2020-09-03</td>\n",
       "      <td>0</td>\n",
       "    </tr>\n",
       "  </tbody>\n",
       "</table>\n",
       "</div>"
      ],
      "text/plain": [
       "       date cas canton        age  genre_num     genre  nouveaux cas  \\\n",
       "304250      NaN     ZH        80+          2     femme             0   \n",
       "304251      NaN     ZH        80+          9  manquant             0   \n",
       "304252      NaN     ZH  Unbekannt          1     homme             0   \n",
       "304253      NaN     ZH  Unbekannt          2     femme             0   \n",
       "304254      NaN     ZH  Unbekannt          9  manquant             0   \n",
       "\n",
       "        date décès  nouveaux décès  \n",
       "304250  2020-09-03               0  \n",
       "304251  2020-09-03               0  \n",
       "304252  2020-09-03               0  \n",
       "304253  2020-09-03               0  \n",
       "304254  2020-09-03               0  "
      ]
     },
     "execution_count": 15,
     "metadata": {},
     "output_type": "execute_result"
    }
   ],
   "source": [
    "df.tail()"
   ]
  },
  {
   "cell_type": "markdown",
   "metadata": {},
   "source": [
    "Combien de lignes avec 0 nouveau cas? Et avec 0 nouveau décès?"
   ]
  },
  {
   "cell_type": "code",
   "execution_count": 16,
   "metadata": {
    "scrolled": true
   },
   "outputs": [
    {
     "data": {
      "text/plain": [
       "287564"
      ]
     },
     "execution_count": 16,
     "metadata": {},
     "output_type": "execute_result"
    }
   ],
   "source": [
    "len(df[ df['nouveaux cas'] == 0 ])"
   ]
  },
  {
   "cell_type": "code",
   "execution_count": 17,
   "metadata": {},
   "outputs": [
    {
     "data": {
      "text/plain": [
       "303082"
      ]
     },
     "execution_count": 17,
     "metadata": {},
     "output_type": "execute_result"
    }
   ],
   "source": [
    "len(df[ df['nouveaux décès'] == 0 ])"
   ]
  },
  {
   "cell_type": "markdown",
   "metadata": {},
   "source": [
    "On comprend que notre fichier contient en fait deux tableaux, mis à la suite:\n",
    "* cas confirmés par classe d’âge, genre et canton\n",
    "* décès par classe d’âge, genre et canton\n",
    "\n",
    "Dans cet exercice, on s’intéressera uniquement aux cas. L’instruction `.copy()` fait comprendre à Pandas que je ne veux pas enregistrer un sous-ensemble (une «slice») d’un tableau, mais créer un nouveau tableau."
   ]
  },
  {
   "cell_type": "code",
   "execution_count": 18,
   "metadata": {},
   "outputs": [],
   "source": [
    "df = df[ df['nouveaux cas'] > 0 ].copy()"
   ]
  },
  {
   "cell_type": "markdown",
   "metadata": {},
   "source": [
    "On n’a plus besoin des colonnes relatives aux décès."
   ]
  },
  {
   "cell_type": "code",
   "execution_count": 19,
   "metadata": {},
   "outputs": [],
   "source": [
    "del df['date décès']\n",
    "del df['nouveaux décès']"
   ]
  },
  {
   "cell_type": "markdown",
   "metadata": {},
   "source": [
    "## Filtrer les données\n",
    "\n",
    "Pour commencer, on va s’intéresser aux cantons romands en créant un sous-ensemble avec la méthode `isin()`. Elle est très pratique pour proposer une liste de valeurs à vérifier.\n",
    "\n",
    "On travaillera dans la suite du notebook avec la variable **dfr** (df des cantons romands)."
   ]
  },
  {
   "cell_type": "code",
   "execution_count": 20,
   "metadata": {},
   "outputs": [],
   "source": [
    "cantons_romands = ['VD', 'GE', 'JU', 'VS', 'NE', 'FR']\n",
    "dfr = df[ df['canton'].isin( cantons_romands ) ]"
   ]
  },
  {
   "cell_type": "code",
   "execution_count": 30,
   "metadata": {},
   "outputs": [
    {
     "data": {
      "text/html": [
       "<div>\n",
       "<style scoped>\n",
       "    .dataframe tbody tr th:only-of-type {\n",
       "        vertical-align: middle;\n",
       "    }\n",
       "\n",
       "    .dataframe tbody tr th {\n",
       "        vertical-align: top;\n",
       "    }\n",
       "\n",
       "    .dataframe thead th {\n",
       "        text-align: right;\n",
       "    }\n",
       "</style>\n",
       "<table border=\"1\" class=\"dataframe\">\n",
       "  <thead>\n",
       "    <tr style=\"text-align: right;\">\n",
       "      <th></th>\n",
       "      <th>date cas</th>\n",
       "      <th>canton</th>\n",
       "      <th>age</th>\n",
       "      <th>genre_num</th>\n",
       "      <th>genre</th>\n",
       "      <th>nouveaux cas</th>\n",
       "    </tr>\n",
       "  </thead>\n",
       "  <tbody>\n",
       "    <tr>\n",
       "      <th>4</th>\n",
       "      <td>2020-02-26</td>\n",
       "      <td>GE</td>\n",
       "      <td>20 - 29</td>\n",
       "      <td>1</td>\n",
       "      <td>homme</td>\n",
       "      <td>1</td>\n",
       "    </tr>\n",
       "    <tr>\n",
       "      <th>8</th>\n",
       "      <td>2020-02-26</td>\n",
       "      <td>JU</td>\n",
       "      <td>50 - 59</td>\n",
       "      <td>1</td>\n",
       "      <td>homme</td>\n",
       "      <td>1</td>\n",
       "    </tr>\n",
       "    <tr>\n",
       "      <th>9</th>\n",
       "      <td>2020-02-26</td>\n",
       "      <td>VD</td>\n",
       "      <td>40 - 49</td>\n",
       "      <td>1</td>\n",
       "      <td>homme</td>\n",
       "      <td>1</td>\n",
       "    </tr>\n",
       "    <tr>\n",
       "      <th>12</th>\n",
       "      <td>2020-02-27</td>\n",
       "      <td>GE</td>\n",
       "      <td>20 - 29</td>\n",
       "      <td>2</td>\n",
       "      <td>femme</td>\n",
       "      <td>1</td>\n",
       "    </tr>\n",
       "    <tr>\n",
       "      <th>13</th>\n",
       "      <td>2020-02-27</td>\n",
       "      <td>GE</td>\n",
       "      <td>30 - 39</td>\n",
       "      <td>1</td>\n",
       "      <td>homme</td>\n",
       "      <td>1</td>\n",
       "    </tr>\n",
       "  </tbody>\n",
       "</table>\n",
       "</div>"
      ],
      "text/plain": [
       "      date cas canton      age  genre_num  genre  nouveaux cas\n",
       "4   2020-02-26     GE  20 - 29          1  homme             1\n",
       "8   2020-02-26     JU  50 - 59          1  homme             1\n",
       "9   2020-02-26     VD  40 - 49          1  homme             1\n",
       "12  2020-02-27     GE  20 - 29          2  femme             1\n",
       "13  2020-02-27     GE  30 - 39          1  homme             1"
      ]
     },
     "execution_count": 30,
     "metadata": {},
     "output_type": "execute_result"
    }
   ],
   "source": [
    "dfr.head()"
   ]
  },
  {
   "cell_type": "markdown",
   "metadata": {},
   "source": [
    "## Regrouper les données\n",
    "Et si on s’intéressait uniquement aux cantons, et pas aux genres et aux âges?\n",
    "\n",
    "Pandas permet de **regrouper** des données avec la méthode `groupby()`.\n",
    "\n",
    "Voici par exemple le total pour les cantons romands:"
   ]
  },
  {
   "cell_type": "code",
   "execution_count": 35,
   "metadata": {},
   "outputs": [
    {
     "data": {
      "text/plain": [
       "canton\n",
       "FR    1771\n",
       "GE    7178\n",
       "JU     280\n",
       "NE     847\n",
       "VD    7520\n",
       "VS    2334\n",
       "Name: nouveaux cas, dtype: int64"
      ]
     },
     "execution_count": 35,
     "metadata": {},
     "output_type": "execute_result"
    }
   ],
   "source": [
    "dfr.groupby('canton')['nouveaux cas'].sum()"
   ]
  },
  {
   "cell_type": "markdown",
   "metadata": {},
   "source": [
    "Mais on peut aussi regrouper par canton **et âge**:"
   ]
  },
  {
   "cell_type": "code",
   "execution_count": 36,
   "metadata": {},
   "outputs": [],
   "source": [
    "dfr.groupby(['canton', 'age'])['nouveaux cas'].sum()"
   ]
  },
  {
   "cell_type": "markdown",
   "metadata": {},
   "source": [
    "# Réunir deux jeux de données\n",
    "On peut ajouter les noms des cantons à l’aide d’un autre tableau de données, qu’on va charger dans la variable **df_cantons**:"
   ]
  },
  {
   "cell_type": "code",
   "execution_count": 24,
   "metadata": {
    "scrolled": true
   },
   "outputs": [
    {
     "data": {
      "text/html": [
       "<div>\n",
       "<style scoped>\n",
       "    .dataframe tbody tr th:only-of-type {\n",
       "        vertical-align: middle;\n",
       "    }\n",
       "\n",
       "    .dataframe tbody tr th {\n",
       "        vertical-align: top;\n",
       "    }\n",
       "\n",
       "    .dataframe thead th {\n",
       "        text-align: right;\n",
       "    }\n",
       "</style>\n",
       "<table border=\"1\" class=\"dataframe\">\n",
       "  <thead>\n",
       "    <tr style=\"text-align: right;\">\n",
       "      <th></th>\n",
       "      <th>Unnamed: 0</th>\n",
       "      <th>name_fr</th>\n",
       "      <th>name_de</th>\n",
       "      <th>abbrev</th>\n",
       "      <th>lat</th>\n",
       "      <th>lng</th>\n",
       "    </tr>\n",
       "  </thead>\n",
       "  <tbody>\n",
       "    <tr>\n",
       "      <th>0</th>\n",
       "      <td>0</td>\n",
       "      <td>Argovie</td>\n",
       "      <td>Aargau</td>\n",
       "      <td>AG</td>\n",
       "      <td>47,3876664</td>\n",
       "      <td>8,1554295</td>\n",
       "    </tr>\n",
       "    <tr>\n",
       "      <th>1</th>\n",
       "      <td>1</td>\n",
       "      <td>Appenzell Rhodes-Extérieures</td>\n",
       "      <td>Appenzell Ausserrhoden</td>\n",
       "      <td>AR</td>\n",
       "      <td>47,366481</td>\n",
       "      <td>9,3000916</td>\n",
       "    </tr>\n",
       "    <tr>\n",
       "      <th>2</th>\n",
       "      <td>2</td>\n",
       "      <td>Appenzell Rhodes-Intérieures</td>\n",
       "      <td>Appenzell Innerrhoden</td>\n",
       "      <td>AI</td>\n",
       "      <td>47,3161925</td>\n",
       "      <td>9,6316573</td>\n",
       "    </tr>\n",
       "    <tr>\n",
       "      <th>3</th>\n",
       "      <td>3</td>\n",
       "      <td>Bâle-Campagne</td>\n",
       "      <td>Basel-Landschaft</td>\n",
       "      <td>BL</td>\n",
       "      <td>47,4418122</td>\n",
       "      <td>7,7644002</td>\n",
       "    </tr>\n",
       "    <tr>\n",
       "      <th>4</th>\n",
       "      <td>4</td>\n",
       "      <td>Bâle-Ville</td>\n",
       "      <td>Basel-Stadt</td>\n",
       "      <td>BS</td>\n",
       "      <td>47,5619253</td>\n",
       "      <td>7,592768</td>\n",
       "    </tr>\n",
       "  </tbody>\n",
       "</table>\n",
       "</div>"
      ],
      "text/plain": [
       "   Unnamed: 0                       name_fr                 name_de abbrev  \\\n",
       "0           0                       Argovie                  Aargau     AG   \n",
       "1           1  Appenzell Rhodes-Extérieures  Appenzell Ausserrhoden     AR   \n",
       "2           2  Appenzell Rhodes-Intérieures   Appenzell Innerrhoden     AI   \n",
       "3           3                 Bâle-Campagne        Basel-Landschaft     BL   \n",
       "4           4                    Bâle-Ville             Basel-Stadt     BS   \n",
       "\n",
       "          lat        lng  \n",
       "0  47,3876664  8,1554295  \n",
       "1   47,366481  9,3000916  \n",
       "2  47,3161925  9,6316573  \n",
       "3  47,4418122  7,7644002  \n",
       "4  47,5619253   7,592768  "
      ]
     },
     "execution_count": 24,
     "metadata": {},
     "output_type": "execute_result"
    }
   ],
   "source": [
    "df_cantons = pd.read_csv('data/cantons_geo.csv')\n",
    "df_cantons.head()"
   ]
  },
  {
   "cell_type": "markdown",
   "metadata": {},
   "source": [
    "Accessoirement, ce tableau vous donne les coordonnées géographiques des centres des cantons. Mais on ne va utiliser que leur abréviation (AG) et leur nom en français."
   ]
  },
  {
   "cell_type": "code",
   "execution_count": 38,
   "metadata": {},
   "outputs": [],
   "source": [
    "df_cantons = df_cantons[['name_fr', 'abbrev']]"
   ]
  },
  {
   "cell_type": "markdown",
   "metadata": {},
   "source": [
    "## Renommer la colonne commune\n",
    "\n",
    "Il va falloir donner à la colonne «abbrev» le nom utilisé dans notre df principal, soit «canton». A vous!"
   ]
  },
  {
   "cell_type": "code",
   "execution_count": 56,
   "metadata": {},
   "outputs": [
    {
     "data": {
      "text/html": [
       "<div>\n",
       "<style scoped>\n",
       "    .dataframe tbody tr th:only-of-type {\n",
       "        vertical-align: middle;\n",
       "    }\n",
       "\n",
       "    .dataframe tbody tr th {\n",
       "        vertical-align: top;\n",
       "    }\n",
       "\n",
       "    .dataframe thead th {\n",
       "        text-align: right;\n",
       "    }\n",
       "</style>\n",
       "<table border=\"1\" class=\"dataframe\">\n",
       "  <thead>\n",
       "    <tr style=\"text-align: right;\">\n",
       "      <th></th>\n",
       "      <th>name_fr</th>\n",
       "      <th>canton</th>\n",
       "    </tr>\n",
       "  </thead>\n",
       "  <tbody>\n",
       "    <tr>\n",
       "      <th>0</th>\n",
       "      <td>Argovie</td>\n",
       "      <td>AG</td>\n",
       "    </tr>\n",
       "    <tr>\n",
       "      <th>1</th>\n",
       "      <td>Appenzell Rhodes-Extérieures</td>\n",
       "      <td>AR</td>\n",
       "    </tr>\n",
       "    <tr>\n",
       "      <th>2</th>\n",
       "      <td>Appenzell Rhodes-Intérieures</td>\n",
       "      <td>AI</td>\n",
       "    </tr>\n",
       "    <tr>\n",
       "      <th>3</th>\n",
       "      <td>Bâle-Campagne</td>\n",
       "      <td>BL</td>\n",
       "    </tr>\n",
       "    <tr>\n",
       "      <th>4</th>\n",
       "      <td>Bâle-Ville</td>\n",
       "      <td>BS</td>\n",
       "    </tr>\n",
       "  </tbody>\n",
       "</table>\n",
       "</div>"
      ],
      "text/plain": [
       "                        name_fr canton\n",
       "0                       Argovie     AG\n",
       "1  Appenzell Rhodes-Extérieures     AR\n",
       "2  Appenzell Rhodes-Intérieures     AI\n",
       "3                 Bâle-Campagne     BL\n",
       "4                    Bâle-Ville     BS"
      ]
     },
     "execution_count": 56,
     "metadata": {},
     "output_type": "execute_result"
    }
   ],
   "source": [
    "df_cantons.rename(columns={\n",
    "    'abbrev':'canton'\n",
    "}, inplace=True)\n",
    "df_cantons.head(5)"
   ]
  },
  {
   "cell_type": "markdown",
   "metadata": {},
   "source": [
    "Et maintenant, on est prêt à **réunir ces tableaux**! Il faut indiquer à Pandas quelle colonne il doit utiliser pour aligner chaque ligne, et comment gérer les lignes pour lesquelles il n’existe aucune correspondance."
   ]
  },
  {
   "cell_type": "code",
   "execution_count": 57,
   "metadata": {},
   "outputs": [
    {
     "data": {
      "text/html": [
       "<div>\n",
       "<style scoped>\n",
       "    .dataframe tbody tr th:only-of-type {\n",
       "        vertical-align: middle;\n",
       "    }\n",
       "\n",
       "    .dataframe tbody tr th {\n",
       "        vertical-align: top;\n",
       "    }\n",
       "\n",
       "    .dataframe thead th {\n",
       "        text-align: right;\n",
       "    }\n",
       "</style>\n",
       "<table border=\"1\" class=\"dataframe\">\n",
       "  <thead>\n",
       "    <tr style=\"text-align: right;\">\n",
       "      <th></th>\n",
       "      <th>date cas</th>\n",
       "      <th>canton</th>\n",
       "      <th>age</th>\n",
       "      <th>genre_num</th>\n",
       "      <th>genre</th>\n",
       "      <th>nouveaux cas</th>\n",
       "      <th>name_fr_x</th>\n",
       "      <th>name_fr_y</th>\n",
       "    </tr>\n",
       "  </thead>\n",
       "  <tbody>\n",
       "    <tr>\n",
       "      <th>0</th>\n",
       "      <td>2020-02-24</td>\n",
       "      <td>TI</td>\n",
       "      <td>70 - 79</td>\n",
       "      <td>1</td>\n",
       "      <td>homme</td>\n",
       "      <td>1</td>\n",
       "      <td>Tessin</td>\n",
       "      <td>Tessin</td>\n",
       "    </tr>\n",
       "    <tr>\n",
       "      <th>1</th>\n",
       "      <td>2020-02-27</td>\n",
       "      <td>TI</td>\n",
       "      <td>50 - 59</td>\n",
       "      <td>2</td>\n",
       "      <td>femme</td>\n",
       "      <td>1</td>\n",
       "      <td>Tessin</td>\n",
       "      <td>Tessin</td>\n",
       "    </tr>\n",
       "    <tr>\n",
       "      <th>2</th>\n",
       "      <td>2020-02-27</td>\n",
       "      <td>TI</td>\n",
       "      <td>70 - 79</td>\n",
       "      <td>1</td>\n",
       "      <td>homme</td>\n",
       "      <td>2</td>\n",
       "      <td>Tessin</td>\n",
       "      <td>Tessin</td>\n",
       "    </tr>\n",
       "    <tr>\n",
       "      <th>3</th>\n",
       "      <td>2020-02-29</td>\n",
       "      <td>TI</td>\n",
       "      <td>50 - 59</td>\n",
       "      <td>2</td>\n",
       "      <td>femme</td>\n",
       "      <td>1</td>\n",
       "      <td>Tessin</td>\n",
       "      <td>Tessin</td>\n",
       "    </tr>\n",
       "    <tr>\n",
       "      <th>4</th>\n",
       "      <td>2020-03-01</td>\n",
       "      <td>TI</td>\n",
       "      <td>80+</td>\n",
       "      <td>1</td>\n",
       "      <td>homme</td>\n",
       "      <td>1</td>\n",
       "      <td>Tessin</td>\n",
       "      <td>Tessin</td>\n",
       "    </tr>\n",
       "  </tbody>\n",
       "</table>\n",
       "</div>"
      ],
      "text/plain": [
       "     date cas canton      age  genre_num  genre  nouveaux cas name_fr_x  \\\n",
       "0  2020-02-24     TI  70 - 79          1  homme             1    Tessin   \n",
       "1  2020-02-27     TI  50 - 59          2  femme             1    Tessin   \n",
       "2  2020-02-27     TI  70 - 79          1  homme             2    Tessin   \n",
       "3  2020-02-29     TI  50 - 59          2  femme             1    Tessin   \n",
       "4  2020-03-01     TI      80+          1  homme             1    Tessin   \n",
       "\n",
       "  name_fr_y  \n",
       "0    Tessin  \n",
       "1    Tessin  \n",
       "2    Tessin  \n",
       "3    Tessin  \n",
       "4    Tessin  "
      ]
     },
     "execution_count": 57,
     "metadata": {},
     "output_type": "execute_result"
    }
   ],
   "source": [
    "dfm = df.merge(df_cantons, on='canton', how='left')\n",
    "dfm.head(5)"
   ]
  },
  {
   "cell_type": "markdown",
   "metadata": {},
   "source": [
    "Ici, on a gardé toutes les lignes de **dfr**, mais seulement les lignes de **df_cantons** qui y correspondent. C’est ce qu’on appelle un «left join»: le résultat contient tout le tableau de gauche mais seulement les éléments pertinents du tableau de droite.\n",
    "\n",
    "Par défaut, la méthode `df.merge()` utilise un «inner join»: elle ne conserve que les éléments qui ont un élément en commun dans la colonne indiquée après `on`.\n",
    "\n",
    "En l’occurrence, comme tous les cantons de notre **dfr** sont aussi dans **df_cantons**, le résultat du «left join» ne fait pas de différence avec un «inner join».\n",
    "\n",
    "Cette page [détaille les différents types de «joints»](https://www.datacourses.com/concatenate-merge-and-join-data-with-pandas-598/) qu’on peut utiliser.\n",
    "\n",
    "On va maintenant faire la même opération sur **df** (Suisse entière), et écraser **df** avec le résultat."
   ]
  },
  {
   "cell_type": "code",
   "execution_count": 49,
   "metadata": {},
   "outputs": [
    {
     "data": {
      "text/html": [
       "<div>\n",
       "<style scoped>\n",
       "    .dataframe tbody tr th:only-of-type {\n",
       "        vertical-align: middle;\n",
       "    }\n",
       "\n",
       "    .dataframe tbody tr th {\n",
       "        vertical-align: top;\n",
       "    }\n",
       "\n",
       "    .dataframe thead th {\n",
       "        text-align: right;\n",
       "    }\n",
       "</style>\n",
       "<table border=\"1\" class=\"dataframe\">\n",
       "  <thead>\n",
       "    <tr style=\"text-align: right;\">\n",
       "      <th></th>\n",
       "      <th>date cas</th>\n",
       "      <th>canton</th>\n",
       "      <th>age</th>\n",
       "      <th>genre_num</th>\n",
       "      <th>genre</th>\n",
       "      <th>nouveaux cas</th>\n",
       "      <th>name_fr</th>\n",
       "    </tr>\n",
       "  </thead>\n",
       "  <tbody>\n",
       "    <tr>\n",
       "      <th>0</th>\n",
       "      <td>2020-02-24</td>\n",
       "      <td>TI</td>\n",
       "      <td>70 - 79</td>\n",
       "      <td>1</td>\n",
       "      <td>homme</td>\n",
       "      <td>1</td>\n",
       "      <td>Tessin</td>\n",
       "    </tr>\n",
       "    <tr>\n",
       "      <th>1</th>\n",
       "      <td>2020-02-27</td>\n",
       "      <td>TI</td>\n",
       "      <td>50 - 59</td>\n",
       "      <td>2</td>\n",
       "      <td>femme</td>\n",
       "      <td>1</td>\n",
       "      <td>Tessin</td>\n",
       "    </tr>\n",
       "    <tr>\n",
       "      <th>2</th>\n",
       "      <td>2020-02-27</td>\n",
       "      <td>TI</td>\n",
       "      <td>70 - 79</td>\n",
       "      <td>1</td>\n",
       "      <td>homme</td>\n",
       "      <td>2</td>\n",
       "      <td>Tessin</td>\n",
       "    </tr>\n",
       "    <tr>\n",
       "      <th>3</th>\n",
       "      <td>2020-02-29</td>\n",
       "      <td>TI</td>\n",
       "      <td>50 - 59</td>\n",
       "      <td>2</td>\n",
       "      <td>femme</td>\n",
       "      <td>1</td>\n",
       "      <td>Tessin</td>\n",
       "    </tr>\n",
       "    <tr>\n",
       "      <th>4</th>\n",
       "      <td>2020-03-01</td>\n",
       "      <td>TI</td>\n",
       "      <td>80+</td>\n",
       "      <td>1</td>\n",
       "      <td>homme</td>\n",
       "      <td>1</td>\n",
       "      <td>Tessin</td>\n",
       "    </tr>\n",
       "  </tbody>\n",
       "</table>\n",
       "</div>"
      ],
      "text/plain": [
       "     date cas canton      age  genre_num  genre  nouveaux cas name_fr\n",
       "0  2020-02-24     TI  70 - 79          1  homme             1  Tessin\n",
       "1  2020-02-27     TI  50 - 59          2  femme             1  Tessin\n",
       "2  2020-02-27     TI  70 - 79          1  homme             2  Tessin\n",
       "3  2020-02-29     TI  50 - 59          2  femme             1  Tessin\n",
       "4  2020-03-01     TI      80+          1  homme             1  Tessin"
      ]
     },
     "execution_count": 49,
     "metadata": {},
     "output_type": "execute_result"
    }
   ],
   "source": [
    "df = df.merge(df_cantons, on='canton')\n",
    "df.head()"
   ]
  },
  {
   "cell_type": "markdown",
   "metadata": {},
   "source": [
    "### Cette fois, on est bon!\n",
    "\n",
    "On a notre colonne name_fr. On peut transformer le tableau et l’exporter pour en faire par exemple un graphique [Datawrapper](https://www.datawrapper.de)."
   ]
  },
  {
   "cell_type": "code",
   "execution_count": 50,
   "metadata": {},
   "outputs": [
    {
     "data": {
      "text/html": [
       "<div>\n",
       "<style scoped>\n",
       "    .dataframe tbody tr th:only-of-type {\n",
       "        vertical-align: middle;\n",
       "    }\n",
       "\n",
       "    .dataframe tbody tr th {\n",
       "        vertical-align: top;\n",
       "    }\n",
       "\n",
       "    .dataframe thead th {\n",
       "        text-align: right;\n",
       "    }\n",
       "</style>\n",
       "<table border=\"1\" class=\"dataframe\">\n",
       "  <thead>\n",
       "    <tr style=\"text-align: right;\">\n",
       "      <th></th>\n",
       "      <th>date cas</th>\n",
       "      <th>canton</th>\n",
       "      <th>age</th>\n",
       "      <th>genre_num</th>\n",
       "      <th>genre</th>\n",
       "      <th>nouveaux cas</th>\n",
       "      <th>name_fr</th>\n",
       "    </tr>\n",
       "  </thead>\n",
       "  <tbody>\n",
       "    <tr>\n",
       "      <th>0</th>\n",
       "      <td>2020-02-24</td>\n",
       "      <td>TI</td>\n",
       "      <td>70 - 79</td>\n",
       "      <td>1</td>\n",
       "      <td>homme</td>\n",
       "      <td>1</td>\n",
       "      <td>Tessin</td>\n",
       "    </tr>\n",
       "    <tr>\n",
       "      <th>1</th>\n",
       "      <td>2020-02-27</td>\n",
       "      <td>TI</td>\n",
       "      <td>50 - 59</td>\n",
       "      <td>2</td>\n",
       "      <td>femme</td>\n",
       "      <td>1</td>\n",
       "      <td>Tessin</td>\n",
       "    </tr>\n",
       "    <tr>\n",
       "      <th>2</th>\n",
       "      <td>2020-02-27</td>\n",
       "      <td>TI</td>\n",
       "      <td>70 - 79</td>\n",
       "      <td>1</td>\n",
       "      <td>homme</td>\n",
       "      <td>2</td>\n",
       "      <td>Tessin</td>\n",
       "    </tr>\n",
       "    <tr>\n",
       "      <th>3</th>\n",
       "      <td>2020-02-29</td>\n",
       "      <td>TI</td>\n",
       "      <td>50 - 59</td>\n",
       "      <td>2</td>\n",
       "      <td>femme</td>\n",
       "      <td>1</td>\n",
       "      <td>Tessin</td>\n",
       "    </tr>\n",
       "    <tr>\n",
       "      <th>4</th>\n",
       "      <td>2020-03-01</td>\n",
       "      <td>TI</td>\n",
       "      <td>80+</td>\n",
       "      <td>1</td>\n",
       "      <td>homme</td>\n",
       "      <td>1</td>\n",
       "      <td>Tessin</td>\n",
       "    </tr>\n",
       "    <tr>\n",
       "      <th>...</th>\n",
       "      <td>...</td>\n",
       "      <td>...</td>\n",
       "      <td>...</td>\n",
       "      <td>...</td>\n",
       "      <td>...</td>\n",
       "      <td>...</td>\n",
       "      <td>...</td>\n",
       "    </tr>\n",
       "    <tr>\n",
       "      <th>16587</th>\n",
       "      <td>2020-08-24</td>\n",
       "      <td>UR</td>\n",
       "      <td>10 - 19</td>\n",
       "      <td>1</td>\n",
       "      <td>homme</td>\n",
       "      <td>1</td>\n",
       "      <td>Uri</td>\n",
       "    </tr>\n",
       "    <tr>\n",
       "      <th>16588</th>\n",
       "      <td>2020-08-24</td>\n",
       "      <td>UR</td>\n",
       "      <td>20 - 29</td>\n",
       "      <td>1</td>\n",
       "      <td>homme</td>\n",
       "      <td>1</td>\n",
       "      <td>Uri</td>\n",
       "    </tr>\n",
       "    <tr>\n",
       "      <th>16589</th>\n",
       "      <td>2020-08-24</td>\n",
       "      <td>UR</td>\n",
       "      <td>50 - 59</td>\n",
       "      <td>1</td>\n",
       "      <td>homme</td>\n",
       "      <td>1</td>\n",
       "      <td>Uri</td>\n",
       "    </tr>\n",
       "    <tr>\n",
       "      <th>16590</th>\n",
       "      <td>2020-08-25</td>\n",
       "      <td>UR</td>\n",
       "      <td>20 - 29</td>\n",
       "      <td>1</td>\n",
       "      <td>homme</td>\n",
       "      <td>1</td>\n",
       "      <td>Uri</td>\n",
       "    </tr>\n",
       "    <tr>\n",
       "      <th>16591</th>\n",
       "      <td>2020-08-27</td>\n",
       "      <td>UR</td>\n",
       "      <td>20 - 29</td>\n",
       "      <td>2</td>\n",
       "      <td>femme</td>\n",
       "      <td>1</td>\n",
       "      <td>Uri</td>\n",
       "    </tr>\n",
       "  </tbody>\n",
       "</table>\n",
       "<p>16592 rows × 7 columns</p>\n",
       "</div>"
      ],
      "text/plain": [
       "         date cas canton      age  genre_num  genre  nouveaux cas name_fr\n",
       "0      2020-02-24     TI  70 - 79          1  homme             1  Tessin\n",
       "1      2020-02-27     TI  50 - 59          2  femme             1  Tessin\n",
       "2      2020-02-27     TI  70 - 79          1  homme             2  Tessin\n",
       "3      2020-02-29     TI  50 - 59          2  femme             1  Tessin\n",
       "4      2020-03-01     TI      80+          1  homme             1  Tessin\n",
       "...           ...    ...      ...        ...    ...           ...     ...\n",
       "16587  2020-08-24     UR  10 - 19          1  homme             1     Uri\n",
       "16588  2020-08-24     UR  20 - 29          1  homme             1     Uri\n",
       "16589  2020-08-24     UR  50 - 59          1  homme             1     Uri\n",
       "16590  2020-08-25     UR  20 - 29          1  homme             1     Uri\n",
       "16591  2020-08-27     UR  20 - 29          2  femme             1     Uri\n",
       "\n",
       "[16592 rows x 7 columns]"
      ]
     },
     "execution_count": 50,
     "metadata": {},
     "output_type": "execute_result"
    }
   ],
   "source": [
    "df"
   ]
  },
  {
   "cell_type": "code",
   "execution_count": null,
   "metadata": {},
   "outputs": [],
   "source": []
  },
  {
   "cell_type": "code",
   "execution_count": null,
   "metadata": {},
   "outputs": [],
   "source": []
  },
  {
   "cell_type": "code",
   "execution_count": null,
   "metadata": {},
   "outputs": [],
   "source": []
  },
  {
   "cell_type": "markdown",
   "metadata": {},
   "source": [
    "## Exercices bonus\n",
    "\n",
    "Arrivez-vous à joindre notre df actuel avec la population des cantons romands, contenue dans **data/cantons_population.csv** ?"
   ]
  },
  {
   "cell_type": "code",
   "execution_count": 54,
   "metadata": {},
   "outputs": [
    {
     "ename": "KeyError",
     "evalue": "'name'",
     "output_type": "error",
     "traceback": [
      "\u001b[1;31m---------------------------------------------------------------------------\u001b[0m",
      "\u001b[1;31mKeyError\u001b[0m                                  Traceback (most recent call last)",
      "\u001b[1;32m<ipython-input-54-347599e645ef>\u001b[0m in \u001b[0;36m<module>\u001b[1;34m\u001b[0m\n\u001b[1;32m----> 1\u001b[1;33m \u001b[0mdf_cantons\u001b[0m \u001b[1;33m=\u001b[0m \u001b[0mdf\u001b[0m\u001b[1;33m.\u001b[0m\u001b[0mmerge\u001b[0m\u001b[1;33m(\u001b[0m\u001b[0mdf_population\u001b[0m\u001b[1;33m,\u001b[0m \u001b[0mon\u001b[0m\u001b[1;33m=\u001b[0m\u001b[1;34m'name'\u001b[0m\u001b[1;33m)\u001b[0m\u001b[1;33m\u001b[0m\u001b[1;33m\u001b[0m\u001b[0m\n\u001b[0m",
      "\u001b[1;32m~\\anaconda3\\lib\\site-packages\\pandas\\core\\frame.py\u001b[0m in \u001b[0;36mmerge\u001b[1;34m(self, right, how, on, left_on, right_on, left_index, right_index, sort, suffixes, copy, indicator, validate)\u001b[0m\n\u001b[0;32m   7282\u001b[0m         \u001b[1;32mfrom\u001b[0m \u001b[0mpandas\u001b[0m\u001b[1;33m.\u001b[0m\u001b[0mcore\u001b[0m\u001b[1;33m.\u001b[0m\u001b[0mreshape\u001b[0m\u001b[1;33m.\u001b[0m\u001b[0mmerge\u001b[0m \u001b[1;32mimport\u001b[0m \u001b[0mmerge\u001b[0m\u001b[1;33m\u001b[0m\u001b[1;33m\u001b[0m\u001b[0m\n\u001b[0;32m   7283\u001b[0m \u001b[1;33m\u001b[0m\u001b[0m\n\u001b[1;32m-> 7284\u001b[1;33m         return merge(\n\u001b[0m\u001b[0;32m   7285\u001b[0m             \u001b[0mself\u001b[0m\u001b[1;33m,\u001b[0m\u001b[1;33m\u001b[0m\u001b[1;33m\u001b[0m\u001b[0m\n\u001b[0;32m   7286\u001b[0m             \u001b[0mright\u001b[0m\u001b[1;33m,\u001b[0m\u001b[1;33m\u001b[0m\u001b[1;33m\u001b[0m\u001b[0m\n",
      "\u001b[1;32m~\\anaconda3\\lib\\site-packages\\pandas\\core\\reshape\\merge.py\u001b[0m in \u001b[0;36mmerge\u001b[1;34m(left, right, how, on, left_on, right_on, left_index, right_index, sort, suffixes, copy, indicator, validate)\u001b[0m\n\u001b[0;32m     71\u001b[0m     \u001b[0mvalidate\u001b[0m\u001b[1;33m=\u001b[0m\u001b[1;32mNone\u001b[0m\u001b[1;33m,\u001b[0m\u001b[1;33m\u001b[0m\u001b[1;33m\u001b[0m\u001b[0m\n\u001b[0;32m     72\u001b[0m ) -> \"DataFrame\":\n\u001b[1;32m---> 73\u001b[1;33m     op = _MergeOperation(\n\u001b[0m\u001b[0;32m     74\u001b[0m         \u001b[0mleft\u001b[0m\u001b[1;33m,\u001b[0m\u001b[1;33m\u001b[0m\u001b[1;33m\u001b[0m\u001b[0m\n\u001b[0;32m     75\u001b[0m         \u001b[0mright\u001b[0m\u001b[1;33m,\u001b[0m\u001b[1;33m\u001b[0m\u001b[1;33m\u001b[0m\u001b[0m\n",
      "\u001b[1;32m~\\anaconda3\\lib\\site-packages\\pandas\\core\\reshape\\merge.py\u001b[0m in \u001b[0;36m__init__\u001b[1;34m(self, left, right, how, on, left_on, right_on, axis, left_index, right_index, sort, suffixes, copy, indicator, validate)\u001b[0m\n\u001b[0;32m    625\u001b[0m             \u001b[0mself\u001b[0m\u001b[1;33m.\u001b[0m\u001b[0mright_join_keys\u001b[0m\u001b[1;33m,\u001b[0m\u001b[1;33m\u001b[0m\u001b[1;33m\u001b[0m\u001b[0m\n\u001b[0;32m    626\u001b[0m             \u001b[0mself\u001b[0m\u001b[1;33m.\u001b[0m\u001b[0mjoin_names\u001b[0m\u001b[1;33m,\u001b[0m\u001b[1;33m\u001b[0m\u001b[1;33m\u001b[0m\u001b[0m\n\u001b[1;32m--> 627\u001b[1;33m         ) = self._get_merge_keys()\n\u001b[0m\u001b[0;32m    628\u001b[0m \u001b[1;33m\u001b[0m\u001b[0m\n\u001b[0;32m    629\u001b[0m         \u001b[1;31m# validate the merge keys dtypes. We may need to coerce\u001b[0m\u001b[1;33m\u001b[0m\u001b[1;33m\u001b[0m\u001b[1;33m\u001b[0m\u001b[0m\n",
      "\u001b[1;32m~\\anaconda3\\lib\\site-packages\\pandas\\core\\reshape\\merge.py\u001b[0m in \u001b[0;36m_get_merge_keys\u001b[1;34m(self)\u001b[0m\n\u001b[0;32m    994\u001b[0m                         \u001b[0mright_keys\u001b[0m\u001b[1;33m.\u001b[0m\u001b[0mappend\u001b[0m\u001b[1;33m(\u001b[0m\u001b[0mrk\u001b[0m\u001b[1;33m)\u001b[0m\u001b[1;33m\u001b[0m\u001b[1;33m\u001b[0m\u001b[0m\n\u001b[0;32m    995\u001b[0m                     \u001b[1;32mif\u001b[0m \u001b[0mlk\u001b[0m \u001b[1;32mis\u001b[0m \u001b[1;32mnot\u001b[0m \u001b[1;32mNone\u001b[0m\u001b[1;33m:\u001b[0m\u001b[1;33m\u001b[0m\u001b[1;33m\u001b[0m\u001b[0m\n\u001b[1;32m--> 996\u001b[1;33m                         \u001b[0mleft_keys\u001b[0m\u001b[1;33m.\u001b[0m\u001b[0mappend\u001b[0m\u001b[1;33m(\u001b[0m\u001b[0mleft\u001b[0m\u001b[1;33m.\u001b[0m\u001b[0m_get_label_or_level_values\u001b[0m\u001b[1;33m(\u001b[0m\u001b[0mlk\u001b[0m\u001b[1;33m)\u001b[0m\u001b[1;33m)\u001b[0m\u001b[1;33m\u001b[0m\u001b[1;33m\u001b[0m\u001b[0m\n\u001b[0m\u001b[0;32m    997\u001b[0m                         \u001b[0mjoin_names\u001b[0m\u001b[1;33m.\u001b[0m\u001b[0mappend\u001b[0m\u001b[1;33m(\u001b[0m\u001b[0mlk\u001b[0m\u001b[1;33m)\u001b[0m\u001b[1;33m\u001b[0m\u001b[1;33m\u001b[0m\u001b[0m\n\u001b[0;32m    998\u001b[0m                     \u001b[1;32melse\u001b[0m\u001b[1;33m:\u001b[0m\u001b[1;33m\u001b[0m\u001b[1;33m\u001b[0m\u001b[0m\n",
      "\u001b[1;32m~\\anaconda3\\lib\\site-packages\\pandas\\core\\generic.py\u001b[0m in \u001b[0;36m_get_label_or_level_values\u001b[1;34m(self, key, axis)\u001b[0m\n\u001b[0;32m   1690\u001b[0m             \u001b[0mvalues\u001b[0m \u001b[1;33m=\u001b[0m \u001b[0mself\u001b[0m\u001b[1;33m.\u001b[0m\u001b[0maxes\u001b[0m\u001b[1;33m[\u001b[0m\u001b[0maxis\u001b[0m\u001b[1;33m]\u001b[0m\u001b[1;33m.\u001b[0m\u001b[0mget_level_values\u001b[0m\u001b[1;33m(\u001b[0m\u001b[0mkey\u001b[0m\u001b[1;33m)\u001b[0m\u001b[1;33m.\u001b[0m\u001b[0m_values\u001b[0m\u001b[1;33m\u001b[0m\u001b[1;33m\u001b[0m\u001b[0m\n\u001b[0;32m   1691\u001b[0m         \u001b[1;32melse\u001b[0m\u001b[1;33m:\u001b[0m\u001b[1;33m\u001b[0m\u001b[1;33m\u001b[0m\u001b[0m\n\u001b[1;32m-> 1692\u001b[1;33m             \u001b[1;32mraise\u001b[0m \u001b[0mKeyError\u001b[0m\u001b[1;33m(\u001b[0m\u001b[0mkey\u001b[0m\u001b[1;33m)\u001b[0m\u001b[1;33m\u001b[0m\u001b[1;33m\u001b[0m\u001b[0m\n\u001b[0m\u001b[0;32m   1693\u001b[0m \u001b[1;33m\u001b[0m\u001b[0m\n\u001b[0;32m   1694\u001b[0m         \u001b[1;31m# Check for duplicates\u001b[0m\u001b[1;33m\u001b[0m\u001b[1;33m\u001b[0m\u001b[1;33m\u001b[0m\u001b[0m\n",
      "\u001b[1;31mKeyError\u001b[0m: 'name'"
     ]
    }
   ],
   "source": [
    "dfm = dfm.merge(df_population, on='name')"
   ]
  },
  {
   "cell_type": "code",
   "execution_count": null,
   "metadata": {},
   "outputs": [],
   "source": []
  },
  {
   "cell_type": "code",
   "execution_count": 52,
   "metadata": {},
   "outputs": [
    {
     "data": {
      "text/html": [
       "<div>\n",
       "<style scoped>\n",
       "    .dataframe tbody tr th:only-of-type {\n",
       "        vertical-align: middle;\n",
       "    }\n",
       "\n",
       "    .dataframe tbody tr th {\n",
       "        vertical-align: top;\n",
       "    }\n",
       "\n",
       "    .dataframe thead th {\n",
       "        text-align: right;\n",
       "    }\n",
       "</style>\n",
       "<table border=\"1\" class=\"dataframe\">\n",
       "  <thead>\n",
       "    <tr style=\"text-align: right;\">\n",
       "      <th></th>\n",
       "      <th>name</th>\n",
       "      <th>population</th>\n",
       "    </tr>\n",
       "  </thead>\n",
       "  <tbody>\n",
       "    <tr>\n",
       "      <th>0</th>\n",
       "      <td>Appenzell Rhodes-Extérieures</td>\n",
       "      <td>55234</td>\n",
       "    </tr>\n",
       "    <tr>\n",
       "      <th>1</th>\n",
       "      <td>Appenzell Rhodes-Intérieures</td>\n",
       "      <td>16145</td>\n",
       "    </tr>\n",
       "    <tr>\n",
       "      <th>2</th>\n",
       "      <td>Argovie</td>\n",
       "      <td>678207</td>\n",
       "    </tr>\n",
       "    <tr>\n",
       "      <th>3</th>\n",
       "      <td>Berne</td>\n",
       "      <td>1034977</td>\n",
       "    </tr>\n",
       "    <tr>\n",
       "      <th>4</th>\n",
       "      <td>Bâle-Campagne</td>\n",
       "      <td>288132</td>\n",
       "    </tr>\n",
       "    <tr>\n",
       "      <th>5</th>\n",
       "      <td>Bâle-Ville</td>\n",
       "      <td>194766</td>\n",
       "    </tr>\n",
       "    <tr>\n",
       "      <th>6</th>\n",
       "      <td>Fribourg</td>\n",
       "      <td>318714</td>\n",
       "    </tr>\n",
       "    <tr>\n",
       "      <th>7</th>\n",
       "      <td>Genève</td>\n",
       "      <td>499480</td>\n",
       "    </tr>\n",
       "    <tr>\n",
       "      <th>8</th>\n",
       "      <td>Glaris</td>\n",
       "      <td>40403</td>\n",
       "    </tr>\n",
       "    <tr>\n",
       "      <th>9</th>\n",
       "      <td>Grisons</td>\n",
       "      <td>198379</td>\n",
       "    </tr>\n",
       "    <tr>\n",
       "      <th>10</th>\n",
       "      <td>Jura</td>\n",
       "      <td>73419</td>\n",
       "    </tr>\n",
       "    <tr>\n",
       "      <th>11</th>\n",
       "      <td>Lucerne</td>\n",
       "      <td>409557</td>\n",
       "    </tr>\n",
       "    <tr>\n",
       "      <th>12</th>\n",
       "      <td>Neuchâtel</td>\n",
       "      <td>176850</td>\n",
       "    </tr>\n",
       "    <tr>\n",
       "      <th>13</th>\n",
       "      <td>Nidwald</td>\n",
       "      <td>43223</td>\n",
       "    </tr>\n",
       "    <tr>\n",
       "      <th>14</th>\n",
       "      <td>Obwald</td>\n",
       "      <td>37841</td>\n",
       "    </tr>\n",
       "    <tr>\n",
       "      <th>15</th>\n",
       "      <td>Saint-Gall</td>\n",
       "      <td>507697</td>\n",
       "    </tr>\n",
       "    <tr>\n",
       "      <th>16</th>\n",
       "      <td>Schaffhouse</td>\n",
       "      <td>81991</td>\n",
       "    </tr>\n",
       "    <tr>\n",
       "      <th>17</th>\n",
       "      <td>Schwytz</td>\n",
       "      <td>159165</td>\n",
       "    </tr>\n",
       "    <tr>\n",
       "      <th>18</th>\n",
       "      <td>Soleure</td>\n",
       "      <td>273194</td>\n",
       "    </tr>\n",
       "    <tr>\n",
       "      <th>19</th>\n",
       "      <td>Tessin</td>\n",
       "      <td>353343</td>\n",
       "    </tr>\n",
       "    <tr>\n",
       "      <th>20</th>\n",
       "      <td>Thurgovie</td>\n",
       "      <td>276472</td>\n",
       "    </tr>\n",
       "    <tr>\n",
       "      <th>21</th>\n",
       "      <td>Uri</td>\n",
       "      <td>36433</td>\n",
       "    </tr>\n",
       "    <tr>\n",
       "      <th>22</th>\n",
       "      <td>Valais</td>\n",
       "      <td>343955</td>\n",
       "    </tr>\n",
       "    <tr>\n",
       "      <th>23</th>\n",
       "      <td>Vaud</td>\n",
       "      <td>799145</td>\n",
       "    </tr>\n",
       "    <tr>\n",
       "      <th>24</th>\n",
       "      <td>Zoug</td>\n",
       "      <td>126837</td>\n",
       "    </tr>\n",
       "    <tr>\n",
       "      <th>25</th>\n",
       "      <td>Zurich</td>\n",
       "      <td>1520968</td>\n",
       "    </tr>\n",
       "  </tbody>\n",
       "</table>\n",
       "</div>"
      ],
      "text/plain": [
       "                            name  population\n",
       "0   Appenzell Rhodes-Extérieures       55234\n",
       "1   Appenzell Rhodes-Intérieures       16145\n",
       "2                        Argovie      678207\n",
       "3                          Berne     1034977\n",
       "4                  Bâle-Campagne      288132\n",
       "5                     Bâle-Ville      194766\n",
       "6                       Fribourg      318714\n",
       "7                         Genève      499480\n",
       "8                         Glaris       40403\n",
       "9                        Grisons      198379\n",
       "10                          Jura       73419\n",
       "11                       Lucerne      409557\n",
       "12                     Neuchâtel      176850\n",
       "13                       Nidwald       43223\n",
       "14                        Obwald       37841\n",
       "15                    Saint-Gall      507697\n",
       "16                   Schaffhouse       81991\n",
       "17                       Schwytz      159165\n",
       "18                       Soleure      273194\n",
       "19                        Tessin      353343\n",
       "20                     Thurgovie      276472\n",
       "21                           Uri       36433\n",
       "22                        Valais      343955\n",
       "23                          Vaud      799145\n",
       "24                          Zoug      126837\n",
       "25                        Zurich     1520968"
      ]
     },
     "execution_count": 52,
     "metadata": {},
     "output_type": "execute_result"
    }
   ],
   "source": [
    "df_population = pd.read_csv('data/cantons_population.csv')\n",
    "df_population"
   ]
  },
  {
   "cell_type": "markdown",
   "metadata": {},
   "source": [
    "## Exercice bonus 2\n",
    "\n",
    "On a vu passer cette drôle de classe d’âge: «Unbekannt»… Comment mettre ça en français?"
   ]
  },
  {
   "cell_type": "code",
   "execution_count": null,
   "metadata": {},
   "outputs": [],
   "source": []
  },
  {
   "cell_type": "code",
   "execution_count": null,
   "metadata": {},
   "outputs": [],
   "source": []
  }
 ],
 "metadata": {
  "kernelspec": {
   "display_name": "Python 3",
   "language": "python",
   "name": "python3"
  },
  "language_info": {
   "codemirror_mode": {
    "name": "ipython",
    "version": 3
   },
   "file_extension": ".py",
   "mimetype": "text/x-python",
   "name": "python",
   "nbconvert_exporter": "python",
   "pygments_lexer": "ipython3",
   "version": "3.8.3"
  }
 },
 "nbformat": 4,
 "nbformat_minor": 4
}
