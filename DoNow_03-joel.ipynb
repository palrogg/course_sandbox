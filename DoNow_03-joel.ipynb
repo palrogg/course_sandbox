{
 "cells": [
  {
   "cell_type": "markdown",
   "metadata": {},
   "source": [
    "# «Do now»\n",
    "Un deuxième «warm-up». Cette fois, on consolide notre utilisation de Pandas."
   ]
  },
  {
   "cell_type": "code",
   "execution_count": 21,
   "metadata": {},
   "outputs": [],
   "source": [
    "import pandas as pd\n",
    "import datetime"
   ]
  },
  {
   "cell_type": "code",
   "execution_count": 2,
   "metadata": {},
   "outputs": [],
   "source": [
    "df = pd.read_csv('time-series-ecdc.csv')"
   ]
  },
  {
   "cell_type": "code",
   "execution_count": 3,
   "metadata": {},
   "outputs": [
    {
     "data": {
      "text/html": [
       "<div>\n",
       "<style scoped>\n",
       "    .dataframe tbody tr th:only-of-type {\n",
       "        vertical-align: middle;\n",
       "    }\n",
       "\n",
       "    .dataframe tbody tr th {\n",
       "        vertical-align: top;\n",
       "    }\n",
       "\n",
       "    .dataframe thead th {\n",
       "        text-align: right;\n",
       "    }\n",
       "</style>\n",
       "<table border=\"1\" class=\"dataframe\">\n",
       "  <thead>\n",
       "    <tr style=\"text-align: right;\">\n",
       "      <th></th>\n",
       "      <th>timestamp</th>\n",
       "      <th>country</th>\n",
       "      <th>cases_sum</th>\n",
       "      <th>deaths_sum</th>\n",
       "      <th>casesPerPop</th>\n",
       "      <th>deathsPerPop</th>\n",
       "      <th>Alpha-3 code</th>\n",
       "      <th>lat</th>\n",
       "      <th>lng</th>\n",
       "    </tr>\n",
       "  </thead>\n",
       "  <tbody>\n",
       "    <tr>\n",
       "      <th>0</th>\n",
       "      <td>2020-03-16</td>\n",
       "      <td>Aruba</td>\n",
       "      <td>2</td>\n",
       "      <td>0</td>\n",
       "      <td>18.8</td>\n",
       "      <td>0.0</td>\n",
       "      <td>ABW</td>\n",
       "      <td>12.5</td>\n",
       "      <td>-69.9667</td>\n",
       "    </tr>\n",
       "    <tr>\n",
       "      <th>1</th>\n",
       "      <td>2020-03-23</td>\n",
       "      <td>Aruba</td>\n",
       "      <td>4</td>\n",
       "      <td>0</td>\n",
       "      <td>37.6</td>\n",
       "      <td>0.0</td>\n",
       "      <td>ABW</td>\n",
       "      <td>12.5</td>\n",
       "      <td>-69.9667</td>\n",
       "    </tr>\n",
       "    <tr>\n",
       "      <th>2</th>\n",
       "      <td>2020-03-30</td>\n",
       "      <td>Aruba</td>\n",
       "      <td>50</td>\n",
       "      <td>0</td>\n",
       "      <td>470.3</td>\n",
       "      <td>0.0</td>\n",
       "      <td>ABW</td>\n",
       "      <td>12.5</td>\n",
       "      <td>-69.9667</td>\n",
       "    </tr>\n",
       "    <tr>\n",
       "      <th>3</th>\n",
       "      <td>2020-04-06</td>\n",
       "      <td>Aruba</td>\n",
       "      <td>64</td>\n",
       "      <td>0</td>\n",
       "      <td>602.0</td>\n",
       "      <td>0.0</td>\n",
       "      <td>ABW</td>\n",
       "      <td>12.5</td>\n",
       "      <td>-69.9667</td>\n",
       "    </tr>\n",
       "    <tr>\n",
       "      <th>4</th>\n",
       "      <td>2020-04-13</td>\n",
       "      <td>Aruba</td>\n",
       "      <td>92</td>\n",
       "      <td>0</td>\n",
       "      <td>865.4</td>\n",
       "      <td>0.0</td>\n",
       "      <td>ABW</td>\n",
       "      <td>12.5</td>\n",
       "      <td>-69.9667</td>\n",
       "    </tr>\n",
       "  </tbody>\n",
       "</table>\n",
       "</div>"
      ],
      "text/plain": [
       "    timestamp country  cases_sum  deaths_sum  casesPerPop  deathsPerPop  \\\n",
       "0  2020-03-16   Aruba          2           0         18.8           0.0   \n",
       "1  2020-03-23   Aruba          4           0         37.6           0.0   \n",
       "2  2020-03-30   Aruba         50           0        470.3           0.0   \n",
       "3  2020-04-06   Aruba         64           0        602.0           0.0   \n",
       "4  2020-04-13   Aruba         92           0        865.4           0.0   \n",
       "\n",
       "  Alpha-3 code   lat      lng  \n",
       "0          ABW  12.5 -69.9667  \n",
       "1          ABW  12.5 -69.9667  \n",
       "2          ABW  12.5 -69.9667  \n",
       "3          ABW  12.5 -69.9667  \n",
       "4          ABW  12.5 -69.9667  "
      ]
     },
     "execution_count": 3,
     "metadata": {},
     "output_type": "execute_result"
    }
   ],
   "source": [
    "df.head()"
   ]
  },
  {
   "cell_type": "markdown",
   "metadata": {},
   "source": [
    "## Rappels\n",
    "\n",
    "`.value_counts()`\n",
    "\n",
    "`len(df)`\n",
    "\n",
    "`df.columns`\n",
    "\n",
    "`df['Nouvelle colonne'] = df['Colonne'] / 10`\n",
    "\n",
    "`df['Colonne'].sum()`"
   ]
  },
  {
   "cell_type": "markdown",
   "metadata": {},
   "source": [
    "Utilisez l’une des méthodes ci-dessus pour calculer le maximum de la colonne **deaths_sum**."
   ]
  },
  {
   "cell_type": "code",
   "execution_count": 6,
   "metadata": {},
   "outputs": [
    {
     "data": {
      "text/plain": [
       "176806"
      ]
     },
     "execution_count": 6,
     "metadata": {},
     "output_type": "execute_result"
    }
   ],
   "source": [
    "df['deaths_sum'].max()"
   ]
  },
  {
   "cell_type": "markdown",
   "metadata": {},
   "source": [
    "Avec une autre de ces méthodes, trouvez le nombre de lignes du tableau."
   ]
  },
  {
   "cell_type": "code",
   "execution_count": 7,
   "metadata": {},
   "outputs": [
    {
     "data": {
      "text/plain": [
       "5319"
      ]
     },
     "execution_count": 7,
     "metadata": {},
     "output_type": "execute_result"
    }
   ],
   "source": [
    "len(df)"
   ]
  },
  {
   "cell_type": "code",
   "execution_count": 8,
   "metadata": {},
   "outputs": [
    {
     "data": {
      "text/plain": [
       "<bound method DataFrame.info of        timestamp   country  cases_sum  deaths_sum  casesPerPop  deathsPerPop  \\\n",
       "0     2020-03-16     Aruba          2           0         18.8           0.0   \n",
       "1     2020-03-23     Aruba          4           0         37.6           0.0   \n",
       "2     2020-03-30     Aruba         50           0        470.3           0.0   \n",
       "3     2020-04-06     Aruba         64           0        602.0           0.0   \n",
       "4     2020-04-13     Aruba         92           0        865.4           0.0   \n",
       "...          ...       ...        ...         ...          ...           ...   \n",
       "5314  2020-07-27  Zimbabwe       2512          34        171.5           2.3   \n",
       "5315  2020-08-03  Zimbabwe       3921          70        267.7           4.8   \n",
       "5316  2020-08-10  Zimbabwe       4649         104        317.4           7.1   \n",
       "5317  2020-08-17  Zimbabwe       5261         132        359.2           9.0   \n",
       "5318  2020-08-24  Zimbabwe       5930         155        404.9          10.6   \n",
       "\n",
       "     Alpha-3 code   lat      lng  \n",
       "0             ABW  12.5 -69.9667  \n",
       "1             ABW  12.5 -69.9667  \n",
       "2             ABW  12.5 -69.9667  \n",
       "3             ABW  12.5 -69.9667  \n",
       "4             ABW  12.5 -69.9667  \n",
       "...           ...   ...      ...  \n",
       "5314          ZWE -20.0  30.0000  \n",
       "5315          ZWE -20.0  30.0000  \n",
       "5316          ZWE -20.0  30.0000  \n",
       "5317          ZWE -20.0  30.0000  \n",
       "5318          ZWE -20.0  30.0000  \n",
       "\n",
       "[5319 rows x 9 columns]>"
      ]
     },
     "execution_count": 8,
     "metadata": {},
     "output_type": "execute_result"
    }
   ],
   "source": [
    "df.info"
   ]
  },
  {
   "cell_type": "markdown",
   "metadata": {},
   "source": [
    "Combien de pays différents contient ce tableau? Indice: `.value_counts()` vous donne la réponse, mais vous devez compter le nombre d’éléments qu’il contient. Et comme il y a plus de 200 pays, il vaut mieux le faire en Python…"
   ]
  },
  {
   "cell_type": "code",
   "execution_count": 10,
   "metadata": {},
   "outputs": [
    {
     "data": {
      "text/plain": [
       "Équateur                  32\n",
       "Mexique                   32\n",
       "Viet Nam                  32\n",
       "République dominicaine    32\n",
       "Iraq                      32\n",
       "                          ..\n",
       "Yémen, Rép. du            20\n",
       "Sao Tomé-et-Principe      20\n",
       "Tadjikistan               17\n",
       "Comores                   17\n",
       "Lesotho                   15\n",
       "Name: country, Length: 203, dtype: int64"
      ]
     },
     "execution_count": 10,
     "metadata": {},
     "output_type": "execute_result"
    }
   ],
   "source": [
    "pays = df['country'].value_counts()\n",
    "pays"
   ]
  },
  {
   "cell_type": "code",
   "execution_count": 12,
   "metadata": {},
   "outputs": [
    {
     "data": {
      "text/plain": [
       "<matplotlib.axes._subplots.AxesSubplot at 0x94bf550>"
      ]
     },
     "execution_count": 12,
     "metadata": {},
     "output_type": "execute_result"
    },
    {
     "data": {
      "image/png": "[encoded data removed]",
      "text/plain": [
       "<Figure size 432x288 with 1 Axes>"
      ]
     },
     "metadata": {
      "needs_background": "light"
     },
     "output_type": "display_data"
    }
   ],
   "source": [
    "pays.plot("
   ]
  },
  {
   "cell_type": "markdown",
   "metadata": {},
   "source": [
    "**Bonus:** quel était le bilan de la France (cas et décès) le 17 juin?"
   ]
  },
  {
   "cell_type": "code",
   "execution_count": 44,
   "metadata": {},
   "outputs": [
    {
     "data": {
      "text/plain": [
       "array(['Aruba', 'Afghanistan', 'Angola', 'Albanie', 'Andorre',\n",
       "       'Émirats arabes unis', 'Argentine', 'Arménie',\n",
       "       'Antigua-et-Barbuda', 'Australie', 'Autriche', 'Azerbaïdjan',\n",
       "       'Burundi', 'Belgique', 'Bénin', 'Burkina Faso', 'Bangladesh',\n",
       "       'Bulgarie', 'Bahreïn', 'Bahamas', 'Bosnie-Herzégovine', 'Bélarus',\n",
       "       'Belize', 'Bermudes', 'Bolivie', 'Brésil', 'Barbade',\n",
       "       'Brunéi Darussalam', 'Bhoutan', 'Botswana',\n",
       "       'République centrafricaine', 'Canada', 'Suisse', 'Chili', 'Chine',\n",
       "       \"Côte d'Ivoire\", 'Cameroun', 'RDC', 'République du Congo',\n",
       "       'Colombie', 'Comores', 'Cabo Verde', 'Costa Rica', 'Cuba',\n",
       "       'Curaçao', 'Îles Caïmans', 'Chypre', 'République tchèque',\n",
       "       'Allemagne', 'Djibouti', 'Dominique', 'Danemark',\n",
       "       'République dominicaine', 'Algérie', 'Équateur', 'Egypte',\n",
       "       'Érythrée', 'Espagne', 'Estonie', 'Éthiopie', 'Finlande', 'Fidji',\n",
       "       'France', 'Îles Féroé', 'Gabon', 'Royaume-Uni', 'Géorgie',\n",
       "       'Guernsey', 'Ghana', 'Gibraltar', 'Guinée', 'Gambie',\n",
       "       'Guinée-Bissau', 'Guinée équatoriale', 'Grèce', 'Grenade',\n",
       "       'Groenland', 'Guatemala', 'Guam', 'Guyane', 'Honduras', 'Croatie',\n",
       "       'Haïti', 'Hongrie', 'Indonésie', 'Île de Man', 'Inde', 'Irlande',\n",
       "       'Iran', 'Iraq', 'Islande', 'Israël', 'Italie', 'Jamaïque',\n",
       "       'Jersey', 'Jordanie', 'Japon', 'Kazakhstan', 'Kenya',\n",
       "       'République kirghize', 'Cambodge', 'Saint-Kitts-et-Nevis',\n",
       "       'Corée du Sud', 'Koweït', 'République démocratique populaire lao',\n",
       "       'Liban', 'Libéria', 'Libye', 'Sainte-Lucie', 'Liechtenstein',\n",
       "       'Sri Lanka', 'Lesotho', 'Lituanie', 'Luxembourg', 'Lettonie',\n",
       "       'Maroc', 'Monaco', 'Moldavie', 'Madagascar', 'Maldives', 'Mexique',\n",
       "       'Macédoine du Nord', 'Mali', 'Malte', 'Myanmar', 'Monténégro',\n",
       "       'Mongolie', 'Mariannes', 'Mozambique', 'Mauritanie', 'Maurice',\n",
       "       'Malawi', 'Malaisie', 'Namibie', 'Nouvelle-Calédonie', 'Niger',\n",
       "       'Nigéria', 'Nicaragua', 'Pays-Bas', 'Norvège', 'Népal',\n",
       "       'Nouvelle-Zélande', 'Oman', 'Pakistan', 'Panama', 'Pérou',\n",
       "       'Philippines', 'Papouasie-Nouvelle-Guinée', 'Pologne',\n",
       "       'Porto Rico', 'Portugal', 'Paraguay', 'Cisjordanie et Gaza',\n",
       "       'Polynésie française', 'Qatar', 'Roumanie', 'Fédération de Russie',\n",
       "       'Rwanda', 'Arabie saoudite', 'Soudan', 'Sénégal', 'Singapour',\n",
       "       'Sierra Leone', 'El Salvador', 'Saint-Marin', 'Somalie', 'Serbie',\n",
       "       'Soudan du Sud', 'Sao Tomé-et-Principe', 'Suriname',\n",
       "       'République slovaque', 'Slovénie', 'Suède', 'Eswatini',\n",
       "       'Saint-Martin', 'Seychelles', 'République arabe syrienne',\n",
       "       'Îles Turques-et-Caïques', 'Tchad', 'Togo', 'Thaïlande',\n",
       "       'Tadjikistan', 'Timor-Leste', 'Trinité-et-Tobago', 'Tunisie',\n",
       "       'Turquie', 'Tanzanie', 'Ouganda', 'Ukraine', 'Uruguay',\n",
       "       'États-Unis', 'Ouzbékistan', 'Saint-Siège',\n",
       "       'Saint-Vincent-et-les Grenadines', 'Venezuela',\n",
       "       'Îles Vierges britanniques', 'Îles Vierges (EU)', 'Viet Nam',\n",
       "       'Kosovo', 'Yémen, Rép. du', 'Afrique du Sud', 'Zambie', 'Zimbabwe'],\n",
       "      dtype=object)"
      ]
     },
     "execution_count": 44,
     "metadata": {},
     "output_type": "execute_result"
    }
   ],
   "source": [
    "df['country'].unique()"
   ]
  },
  {
   "cell_type": "code",
   "execution_count": 49,
   "metadata": {
    "scrolled": true
   },
   "outputs": [],
   "source": [
    "# Exemple avec deux conditions, à modifier\n",
    "#df[(df['timestamp'] == '2020-06-15') & (df['lat'] > 60)]\n",
    "FR = df[(df['country'] == 'France') & (df['timestamp'] == '2020-06-15')]\n",
    "# Exemple avec deux conditions, à modifier\n",
    "#df[('country' == 'France')] #& (df['timestamp'] < '2020-06-17')]\n",
    "#(df['casesPerPop'] & df['deathsPerPop'])"
   ]
  },
  {
   "cell_type": "code",
   "execution_count": null,
   "metadata": {},
   "outputs": [],
   "source": []
  },
  {
   "cell_type": "code",
   "execution_count": 53,
   "metadata": {},
   "outputs": [
    {
     "data": {
      "text/html": [
       "<div>\n",
       "<style scoped>\n",
       "    .dataframe tbody tr th:only-of-type {\n",
       "        vertical-align: middle;\n",
       "    }\n",
       "\n",
       "    .dataframe tbody tr th {\n",
       "        vertical-align: top;\n",
       "    }\n",
       "\n",
       "    .dataframe thead th {\n",
       "        text-align: right;\n",
       "    }\n",
       "</style>\n",
       "<table border=\"1\" class=\"dataframe\">\n",
       "  <thead>\n",
       "    <tr style=\"text-align: right;\">\n",
       "      <th></th>\n",
       "      <th>casesPerPop</th>\n",
       "      <th>deathsPerPop</th>\n",
       "    </tr>\n",
       "  </thead>\n",
       "  <tbody>\n",
       "    <tr>\n",
       "      <th>1679</th>\n",
       "      <td>2346.1</td>\n",
       "      <td>438.8</td>\n",
       "    </tr>\n",
       "  </tbody>\n",
       "</table>\n",
       "</div>"
      ],
      "text/plain": [
       "      casesPerPop  deathsPerPop\n",
       "1679       2346.1         438.8"
      ]
     },
     "execution_count": 53,
     "metadata": {},
     "output_type": "execute_result"
    }
   ],
   "source": [
    "FR[['casesPerPop','deathsPerPop']]"
   ]
  },
  {
   "cell_type": "code",
   "execution_count": null,
   "metadata": {},
   "outputs": [],
   "source": []
  },
  {
   "cell_type": "code",
   "execution_count": null,
   "metadata": {},
   "outputs": [],
   "source": []
  },
  {
   "cell_type": "code",
   "execution_count": null,
   "metadata": {},
   "outputs": [],
   "source": []
  }
 ],
 "metadata": {
  "kernelspec": {
   "display_name": "Python 3",
   "language": "python",
   "name": "python3"
  },
  "language_info": {
   "codemirror_mode": {
    "name": "ipython",
    "version": 3
   },
   "file_extension": ".py",
   "mimetype": "text/x-python",
   "name": "python",
   "nbconvert_exporter": "python",
   "pygments_lexer": "ipython3",
   "version": "3.8.3"
  }
 },
 "nbformat": 4,
 "nbformat_minor": 4
}
