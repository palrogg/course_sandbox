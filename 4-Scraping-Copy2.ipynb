{
 "cells": [
  {
   "cell_type": "markdown",
   "metadata": {},
   "source": [
    "# Scraping"
   ]
  },
  {
   "cell_type": "code",
   "execution_count": 4,
   "metadata": {},
   "outputs": [],
   "source": [
    "import requests\n",
    "from bs4 import BeautifulSoup"
   ]
  },
  {
   "cell_type": "code",
   "execution_count": 5,
   "metadata": {},
   "outputs": [],
   "source": [
    "response = requests.get('https://www.fr.ch/gc/sommaire/bulletins-officiels-des-seances-bgc-2019')"
   ]
  },
  {
   "cell_type": "code",
   "execution_count": 6,
   "metadata": {},
   "outputs": [
    {
     "data": {
      "text/plain": [
       "<Response [200]>"
      ]
     },
     "execution_count": 6,
     "metadata": {},
     "output_type": "execute_result"
    }
   ],
   "source": [
    "response"
   ]
  },
  {
   "cell_type": "code",
   "execution_count": 7,
   "metadata": {},
   "outputs": [],
   "source": [
    "doc = BeautifulSoup(response.text)"
   ]
  },
  {
   "cell_type": "code",
   "execution_count": 9,
   "metadata": {},
   "outputs": [
    {
     "data": {
      "text/plain": [
       "<h2 class=\"h2 title\">Sommaire</h2>"
      ]
     },
     "execution_count": 9,
     "metadata": {},
     "output_type": "execute_result"
    }
   ],
   "source": [
    "doc.find('h2')"
   ]
  },
  {
   "cell_type": "code",
   "execution_count": 10,
   "metadata": {},
   "outputs": [
    {
     "data": {
      "text/plain": [
       "<title>Bulletins Officiels  des séances (BGC)  2019 | État de Fribourg</title>"
      ]
     },
     "execution_count": 10,
     "metadata": {},
     "output_type": "execute_result"
    }
   ],
   "source": [
    "doc.find('title')"
   ]
  },
  {
   "cell_type": "code",
   "execution_count": 16,
   "metadata": {},
   "outputs": [
    {
     "data": {
      "text/plain": [
       "[<a href=\"/gc/sommaire/bulletins-officiels-des-seances-bgc-2019?page=1#detail\">BGC Février 2019</a>,\n",
       " <a href=\"/gc/sommaire/bulletins-officiels-des-seances-bgc-2019?page=2#detail\">BGC Mars 2019</a>,\n",
       " <a href=\"/gc/sommaire/bulletins-officiels-des-seances-bgc-2019?page=3#detail\">BGC Mai 2019</a>,\n",
       " <a href=\"/gc/sommaire/bulletins-officiels-des-seances-bgc-2019?page=4#detail\">BGC Juin 2019</a>,\n",
       " <a href=\"/gc/sommaire/bulletins-officiels-des-seances-bgc-2019?page=5#detail\">BGC Septembre 2019</a>,\n",
       " <a href=\"/gc/sommaire/bulletins-officiels-des-seances-bgc-2019?page=6#detail\">BGC Octobre 2019</a>,\n",
       " <a href=\"/gc/sommaire/bulletins-officiels-des-seances-bgc-2019?page=7#detail\">BGC Novembre 2019</a>,\n",
       " <a href=\"/gc/sommaire/bulletins-officiels-des-seances-bgc-2019?page=8#detail\">BGC Décembre 2019</a>]"
      ]
     },
     "execution_count": 16,
     "metadata": {},
     "output_type": "execute_result"
    }
   ],
   "source": [
    "doc.select('#detail a')"
   ]
  },
  {
   "cell_type": "code",
   "execution_count": 26,
   "metadata": {},
   "outputs": [],
   "source": [
    "links = doc.select('#detail a')"
   ]
  },
  {
   "cell_type": "code",
   "execution_count": null,
   "metadata": {},
   "outputs": [],
   "source": []
  },
  {
   "cell_type": "code",
   "execution_count": null,
   "metadata": {},
   "outputs": [],
   "source": []
  },
  {
   "cell_type": "code",
   "execution_count": null,
   "metadata": {},
   "outputs": [],
   "source": []
  },
  {
   "cell_type": "code",
   "execution_count": null,
   "metadata": {},
   "outputs": [],
   "source": []
  },
  {
   "cell_type": "code",
   "execution_count": null,
   "metadata": {},
   "outputs": [],
   "source": []
  },
  {
   "cell_type": "code",
   "execution_count": null,
   "metadata": {},
   "outputs": [],
   "source": []
  },
  {
   "cell_type": "markdown",
   "metadata": {},
   "source": [
    "##### Essayez:\n",
    "\n",
    "* doc.find_all('p')\n",
    "* doc.find_all('img')\n",
    "* doc.find_all('span')"
   ]
  },
  {
   "cell_type": "code",
   "execution_count": 11,
   "metadata": {},
   "outputs": [
    {
     "ename": "SyntaxError",
     "evalue": "invalid syntax (<ipython-input-11-e3297a3077ed>, line 1)",
     "output_type": "error",
     "traceback": [
      "\u001b[1;36m  File \u001b[1;32m\"<ipython-input-11-e3297a3077ed>\"\u001b[1;36m, line \u001b[1;32m1\u001b[0m\n\u001b[1;33m    doc.find(<a>)\u001b[0m\n\u001b[1;37m             ^\u001b[0m\n\u001b[1;31mSyntaxError\u001b[0m\u001b[1;31m:\u001b[0m invalid syntax\n"
     ]
    }
   ],
   "source": [
    "doc.find"
   ]
  },
  {
   "cell_type": "code",
   "execution_count": 30,
   "metadata": {},
   "outputs": [
    {
     "data": {
      "text/plain": [
       "[]"
      ]
     },
     "execution_count": 30,
     "metadata": {},
     "output_type": "execute_result"
    }
   ],
   "source": [
    "doc.find_all('img')"
   ]
  },
  {
   "cell_type": "code",
   "execution_count": 31,
   "metadata": {},
   "outputs": [
    {
     "data": {
      "text/plain": [
       "[]"
      ]
     },
     "execution_count": 31,
     "metadata": {},
     "output_type": "execute_result"
    }
   ],
   "source": [
    "doc.find_all('span')"
   ]
  },
  {
   "cell_type": "markdown",
   "metadata": {},
   "source": [
    "# Et si on parcourt le résultat dans une boucle?"
   ]
  },
  {
   "cell_type": "code",
   "execution_count": 32,
   "metadata": {},
   "outputs": [
    {
     "name": "stdout",
     "output_type": "stream",
     "text": [
      "<p>Ce paragraphe nous intÃ©resse. Câest le premier.</p>\n",
      "<p>Le second nous intÃ©resse Ã©galement.</p>\n",
      "<p>Le troisiÃ¨me est un peu plus <em>compliquÃ©</em>â¦<br/>\n",
      "    Mais on va sâen sortir!</p>\n"
     ]
    }
   ],
   "source": [
    "liste = doc.find_all('p')\n",
    "for i in liste:\n",
    "    print(i)"
   ]
  },
  {
   "cell_type": "code",
   "execution_count": 42,
   "metadata": {},
   "outputs": [],
   "source": [
    "table = doc.find('table')"
   ]
  },
  {
   "cell_type": "code",
   "execution_count": 45,
   "metadata": {},
   "outputs": [
    {
     "name": "stdout",
     "output_type": "stream",
     "text": [
      "<table>\n",
      "<!-- tr = table row -->\n",
      "<tr>\n",
      "<th>Chats</th><th>Chiens</th>\n",
      "</tr>\n",
      "<tr>\n",
      "<td>3</td><td>0</td>\n",
      "</tr>\n",
      "<tr>\n",
      "<td>5</td><td>0</td>\n",
      "</tr>\n",
      "<tr>\n",
      "<td>3</td><td>5</td>\n",
      "</tr>\n",
      "<tr>\n",
      "<td>3</td><td>90</td>\n",
      "</tr>\n",
      "<tr>\n",
      "<td>13</td><td>10</td>\n",
      "</tr>\n",
      "</table>\n",
      "<table>\n",
      "<!-- tr = table row -->\n",
      "<tr>\n",
      "<th>Chats</th><th>Chiens</th>\n",
      "</tr>\n",
      "<tr>\n",
      "<td>3</td><td>0</td>\n",
      "</tr>\n",
      "<tr>\n",
      "<td>5</td><td>0</td>\n",
      "</tr>\n",
      "<tr>\n",
      "<td>3</td><td>5</td>\n",
      "</tr>\n",
      "<tr>\n",
      "<td>3</td><td>90</td>\n",
      "</tr>\n",
      "<tr>\n",
      "<td>13</td><td>10</td>\n",
      "</tr>\n",
      "</table>\n",
      "<table>\n",
      "<!-- tr = table row -->\n",
      "<tr>\n",
      "<th>Chats</th><th>Chiens</th>\n",
      "</tr>\n",
      "<tr>\n",
      "<td>3</td><td>0</td>\n",
      "</tr>\n",
      "<tr>\n",
      "<td>5</td><td>0</td>\n",
      "</tr>\n",
      "<tr>\n",
      "<td>3</td><td>5</td>\n",
      "</tr>\n",
      "<tr>\n",
      "<td>3</td><td>90</td>\n",
      "</tr>\n",
      "<tr>\n",
      "<td>13</td><td>10</td>\n",
      "</tr>\n",
      "</table>\n",
      "<table>\n",
      "<!-- tr = table row -->\n",
      "<tr>\n",
      "<th>Chats</th><th>Chiens</th>\n",
      "</tr>\n",
      "<tr>\n",
      "<td>3</td><td>0</td>\n",
      "</tr>\n",
      "<tr>\n",
      "<td>5</td><td>0</td>\n",
      "</tr>\n",
      "<tr>\n",
      "<td>3</td><td>5</td>\n",
      "</tr>\n",
      "<tr>\n",
      "<td>3</td><td>90</td>\n",
      "</tr>\n",
      "<tr>\n",
      "<td>13</td><td>10</td>\n",
      "</tr>\n",
      "</table>\n",
      "<table>\n",
      "<!-- tr = table row -->\n",
      "<tr>\n",
      "<th>Chats</th><th>Chiens</th>\n",
      "</tr>\n",
      "<tr>\n",
      "<td>3</td><td>0</td>\n",
      "</tr>\n",
      "<tr>\n",
      "<td>5</td><td>0</td>\n",
      "</tr>\n",
      "<tr>\n",
      "<td>3</td><td>5</td>\n",
      "</tr>\n",
      "<tr>\n",
      "<td>3</td><td>90</td>\n",
      "</tr>\n",
      "<tr>\n",
      "<td>13</td><td>10</td>\n",
      "</tr>\n",
      "</table>\n",
      "<table>\n",
      "<!-- tr = table row -->\n",
      "<tr>\n",
      "<th>Chats</th><th>Chiens</th>\n",
      "</tr>\n",
      "<tr>\n",
      "<td>3</td><td>0</td>\n",
      "</tr>\n",
      "<tr>\n",
      "<td>5</td><td>0</td>\n",
      "</tr>\n",
      "<tr>\n",
      "<td>3</td><td>5</td>\n",
      "</tr>\n",
      "<tr>\n",
      "<td>3</td><td>90</td>\n",
      "</tr>\n",
      "<tr>\n",
      "<td>13</td><td>10</td>\n",
      "</tr>\n",
      "</table>\n"
     ]
    }
   ],
   "source": [
    "for row in table.find_all('tr'):\n",
    "    values = row.find_all('td')\n",
    "    print(table)"
   ]
  },
  {
   "cell_type": "code",
   "execution_count": null,
   "metadata": {},
   "outputs": [],
   "source": []
  },
  {
   "cell_type": "code",
   "execution_count": null,
   "metadata": {},
   "outputs": [],
   "source": []
  },
  {
   "cell_type": "markdown",
   "metadata": {},
   "source": [
    "# Attributs et méthodes\n",
    "\n",
    "Mettez doc.find('p') dans la variable `test`, puis écrivez `test.` et appuyez sur tab en laissant votre curseur après le point. Quels attributs et méthodes apparaissent? Essayez-en quelques-uns"
   ]
  },
  {
   "cell_type": "code",
   "execution_count": 18,
   "metadata": {},
   "outputs": [
    {
     "name": "stdout",
     "output_type": "stream",
     "text": [
      "<p>Ce paragraphe nous intÃ©resse. Câest le premier.</p>\n"
     ]
    }
   ],
   "source": [
    "test = doc.find('p')\n",
    "print(test)"
   ]
  },
  {
   "cell_type": "code",
   "execution_count": 19,
   "metadata": {},
   "outputs": [
    {
     "name": "stdout",
     "output_type": "stream",
     "text": [
      "None\n"
     ]
    }
   ],
   "source": [
    "test = doc.find('img')\n",
    "print(test)"
   ]
  },
  {
   "cell_type": "code",
   "execution_count": null,
   "metadata": {},
   "outputs": [],
   "source": []
  },
  {
   "cell_type": "code",
   "execution_count": null,
   "metadata": {},
   "outputs": [],
   "source": []
  },
  {
   "cell_type": "code",
   "execution_count": null,
   "metadata": {},
   "outputs": [],
   "source": []
  },
  {
   "cell_type": "code",
   "execution_count": null,
   "metadata": {},
   "outputs": [],
   "source": []
  },
  {
   "cell_type": "code",
   "execution_count": null,
   "metadata": {},
   "outputs": [],
   "source": []
  },
  {
   "cell_type": "code",
   "execution_count": null,
   "metadata": {},
   "outputs": [],
   "source": []
  }
 ],
 "metadata": {
  "kernelspec": {
   "display_name": "Python 3",
   "language": "python",
   "name": "python3"
  },
  "language_info": {
   "codemirror_mode": {
    "name": "ipython",
    "version": 3
   },
   "file_extension": ".py",
   "mimetype": "text/x-python",
   "name": "python",
   "nbconvert_exporter": "python",
   "pygments_lexer": "ipython3",
   "version": "3.8.3"
  }
 },
 "nbformat": 4,
 "nbformat_minor": 4
}
