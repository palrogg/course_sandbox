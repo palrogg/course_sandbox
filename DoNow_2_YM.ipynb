{
 "cells": [
  {
   "cell_type": "markdown",
   "metadata": {},
   "source": [
    "# «Do now»\n",
    "Un deuxième «warm-up». Cette fois, on consolide notre utilisation de Pandas."
   ]
  },
  {
   "cell_type": "code",
   "execution_count": 1,
   "metadata": {},
   "outputs": [],
   "source": [
    "import pandas as pd"
   ]
  },
  {
   "cell_type": "code",
   "execution_count": 5,
   "metadata": {},
   "outputs": [],
   "source": [
    "df = pd.read_csv('time-series-ecdc.csv')"
   ]
  },
  {
   "cell_type": "code",
   "execution_count": 6,
   "metadata": {},
   "outputs": [
    {
     "data": {
      "text/html": [
       "<div>\n",
       "<style scoped>\n",
       "    .dataframe tbody tr th:only-of-type {\n",
       "        vertical-align: middle;\n",
       "    }\n",
       "\n",
       "    .dataframe tbody tr th {\n",
       "        vertical-align: top;\n",
       "    }\n",
       "\n",
       "    .dataframe thead th {\n",
       "        text-align: right;\n",
       "    }\n",
       "</style>\n",
       "<table border=\"1\" class=\"dataframe\">\n",
       "  <thead>\n",
       "    <tr style=\"text-align: right;\">\n",
       "      <th></th>\n",
       "      <th>timestamp</th>\n",
       "      <th>country</th>\n",
       "      <th>cases_sum</th>\n",
       "      <th>deaths_sum</th>\n",
       "      <th>casesPerPop</th>\n",
       "      <th>deathsPerPop</th>\n",
       "      <th>Alpha-3 code</th>\n",
       "      <th>lat</th>\n",
       "      <th>lng</th>\n",
       "    </tr>\n",
       "  </thead>\n",
       "  <tbody>\n",
       "    <tr>\n",
       "      <th>0</th>\n",
       "      <td>2020-03-16</td>\n",
       "      <td>Aruba</td>\n",
       "      <td>2</td>\n",
       "      <td>0</td>\n",
       "      <td>18.8</td>\n",
       "      <td>0.0</td>\n",
       "      <td>ABW</td>\n",
       "      <td>12.5</td>\n",
       "      <td>-69.9667</td>\n",
       "    </tr>\n",
       "    <tr>\n",
       "      <th>1</th>\n",
       "      <td>2020-03-23</td>\n",
       "      <td>Aruba</td>\n",
       "      <td>4</td>\n",
       "      <td>0</td>\n",
       "      <td>37.6</td>\n",
       "      <td>0.0</td>\n",
       "      <td>ABW</td>\n",
       "      <td>12.5</td>\n",
       "      <td>-69.9667</td>\n",
       "    </tr>\n",
       "    <tr>\n",
       "      <th>2</th>\n",
       "      <td>2020-03-30</td>\n",
       "      <td>Aruba</td>\n",
       "      <td>50</td>\n",
       "      <td>0</td>\n",
       "      <td>470.3</td>\n",
       "      <td>0.0</td>\n",
       "      <td>ABW</td>\n",
       "      <td>12.5</td>\n",
       "      <td>-69.9667</td>\n",
       "    </tr>\n",
       "    <tr>\n",
       "      <th>3</th>\n",
       "      <td>2020-04-06</td>\n",
       "      <td>Aruba</td>\n",
       "      <td>64</td>\n",
       "      <td>0</td>\n",
       "      <td>602.0</td>\n",
       "      <td>0.0</td>\n",
       "      <td>ABW</td>\n",
       "      <td>12.5</td>\n",
       "      <td>-69.9667</td>\n",
       "    </tr>\n",
       "    <tr>\n",
       "      <th>4</th>\n",
       "      <td>2020-04-13</td>\n",
       "      <td>Aruba</td>\n",
       "      <td>92</td>\n",
       "      <td>0</td>\n",
       "      <td>865.4</td>\n",
       "      <td>0.0</td>\n",
       "      <td>ABW</td>\n",
       "      <td>12.5</td>\n",
       "      <td>-69.9667</td>\n",
       "    </tr>\n",
       "  </tbody>\n",
       "</table>\n",
       "</div>"
      ],
      "text/plain": [
       "    timestamp country  cases_sum  deaths_sum  casesPerPop  deathsPerPop  \\\n",
       "0  2020-03-16   Aruba          2           0         18.8           0.0   \n",
       "1  2020-03-23   Aruba          4           0         37.6           0.0   \n",
       "2  2020-03-30   Aruba         50           0        470.3           0.0   \n",
       "3  2020-04-06   Aruba         64           0        602.0           0.0   \n",
       "4  2020-04-13   Aruba         92           0        865.4           0.0   \n",
       "\n",
       "  Alpha-3 code   lat      lng  \n",
       "0          ABW  12.5 -69.9667  \n",
       "1          ABW  12.5 -69.9667  \n",
       "2          ABW  12.5 -69.9667  \n",
       "3          ABW  12.5 -69.9667  \n",
       "4          ABW  12.5 -69.9667  "
      ]
     },
     "execution_count": 6,
     "metadata": {},
     "output_type": "execute_result"
    }
   ],
   "source": [
    "df.head()"
   ]
  },
  {
   "cell_type": "markdown",
   "metadata": {},
   "source": [
    "## Rappels\n",
    "\n",
    "`.value_counts()`\n",
    "\n",
    "`len(df)`\n",
    "\n",
    "`df.columns`\n",
    "\n",
    "`df['Nouvelle colonne'] = df['Colonne'] / 10`\n",
    "\n",
    "`df['Colonne'].sum()`"
   ]
  },
  {
   "cell_type": "markdown",
   "metadata": {},
   "source": [
    "Utilisez l’une des méthodes ci-dessus pour calculer le maximum de la colonne **deaths_sum**."
   ]
  },
  {
   "cell_type": "code",
   "execution_count": 51,
   "metadata": {},
   "outputs": [
    {
     "data": {
      "text/plain": [
       "30513"
      ]
     },
     "execution_count": 51,
     "metadata": {},
     "output_type": "execute_result"
    }
   ],
   "source": [
    "df['deaths_sum'].max()"
   ]
  },
  {
   "cell_type": "markdown",
   "metadata": {},
   "source": [
    "Avec une autre de ces méthodes, trouvez le nombre de lignes du tableau."
   ]
  },
  {
   "cell_type": "code",
   "execution_count": 11,
   "metadata": {},
   "outputs": [
    {
     "data": {
      "text/plain": [
       "5319"
      ]
     },
     "execution_count": 11,
     "metadata": {},
     "output_type": "execute_result"
    }
   ],
   "source": [
    "len(df)"
   ]
  },
  {
   "cell_type": "markdown",
   "metadata": {},
   "source": [
    "Combien de pays différents contient ce tableau? Indice: `.value_counts()` vous donne la réponse, mais vous devez compter le nombre d’éléments qu’il contient. Et comme il y a plus de 200 pays, il vaut mieux le faire en Python…"
   ]
  },
  {
   "cell_type": "code",
   "execution_count": 13,
   "metadata": {},
   "outputs": [
    {
     "data": {
      "text/plain": [
       "203"
      ]
     },
     "execution_count": 13,
     "metadata": {},
     "output_type": "execute_result"
    }
   ],
   "source": [
    "len(df['country'].value_counts())"
   ]
  },
  {
   "cell_type": "markdown",
   "metadata": {},
   "source": [
    "**Bonus:** quel était le bilan de la France (cas et décès) le 17 juin?"
   ]
  },
  {
   "cell_type": "code",
   "execution_count": 64,
   "metadata": {},
   "outputs": [
    {
     "data": {
      "text/html": [
       "<div>\n",
       "<style scoped>\n",
       "    .dataframe tbody tr th:only-of-type {\n",
       "        vertical-align: middle;\n",
       "    }\n",
       "\n",
       "    .dataframe tbody tr th {\n",
       "        vertical-align: top;\n",
       "    }\n",
       "\n",
       "    .dataframe thead th {\n",
       "        text-align: right;\n",
       "    }\n",
       "</style>\n",
       "<table border=\"1\" class=\"dataframe\">\n",
       "  <thead>\n",
       "    <tr style=\"text-align: right;\">\n",
       "      <th></th>\n",
       "      <th>timestamp</th>\n",
       "      <th>country</th>\n",
       "      <th>cases_sum</th>\n",
       "      <th>deaths_sum</th>\n",
       "      <th>casesPerPop</th>\n",
       "      <th>deathsPerPop</th>\n",
       "      <th>Alpha-3 code</th>\n",
       "      <th>lat</th>\n",
       "      <th>lng</th>\n",
       "    </tr>\n",
       "    <tr>\n",
       "      <th>timestamp</th>\n",
       "      <th></th>\n",
       "      <th></th>\n",
       "      <th></th>\n",
       "      <th></th>\n",
       "      <th></th>\n",
       "      <th></th>\n",
       "      <th></th>\n",
       "      <th></th>\n",
       "      <th></th>\n",
       "    </tr>\n",
       "  </thead>\n",
       "  <tbody>\n",
       "    <tr>\n",
       "      <th>2020-06-15</th>\n",
       "      <td>2020-06-15</td>\n",
       "      <td>France</td>\n",
       "      <td>157220</td>\n",
       "      <td>29407</td>\n",
       "      <td>2346.1</td>\n",
       "      <td>438.8</td>\n",
       "      <td>FRA</td>\n",
       "      <td>46.0</td>\n",
       "      <td>2.0</td>\n",
       "    </tr>\n",
       "  </tbody>\n",
       "</table>\n",
       "</div>"
      ],
      "text/plain": [
       "             timestamp country  cases_sum  deaths_sum  casesPerPop  \\\n",
       "timestamp                                                            \n",
       "2020-06-15  2020-06-15  France     157220       29407       2346.1   \n",
       "\n",
       "            deathsPerPop Alpha-3 code   lat  lng  \n",
       "timestamp                                         \n",
       "2020-06-15         438.8          FRA  46.0  2.0  "
      ]
     },
     "execution_count": 64,
     "metadata": {},
     "output_type": "execute_result"
    }
   ],
   "source": [
    "df[(df['timestamp']== '2020-06-15') & (df['country'] == 'France')]"
   ]
  },
  {
   "cell_type": "code",
   "execution_count": null,
   "metadata": {},
   "outputs": [],
   "source": []
  },
  {
   "cell_type": "code",
   "execution_count": 44,
   "metadata": {},
   "outputs": [
    {
     "data": {
      "text/plain": [
       "timestamp        object\n",
       "country          object\n",
       "cases_sum         int64\n",
       "deaths_sum        int64\n",
       "casesPerPop     float64\n",
       "deathsPerPop    float64\n",
       "Alpha-3 code     object\n",
       "lat             float64\n",
       "lng             float64\n",
       "dtype: object"
      ]
     },
     "execution_count": 44,
     "metadata": {},
     "output_type": "execute_result"
    }
   ],
   "source": [
    "df.dtypes"
   ]
  },
  {
   "cell_type": "code",
   "execution_count": null,
   "metadata": {},
   "outputs": [],
   "source": []
  },
  {
   "cell_type": "code",
   "execution_count": null,
   "metadata": {},
   "outputs": [],
   "source": []
  }
 ],
 "metadata": {
  "kernelspec": {
   "display_name": "Python 3",
   "language": "python",
   "name": "python3"
  },
  "language_info": {
   "codemirror_mode": {
    "name": "ipython",
    "version": 3
   },
   "file_extension": ".py",
   "mimetype": "text/x-python",
   "name": "python",
   "nbconvert_exporter": "python",
   "pygments_lexer": "ipython3",
   "version": "3.8.3"
  }
 },
 "nbformat": 4,
 "nbformat_minor": 4
}
