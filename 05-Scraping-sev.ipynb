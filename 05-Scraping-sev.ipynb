{
 "cells": [
  {
   "cell_type": "markdown",
   "metadata": {},
   "source": [
    "# Scraping\n",
    "\n",
    "Le scraping consiste à extraire des données de pages Web de manière automatique.\n",
    "\n",
    "La méthode la plus simple consiste à demander le code HTML de la page désirée et à utiliser sa structure pour accéder aux données intéressantes. Ces données peuvent contenir des liens vers d’autres pages à scraper."
   ]
  },
  {
   "cell_type": "code",
   "execution_count": 4,
   "metadata": {},
   "outputs": [],
   "source": [
    "# Ce module permet de faire des «requêtes»: donne-moi telle page Web\n",
    "import requests\n",
    "\n",
    "# Ce module sert à parcourir la structure d ela page\n",
    "from bs4 import BeautifulSoup"
   ]
  },
  {
   "cell_type": "code",
   "execution_count": null,
   "metadata": {},
   "outputs": [],
   "source": []
  },
  {
   "cell_type": "code",
   "execution_count": 8,
   "metadata": {},
   "outputs": [
    {
     "name": "stderr",
     "output_type": "stream",
     "text": [
      "/opt/anaconda3/lib/python3.8/site-packages/urllib3/connectionpool.py:1013: InsecureRequestWarning: Unverified HTTPS request is being made to host 'paulronga.ch'. Adding certificate verification is strongly advised. See: https://urllib3.readthedocs.io/en/latest/advanced-usage.html#ssl-warnings\n",
      "  warnings.warn(\n"
     ]
    }
   ],
   "source": [
    "# Ici, on envoie une requête pour la page\n",
    "response = requests.get('http://www.paulronga.ch/', verify=False)"
   ]
  },
  {
   "cell_type": "code",
   "execution_count": null,
   "metadata": {},
   "outputs": [],
   "source": []
  },
  {
   "cell_type": "code",
   "execution_count": 9,
   "metadata": {},
   "outputs": [
    {
     "data": {
      "text/plain": [
       "<Response [200]>"
      ]
     },
     "execution_count": 9,
     "metadata": {},
     "output_type": "execute_result"
    }
   ],
   "source": [
    "# Quel est le statut de la réponse? Si c’est un 404, la page n’a pas été trouvée\n",
    "response"
   ]
  },
  {
   "cell_type": "code",
   "execution_count": 11,
   "metadata": {},
   "outputs": [
    {
     "data": {
      "text/plain": [
       "<!DOCTYPE html>\n",
       "<html lang=\"fr-FR\">\n",
       "<head>\n",
       "<meta charset=\"utf-8\"/>\n",
       "<meta content=\"width=device-width, initial-scale=1\" name=\"viewport\"/>\n",
       "<link href=\"http://gmpg.org/xfn/11\" rel=\"profile\"/>\n",
       "<link href=\"https://paulronga.ch/xmlrpc.php\" rel=\"pingback\"/>\n",
       "<title>Paul Ronga – page personnelle</title>\n",
       "<meta content=\"max-image-preview:large\" name=\"robots\"/>\n",
       "<link href=\"//fonts.googleapis.com\" rel=\"dns-prefetch\"/>\n",
       "<link href=\"//s.w.org\" rel=\"dns-prefetch\"/>\n",
       "<link href=\"https://paulronga.ch/feed/\" rel=\"alternate\" title=\"Paul Ronga » Flux\" type=\"application/rss+xml\"/>\n",
       "<link href=\"https://paulronga.ch/comments/feed/\" rel=\"alternate\" title=\"Paul Ronga » Flux des commentaires\" type=\"application/rss+xml\"/>\n",
       "<script type=\"text/javascript\">\n",
       "\t\t\twindow._wpemojiSettings = {\"baseUrl\":\"https:\\/\\/s.w.org\\/images\\/core\\/emoji\\/13.0.1\\/72x72\\/\",\"ext\":\".png\",\"svgUrl\":\"https:\\/\\/s.w.org\\/images\\/core\\/emoji\\/13.0.1\\/svg\\/\",\"svgExt\":\".svg\",\"source\":{\"concatemoji\":\"https:\\/\\/paulronga.ch\\/wp-includes\\/js\\/wp-emoji-release.min.js?ver=5.7.2\"}};\n",
       "\t\t\t!function(e,a,t){var n,r,o,i=a.createElement(\"canvas\"),p=i.getContext&&i.getContext(\"2d\");function s(e,t){var a=String.fromCharCode;p.clearRect(0,0,i.width,i.height),p.fillText(a.apply(this,e),0,0);e=i.toDataURL();return p.clearRect(0,0,i.width,i.height),p.fillText(a.apply(this,t),0,0),e===i.toDataURL()}function c(e){var t=a.createElement(\"script\");t.src=e,t.defer=t.type=\"text/javascript\",a.getElementsByTagName(\"head\")[0].appendChild(t)}for(o=Array(\"flag\",\"emoji\"),t.supports={everything:!0,everythingExceptFlag:!0},r=0;r<o.length;r++)t.supports[o[r]]=function(e){if(!p||!p.fillText)return!1;switch(p.textBaseline=\"top\",p.font=\"600 32px Arial\",e){case\"flag\":return s([127987,65039,8205,9895,65039],[127987,65039,8203,9895,65039])?!1:!s([55356,56826,55356,56819],[55356,56826,8203,55356,56819])&&!s([55356,57332,56128,56423,56128,56418,56128,56421,56128,56430,56128,56423,56128,56447],[55356,57332,8203,56128,56423,8203,56128,56418,8203,56128,56421,8203,56128,56430,8203,56128,56423,8203,56128,56447]);case\"emoji\":return!s([55357,56424,8205,55356,57212],[55357,56424,8203,55356,57212])}return!1}(o[r]),t.supports.everything=t.supports.everything&&t.supports[o[r]],\"flag\"!==o[r]&&(t.supports.everythingExceptFlag=t.supports.everythingExceptFlag&&t.supports[o[r]]);t.supports.everythingExceptFlag=t.supports.everythingExceptFlag&&!t.supports.flag,t.DOMReady=!1,t.readyCallback=function(){t.DOMReady=!0},t.supports.everything||(n=function(){t.readyCallback()},a.addEventListener?(a.addEventListener(\"DOMContentLoaded\",n,!1),e.addEventListener(\"load\",n,!1)):(e.attachEvent(\"onload\",n),a.attachEvent(\"onreadystatechange\",function(){\"complete\"===a.readyState&&t.readyCallback()})),(n=t.source||{}).concatemoji?c(n.concatemoji):n.wpemoji&&n.twemoji&&(c(n.twemoji),c(n.wpemoji)))}(window,document,window._wpemojiSettings);\n",
       "\t\t</script>\n",
       "<style type=\"text/css\">\n",
       "img.wp-smiley,\n",
       "img.emoji {\n",
       "\tdisplay: inline !important;\n",
       "\tborder: none !important;\n",
       "\tbox-shadow: none !important;\n",
       "\theight: 1em !important;\n",
       "\twidth: 1em !important;\n",
       "\tmargin: 0 .07em !important;\n",
       "\tvertical-align: -0.1em !important;\n",
       "\tbackground: none !important;\n",
       "\tpadding: 0 !important;\n",
       "}\n",
       "</style>\n",
       "<link href=\"https://paulronga.ch/wp-includes/css/dist/block-library/style.min.css?ver=5.7.2\" id=\"wp-block-library-css\" media=\"all\" rel=\"stylesheet\" type=\"text/css\"/>\n",
       "<link href=\"https://fonts.googleapis.com/css?family=Open%2BSans%3A400%2C300%2C300italic%2C400italic%2C600%2C600italic%2C700%2C700italic%7CMontserrat%3A400%2C700&amp;subset=latin%2Clatin-ext\" id=\"screenr-fonts-css\" media=\"all\" rel=\"stylesheet\" type=\"text/css\"/>\n",
       "<link href=\"https://paulronga.ch/wp-content/themes/screenr/assets/css/font-awesome.min.css?ver=4.0.0\" id=\"font-awesome-css\" media=\"all\" rel=\"stylesheet\" type=\"text/css\"/>\n",
       "<link href=\"https://paulronga.ch/wp-content/themes/screenr/assets/css/bootstrap.min.css?ver=4.0.0\" id=\"bootstrap-css\" media=\"all\" rel=\"stylesheet\" type=\"text/css\"/>\n",
       "<link href=\"https://paulronga.ch/wp-content/themes/screenr/style.css?ver=5.7.2\" id=\"screenr-style-css\" media=\"all\" rel=\"stylesheet\" type=\"text/css\"/>\n",
       "<style id=\"screenr-style-inline-css\" type=\"text/css\">\n",
       "\t#page-header-cover.swiper-slider.no-image .swiper-slide .overlay {\n",
       "\t\tbackground-color: #000000;\n",
       "\t\topacity: 1;\n",
       "\t}\n",
       "\t\n",
       "\t\n",
       "\t\n",
       "\t\n",
       "\t\n",
       "\t\n",
       "\t\n",
       "\t\t.gallery-carousel .g-item{\n",
       "\t\tpadding: 0px 10px;\n",
       "\t}\n",
       "\t.gallery-carousel {\n",
       "\t\tmargin-left: -10px;\n",
       "\t\tmargin-right: -10px;\n",
       "\t}\n",
       "\t.gallery-grid .g-item, .gallery-masonry .g-item .inner {\n",
       "\t\tpadding: 10px;\n",
       "\t}\n",
       "\t.gallery-grid, .gallery-masonry {\n",
       "\t\tmargin: -10px;\n",
       "\t}\n",
       "\t\n",
       "</style>\n",
       "<link href=\"https://paulronga.ch/wp-content/themes/screenr/assets/css/lightgallery.css?ver=5.7.2\" id=\"screenr-gallery-lightgallery-css\" media=\"all\" rel=\"stylesheet\" type=\"text/css\"/>\n",
       "<script id=\"jquery-core-js\" src=\"https://paulronga.ch/wp-includes/js/jquery/jquery.min.js?ver=3.5.1\" type=\"text/javascript\"></script>\n",
       "<script id=\"jquery-migrate-js\" src=\"https://paulronga.ch/wp-includes/js/jquery/jquery-migrate.min.js?ver=3.3.2\" type=\"text/javascript\"></script>\n",
       "<link href=\"https://paulronga.ch/wp-json/\" rel=\"https://api.w.org/\"/><link href=\"https://paulronga.ch/wp-json/wp/v2/pages/674\" rel=\"alternate\" type=\"application/json\"/><link href=\"https://paulronga.ch/xmlrpc.php?rsd\" rel=\"EditURI\" title=\"RSD\" type=\"application/rsd+xml\"/>\n",
       "<link href=\"https://paulronga.ch/wp-includes/wlwmanifest.xml\" rel=\"wlwmanifest\" type=\"application/wlwmanifest+xml\"/>\n",
       "<meta content=\"WordPress 5.7.2\" name=\"generator\"/>\n",
       "<link href=\"https://paulronga.ch/\" rel=\"canonical\"/>\n",
       "<link href=\"https://paulronga.ch/\" rel=\"shortlink\"/>\n",
       "<link href=\"https://paulronga.ch/wp-json/oembed/1.0/embed?url=https%3A%2F%2Fpaulronga.ch%2F\" rel=\"alternate\" type=\"application/json+oembed\"/>\n",
       "<link href=\"https://paulronga.ch/wp-json/oembed/1.0/embed?url=https%3A%2F%2Fpaulronga.ch%2F&amp;format=xml\" rel=\"alternate\" type=\"text/xml+oembed\"/>\n",
       "<style type=\"text/css\">.recentcomments a{display:inline !important;padding:0 !important;margin:0 !important;}</style></head>\n",
       "<body class=\"home page-template page-template-template-frontpage page-template-template-frontpage-php page page-id-674 group-blog has-site-title has-site-tagline header-layout-fixed\">\n",
       "<div class=\"site\" id=\"page\">\n",
       "<a class=\"skip-link screen-reader-text\" href=\"#content\">Aller au contenu</a>\n",
       "<header class=\"site-header\" id=\"masthead\" role=\"banner\">\n",
       "<div class=\"container\">\n",
       "<div class=\"site-branding\">\n",
       "<h1 class=\"site-title\"><a href=\"https://paulronga.ch/\" rel=\"home\">Paul Ronga</a></h1>\n",
       "</div><!-- .site-branding -->\n",
       "<div class=\"header-right-wrapper\">\n",
       "<a href=\"#\" id=\"nav-toggle\">Menu<span></span></a>\n",
       "<nav class=\"main-navigation\" id=\"site-navigation\" role=\"navigation\">\n",
       "<ul class=\"nav-menu\">\n",
       "<li class=\"menu-item menu-item-type-custom menu-item-object-custom current-menu-item current_page_item menu-item-home menu-item-960\" id=\"menu-item-960\"><a aria-current=\"page\" href=\"http://paulronga.ch\">Accueil</a></li>\n",
       "<li class=\"menu-item menu-item-type-custom menu-item-object-custom current-menu-item current_page_item menu-item-home menu-item-864\" id=\"menu-item-864\"><a aria-current=\"page\" href=\"http://paulronga.ch/#about\">Le journalisme data</a></li>\n",
       "<li class=\"menu-item menu-item-type-custom menu-item-object-custom current-menu-item current_page_item menu-item-home menu-item-865\" id=\"menu-item-865\"><a aria-current=\"page\" href=\"http://paulronga.ch/#video\">Vidéo</a></li>\n",
       "<li class=\"menu-item menu-item-type-custom menu-item-object-custom current-menu-item current_page_item menu-item-home menu-item-937\" id=\"menu-item-937\"><a aria-current=\"page\" href=\"http://paulronga.ch/#portfolio\">Portfolio</a></li>\n",
       "<li class=\"menu-item menu-item-type-custom menu-item-object-custom current-menu-item current_page_item menu-item-home menu-item-866\" id=\"menu-item-866\"><a aria-current=\"page\" href=\"http://paulronga.ch/#news\">Blog</a></li>\n",
       "</ul>\n",
       "</nav>\n",
       "<!-- #site-navigation -->\n",
       "</div>\n",
       "</div>\n",
       "</header><!-- #masthead -->\n",
       "<div class=\"site-content\" id=\"content\">\n",
       "<main class=\"site-main\" id=\"main\" role=\"main\">\n",
       "<section class=\"section-slider screenr-section swiper-slider fixed\" id=\"hero\">\n",
       "<div class=\"swiper-container\" data-autoplay=\"7000\">\n",
       "<div class=\"swiper-wrapper\">\n",
       "<div class=\"swiper-slide slide-align-center slide_content slide_content_layout_1\" style=\"background-image: url('https://paulronga.ch/wp-content/uploads/2017/06/Capture_JavaScript.jpg')\"><div class=\"swiper-slide-intro\"><div class=\"swiper-intro-inner\"><h1>Paul Ronga</h1>\n",
       "<p>Hello! Je suis journaliste data et développeur informatique. Ce site contient mon blog et le making-of de certains projets.</p>\n",
       "<p><a class=\"btn btn-lg btn-theme-primary\" href=\"#features\">Démarrer</a> <a class=\"btn btn-lg btn-secondary-outline\" href=\"#contact\">Contact</a></p>\n",
       "</div></div><div class=\"overlay\"></div></div> </div>\n",
       "<div class=\"btn-next-section\"></div>\n",
       "</div>\n",
       "</section>\n",
       "<section class=\"section-features section-padding screenr-section section-padding-empty\" id=\"features\">\n",
       "</section>\n",
       "<section class=\"screenr-section section-about section-padding section-padding-larger\" id=\"about\">\n",
       "<div class=\"container\">\n",
       "<div class=\"row\">\n",
       "<div class=\"col-md-5\">\n",
       "<div class=\"section-title-area\">\n",
       "<h2 class=\"section-title\">Le journalisme data</h2> <div class=\"section-desc\"><p>Data: les données.</p>\n",
       "<p>Le principe est de recueillir des données de manière systématique et de les mettre à la disposition du public.</p>\n",
       "<p>Le journalisme data ajoute à la pratique journalistique la programmation et la gestion de bases de données.</p>\n",
       "<p>Un des textes fondateurs de ce mouvement a été publié par Adrian Holovaty en 2006: <a href=\"http://www.holovaty.com/writing/fundamental-change/\" target=\"_blank\">A fundamental way newspaper sites need to change</a>.</p>\n",
       "</div> </div>\n",
       "</div>\n",
       "</div>\n",
       "</div>\n",
       "</section>\n",
       "<section class=\"section-gallery section-padding onepage-section\" id=\"gallery\">\n",
       "<div class=\"g-layout-default container\">\n",
       "<div class=\"section-content gallery-content\">\n",
       "</div>\n",
       "</div>\n",
       "</section>\n",
       "<section class=\"section-services section-padding-lg section-meta screenr-section\" id=\"portfolio\">\n",
       "<div class=\"container\">\n",
       "<div class=\"section-title-area\">\n",
       "<h2 class=\"section-title\">Portfolio</h2> </div>\n",
       "<div class=\"section-content services-content\">\n",
       "<div class=\"row\">\n",
       "<div class=\"col-sm-6\">\n",
       "<div class=\"card service__media top\">\n",
       "<img alt=\"\" class=\"attachment-screenr-service-small size-screenr-service-small wp-post-image\" height=\"280\" loading=\"lazy\" src=\"https://paulronga.ch/wp-content/uploads/2017/06/170512_grand_conseilq29-538x280.jpg\" width=\"538\"/> <div class=\"card-ig-overlay card-block\">\n",
       "<div class=\"service-card-content\">\n",
       "<h3 class=\"card-title\"><a href=\"https://paulronga.ch/les-grandes-gueules-du-grand-conseil/\">Les grandes gueules du Grand Conseil</a></h3>\n",
       "<div class=\"card-text\"><p>Un travail de datajournalisme basé sur le Mémorial du parlement, dans lequel sont enregistrés les débats des séances plénières. L’extraction et l’analyse ont été programmées en Python. Publié sur http://gc.tdg.ch/</p>\n",
       "</div>\n",
       "</div>\n",
       "<a class=\"service-button\" href=\"https://paulronga.ch/les-grandes-gueules-du-grand-conseil/\">Plus de détails →</a>\n",
       "</div>\n",
       "</div>\n",
       "</div>\n",
       "<div class=\"col-sm-6\">\n",
       "<div class=\"card service__media top\">\n",
       "<img alt=\"\" class=\"attachment-screenr-service-small size-screenr-service-small wp-post-image\" height=\"280\" loading=\"lazy\" src=\"https://paulronga.ch/wp-content/uploads/2017/06/12418890_10206467352817203_6000695905079983764_o-538x280.jpg\" width=\"538\"/> <div class=\"card-ig-overlay card-block\">\n",
       "<div class=\"service-card-content\">\n",
       "<h3 class=\"card-title\"><a href=\"https://paulronga.ch/jeu-ios/\">Jeu iOS</a></h3>\n",
       "<div class=\"card-text\"><p>Le jeu Edgar the Explorer a été publié sur l’App Store en août 2016. Il a totalisé plus de 1000 téléchargements le premier mois. Son code est disponible sur GitHub.</p>\n",
       "</div>\n",
       "</div>\n",
       "<a class=\"service-button\" href=\"https://paulronga.ch/jeu-ios/\">Plus de détails →</a>\n",
       "</div>\n",
       "</div>\n",
       "</div>\n",
       "</div><!-- /.row  -->\n",
       "<div class=\"row\">\n",
       "<div class=\"col-sm-6\">\n",
       "<div class=\"card service__media top\">\n",
       "<div class=\"card-ig-overlay card-block\">\n",
       "<div class=\"service-card-content\">\n",
       "<h3 class=\"card-title\"><a href=\"https://paulronga.ch/cartographie-avec-d3js/\">Cartographie</a></h3>\n",
       "<div class=\"card-text\"><p>La puissance de D3js en fait mon outil de création de visualisations préféré (exemple: les résultats de la présidentielle française en direct, code disponible sur GitHub). J’utilise également Google Map Api (Qui possède quoi à Genève), Cartojs et Leaflet.</p>\n",
       "</div>\n",
       "</div>\n",
       "<a class=\"service-button\" href=\"https://paulronga.ch/cartographie-avec-d3js/\">Plus de détails →</a>\n",
       "</div>\n",
       "</div>\n",
       "</div>\n",
       "<div class=\"col-sm-6\">\n",
       "<div class=\"card service__media top\">\n",
       "<div class=\"card-ig-overlay card-block\">\n",
       "<div class=\"service-card-content\">\n",
       "<h3 class=\"card-title\"><a href=\"https://paulronga.ch/podcast-sur-la-programmation/\">Podcast sur la programmation</a></h3>\n",
       "<div class=\"card-text\"><p>Le podcast «J’ai rien compris» présente des notions de bases en matière de programmation. Disponible sur iTunes et SoundCloud.</p>\n",
       "</div>\n",
       "</div>\n",
       "<a class=\"service-button\" href=\"https://paulronga.ch/podcast-sur-la-programmation/\">Plus de détails →</a>\n",
       "</div>\n",
       "</div>\n",
       "</div>\n",
       "</div><!-- /.row  -->\n",
       "<div class=\"row\">\n",
       "</div>\n",
       "</div><!-- /.section-content -->\n",
       "</div>\n",
       "</section>\n",
       "<section class=\"section-clients section-padding section-padding-lg screenr-section\" id=\"projets\">\n",
       "<div class=\"container\">\n",
       "<div class=\"section-title-area\">\n",
       "<h2 class=\"section-title\">Petits projets en cours</h2> <div class=\"section-desc\"><p><a href=\"https://www.quel-media.com/\">Quel Média</a>, un comparateur de sites d’information</p>\n",
       "<p>Un jeu multijoueur, dont <a href=\"https://github.com/palrogg/dogfight-multiplayer\">ce prototype</a> a servi de bac à sable (demandez-moi l’accès à la version en live si vous voulez tester)</p>\n",
       "<p>Un <a href=\"https://github.com/palrogg/Report_Reader/blob/master/Report_merger.ipynb\">compilateur de rapports annuels</a></p>\n",
       "</div> </div>\n",
       "</div>\n",
       "</section>\n",
       "<section class=\"screenr-section section-counter section-padding section-padding-lg section-meta\" id=\"counter\">\n",
       "<div class=\"container\">\n",
       "<div class=\"section-title-area\">\n",
       "<div class=\"section-subtitle\">Deux données sur moi</div> </div>\n",
       "<div class=\"counter-contents\" data-layout=\"6\">\n",
       "<div class=\"section-content\">\n",
       "<div class=\"row\">\n",
       "<div class=\"col-sm-12 col-md-6 col-lg-6\">\n",
       "<div class=\"counter-item counter-item-\" style=\"background-color: #ffd343\">\n",
       "<span class=\"counter-title\">Mon premier code Python</span>\n",
       "<div class=\"counter__number\">\n",
       "<span class=\"before-number\">à </span>\n",
       "<span class=\"n counter\">8</span>\n",
       "<span class=\"after-number\"> ans</span>\n",
       "</div>\n",
       "</div>\n",
       "</div>\n",
       "<div class=\"col-sm-12 col-md-6 col-lg-6\">\n",
       "<div class=\"counter-item counter-item-\" style=\"background-color: #3776ab\">\n",
       "<span class=\"counter-title\">J’aime coder dans</span>\n",
       "<div class=\"counter__number\">\n",
       "<span class=\"before-number\">&gt; </span>\n",
       "<span class=\"n counter\">10</span>\n",
       "<span class=\"after-number\"> langages</span>\n",
       "</div>\n",
       "</div>\n",
       "</div>\n",
       "</div>\n",
       "</div>\n",
       "</div>\n",
       "</div>\n",
       "</section>\n",
       "<section class=\"section-news section-padding section-padding-lg\" id=\"news\">\n",
       "<div class=\"container\">\n",
       "<div class=\"section-title-area\">\n",
       "<h2 class=\"section-title\">Derniers posts de blog</h2> </div>\n",
       "<div class=\"section-content section-news-content\">\n",
       "<div class=\"row\">\n",
       "<div class=\"content-grid\" data-layout=\"1\" id=\"section-news-posts\">\n",
       "<article class=\"col-md-12 post-1003 post type-post status-publish format-standard hentry category-journalisme-data\" id=\"post-1003\">\n",
       "<div class=\"entry-grid-elements\">\n",
       "<div class=\"entry-grid-cate\"><a href=\"https://paulronga.ch/category/journalisme-data/\">Journalisme data</a></div> <header class=\"entry-header\">\n",
       "<div class=\"entry-grid-title\"><a href=\"https://paulronga.ch/portrait-pour-rts-decouvertes/\" rel=\"bookmark\">Portrait pour RTS Découvertes</a></div> </header><!-- .entry-header -->\n",
       "<div class=\"entry-excerpt\">\n",
       "<p>Un aperçu de mon travail au «Temps», filmé cet été entre deux confinements….</p>\n",
       "</div><!-- .entry-content -->\n",
       "<div class=\"entry-grid-more\">\n",
       "<a href=\"https://paulronga.ch/portrait-pour-rts-decouvertes/\" title=\"Portrait pour RTS Découvertes\">Lire sur <i aria-hidden=\"true\" class=\"fa fa-arrow-circle-o-right\"></i></a>\n",
       "</div>\n",
       "</div>\n",
       "</article><!-- #post-## -->\n",
       "<article class=\"col-md-12 post-973 post type-post status-publish format-standard hentry category-podcast\" id=\"post-973\">\n",
       "<div class=\"entry-grid-elements\">\n",
       "<div class=\"entry-grid-cate\"><a href=\"https://paulronga.ch/category/podcast/\">Podcast</a></div> <header class=\"entry-header\">\n",
       "<div class=\"entry-grid-title\"><a href=\"https://paulronga.ch/jai-rien-compris-n9-les-algorithmes/\" rel=\"bookmark\">«J’ai rien compris» n°9, les algorithmes</a></div> </header><!-- .entry-header -->\n",
       "<div class=\"entry-excerpt\">\n",
       "<p>Et si Facebook tenait compte de votre orthographe pour choisir à quels amis…</p>\n",
       "</div><!-- .entry-content -->\n",
       "<div class=\"entry-grid-more\">\n",
       "<a href=\"https://paulronga.ch/jai-rien-compris-n9-les-algorithmes/\" title=\"«J’ai rien compris» n°9, les algorithmes\">Lire sur <i aria-hidden=\"true\" class=\"fa fa-arrow-circle-o-right\"></i></a>\n",
       "</div>\n",
       "</div>\n",
       "</article><!-- #post-## -->\n",
       "<article class=\"col-md-12 post-945 post type-post status-publish format-standard hentry category-programmation\" id=\"post-945\">\n",
       "<div class=\"entry-grid-elements\">\n",
       "<div class=\"entry-grid-cate\"><a href=\"https://paulronga.ch/category/programmation/\">Programmation</a></div> <header class=\"entry-header\">\n",
       "<div class=\"entry-grid-title\"><a href=\"https://paulronga.ch/making-of-les-resultats-de-la-presidentielle-francaise-en-direct/\" rel=\"bookmark\">Making-of: les résultats de la présidentielle française en direct</a></div> </header><!-- .entry-header -->\n",
       "<div class=\"entry-excerpt\">\n",
       "<p>Le gouvernement français a une assez bonne plateforme de données publiques: data.gouv.fr. Les…</p>\n",
       "</div><!-- .entry-content -->\n",
       "<div class=\"entry-grid-more\">\n",
       "<a href=\"https://paulronga.ch/making-of-les-resultats-de-la-presidentielle-francaise-en-direct/\" title=\"Making-of: les résultats de la présidentielle française en direct\">Lire sur <i aria-hidden=\"true\" class=\"fa fa-arrow-circle-o-right\"></i></a>\n",
       "</div>\n",
       "</div>\n",
       "</article><!-- #post-## -->\n",
       "</div>\n",
       "<div class=\"clear\"></div>\n",
       "</div>\n",
       "</div>\n",
       "</div>\n",
       "</section>\n",
       "<section class=\"section-contact section-padding onepage-section section-meta\" id=\"contact\">\n",
       "<div class=\"container\">\n",
       "<div class=\"section-title-area\">\n",
       "<h2 class=\"section-title\">Contact</h2> <div class=\"section-desc\"><p><img height=\"17\" loading=\"lazy\" src=\"//paulronga.ch/wp-content/uploads/2012/11/addr_inf.jpg\" width=\"140\"/></p>\n",
       "<p style=\"font-size: .8em;text-align: right\">Dernière mise à jour: 5 juillet 2017.</p>\n",
       "</div> </div>\n",
       "<div class=\"section-content\">\n",
       "<div class=\"row\">\n",
       "<div class=\"col-md-1\"></div>\n",
       "<div class=\"col-md-10\">\n",
       "</div>\n",
       "<div class=\"col-md-1\"></div>\n",
       "</div>\n",
       "</div>\n",
       "</div>\n",
       "</section>\n",
       "</main><!-- #main -->\n",
       "</div><!-- #content -->\n",
       "<footer class=\"site-footer\" id=\"colophon\" role=\"contentinfo\">\n",
       "<div class=\"site-info\">\n",
       "<div class=\"container\">\n",
       "<div class=\"site-copyright\">\n",
       "\t\t\t\tCopyright © © 2021. Tous droits réservés.\t\t\t</div><!-- .site-copyright -->\n",
       "<div class=\"theme-info\">\n",
       "<a href=\"https://www.famethemes.com/themes/screenr\">Screenr parallax theme</a> par FameThemes\t\t\t</div>\n",
       "</div>\n",
       "</div><!-- .site-info -->\n",
       "</footer><!-- #colophon -->\n",
       "</div><!-- #page -->\n",
       "<script id=\"screenr-plugin-js\" src=\"https://paulronga.ch/wp-content/themes/screenr/assets/js/plugins.js?ver=4.0.0\" type=\"text/javascript\"></script>\n",
       "<script id=\"bootstrap-js\" src=\"https://paulronga.ch/wp-content/themes/screenr/assets/js/bootstrap.min.js?ver=4.0.0\" type=\"text/javascript\"></script>\n",
       "<script id=\"screenr-theme-js-extra\" type=\"text/javascript\">\n",
       "/* <![CDATA[ */\n",
       "var Screenr = {\"ajax_url\":\"https:\\/\\/paulronga.ch\\/wp-admin\\/admin-ajax.php\",\"full_screen_slider\":\"\",\"header_layout\":\"\",\"slider_parallax\":\"1\",\"is_home_front_page\":\"1\",\"autoplay\":\"7000\",\"speed\":\"700\",\"effect\":\"slide\",\"gallery_enable\":\"1\"};\n",
       "/* ]]> */\n",
       "</script>\n",
       "<script id=\"screenr-theme-js\" src=\"https://paulronga.ch/wp-content/themes/screenr/assets/js/theme.js?ver=20120206\" type=\"text/javascript\"></script>\n",
       "<script id=\"wp-embed-js\" src=\"https://paulronga.ch/wp-includes/js/wp-embed.min.js?ver=5.7.2\" type=\"text/javascript\"></script>\n",
       "</body>\n",
       "</html>"
      ]
     },
     "execution_count": 11,
     "metadata": {},
     "output_type": "execute_result"
    }
   ],
   "source": [
    "# On charge la page dans BeautifulSoup\n",
    "doc = BeautifulSoup(response.text)\n",
    "doc"
   ]
  },
  {
   "cell_type": "markdown",
   "metadata": {},
   "source": [
    "## Parcourir la structure de la page\n",
    "A partir de cette étape, la structure de la page est contenue dans notre variable `doc`.\n",
    "\n",
    "HTML est structuré par des balises, des mots-clés entourés des signes < et >:\n",
    "\n",
    "* un paragraphe est signalé par les balises `<p>` (au début) et `</p>` (à la fin)\n",
    "* le titre principal est entre les balises `<h1>` et `</h1>` (header 1)\n",
    "* un tableau est entre les balises `<table>` … `</table>`\n",
    "* une ligne de tableau est entre les balises `<tr>` … `</tr>` (table row)\n",
    "* une cellule de tableau est entre les balises `<td>` … `</td>` (table data)\n",
    "\n",
    "Nous pouvons demander à BeautifulSoup de nous chercher des balises HTML avec les fonctions:\n",
    "\n",
    "`find`: trouver la première balise correspondante\n",
    "\n",
    "`find_all`: trouver toutes les balises correspondantes"
   ]
  },
  {
   "cell_type": "code",
   "execution_count": 5,
   "metadata": {},
   "outputs": [
    {
     "data": {
      "text/plain": [
       "<a class=\"skip-link screen-reader-text\" href=\"#content\">Aller au contenu</a>"
      ]
     },
     "execution_count": 5,
     "metadata": {},
     "output_type": "execute_result"
    }
   ],
   "source": [
    "link = doc.find('a')\n",
    "link"
   ]
  },
  {
   "cell_type": "code",
   "execution_count": 12,
   "metadata": {},
   "outputs": [
    {
     "data": {
      "text/plain": [
       "[<a class=\"skip-link screen-reader-text\" href=\"#content\">Aller au contenu</a>,\n",
       " <a href=\"https://paulronga.ch/\" rel=\"home\">Paul Ronga</a>,\n",
       " <a href=\"#\" id=\"nav-toggle\">Menu<span></span></a>,\n",
       " <a aria-current=\"page\" href=\"http://paulronga.ch\">Accueil</a>,\n",
       " <a aria-current=\"page\" href=\"http://paulronga.ch/#about\">Le journalisme data</a>,\n",
       " <a aria-current=\"page\" href=\"http://paulronga.ch/#video\">Vidéo</a>,\n",
       " <a aria-current=\"page\" href=\"http://paulronga.ch/#portfolio\">Portfolio</a>,\n",
       " <a aria-current=\"page\" href=\"http://paulronga.ch/#news\">Blog</a>,\n",
       " <a class=\"btn btn-lg btn-theme-primary\" href=\"#features\">Démarrer</a>,\n",
       " <a class=\"btn btn-lg btn-secondary-outline\" href=\"#contact\">Contact</a>,\n",
       " <a href=\"http://www.holovaty.com/writing/fundamental-change/\" target=\"_blank\">A fundamental way newspaper sites need to change</a>,\n",
       " <a href=\"https://paulronga.ch/les-grandes-gueules-du-grand-conseil/\">Les grandes gueules du Grand Conseil</a>,\n",
       " <a class=\"service-button\" href=\"https://paulronga.ch/les-grandes-gueules-du-grand-conseil/\">Plus de détails →</a>,\n",
       " <a href=\"https://paulronga.ch/jeu-ios/\">Jeu iOS</a>,\n",
       " <a class=\"service-button\" href=\"https://paulronga.ch/jeu-ios/\">Plus de détails →</a>,\n",
       " <a href=\"https://paulronga.ch/cartographie-avec-d3js/\">Cartographie</a>,\n",
       " <a class=\"service-button\" href=\"https://paulronga.ch/cartographie-avec-d3js/\">Plus de détails →</a>,\n",
       " <a href=\"https://paulronga.ch/podcast-sur-la-programmation/\">Podcast sur la programmation</a>,\n",
       " <a class=\"service-button\" href=\"https://paulronga.ch/podcast-sur-la-programmation/\">Plus de détails →</a>,\n",
       " <a href=\"https://www.quel-media.com/\">Quel Média</a>,\n",
       " <a href=\"https://github.com/palrogg/dogfight-multiplayer\">ce prototype</a>,\n",
       " <a href=\"https://github.com/palrogg/Report_Reader/blob/master/Report_merger.ipynb\">compilateur de rapports annuels</a>,\n",
       " <a href=\"https://paulronga.ch/category/journalisme-data/\">Journalisme data</a>,\n",
       " <a href=\"https://paulronga.ch/portrait-pour-rts-decouvertes/\" rel=\"bookmark\">Portrait pour RTS Découvertes</a>,\n",
       " <a href=\"https://paulronga.ch/portrait-pour-rts-decouvertes/\" title=\"Portrait pour RTS Découvertes\">Lire sur <i aria-hidden=\"true\" class=\"fa fa-arrow-circle-o-right\"></i></a>,\n",
       " <a href=\"https://paulronga.ch/category/podcast/\">Podcast</a>,\n",
       " <a href=\"https://paulronga.ch/jai-rien-compris-n9-les-algorithmes/\" rel=\"bookmark\">«J’ai rien compris» n°9, les algorithmes</a>,\n",
       " <a href=\"https://paulronga.ch/jai-rien-compris-n9-les-algorithmes/\" title=\"«J’ai rien compris» n°9, les algorithmes\">Lire sur <i aria-hidden=\"true\" class=\"fa fa-arrow-circle-o-right\"></i></a>,\n",
       " <a href=\"https://paulronga.ch/category/programmation/\">Programmation</a>,\n",
       " <a href=\"https://paulronga.ch/making-of-les-resultats-de-la-presidentielle-francaise-en-direct/\" rel=\"bookmark\">Making-of: les résultats de la présidentielle française en direct</a>,\n",
       " <a href=\"https://paulronga.ch/making-of-les-resultats-de-la-presidentielle-francaise-en-direct/\" title=\"Making-of: les résultats de la présidentielle française en direct\">Lire sur <i aria-hidden=\"true\" class=\"fa fa-arrow-circle-o-right\"></i></a>,\n",
       " <a href=\"https://www.famethemes.com/themes/screenr\">Screenr parallax theme</a>]"
      ]
     },
     "execution_count": 12,
     "metadata": {},
     "output_type": "execute_result"
    }
   ],
   "source": [
    "links = doc.find_all('a')\n",
    "\n",
    "# Cela m’a donné 32 liens!\n",
    "len(links)\n",
    "\n",
    "links"
   ]
  },
  {
   "cell_type": "code",
   "execution_count": 7,
   "metadata": {},
   "outputs": [
    {
     "data": {
      "text/plain": [
       "18"
      ]
     },
     "execution_count": 7,
     "metadata": {},
     "output_type": "execute_result"
    }
   ],
   "source": [
    "p_list = doc.find_all('p')\n",
    "len(p_list)"
   ]
  },
  {
   "cell_type": "markdown",
   "metadata": {},
   "source": [
    "## A vous\n",
    "\n",
    "Essayez d’autres balises, par exemple:\n",
    "\n",
    "* doc.find_all('p')\n",
    "* doc.find_all('img')\n",
    "* doc.find_all('span')"
   ]
  },
  {
   "cell_type": "code",
   "execution_count": 15,
   "metadata": {},
   "outputs": [
    {
     "data": {
      "text/plain": [
       "18"
      ]
     },
     "execution_count": 15,
     "metadata": {},
     "output_type": "execute_result"
    }
   ],
   "source": [
    "paragraphs = doc.find_all(\"p\")\n",
    "len(paragraphs)"
   ]
  },
  {
   "cell_type": "code",
   "execution_count": 18,
   "metadata": {},
   "outputs": [
    {
     "data": {
      "text/plain": [
       "3"
      ]
     },
     "execution_count": 18,
     "metadata": {},
     "output_type": "execute_result"
    }
   ],
   "source": [
    "images = doc.find_all(\"img\")\n",
    "len(images)\n"
   ]
  },
  {
   "cell_type": "code",
   "execution_count": 20,
   "metadata": {},
   "outputs": [
    {
     "data": {
      "text/plain": [
       "9"
      ]
     },
     "execution_count": 20,
     "metadata": {},
     "output_type": "execute_result"
    }
   ],
   "source": [
    "number_of_spans = len(doc.find_all(\"span\"))\n",
    "number_of_spans"
   ]
  },
  {
   "cell_type": "code",
   "execution_count": null,
   "metadata": {},
   "outputs": [],
   "source": []
  },
  {
   "cell_type": "markdown",
   "metadata": {},
   "source": [
    "## Trouver les attributs\n",
    "Trouver des liens, c’est bien. Mais comment extraire l’URL vers lequel ils conduisent?\n",
    "\n",
    "La méthode `.get()` est faite pour ça: elle récupère les attributs d’une balise HTML, comme l’attribut «href» qui contient ces URL."
   ]
  },
  {
   "cell_type": "code",
   "execution_count": 22,
   "metadata": {},
   "outputs": [
    {
     "data": {
      "text/plain": [
       "<a aria-current=\"page\" href=\"http://paulronga.ch/#portfolio\">Portfolio</a>"
      ]
     },
     "execution_count": 22,
     "metadata": {},
     "output_type": "execute_result"
    }
   ],
   "source": [
    "links[6].get('href')\n",
    "links[6]"
   ]
  },
  {
   "cell_type": "markdown",
   "metadata": {},
   "source": [
    "## … et avec une boucle\n",
    "Mettons que nous voulons récupérer toutes les URL de notre menu:\n",
    "* avec une boucle `for`, on peut passer les liens en revue\n",
    "* la méthode `.get()` nous permettra de récupérer l’URL de chaque lien"
   ]
  },
  {
   "cell_type": "code",
   "execution_count": 9,
   "metadata": {},
   "outputs": [
    {
     "name": "stdout",
     "output_type": "stream",
     "text": [
      "http://paulronga.ch\n",
      "http://paulronga.ch/#about\n",
      "http://paulronga.ch/#video\n",
      "http://paulronga.ch/#portfolio\n",
      "http://paulronga.ch/#news\n"
     ]
    }
   ],
   "source": [
    "for a in doc.select('.nav-menu a'):\n",
    "    print(a.get('href'))"
   ]
  },
  {
   "cell_type": "markdown",
   "metadata": {},
   "source": []
  },
  {
   "cell_type": "markdown",
   "metadata": {},
   "source": [
    "## Selecteurs\n",
    "Les balises html contiennent parfois les attributs **id** et/ou **class**. Concrètement, ça se présente par exemple comme ça:\n",
    "\n",
    "`<table id=\"resultats\" class=\"bordered striped\">`\n",
    "\n",
    "L’attribut **id** (identifiant) est unique: un seul élément le porte.\n",
    "\n",
    "L’attribut **class** (classes) peut être ajouté à plusieurs éléments.\n",
    "\n",
    "Les classes et identifiants servent à styliser la page: tels éléments ont une bordure rouge, un fond gris clair, etc. Ces instructions sont regroupées dans du [code CSS](https://www.w3.org/Style/Examples/011/firstcss.fr.html), un langage informatique qui définit la présentation du HTML.\n",
    "\n",
    "Dans le code CSS, on les éléments du HTML par des **sélecteurs**. En voici des exemples:\n",
    "\n",
    "`table\n",
    "#resultats\n",
    "table.striped\n",
    ".bordered`\n",
    "\n",
    "Tous ces sélecteurs renvoient à la `<table id=\"resultats\" class=\"bordered striped\">` donnée comme exemple plus haut. On peut donc cibler une balise HTML par son nom, par son id (en le précédent d’un \"#\") ou par une de ses classes.\n",
    "\n",
    "Pour trouver le sélecteur d’un élément qui vous intéresse, vous pouvez inspecter la page (cmd-alt-i dans Firefox ou Chrome), le repérer dans «Elements» grâce à la flèche tout à gauche, puis faire clic droit -> Copy -> CSS selector.\n",
    "\n",
    "Avec BeautifulSoup, on peut retrouver les éléments correspondants à un sélecteur grâce à la méthode:\n",
    "\n",
    "`.select('selecteur')`\n",
    "\n",
    "Cette méthode renvoie une liste, voici un exemple:"
   ]
  },
  {
   "cell_type": "code",
   "execution_count": 10,
   "metadata": {},
   "outputs": [
    {
     "data": {
      "text/plain": [
       "[<a aria-current=\"page\" href=\"http://paulronga.ch\">Accueil</a>,\n",
       " <a aria-current=\"page\" href=\"http://paulronga.ch/#about\">Le journalisme data</a>,\n",
       " <a aria-current=\"page\" href=\"http://paulronga.ch/#video\">Vidéo</a>,\n",
       " <a aria-current=\"page\" href=\"http://paulronga.ch/#portfolio\">Portfolio</a>,\n",
       " <a aria-current=\"page\" href=\"http://paulronga.ch/#news\">Blog</a>]"
      ]
     },
     "execution_count": 10,
     "metadata": {},
     "output_type": "execute_result"
    }
   ],
   "source": [
    "doc.select('.nav-menu a')"
   ]
  },
  {
   "cell_type": "markdown",
   "metadata": {},
   "source": [
    "# Attributs et méthodes\n",
    "\n",
    "Mettez doc.find('p') dans la variable `test`, puis écrivez `test.` et appuyez sur tab en laissant votre curseur après le point. Quels attributs et méthodes apparaissent? Essayez-en quelques-uns."
   ]
  },
  {
   "cell_type": "code",
   "execution_count": 33,
   "metadata": {},
   "outputs": [
    {
     "name": "stdout",
     "output_type": "stream",
     "text": [
      "None\n"
     ]
    }
   ],
   "source": [
    "test = doc.find(\"p\")\n",
    "test.string\n",
    "test.text\n",
    "identificateur = test.get(\"id\")\n",
    "print(identificateur)"
   ]
  },
  {
   "cell_type": "code",
   "execution_count": null,
   "metadata": {},
   "outputs": [],
   "source": []
  },
  {
   "cell_type": "code",
   "execution_count": null,
   "metadata": {},
   "outputs": [],
   "source": []
  },
  {
   "cell_type": "markdown",
   "metadata": {},
   "source": [
    "Vous avez trouvez? Allez, je vous en donne trois:\n",
    "* `.string` donne le texte de la balise uniquement\n",
    "* `.text` donne le texte de la balise et de toutes les balises qu’elle contient\n",
    "* `.get()` permet d’obtenir un attribut précis, comme id, class, href\n",
    "\n",
    "Pour avoir des exemples clairs, on va charger une page spécialement préparée pour votre scraping."
   ]
  },
  {
   "cell_type": "code",
   "execution_count": 36,
   "metadata": {},
   "outputs": [
    {
     "name": "stderr",
     "output_type": "stream",
     "text": [
      "/opt/anaconda3/lib/python3.8/site-packages/urllib3/connectionpool.py:1013: InsecureRequestWarning: Unverified HTTPS request is being made to host 'exemple.tcch.ch'. Adding certificate verification is strongly advised. See: https://urllib3.readthedocs.io/en/latest/advanced-usage.html#ssl-warnings\n",
      "  warnings.warn(\n"
     ]
    }
   ],
   "source": [
    "response = requests.get('https://exemple.tcch.ch/scraping/', verify=False)\n",
    "doc = BeautifulSoup(response.content, 'html.parser')"
   ]
  },
  {
   "cell_type": "code",
   "execution_count": 12,
   "metadata": {},
   "outputs": [
    {
     "name": "stdout",
     "output_type": "stream",
     "text": [
      "La balise et son contenu: <p>Ce paragraphe nous intéresse. C’est le premier.</p>\n",
      "Le contenu grâce à .string: Ce paragraphe nous intéresse. C’est le premier.\n",
      "Le contenu grâce à .text: Ce paragraphe nous intéresse. C’est le premier.\n"
     ]
    }
   ],
   "source": [
    "# premier paragraphe\n",
    "p = doc.find('p')\n",
    "print('La balise et son contenu:', p)\n",
    "print('Le contenu grâce à .string:', p.string)\n",
    "print('Le contenu grâce à .text:', p.text)"
   ]
  },
  {
   "cell_type": "markdown",
   "metadata": {},
   "source": [
    "Quelle différence entre `.string` et `.text`? On le comprend quand notre balise contient d’autres balises. C’est le cas du dernier paragraphe: il contient une balise `<em>`."
   ]
  },
  {
   "cell_type": "code",
   "execution_count": 13,
   "metadata": {},
   "outputs": [
    {
     "data": {
      "text/plain": [
       "<p>Le troisième est un peu plus <em>compliqué</em>…<br/>\n",
       "    Mais on va s’en sortir!</p>"
      ]
     },
     "execution_count": 13,
     "metadata": {},
     "output_type": "execute_result"
    }
   ],
   "source": [
    "# dernier paragraphe\n",
    "p = doc.select('p')[-1]\n",
    "p"
   ]
  },
  {
   "cell_type": "code",
   "execution_count": 14,
   "metadata": {},
   "outputs": [
    {
     "name": "stdout",
     "output_type": "stream",
     "text": [
      ".string: None\n",
      ".text: Le troisième est un peu plus compliqué…\n",
      "    Mais on va s’en sortir!\n"
     ]
    }
   ],
   "source": [
    "print('.string:', p.string)\n",
    "print('.text:', p.text)"
   ]
  },
  {
   "cell_type": "markdown",
   "metadata": {},
   "source": [
    "Quand une balise contient d’autres balises, `.string` renvoie donc **None**, tandis que `.text` renvoie tout le texte contenu dans la balise principale et les balises qu’elle contient."
   ]
  },
  {
   "cell_type": "markdown",
   "metadata": {},
   "source": [
    "## A vous\n",
    "Qu’est-ce que `.string` et `.text` donnent comme résultat avec la table? Essayez!"
   ]
  },
  {
   "cell_type": "code",
   "execution_count": 54,
   "metadata": {},
   "outputs": [
    {
     "name": "stdout",
     "output_type": "stream",
     "text": [
      "<table>\n",
      "<!-- tr = table row -->\n",
      "<tr>\n",
      "<th>Chats</th><th>Chiens</th>\n",
      "</tr>\n",
      "<tr>\n",
      "<td>3</td><td>0</td>\n",
      "</tr>\n",
      "<tr>\n",
      "<td>5</td><td>0</td>\n",
      "</tr>\n",
      "<tr>\n",
      "<td>3</td><td>5</td>\n",
      "</tr>\n",
      "<tr>\n",
      "<td>3</td><td>90</td>\n",
      "</tr>\n",
      "<tr>\n",
      "<td>13</td><td>10</td>\n",
      "</tr>\n",
      "</table>\n"
     ]
    }
   ],
   "source": [
    "table = doc.find(\"table\")\n",
    "print(table)"
   ]
  },
  {
   "cell_type": "code",
   "execution_count": 55,
   "metadata": {},
   "outputs": [
    {
     "name": "stdout",
     "output_type": "stream",
     "text": [
      "None\n"
     ]
    }
   ],
   "source": [
    "print(table.string)"
   ]
  },
  {
   "cell_type": "code",
   "execution_count": 50,
   "metadata": {},
   "outputs": [
    {
     "name": "stdout",
     "output_type": "stream",
     "text": [
      "\n",
      "\n",
      "\n",
      "ChatsChiens\n",
      "\n",
      "\n",
      "30\n",
      "\n",
      "\n",
      "50\n",
      "\n",
      "\n",
      "35\n",
      "\n",
      "\n",
      "390\n",
      "\n",
      "\n",
      "1310\n",
      "\n",
      "\n"
     ]
    }
   ],
   "source": [
    "print(table.text)"
   ]
  },
  {
   "cell_type": "code",
   "execution_count": null,
   "metadata": {},
   "outputs": [],
   "source": []
  },
  {
   "cell_type": "markdown",
   "metadata": {},
   "source": [
    "Le système que nous avons vu ne fonctionne pas pour certaines pages Web construites dynamiquement avec du JavaScript. Dans ce cas, on peut automatiser un navigateur tel que Chrome ou Firefox avec des outils comme [Selenium](https://pypi.org/project/selenium/). C’est nettement plus complexe que d’utiliser requests et BeautifulSoup."
   ]
  },
  {
   "cell_type": "code",
   "execution_count": null,
   "metadata": {},
   "outputs": [],
   "source": []
  }
 ],
 "metadata": {
  "kernelspec": {
   "display_name": "Python 3",
   "language": "python",
   "name": "python3"
  },
  "language_info": {
   "codemirror_mode": {
    "name": "ipython",
    "version": 3
   },
   "file_extension": ".py",
   "mimetype": "text/x-python",
   "name": "python",
   "nbconvert_exporter": "python",
   "pygments_lexer": "ipython3",
   "version": "3.8.8"
  }
 },
 "nbformat": 4,
 "nbformat_minor": 4
}
