{
 "cells": [
  {
   "cell_type": "markdown",
   "metadata": {},
   "source": [
    "# Pandas quand ça se complique\n",
    "\n",
    "Le cas d’un fichier un peu moins «propre»…"
   ]
  },
  {
   "cell_type": "code",
   "execution_count": null,
   "metadata": {},
   "outputs": [],
   "source": [
    "import pandas as pd"
   ]
  },
  {
   "cell_type": "code",
   "execution_count": null,
   "metadata": {},
   "outputs": [],
   "source": [
    "df = pd.read_csv('couverture-charges-hautes-ecoles.csv')"
   ]
  },
  {
   "cell_type": "markdown",
   "metadata": {},
   "source": [
    "Voyons à quoi ressemblent les 5 premières lignes"
   ]
  },
  {
   "cell_type": "code",
   "execution_count": null,
   "metadata": {},
   "outputs": [],
   "source": [
    "df.head(5)"
   ]
  },
  {
   "cell_type": "markdown",
   "metadata": {},
   "source": [
    "## Filtrer\n",
    "\n",
    "Argh, tout est mélangé. Regardons les données 2019:"
   ]
  },
  {
   "cell_type": "code",
   "execution_count": null,
   "metadata": {},
   "outputs": [],
   "source": [
    "df[ df['Année'] == 2019 ]"
   ]
  },
  {
   "cell_type": "markdown",
   "metadata": {},
   "source": [
    "A nouveau, on peut se limiter à certaines colonnes. Pour ce faire, on a vu qu’il faut indiquer à Pandas une liste de colonnes:\n",
    "\n",
    "`valuesToShow = ['colonne1', 'colonne2]\n",
    "df[valuesToShow]`\n",
    "\n",
    "Ce qu’on peut aussi directement écrire:\n",
    "`df[['colonne1', 'colonne2]]`\n",
    "\n",
    "Attention, dans ce cas il faut **deux fois les parenthèses carrées**!"
   ]
  },
  {
   "cell_type": "code",
   "execution_count": null,
   "metadata": {},
   "outputs": [],
   "source": [
    "df[[2019, 'IHEID']]"
   ]
  },
  {
   "cell_type": "markdown",
   "metadata": {},
   "source": [
    "Maintenant, si on filtre davantage: mettons qu’on s’intéresse uniquement à 2019 et aux montants supérieurs à zéro, à l’IHEID…"
   ]
  },
  {
   "cell_type": "code",
   "execution_count": null,
   "metadata": {},
   "outputs": [],
   "source": [
    "df[ (df['Année'] == 2019) & (df['IHEID'] > 0) ]"
   ]
  },
  {
   "cell_type": "markdown",
   "metadata": {},
   "source": [
    "Que s’est-il passé? Pas de panique. On a déjà vu ce genre de trucs. Python nous dit qu’on ne peut pas comparer un \"string\" et un \"integer\" avec l’opérateur \">\". Ça signifie que soit le chiffre 0, soit la colonne IHEID n’est pas un entier.\n",
    "\n",
    "Voyons si on peut regarder cette colonne de plus près."
   ]
  },
  {
   "cell_type": "code",
   "execution_count": null,
   "metadata": {},
   "outputs": [],
   "source": [
    "df['IHEID'].values"
   ]
  },
  {
   "cell_type": "markdown",
   "metadata": {},
   "source": [
    "Aïe. Le fichier de l’OFS contient des \"…\". Ce n’est pas un entier, du coup Pandas considère toute cette colonne comme du texte et notre erreur vient de là.\n",
    "\n",
    "On abandonne l’IHEID et on va regarder l’UNIGE. Ça devrait marcher:"
   ]
  },
  {
   "cell_type": "code",
   "execution_count": null,
   "metadata": {},
   "outputs": [],
   "source": [
    "df['GE'].values"
   ]
  },
  {
   "cell_type": "markdown",
   "metadata": {},
   "source": [
    "On redéfinit nos colonnes à afficher:"
   ]
  },
  {
   "cell_type": "code",
   "execution_count": null,
   "metadata": {},
   "outputs": [],
   "source": [
    "columnsToShow = ['Source de financement', 'GE']\n",
    "df[ (df['Année'] == 2019) & (df['GE'] > 0) ][columnsToShow]"
   ]
  },
  {
   "cell_type": "markdown",
   "metadata": {},
   "source": [
    "## Mettre un sous-ensemble dans une variable\n",
    "Dans Pandas, le tri se fait avec la méthode `.sort_values(\"nom_colonne_ici\")`.\n",
    "\n",
    "Mais commençons par enregistrer les données genevoises dans une variable, on gagnera du temps…"
   ]
  },
  {
   "cell_type": "code",
   "execution_count": null,
   "metadata": {},
   "outputs": [],
   "source": [
    "df_GE = df[ (df['Année'] == 2019) & (df['GE'] > 0) ][columnsToShow]"
   ]
  },
  {
   "cell_type": "code",
   "execution_count": null,
   "metadata": {},
   "outputs": [],
   "source": [
    "df_GE.sort_values('GE')"
   ]
  },
  {
   "cell_type": "markdown",
   "metadata": {},
   "source": [
    "Que s’est-il passé? Par défaut, Pandas trie par ordre ascendant. Pour obtenir l’inverse, il faut préciser `ascending=False`:"
   ]
  },
  {
   "cell_type": "code",
   "execution_count": null,
   "metadata": {},
   "outputs": [],
   "source": [
    "df_GE = df_GE.sort_values('GE', ascending=False)\n",
    "df_GE"
   ]
  },
  {
   "cell_type": "markdown",
   "metadata": {},
   "source": [
    "C’est bien, mais pas très lisible. Si on divisait par mille?"
   ]
  },
  {
   "cell_type": "code",
   "execution_count": null,
   "metadata": {},
   "outputs": [],
   "source": [
    "df_GE['UNIGE, en milliers'] = df_GE['GE'] / 1000\n",
    "df_GE"
   ]
  },
  {
   "cell_type": "markdown",
   "metadata": {},
   "source": [
    "Et pour enlever ces décimales? Oui, vous avez déjà vu cette fonction!"
   ]
  },
  {
   "cell_type": "code",
   "execution_count": null,
   "metadata": {
    "scrolled": true
   },
   "outputs": [],
   "source": [
    "df_GE['UNIGE, en milliers'] = round(df_GE['UNIGE, en milliers'])\n",
    "df_GE"
   ]
  },
  {
   "cell_type": "markdown",
   "metadata": {},
   "source": [
    "## Exercice\n",
    "\n",
    "- Comment a été principalement financée l’Université de Fribourg en 2019?\n",
    "- Et en 1999?\n",
    "- Réfléchissez à la structure des données. Est-elle pratique à explorer? Quelle structure vous paraîtrait plus pratique? (Ici, pas besoin de coder bien sûr. Notez vos idées quelque part, par exemple dans le bloc «Structure des données» ci-dessous.)"
   ]
  },
  {
   "cell_type": "code",
   "execution_count": 1,
   "metadata": {},
   "outputs": [
    {
     "ename": "NameError",
     "evalue": "name 'df' is not defined",
     "output_type": "error",
     "traceback": [
      "\u001b[0;31m---------------------------------------------------------------------------\u001b[0m",
      "\u001b[0;31mNameError\u001b[0m                                 Traceback (most recent call last)",
      "\u001b[0;32m<ipython-input-1-796ab1d0c379>\u001b[0m in \u001b[0;36m<module>\u001b[0;34m\u001b[0m\n\u001b[0;32m----> 1\u001b[0;31m \u001b[0mdf\u001b[0m\u001b[0;34m[\u001b[0m\u001b[0mdf\u001b[0m \u001b[0;34m[\u001b[0m\u001b[0mAnnée\u001b[0m\u001b[0;34m]\u001b[0m \u001b[0;34m==\u001b[0m \u001b[0;36m2019\u001b[0m\u001b[0;34m]\u001b[0m\u001b[0;34m\u001b[0m\u001b[0;34m\u001b[0m\u001b[0m\n\u001b[0m",
      "\u001b[0;31mNameError\u001b[0m: name 'df' is not defined"
     ]
    }
   ],
   "source": [
    "df[df [Année] == 2019]"
   ]
  },
  {
   "cell_type": "code",
   "execution_count": null,
   "metadata": {},
   "outputs": [],
   "source": []
  },
  {
   "cell_type": "code",
   "execution_count": null,
   "metadata": {},
   "outputs": [],
   "source": []
  },
  {
   "cell_type": "markdown",
   "metadata": {},
   "source": [
    "### Structure des données\n",
    "\n",
    "[Un endroit où vous pouvez noter des idées]"
   ]
  }
 ],
 "metadata": {
  "kernelspec": {
   "display_name": "Python 3",
   "language": "python",
   "name": "python3"
  },
  "language_info": {
   "codemirror_mode": {
    "name": "ipython",
    "version": 3
   },
   "file_extension": ".py",
   "mimetype": "text/x-python",
   "name": "python",
   "nbconvert_exporter": "python",
   "pygments_lexer": "ipython3",
   "version": "3.7.4"
  }
 },
 "nbformat": 4,
 "nbformat_minor": 4
}
